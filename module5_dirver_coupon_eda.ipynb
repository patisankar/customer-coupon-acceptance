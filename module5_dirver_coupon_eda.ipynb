{
  "nbformat": 4,
  "nbformat_minor": 0,
  "metadata": {
    "colab": {
      "provenance": [],
      "include_colab_link": true
    },
    "kernelspec": {
      "name": "python3",
      "display_name": "Python 3"
    },
    "language_info": {
      "name": "python"
    }
  },
  "cells": [
    {
      "cell_type": "markdown",
      "metadata": {
        "id": "view-in-github",
        "colab_type": "text"
      },
      "source": [
        "<a href=\"https://colab.research.google.com/github/patisankar/customer-coupon-acceptance/blob/main/module5_dirver_coupon_eda.ipynb\" target=\"_parent\"><img src=\"https://colab.research.google.com/assets/colab-badge.svg\" alt=\"Open In Colab\"/></a>"
      ]
    },
    {
      "cell_type": "code",
      "execution_count": null,
      "metadata": {
        "id": "6F-N7pghDL6D"
      },
      "outputs": [],
      "source": [
        "import matplotlib.pyplot as plt\n",
        "import seaborn as sns\n",
        "import pandas as pd\n",
        "import numpy as np\n",
        "import plotly.express as px\n",
        "from statsmodels.graphics.mosaicplot import mosaic\n",
        "import plotly.graph_objects as go\n",
        "from plotly.subplots import make_subplots"
      ]
    },
    {
      "cell_type": "code",
      "source": [],
      "metadata": {
        "id": "9ATe3OIjeW9D"
      },
      "execution_count": null,
      "outputs": []
    },
    {
      "cell_type": "markdown",
      "source": [
        "1. Read in the `coupons.csv` file."
      ],
      "metadata": {
        "id": "nr78w5o6GHDJ"
      }
    },
    {
      "cell_type": "code",
      "source": [
        "data = pd.read_csv('data/coupons.csv')\n",
        "data.head()"
      ],
      "metadata": {
        "id": "UaguLY0OEQqx",
        "outputId": "85a976d6-8bf1-4218-a9bb-e00e53644694",
        "colab": {
          "base_uri": "https://localhost:8080/",
          "height": 236
        }
      },
      "execution_count": null,
      "outputs": [
        {
          "output_type": "execute_result",
          "data": {
            "text/plain": [
              "       destination  passanger weather  temperature  time  \\\n",
              "0  No Urgent Place      Alone   Sunny           55   2PM   \n",
              "1  No Urgent Place  Friend(s)   Sunny           80  10AM   \n",
              "2  No Urgent Place  Friend(s)   Sunny           80  10AM   \n",
              "3  No Urgent Place  Friend(s)   Sunny           80   2PM   \n",
              "4  No Urgent Place  Friend(s)   Sunny           80   2PM   \n",
              "\n",
              "                  coupon expiration  gender age      maritalStatus  ...  \\\n",
              "0        Restaurant(<20)         1d  Female  21  Unmarried partner  ...   \n",
              "1           Coffee House         2h  Female  21  Unmarried partner  ...   \n",
              "2  Carry out & Take away         2h  Female  21  Unmarried partner  ...   \n",
              "3           Coffee House         2h  Female  21  Unmarried partner  ...   \n",
              "4           Coffee House         1d  Female  21  Unmarried partner  ...   \n",
              "\n",
              "   CoffeeHouse CarryAway RestaurantLessThan20 Restaurant20To50  \\\n",
              "0        never       NaN                  4~8              1~3   \n",
              "1        never       NaN                  4~8              1~3   \n",
              "2        never       NaN                  4~8              1~3   \n",
              "3        never       NaN                  4~8              1~3   \n",
              "4        never       NaN                  4~8              1~3   \n",
              "\n",
              "  toCoupon_GEQ5min toCoupon_GEQ15min toCoupon_GEQ25min direction_same  \\\n",
              "0                1                 0                 0              0   \n",
              "1                1                 0                 0              0   \n",
              "2                1                 1                 0              0   \n",
              "3                1                 1                 0              0   \n",
              "4                1                 1                 0              0   \n",
              "\n",
              "  direction_opp  Y  \n",
              "0             1  1  \n",
              "1             1  0  \n",
              "2             1  1  \n",
              "3             1  0  \n",
              "4             1  0  \n",
              "\n",
              "[5 rows x 26 columns]"
            ],
            "text/html": [
              "\n",
              "  <div id=\"df-b50432fa-c1e1-4689-a802-5d0b9a8398d2\" class=\"colab-df-container\">\n",
              "    <div>\n",
              "<style scoped>\n",
              "    .dataframe tbody tr th:only-of-type {\n",
              "        vertical-align: middle;\n",
              "    }\n",
              "\n",
              "    .dataframe tbody tr th {\n",
              "        vertical-align: top;\n",
              "    }\n",
              "\n",
              "    .dataframe thead th {\n",
              "        text-align: right;\n",
              "    }\n",
              "</style>\n",
              "<table border=\"1\" class=\"dataframe\">\n",
              "  <thead>\n",
              "    <tr style=\"text-align: right;\">\n",
              "      <th></th>\n",
              "      <th>destination</th>\n",
              "      <th>passanger</th>\n",
              "      <th>weather</th>\n",
              "      <th>temperature</th>\n",
              "      <th>time</th>\n",
              "      <th>coupon</th>\n",
              "      <th>expiration</th>\n",
              "      <th>gender</th>\n",
              "      <th>age</th>\n",
              "      <th>maritalStatus</th>\n",
              "      <th>...</th>\n",
              "      <th>CoffeeHouse</th>\n",
              "      <th>CarryAway</th>\n",
              "      <th>RestaurantLessThan20</th>\n",
              "      <th>Restaurant20To50</th>\n",
              "      <th>toCoupon_GEQ5min</th>\n",
              "      <th>toCoupon_GEQ15min</th>\n",
              "      <th>toCoupon_GEQ25min</th>\n",
              "      <th>direction_same</th>\n",
              "      <th>direction_opp</th>\n",
              "      <th>Y</th>\n",
              "    </tr>\n",
              "  </thead>\n",
              "  <tbody>\n",
              "    <tr>\n",
              "      <th>0</th>\n",
              "      <td>No Urgent Place</td>\n",
              "      <td>Alone</td>\n",
              "      <td>Sunny</td>\n",
              "      <td>55</td>\n",
              "      <td>2PM</td>\n",
              "      <td>Restaurant(&lt;20)</td>\n",
              "      <td>1d</td>\n",
              "      <td>Female</td>\n",
              "      <td>21</td>\n",
              "      <td>Unmarried partner</td>\n",
              "      <td>...</td>\n",
              "      <td>never</td>\n",
              "      <td>NaN</td>\n",
              "      <td>4~8</td>\n",
              "      <td>1~3</td>\n",
              "      <td>1</td>\n",
              "      <td>0</td>\n",
              "      <td>0</td>\n",
              "      <td>0</td>\n",
              "      <td>1</td>\n",
              "      <td>1</td>\n",
              "    </tr>\n",
              "    <tr>\n",
              "      <th>1</th>\n",
              "      <td>No Urgent Place</td>\n",
              "      <td>Friend(s)</td>\n",
              "      <td>Sunny</td>\n",
              "      <td>80</td>\n",
              "      <td>10AM</td>\n",
              "      <td>Coffee House</td>\n",
              "      <td>2h</td>\n",
              "      <td>Female</td>\n",
              "      <td>21</td>\n",
              "      <td>Unmarried partner</td>\n",
              "      <td>...</td>\n",
              "      <td>never</td>\n",
              "      <td>NaN</td>\n",
              "      <td>4~8</td>\n",
              "      <td>1~3</td>\n",
              "      <td>1</td>\n",
              "      <td>0</td>\n",
              "      <td>0</td>\n",
              "      <td>0</td>\n",
              "      <td>1</td>\n",
              "      <td>0</td>\n",
              "    </tr>\n",
              "    <tr>\n",
              "      <th>2</th>\n",
              "      <td>No Urgent Place</td>\n",
              "      <td>Friend(s)</td>\n",
              "      <td>Sunny</td>\n",
              "      <td>80</td>\n",
              "      <td>10AM</td>\n",
              "      <td>Carry out &amp; Take away</td>\n",
              "      <td>2h</td>\n",
              "      <td>Female</td>\n",
              "      <td>21</td>\n",
              "      <td>Unmarried partner</td>\n",
              "      <td>...</td>\n",
              "      <td>never</td>\n",
              "      <td>NaN</td>\n",
              "      <td>4~8</td>\n",
              "      <td>1~3</td>\n",
              "      <td>1</td>\n",
              "      <td>1</td>\n",
              "      <td>0</td>\n",
              "      <td>0</td>\n",
              "      <td>1</td>\n",
              "      <td>1</td>\n",
              "    </tr>\n",
              "    <tr>\n",
              "      <th>3</th>\n",
              "      <td>No Urgent Place</td>\n",
              "      <td>Friend(s)</td>\n",
              "      <td>Sunny</td>\n",
              "      <td>80</td>\n",
              "      <td>2PM</td>\n",
              "      <td>Coffee House</td>\n",
              "      <td>2h</td>\n",
              "      <td>Female</td>\n",
              "      <td>21</td>\n",
              "      <td>Unmarried partner</td>\n",
              "      <td>...</td>\n",
              "      <td>never</td>\n",
              "      <td>NaN</td>\n",
              "      <td>4~8</td>\n",
              "      <td>1~3</td>\n",
              "      <td>1</td>\n",
              "      <td>1</td>\n",
              "      <td>0</td>\n",
              "      <td>0</td>\n",
              "      <td>1</td>\n",
              "      <td>0</td>\n",
              "    </tr>\n",
              "    <tr>\n",
              "      <th>4</th>\n",
              "      <td>No Urgent Place</td>\n",
              "      <td>Friend(s)</td>\n",
              "      <td>Sunny</td>\n",
              "      <td>80</td>\n",
              "      <td>2PM</td>\n",
              "      <td>Coffee House</td>\n",
              "      <td>1d</td>\n",
              "      <td>Female</td>\n",
              "      <td>21</td>\n",
              "      <td>Unmarried partner</td>\n",
              "      <td>...</td>\n",
              "      <td>never</td>\n",
              "      <td>NaN</td>\n",
              "      <td>4~8</td>\n",
              "      <td>1~3</td>\n",
              "      <td>1</td>\n",
              "      <td>1</td>\n",
              "      <td>0</td>\n",
              "      <td>0</td>\n",
              "      <td>1</td>\n",
              "      <td>0</td>\n",
              "    </tr>\n",
              "  </tbody>\n",
              "</table>\n",
              "<p>5 rows × 26 columns</p>\n",
              "</div>\n",
              "    <div class=\"colab-df-buttons\">\n",
              "\n",
              "  <div class=\"colab-df-container\">\n",
              "    <button class=\"colab-df-convert\" onclick=\"convertToInteractive('df-b50432fa-c1e1-4689-a802-5d0b9a8398d2')\"\n",
              "            title=\"Convert this dataframe to an interactive table.\"\n",
              "            style=\"display:none;\">\n",
              "\n",
              "  <svg xmlns=\"http://www.w3.org/2000/svg\" height=\"24px\" viewBox=\"0 -960 960 960\">\n",
              "    <path d=\"M120-120v-720h720v720H120Zm60-500h600v-160H180v160Zm220 220h160v-160H400v160Zm0 220h160v-160H400v160ZM180-400h160v-160H180v160Zm440 0h160v-160H620v160ZM180-180h160v-160H180v160Zm440 0h160v-160H620v160Z\"/>\n",
              "  </svg>\n",
              "    </button>\n",
              "\n",
              "  <style>\n",
              "    .colab-df-container {\n",
              "      display:flex;\n",
              "      gap: 12px;\n",
              "    }\n",
              "\n",
              "    .colab-df-convert {\n",
              "      background-color: #E8F0FE;\n",
              "      border: none;\n",
              "      border-radius: 50%;\n",
              "      cursor: pointer;\n",
              "      display: none;\n",
              "      fill: #1967D2;\n",
              "      height: 32px;\n",
              "      padding: 0 0 0 0;\n",
              "      width: 32px;\n",
              "    }\n",
              "\n",
              "    .colab-df-convert:hover {\n",
              "      background-color: #E2EBFA;\n",
              "      box-shadow: 0px 1px 2px rgba(60, 64, 67, 0.3), 0px 1px 3px 1px rgba(60, 64, 67, 0.15);\n",
              "      fill: #174EA6;\n",
              "    }\n",
              "\n",
              "    .colab-df-buttons div {\n",
              "      margin-bottom: 4px;\n",
              "    }\n",
              "\n",
              "    [theme=dark] .colab-df-convert {\n",
              "      background-color: #3B4455;\n",
              "      fill: #D2E3FC;\n",
              "    }\n",
              "\n",
              "    [theme=dark] .colab-df-convert:hover {\n",
              "      background-color: #434B5C;\n",
              "      box-shadow: 0px 1px 3px 1px rgba(0, 0, 0, 0.15);\n",
              "      filter: drop-shadow(0px 1px 2px rgba(0, 0, 0, 0.3));\n",
              "      fill: #FFFFFF;\n",
              "    }\n",
              "  </style>\n",
              "\n",
              "    <script>\n",
              "      const buttonEl =\n",
              "        document.querySelector('#df-b50432fa-c1e1-4689-a802-5d0b9a8398d2 button.colab-df-convert');\n",
              "      buttonEl.style.display =\n",
              "        google.colab.kernel.accessAllowed ? 'block' : 'none';\n",
              "\n",
              "      async function convertToInteractive(key) {\n",
              "        const element = document.querySelector('#df-b50432fa-c1e1-4689-a802-5d0b9a8398d2');\n",
              "        const dataTable =\n",
              "          await google.colab.kernel.invokeFunction('convertToInteractive',\n",
              "                                                    [key], {});\n",
              "        if (!dataTable) return;\n",
              "\n",
              "        const docLinkHtml = 'Like what you see? Visit the ' +\n",
              "          '<a target=\"_blank\" href=https://colab.research.google.com/notebooks/data_table.ipynb>data table notebook</a>'\n",
              "          + ' to learn more about interactive tables.';\n",
              "        element.innerHTML = '';\n",
              "        dataTable['output_type'] = 'display_data';\n",
              "        await google.colab.output.renderOutput(dataTable, element);\n",
              "        const docLink = document.createElement('div');\n",
              "        docLink.innerHTML = docLinkHtml;\n",
              "        element.appendChild(docLink);\n",
              "      }\n",
              "    </script>\n",
              "  </div>\n",
              "\n",
              "\n",
              "    <div id=\"df-dd6ef466-c97f-4a4a-b5ab-71326d8f605c\">\n",
              "      <button class=\"colab-df-quickchart\" onclick=\"quickchart('df-dd6ef466-c97f-4a4a-b5ab-71326d8f605c')\"\n",
              "                title=\"Suggest charts\"\n",
              "                style=\"display:none;\">\n",
              "\n",
              "<svg xmlns=\"http://www.w3.org/2000/svg\" height=\"24px\"viewBox=\"0 0 24 24\"\n",
              "     width=\"24px\">\n",
              "    <g>\n",
              "        <path d=\"M19 3H5c-1.1 0-2 .9-2 2v14c0 1.1.9 2 2 2h14c1.1 0 2-.9 2-2V5c0-1.1-.9-2-2-2zM9 17H7v-7h2v7zm4 0h-2V7h2v10zm4 0h-2v-4h2v4z\"/>\n",
              "    </g>\n",
              "</svg>\n",
              "      </button>\n",
              "\n",
              "<style>\n",
              "  .colab-df-quickchart {\n",
              "      --bg-color: #E8F0FE;\n",
              "      --fill-color: #1967D2;\n",
              "      --hover-bg-color: #E2EBFA;\n",
              "      --hover-fill-color: #174EA6;\n",
              "      --disabled-fill-color: #AAA;\n",
              "      --disabled-bg-color: #DDD;\n",
              "  }\n",
              "\n",
              "  [theme=dark] .colab-df-quickchart {\n",
              "      --bg-color: #3B4455;\n",
              "      --fill-color: #D2E3FC;\n",
              "      --hover-bg-color: #434B5C;\n",
              "      --hover-fill-color: #FFFFFF;\n",
              "      --disabled-bg-color: #3B4455;\n",
              "      --disabled-fill-color: #666;\n",
              "  }\n",
              "\n",
              "  .colab-df-quickchart {\n",
              "    background-color: var(--bg-color);\n",
              "    border: none;\n",
              "    border-radius: 50%;\n",
              "    cursor: pointer;\n",
              "    display: none;\n",
              "    fill: var(--fill-color);\n",
              "    height: 32px;\n",
              "    padding: 0;\n",
              "    width: 32px;\n",
              "  }\n",
              "\n",
              "  .colab-df-quickchart:hover {\n",
              "    background-color: var(--hover-bg-color);\n",
              "    box-shadow: 0 1px 2px rgba(60, 64, 67, 0.3), 0 1px 3px 1px rgba(60, 64, 67, 0.15);\n",
              "    fill: var(--button-hover-fill-color);\n",
              "  }\n",
              "\n",
              "  .colab-df-quickchart-complete:disabled,\n",
              "  .colab-df-quickchart-complete:disabled:hover {\n",
              "    background-color: var(--disabled-bg-color);\n",
              "    fill: var(--disabled-fill-color);\n",
              "    box-shadow: none;\n",
              "  }\n",
              "\n",
              "  .colab-df-spinner {\n",
              "    border: 2px solid var(--fill-color);\n",
              "    border-color: transparent;\n",
              "    border-bottom-color: var(--fill-color);\n",
              "    animation:\n",
              "      spin 1s steps(1) infinite;\n",
              "  }\n",
              "\n",
              "  @keyframes spin {\n",
              "    0% {\n",
              "      border-color: transparent;\n",
              "      border-bottom-color: var(--fill-color);\n",
              "      border-left-color: var(--fill-color);\n",
              "    }\n",
              "    20% {\n",
              "      border-color: transparent;\n",
              "      border-left-color: var(--fill-color);\n",
              "      border-top-color: var(--fill-color);\n",
              "    }\n",
              "    30% {\n",
              "      border-color: transparent;\n",
              "      border-left-color: var(--fill-color);\n",
              "      border-top-color: var(--fill-color);\n",
              "      border-right-color: var(--fill-color);\n",
              "    }\n",
              "    40% {\n",
              "      border-color: transparent;\n",
              "      border-right-color: var(--fill-color);\n",
              "      border-top-color: var(--fill-color);\n",
              "    }\n",
              "    60% {\n",
              "      border-color: transparent;\n",
              "      border-right-color: var(--fill-color);\n",
              "    }\n",
              "    80% {\n",
              "      border-color: transparent;\n",
              "      border-right-color: var(--fill-color);\n",
              "      border-bottom-color: var(--fill-color);\n",
              "    }\n",
              "    90% {\n",
              "      border-color: transparent;\n",
              "      border-bottom-color: var(--fill-color);\n",
              "    }\n",
              "  }\n",
              "</style>\n",
              "\n",
              "      <script>\n",
              "        async function quickchart(key) {\n",
              "          const quickchartButtonEl =\n",
              "            document.querySelector('#' + key + ' button');\n",
              "          quickchartButtonEl.disabled = true;  // To prevent multiple clicks.\n",
              "          quickchartButtonEl.classList.add('colab-df-spinner');\n",
              "          try {\n",
              "            const charts = await google.colab.kernel.invokeFunction(\n",
              "                'suggestCharts', [key], {});\n",
              "          } catch (error) {\n",
              "            console.error('Error during call to suggestCharts:', error);\n",
              "          }\n",
              "          quickchartButtonEl.classList.remove('colab-df-spinner');\n",
              "          quickchartButtonEl.classList.add('colab-df-quickchart-complete');\n",
              "        }\n",
              "        (() => {\n",
              "          let quickchartButtonEl =\n",
              "            document.querySelector('#df-dd6ef466-c97f-4a4a-b5ab-71326d8f605c button');\n",
              "          quickchartButtonEl.style.display =\n",
              "            google.colab.kernel.accessAllowed ? 'block' : 'none';\n",
              "        })();\n",
              "      </script>\n",
              "    </div>\n",
              "\n",
              "    </div>\n",
              "  </div>\n"
            ],
            "application/vnd.google.colaboratory.intrinsic+json": {
              "type": "dataframe",
              "variable_name": "data"
            }
          },
          "metadata": {},
          "execution_count": 46
        }
      ]
    },
    {
      "cell_type": "markdown",
      "source": [
        "2. Investigate the dataset for missing or problematic data.\n"
      ],
      "metadata": {
        "id": "8Tl5RnHUEphx"
      }
    },
    {
      "cell_type": "code",
      "source": [
        "percent_missing_per_column = data.isnull().sum() * 100 / len(data)\n",
        "print(percent_missing_per_column)"
      ],
      "metadata": {
        "colab": {
          "base_uri": "https://localhost:8080/"
        },
        "id": "kq-H_6QhEbDw",
        "outputId": "454cfdc4-8483-4833-f8ef-35c6a7826896"
      },
      "execution_count": null,
      "outputs": [
        {
          "output_type": "stream",
          "name": "stdout",
          "text": [
            "destination              0.000000\n",
            "passanger                0.000000\n",
            "weather                  0.000000\n",
            "temperature              0.000000\n",
            "time                     0.000000\n",
            "coupon                   0.000000\n",
            "expiration               0.000000\n",
            "gender                   0.000000\n",
            "age                      0.000000\n",
            "maritalStatus            0.000000\n",
            "has_children             0.000000\n",
            "education                0.000000\n",
            "occupation               0.000000\n",
            "income                   0.000000\n",
            "car                     99.148534\n",
            "Bar                      0.843582\n",
            "CoffeeHouse              1.710817\n",
            "CarryAway                1.190476\n",
            "RestaurantLessThan20     1.024913\n",
            "Restaurant20To50         1.490066\n",
            "toCoupon_GEQ5min         0.000000\n",
            "toCoupon_GEQ15min        0.000000\n",
            "toCoupon_GEQ25min        0.000000\n",
            "direction_same           0.000000\n",
            "direction_opp            0.000000\n",
            "Y                        0.000000\n",
            "dtype: float64\n"
          ]
        }
      ]
    },
    {
      "cell_type": "markdown",
      "source": [
        "## 3. Decide what to do about your missing data -- drop, replace, other\n",
        "It shows that the 'car' column has a very high percentage of missing values (99.15%), and several other columns ('Bar', 'CoffeeHouse', 'CarryAway', 'RestaurantLessThan20', 'Restaurant20To50') have a small percentage of missing values. Hence, the plan is to drop the 'car' column and fill the missing values in the other columns with their respective modes."
      ],
      "metadata": {
        "id": "vU1s4MEdE7ol"
      }
    },
    {
      "cell_type": "code",
      "source": [
        "data= data.drop('car', axis=1)"
      ],
      "metadata": {
        "id": "9w_TxaNzE4W5"
      },
      "execution_count": null,
      "outputs": []
    },
    {
      "cell_type": "code",
      "source": [
        "# Fill missing values in specified columns with the mode of each column\n",
        "data['Bar'] = data['Bar'].fillna(data['Bar'].mode()[0]);\n",
        "data['CoffeeHouse'] = data['CoffeeHouse'].fillna(data['CoffeeHouse'].mode()[0]);\n",
        "data['CarryAway'] = data['CarryAway'].fillna(data['CarryAway'].mode()[0]);\n",
        "data['RestaurantLessThan20'] = data['RestaurantLessThan20'].fillna(data['RestaurantLessThan20'].mode()[0]);\n",
        "data['Restaurant20To50'] = data['Restaurant20To50'].fillna(data['Restaurant20To50'].mode()[0]);\n"
      ],
      "metadata": {
        "id": "7l9vdsoTGQcz"
      },
      "execution_count": null,
      "outputs": []
    },
    {
      "cell_type": "code",
      "source": [
        "data.info()"
      ],
      "metadata": {
        "colab": {
          "base_uri": "https://localhost:8080/"
        },
        "id": "yTwNJCYorwHI",
        "outputId": "1741186f-2e51-44b7-ef60-80a9349088a9"
      },
      "execution_count": null,
      "outputs": [
        {
          "output_type": "stream",
          "name": "stdout",
          "text": [
            "<class 'pandas.core.frame.DataFrame'>\n",
            "RangeIndex: 12684 entries, 0 to 12683\n",
            "Data columns (total 25 columns):\n",
            " #   Column                Non-Null Count  Dtype \n",
            "---  ------                --------------  ----- \n",
            " 0   destination           12684 non-null  object\n",
            " 1   passanger             12684 non-null  object\n",
            " 2   weather               12684 non-null  object\n",
            " 3   temperature           12684 non-null  int64 \n",
            " 4   time                  12684 non-null  object\n",
            " 5   coupon                12684 non-null  object\n",
            " 6   expiration            12684 non-null  object\n",
            " 7   gender                12684 non-null  object\n",
            " 8   age                   12684 non-null  object\n",
            " 9   maritalStatus         12684 non-null  object\n",
            " 10  has_children          12684 non-null  int64 \n",
            " 11  education             12684 non-null  object\n",
            " 12  occupation            12684 non-null  object\n",
            " 13  income                12684 non-null  object\n",
            " 14  Bar                   12684 non-null  object\n",
            " 15  CoffeeHouse           12684 non-null  object\n",
            " 16  CarryAway             12684 non-null  object\n",
            " 17  RestaurantLessThan20  12684 non-null  object\n",
            " 18  Restaurant20To50      12684 non-null  object\n",
            " 19  toCoupon_GEQ5min      12684 non-null  int64 \n",
            " 20  toCoupon_GEQ15min     12684 non-null  int64 \n",
            " 21  toCoupon_GEQ25min     12684 non-null  int64 \n",
            " 22  direction_same        12684 non-null  int64 \n",
            " 23  direction_opp         12684 non-null  int64 \n",
            " 24  Y                     12684 non-null  int64 \n",
            "dtypes: int64(8), object(17)\n",
            "memory usage: 2.4+ MB\n"
          ]
        }
      ]
    },
    {
      "cell_type": "code",
      "source": [
        "# to calculate total count, accepted, rejected, and their percentages\n",
        "def bivariate_analysis(df, column_name):\n",
        "  # Group by the specified column and aggregate the 'Y' (acceptance) column\n",
        "  summary_df = df.groupby(column_name)['Y'].agg(\n",
        "    Total='count',\n",
        "    Accepted = lambda x: (x==1).sum(),\n",
        "    Rejected = lambda x: (x==0).sum()\n",
        "   )\n",
        "  # Calculate the acceptance percentage\n",
        "  summary_df['Accepted%'] = round(summary_df['Accepted'] / summary_df['Total'] * 100, 3)\n",
        "  # Calculate the acceptance percentage\n",
        "  summary_df['Rejected%'] = round(summary_df['Rejected'] / summary_df['Total'] * 100, 3)\n",
        "  return summary_df.reset_index().sort_values(by='Total', ascending=False)\n"
      ],
      "metadata": {
        "id": "JJ6N6IRNkLjs"
      },
      "execution_count": null,
      "outputs": []
    },
    {
      "cell_type": "markdown",
      "source": [
        "4. **What proportion of the total observations chose to accept the coupon?**\n",
        "\n",
        "This analysis aims to identify customers who accept the coupon and those who reject it. Our goal is to leverage these insights to increase the acceptance rate for this specific coupon among targeted segments"
      ],
      "metadata": {
        "id": "yd7WBHx2Ga87"
      }
    },
    {
      "cell_type": "markdown",
      "source": [
        "Proportion = Number of observations that accepted the coupon / Total number of observations"
      ],
      "metadata": {
        "id": "knA5vtVYowbB"
      }
    },
    {
      "cell_type": "code",
      "source": [
        "coupon_df = data[['coupon','Y']].copy()\n"
      ],
      "metadata": {
        "id": "OM2hwZZHGgAb"
      },
      "execution_count": null,
      "outputs": []
    },
    {
      "cell_type": "code",
      "source": [
        "\n",
        "proportion_by_group = bivariate_analysis(data, 'coupon')\n",
        "print(proportion_by_group)\n",
        "\n"
      ],
      "metadata": {
        "colab": {
          "base_uri": "https://localhost:8080/"
        },
        "id": "P0Rp33xVDhzp",
        "outputId": "81efc8a0-3545-41ca-b112-70c43f7caacb"
      },
      "execution_count": null,
      "outputs": [
        {
          "output_type": "stream",
          "name": "stdout",
          "text": [
            "                  coupon  Total  Accepted  Rejected  Accepted%  Rejected%\n",
            "2           Coffee House   3996      1995      2001     49.925     50.075\n",
            "4        Restaurant(<20)   2786      1970       816     70.711     29.289\n",
            "1  Carry out & Take away   2393      1760       633     73.548     26.452\n",
            "0                    Bar   2017       827      1190     41.001     58.999\n",
            "3      Restaurant(20-50)   1492       658       834     44.102     55.898\n"
          ]
        }
      ]
    },
    {
      "cell_type": "markdown",
      "source": [
        "**5.Use a bar plot to visualize the coupon column.**\n",
        "\n",
        "Visualize the acceptance/rejection rate for coupon. This quickly shows which groups are more or less likely to accept the coupon."
      ],
      "metadata": {
        "id": "qF7cJQPqwH0O"
      }
    },
    {
      "cell_type": "code",
      "source": [
        "# Calculate the proportions\n",
        "coupon_proportions = coupon_df.groupby('coupon')['Y'].value_counts(normalize=True).reset_index()\n",
        "coupon_proportions.columns = ['coupon', 'Y', 'proportion']\n",
        "\n",
        "fig = px.bar(\n",
        "    coupon_proportions,\n",
        "    x='coupon',\n",
        "    y='proportion',\n",
        "    color='Y',\n",
        "    title='Coupon Acceptance Proportions',\n",
        "    labels={'coupon': 'Coupon Type', 'Y': 'Acceptance Status'},\n",
        "    barmode='group'\n",
        ")\n",
        "\n",
        "fig.show()"
      ],
      "metadata": {
        "colab": {
          "base_uri": "https://localhost:8080/",
          "height": 542
        },
        "id": "x_b_20wDAIzU",
        "outputId": "2ed30fa2-2ae7-4636-bf41-efc78d0467a6"
      },
      "execution_count": null,
      "outputs": [
        {
          "output_type": "display_data",
          "data": {
            "text/html": [
              "<html>\n",
              "<head><meta charset=\"utf-8\" /></head>\n",
              "<body>\n",
              "    <div>            <script src=\"https://cdnjs.cloudflare.com/ajax/libs/mathjax/2.7.5/MathJax.js?config=TeX-AMS-MML_SVG\"></script><script type=\"text/javascript\">if (window.MathJax && window.MathJax.Hub && window.MathJax.Hub.Config) {window.MathJax.Hub.Config({SVG: {font: \"STIX-Web\"}});}</script>                <script type=\"text/javascript\">window.PlotlyConfig = {MathJaxConfig: 'local'};</script>\n",
              "        <script charset=\"utf-8\" src=\"https://cdn.plot.ly/plotly-2.35.2.min.js\"></script>                <div id=\"abc87216-c152-46c9-a710-566de004c494\" class=\"plotly-graph-div\" style=\"height:525px; width:100%;\"></div>            <script type=\"text/javascript\">                                    window.PLOTLYENV=window.PLOTLYENV || {};                                    if (document.getElementById(\"abc87216-c152-46c9-a710-566de004c494\")) {                    Plotly.newPlot(                        \"abc87216-c152-46c9-a710-566de004c494\",                        [{\"alignmentgroup\":\"True\",\"hovertemplate\":\"Coupon Type=%{x}\\u003cbr\\u003eproportion=%{y}\\u003cbr\\u003eAcceptance Status=%{marker.color}\\u003cextra\\u003e\\u003c\\u002fextra\\u003e\",\"legendgroup\":\"\",\"marker\":{\"color\":[0,1,1,0,0,1,0,1,1,0],\"coloraxis\":\"coloraxis\",\"pattern\":{\"shape\":\"\"}},\"name\":\"\",\"offsetgroup\":\"\",\"orientation\":\"v\",\"showlegend\":false,\"textposition\":\"auto\",\"x\":[\"Bar\",\"Bar\",\"Carry out & Take away\",\"Carry out & Take away\",\"Coffee House\",\"Coffee House\",\"Restaurant(20-50)\",\"Restaurant(20-50)\",\"Restaurant(\\u003c20)\",\"Restaurant(\\u003c20)\"],\"xaxis\":\"x\",\"y\":[0.5899851264253843,0.41001487357461575,0.7354784788967823,0.2645215211032177,0.5007507507507507,0.49924924924924924,0.5589812332439679,0.4410187667560322,0.7071069633883704,0.2928930366116296],\"yaxis\":\"y\",\"type\":\"bar\"}],                        {\"template\":{\"data\":{\"histogram2dcontour\":[{\"type\":\"histogram2dcontour\",\"colorbar\":{\"outlinewidth\":0,\"ticks\":\"\"},\"colorscale\":[[0.0,\"#0d0887\"],[0.1111111111111111,\"#46039f\"],[0.2222222222222222,\"#7201a8\"],[0.3333333333333333,\"#9c179e\"],[0.4444444444444444,\"#bd3786\"],[0.5555555555555556,\"#d8576b\"],[0.6666666666666666,\"#ed7953\"],[0.7777777777777778,\"#fb9f3a\"],[0.8888888888888888,\"#fdca26\"],[1.0,\"#f0f921\"]]}],\"choropleth\":[{\"type\":\"choropleth\",\"colorbar\":{\"outlinewidth\":0,\"ticks\":\"\"}}],\"histogram2d\":[{\"type\":\"histogram2d\",\"colorbar\":{\"outlinewidth\":0,\"ticks\":\"\"},\"colorscale\":[[0.0,\"#0d0887\"],[0.1111111111111111,\"#46039f\"],[0.2222222222222222,\"#7201a8\"],[0.3333333333333333,\"#9c179e\"],[0.4444444444444444,\"#bd3786\"],[0.5555555555555556,\"#d8576b\"],[0.6666666666666666,\"#ed7953\"],[0.7777777777777778,\"#fb9f3a\"],[0.8888888888888888,\"#fdca26\"],[1.0,\"#f0f921\"]]}],\"heatmap\":[{\"type\":\"heatmap\",\"colorbar\":{\"outlinewidth\":0,\"ticks\":\"\"},\"colorscale\":[[0.0,\"#0d0887\"],[0.1111111111111111,\"#46039f\"],[0.2222222222222222,\"#7201a8\"],[0.3333333333333333,\"#9c179e\"],[0.4444444444444444,\"#bd3786\"],[0.5555555555555556,\"#d8576b\"],[0.6666666666666666,\"#ed7953\"],[0.7777777777777778,\"#fb9f3a\"],[0.8888888888888888,\"#fdca26\"],[1.0,\"#f0f921\"]]}],\"heatmapgl\":[{\"type\":\"heatmapgl\",\"colorbar\":{\"outlinewidth\":0,\"ticks\":\"\"},\"colorscale\":[[0.0,\"#0d0887\"],[0.1111111111111111,\"#46039f\"],[0.2222222222222222,\"#7201a8\"],[0.3333333333333333,\"#9c179e\"],[0.4444444444444444,\"#bd3786\"],[0.5555555555555556,\"#d8576b\"],[0.6666666666666666,\"#ed7953\"],[0.7777777777777778,\"#fb9f3a\"],[0.8888888888888888,\"#fdca26\"],[1.0,\"#f0f921\"]]}],\"contourcarpet\":[{\"type\":\"contourcarpet\",\"colorbar\":{\"outlinewidth\":0,\"ticks\":\"\"}}],\"contour\":[{\"type\":\"contour\",\"colorbar\":{\"outlinewidth\":0,\"ticks\":\"\"},\"colorscale\":[[0.0,\"#0d0887\"],[0.1111111111111111,\"#46039f\"],[0.2222222222222222,\"#7201a8\"],[0.3333333333333333,\"#9c179e\"],[0.4444444444444444,\"#bd3786\"],[0.5555555555555556,\"#d8576b\"],[0.6666666666666666,\"#ed7953\"],[0.7777777777777778,\"#fb9f3a\"],[0.8888888888888888,\"#fdca26\"],[1.0,\"#f0f921\"]]}],\"surface\":[{\"type\":\"surface\",\"colorbar\":{\"outlinewidth\":0,\"ticks\":\"\"},\"colorscale\":[[0.0,\"#0d0887\"],[0.1111111111111111,\"#46039f\"],[0.2222222222222222,\"#7201a8\"],[0.3333333333333333,\"#9c179e\"],[0.4444444444444444,\"#bd3786\"],[0.5555555555555556,\"#d8576b\"],[0.6666666666666666,\"#ed7953\"],[0.7777777777777778,\"#fb9f3a\"],[0.8888888888888888,\"#fdca26\"],[1.0,\"#f0f921\"]]}],\"mesh3d\":[{\"type\":\"mesh3d\",\"colorbar\":{\"outlinewidth\":0,\"ticks\":\"\"}}],\"scatter\":[{\"fillpattern\":{\"fillmode\":\"overlay\",\"size\":10,\"solidity\":0.2},\"type\":\"scatter\"}],\"parcoords\":[{\"type\":\"parcoords\",\"line\":{\"colorbar\":{\"outlinewidth\":0,\"ticks\":\"\"}}}],\"scatterpolargl\":[{\"type\":\"scatterpolargl\",\"marker\":{\"colorbar\":{\"outlinewidth\":0,\"ticks\":\"\"}}}],\"bar\":[{\"error_x\":{\"color\":\"#2a3f5f\"},\"error_y\":{\"color\":\"#2a3f5f\"},\"marker\":{\"line\":{\"color\":\"#E5ECF6\",\"width\":0.5},\"pattern\":{\"fillmode\":\"overlay\",\"size\":10,\"solidity\":0.2}},\"type\":\"bar\"}],\"scattergeo\":[{\"type\":\"scattergeo\",\"marker\":{\"colorbar\":{\"outlinewidth\":0,\"ticks\":\"\"}}}],\"scatterpolar\":[{\"type\":\"scatterpolar\",\"marker\":{\"colorbar\":{\"outlinewidth\":0,\"ticks\":\"\"}}}],\"histogram\":[{\"marker\":{\"pattern\":{\"fillmode\":\"overlay\",\"size\":10,\"solidity\":0.2}},\"type\":\"histogram\"}],\"scattergl\":[{\"type\":\"scattergl\",\"marker\":{\"colorbar\":{\"outlinewidth\":0,\"ticks\":\"\"}}}],\"scatter3d\":[{\"type\":\"scatter3d\",\"line\":{\"colorbar\":{\"outlinewidth\":0,\"ticks\":\"\"}},\"marker\":{\"colorbar\":{\"outlinewidth\":0,\"ticks\":\"\"}}}],\"scattermapbox\":[{\"type\":\"scattermapbox\",\"marker\":{\"colorbar\":{\"outlinewidth\":0,\"ticks\":\"\"}}}],\"scatterternary\":[{\"type\":\"scatterternary\",\"marker\":{\"colorbar\":{\"outlinewidth\":0,\"ticks\":\"\"}}}],\"scattercarpet\":[{\"type\":\"scattercarpet\",\"marker\":{\"colorbar\":{\"outlinewidth\":0,\"ticks\":\"\"}}}],\"carpet\":[{\"aaxis\":{\"endlinecolor\":\"#2a3f5f\",\"gridcolor\":\"white\",\"linecolor\":\"white\",\"minorgridcolor\":\"white\",\"startlinecolor\":\"#2a3f5f\"},\"baxis\":{\"endlinecolor\":\"#2a3f5f\",\"gridcolor\":\"white\",\"linecolor\":\"white\",\"minorgridcolor\":\"white\",\"startlinecolor\":\"#2a3f5f\"},\"type\":\"carpet\"}],\"table\":[{\"cells\":{\"fill\":{\"color\":\"#EBF0F8\"},\"line\":{\"color\":\"white\"}},\"header\":{\"fill\":{\"color\":\"#C8D4E3\"},\"line\":{\"color\":\"white\"}},\"type\":\"table\"}],\"barpolar\":[{\"marker\":{\"line\":{\"color\":\"#E5ECF6\",\"width\":0.5},\"pattern\":{\"fillmode\":\"overlay\",\"size\":10,\"solidity\":0.2}},\"type\":\"barpolar\"}],\"pie\":[{\"automargin\":true,\"type\":\"pie\"}]},\"layout\":{\"autotypenumbers\":\"strict\",\"colorway\":[\"#636efa\",\"#EF553B\",\"#00cc96\",\"#ab63fa\",\"#FFA15A\",\"#19d3f3\",\"#FF6692\",\"#B6E880\",\"#FF97FF\",\"#FECB52\"],\"font\":{\"color\":\"#2a3f5f\"},\"hovermode\":\"closest\",\"hoverlabel\":{\"align\":\"left\"},\"paper_bgcolor\":\"white\",\"plot_bgcolor\":\"#E5ECF6\",\"polar\":{\"bgcolor\":\"#E5ECF6\",\"angularaxis\":{\"gridcolor\":\"white\",\"linecolor\":\"white\",\"ticks\":\"\"},\"radialaxis\":{\"gridcolor\":\"white\",\"linecolor\":\"white\",\"ticks\":\"\"}},\"ternary\":{\"bgcolor\":\"#E5ECF6\",\"aaxis\":{\"gridcolor\":\"white\",\"linecolor\":\"white\",\"ticks\":\"\"},\"baxis\":{\"gridcolor\":\"white\",\"linecolor\":\"white\",\"ticks\":\"\"},\"caxis\":{\"gridcolor\":\"white\",\"linecolor\":\"white\",\"ticks\":\"\"}},\"coloraxis\":{\"colorbar\":{\"outlinewidth\":0,\"ticks\":\"\"}},\"colorscale\":{\"sequential\":[[0.0,\"#0d0887\"],[0.1111111111111111,\"#46039f\"],[0.2222222222222222,\"#7201a8\"],[0.3333333333333333,\"#9c179e\"],[0.4444444444444444,\"#bd3786\"],[0.5555555555555556,\"#d8576b\"],[0.6666666666666666,\"#ed7953\"],[0.7777777777777778,\"#fb9f3a\"],[0.8888888888888888,\"#fdca26\"],[1.0,\"#f0f921\"]],\"sequentialminus\":[[0.0,\"#0d0887\"],[0.1111111111111111,\"#46039f\"],[0.2222222222222222,\"#7201a8\"],[0.3333333333333333,\"#9c179e\"],[0.4444444444444444,\"#bd3786\"],[0.5555555555555556,\"#d8576b\"],[0.6666666666666666,\"#ed7953\"],[0.7777777777777778,\"#fb9f3a\"],[0.8888888888888888,\"#fdca26\"],[1.0,\"#f0f921\"]],\"diverging\":[[0,\"#8e0152\"],[0.1,\"#c51b7d\"],[0.2,\"#de77ae\"],[0.3,\"#f1b6da\"],[0.4,\"#fde0ef\"],[0.5,\"#f7f7f7\"],[0.6,\"#e6f5d0\"],[0.7,\"#b8e186\"],[0.8,\"#7fbc41\"],[0.9,\"#4d9221\"],[1,\"#276419\"]]},\"xaxis\":{\"gridcolor\":\"white\",\"linecolor\":\"white\",\"ticks\":\"\",\"title\":{\"standoff\":15},\"zerolinecolor\":\"white\",\"automargin\":true,\"zerolinewidth\":2},\"yaxis\":{\"gridcolor\":\"white\",\"linecolor\":\"white\",\"ticks\":\"\",\"title\":{\"standoff\":15},\"zerolinecolor\":\"white\",\"automargin\":true,\"zerolinewidth\":2},\"scene\":{\"xaxis\":{\"backgroundcolor\":\"#E5ECF6\",\"gridcolor\":\"white\",\"linecolor\":\"white\",\"showbackground\":true,\"ticks\":\"\",\"zerolinecolor\":\"white\",\"gridwidth\":2},\"yaxis\":{\"backgroundcolor\":\"#E5ECF6\",\"gridcolor\":\"white\",\"linecolor\":\"white\",\"showbackground\":true,\"ticks\":\"\",\"zerolinecolor\":\"white\",\"gridwidth\":2},\"zaxis\":{\"backgroundcolor\":\"#E5ECF6\",\"gridcolor\":\"white\",\"linecolor\":\"white\",\"showbackground\":true,\"ticks\":\"\",\"zerolinecolor\":\"white\",\"gridwidth\":2}},\"shapedefaults\":{\"line\":{\"color\":\"#2a3f5f\"}},\"annotationdefaults\":{\"arrowcolor\":\"#2a3f5f\",\"arrowhead\":0,\"arrowwidth\":1},\"geo\":{\"bgcolor\":\"white\",\"landcolor\":\"#E5ECF6\",\"subunitcolor\":\"white\",\"showland\":true,\"showlakes\":true,\"lakecolor\":\"white\"},\"title\":{\"x\":0.05},\"mapbox\":{\"style\":\"light\"}}},\"xaxis\":{\"anchor\":\"y\",\"domain\":[0.0,1.0],\"title\":{\"text\":\"Coupon Type\"}},\"yaxis\":{\"anchor\":\"x\",\"domain\":[0.0,1.0],\"title\":{\"text\":\"proportion\"}},\"coloraxis\":{\"colorbar\":{\"title\":{\"text\":\"Acceptance Status\"}},\"colorscale\":[[0.0,\"#0d0887\"],[0.1111111111111111,\"#46039f\"],[0.2222222222222222,\"#7201a8\"],[0.3333333333333333,\"#9c179e\"],[0.4444444444444444,\"#bd3786\"],[0.5555555555555556,\"#d8576b\"],[0.6666666666666666,\"#ed7953\"],[0.7777777777777778,\"#fb9f3a\"],[0.8888888888888888,\"#fdca26\"],[1.0,\"#f0f921\"]]},\"legend\":{\"tracegroupgap\":0},\"title\":{\"text\":\"Coupon Acceptance Proportions\"},\"barmode\":\"group\"},                        {\"responsive\": true}                    ).then(function(){\n",
              "                            \n",
              "var gd = document.getElementById('abc87216-c152-46c9-a710-566de004c494');\n",
              "var x = new MutationObserver(function (mutations, observer) {{\n",
              "        var display = window.getComputedStyle(gd).display;\n",
              "        if (!display || display === 'none') {{\n",
              "            console.log([gd, 'removed!']);\n",
              "            Plotly.purge(gd);\n",
              "            observer.disconnect();\n",
              "        }}\n",
              "}});\n",
              "\n",
              "// Listen for the removal of the full notebook cells\n",
              "var notebookContainer = gd.closest('#notebook-container');\n",
              "if (notebookContainer) {{\n",
              "    x.observe(notebookContainer, {childList: true});\n",
              "}}\n",
              "\n",
              "// Listen for the clearing of the current output cell\n",
              "var outputEl = gd.closest('.output');\n",
              "if (outputEl) {{\n",
              "    x.observe(outputEl, {childList: true});\n",
              "}}\n",
              "\n",
              "                        })                };                            </script>        </div>\n",
              "</body>\n",
              "</html>"
            ]
          },
          "metadata": {}
        }
      ]
    },
    {
      "cell_type": "markdown",
      "source": [
        "In above Bar plot interpretes, Carry out & Take away coupon has 73% acceptance. and less than 20 Restaurant has 70% acceptance."
      ],
      "metadata": {
        "id": "1xylaL5PrAxk"
      }
    },
    {
      "cell_type": "markdown",
      "source": [
        "From above bar graph, we do see coffee House coupon has more acceptance."
      ],
      "metadata": {
        "id": "2_cq6cUjg0N6"
      }
    },
    {
      "cell_type": "markdown",
      "source": [
        "**Use a histogram to visualize the temperature column.**"
      ],
      "metadata": {
        "id": "SnQOCu6AfbF0"
      }
    },
    {
      "cell_type": "code",
      "source": [
        "data.temperature.unique()"
      ],
      "metadata": {
        "colab": {
          "base_uri": "https://localhost:8080/"
        },
        "id": "hI69InDiebC4",
        "outputId": "3c21d267-1682-42df-c028-039f943040de"
      },
      "execution_count": null,
      "outputs": [
        {
          "output_type": "execute_result",
          "data": {
            "text/plain": [
              "array([55, 80, 30])"
            ]
          },
          "metadata": {},
          "execution_count": 55
        }
      ]
    },
    {
      "cell_type": "code",
      "source": [
        "sns.displot(data.temperature, kde = True, rug = True)"
      ],
      "metadata": {
        "colab": {
          "base_uri": "https://localhost:8080/",
          "height": 523
        },
        "id": "aEOJj4liCmps",
        "outputId": "7a1a391a-ad27-44bc-92c3-8b928dc5eeab"
      },
      "execution_count": null,
      "outputs": [
        {
          "output_type": "execute_result",
          "data": {
            "text/plain": [
              "<seaborn.axisgrid.FacetGrid at 0x7e1f80e4a030>"
            ]
          },
          "metadata": {},
          "execution_count": 56
        },
        {
          "output_type": "display_data",
          "data": {
            "text/plain": [
              "<Figure size 500x500 with 1 Axes>"
            ],
            "image/png": "[encoded data removed]"
          },
          "metadata": {}
        }
      ]
    },
    {
      "cell_type": "markdown",
      "source": [
        "In above plot, temerature at 80 has more distribution."
      ],
      "metadata": {
        "id": "rTa4P00XdF1W"
      }
    },
    {
      "cell_type": "markdown",
      "source": [
        "## What portion of temparature has accepted coupons?"
      ],
      "metadata": {
        "id": "R_ozMci3eqT5"
      }
    },
    {
      "cell_type": "code",
      "source": [
        "\n",
        "temp_df = data[['temperature', 'Y']].copy()\n",
        "temp_df[\"outcome\"] = temp_df[\"Y\"].map({0: \"Rejected\", 1: \"Accepted\"})\n",
        "\n",
        "ax = sns.histplot(data=temp_df, x='temperature', hue='outcome', stat=\"proportion\", multiple=\"stack\")\n",
        "\n",
        "ax.set_xlabel(\"Temperature Category\", fontsize=12)\n",
        "ax.set_ylabel(\"Proportion of Observations\", fontsize=12)\n",
        "ax.set_title(\"Customized Hist Plot of Temperature and Y\")\n",
        "\n",
        "ax.get_legend().set_title(\"Coupon acceptance Label\")\n",
        "\n",
        "plt.show()\n"
      ],
      "metadata": {
        "colab": {
          "base_uri": "https://localhost:8080/",
          "height": 476
        },
        "id": "j5Si-j_KqHd2",
        "outputId": "543eded4-71ad-4a12-d036-b502740c94f0"
      },
      "execution_count": null,
      "outputs": [
        {
          "output_type": "display_data",
          "data": {
            "text/plain": [
              "<Figure size 640x480 with 1 Axes>"
            ],
            "image/png": "[encoded data removed]"
          },
          "metadata": {}
        }
      ]
    },
    {
      "cell_type": "code",
      "source": [
        "temparature_summary_df = bivariate_analysis(data, 'temperature')\n",
        "temparature_summary_df"
      ],
      "metadata": {
        "colab": {
          "base_uri": "https://localhost:8080/",
          "height": 143
        },
        "id": "GvGdBISZmvlF",
        "outputId": "2ea4b2c7-63d7-4539-9493-7cd87e4be372"
      },
      "execution_count": null,
      "outputs": [
        {
          "output_type": "execute_result",
          "data": {
            "text/plain": [
              "   temperature  Total  Accepted  Rejected  Accepted%  Rejected%\n",
              "2           80   6528      3919      2609     60.034     39.966\n",
              "1           55   3840      2061      1779     53.672     46.328\n",
              "0           30   2316      1230      1086     53.109     46.891"
            ],
            "text/html": [
              "\n",
              "  <div id=\"df-7a37207d-768a-4f75-a6e3-b719e7aaf6f7\" class=\"colab-df-container\">\n",
              "    <div>\n",
              "<style scoped>\n",
              "    .dataframe tbody tr th:only-of-type {\n",
              "        vertical-align: middle;\n",
              "    }\n",
              "\n",
              "    .dataframe tbody tr th {\n",
              "        vertical-align: top;\n",
              "    }\n",
              "\n",
              "    .dataframe thead th {\n",
              "        text-align: right;\n",
              "    }\n",
              "</style>\n",
              "<table border=\"1\" class=\"dataframe\">\n",
              "  <thead>\n",
              "    <tr style=\"text-align: right;\">\n",
              "      <th></th>\n",
              "      <th>temperature</th>\n",
              "      <th>Total</th>\n",
              "      <th>Accepted</th>\n",
              "      <th>Rejected</th>\n",
              "      <th>Accepted%</th>\n",
              "      <th>Rejected%</th>\n",
              "    </tr>\n",
              "  </thead>\n",
              "  <tbody>\n",
              "    <tr>\n",
              "      <th>2</th>\n",
              "      <td>80</td>\n",
              "      <td>6528</td>\n",
              "      <td>3919</td>\n",
              "      <td>2609</td>\n",
              "      <td>60.034</td>\n",
              "      <td>39.966</td>\n",
              "    </tr>\n",
              "    <tr>\n",
              "      <th>1</th>\n",
              "      <td>55</td>\n",
              "      <td>3840</td>\n",
              "      <td>2061</td>\n",
              "      <td>1779</td>\n",
              "      <td>53.672</td>\n",
              "      <td>46.328</td>\n",
              "    </tr>\n",
              "    <tr>\n",
              "      <th>0</th>\n",
              "      <td>30</td>\n",
              "      <td>2316</td>\n",
              "      <td>1230</td>\n",
              "      <td>1086</td>\n",
              "      <td>53.109</td>\n",
              "      <td>46.891</td>\n",
              "    </tr>\n",
              "  </tbody>\n",
              "</table>\n",
              "</div>\n",
              "    <div class=\"colab-df-buttons\">\n",
              "\n",
              "  <div class=\"colab-df-container\">\n",
              "    <button class=\"colab-df-convert\" onclick=\"convertToInteractive('df-7a37207d-768a-4f75-a6e3-b719e7aaf6f7')\"\n",
              "            title=\"Convert this dataframe to an interactive table.\"\n",
              "            style=\"display:none;\">\n",
              "\n",
              "  <svg xmlns=\"http://www.w3.org/2000/svg\" height=\"24px\" viewBox=\"0 -960 960 960\">\n",
              "    <path d=\"M120-120v-720h720v720H120Zm60-500h600v-160H180v160Zm220 220h160v-160H400v160Zm0 220h160v-160H400v160ZM180-400h160v-160H180v160Zm440 0h160v-160H620v160ZM180-180h160v-160H180v160Zm440 0h160v-160H620v160Z\"/>\n",
              "  </svg>\n",
              "    </button>\n",
              "\n",
              "  <style>\n",
              "    .colab-df-container {\n",
              "      display:flex;\n",
              "      gap: 12px;\n",
              "    }\n",
              "\n",
              "    .colab-df-convert {\n",
              "      background-color: #E8F0FE;\n",
              "      border: none;\n",
              "      border-radius: 50%;\n",
              "      cursor: pointer;\n",
              "      display: none;\n",
              "      fill: #1967D2;\n",
              "      height: 32px;\n",
              "      padding: 0 0 0 0;\n",
              "      width: 32px;\n",
              "    }\n",
              "\n",
              "    .colab-df-convert:hover {\n",
              "      background-color: #E2EBFA;\n",
              "      box-shadow: 0px 1px 2px rgba(60, 64, 67, 0.3), 0px 1px 3px 1px rgba(60, 64, 67, 0.15);\n",
              "      fill: #174EA6;\n",
              "    }\n",
              "\n",
              "    .colab-df-buttons div {\n",
              "      margin-bottom: 4px;\n",
              "    }\n",
              "\n",
              "    [theme=dark] .colab-df-convert {\n",
              "      background-color: #3B4455;\n",
              "      fill: #D2E3FC;\n",
              "    }\n",
              "\n",
              "    [theme=dark] .colab-df-convert:hover {\n",
              "      background-color: #434B5C;\n",
              "      box-shadow: 0px 1px 3px 1px rgba(0, 0, 0, 0.15);\n",
              "      filter: drop-shadow(0px 1px 2px rgba(0, 0, 0, 0.3));\n",
              "      fill: #FFFFFF;\n",
              "    }\n",
              "  </style>\n",
              "\n",
              "    <script>\n",
              "      const buttonEl =\n",
              "        document.querySelector('#df-7a37207d-768a-4f75-a6e3-b719e7aaf6f7 button.colab-df-convert');\n",
              "      buttonEl.style.display =\n",
              "        google.colab.kernel.accessAllowed ? 'block' : 'none';\n",
              "\n",
              "      async function convertToInteractive(key) {\n",
              "        const element = document.querySelector('#df-7a37207d-768a-4f75-a6e3-b719e7aaf6f7');\n",
              "        const dataTable =\n",
              "          await google.colab.kernel.invokeFunction('convertToInteractive',\n",
              "                                                    [key], {});\n",
              "        if (!dataTable) return;\n",
              "\n",
              "        const docLinkHtml = 'Like what you see? Visit the ' +\n",
              "          '<a target=\"_blank\" href=https://colab.research.google.com/notebooks/data_table.ipynb>data table notebook</a>'\n",
              "          + ' to learn more about interactive tables.';\n",
              "        element.innerHTML = '';\n",
              "        dataTable['output_type'] = 'display_data';\n",
              "        await google.colab.output.renderOutput(dataTable, element);\n",
              "        const docLink = document.createElement('div');\n",
              "        docLink.innerHTML = docLinkHtml;\n",
              "        element.appendChild(docLink);\n",
              "      }\n",
              "    </script>\n",
              "  </div>\n",
              "\n",
              "\n",
              "    <div id=\"df-0065ac35-ae20-4c32-a782-25a18750b2f6\">\n",
              "      <button class=\"colab-df-quickchart\" onclick=\"quickchart('df-0065ac35-ae20-4c32-a782-25a18750b2f6')\"\n",
              "                title=\"Suggest charts\"\n",
              "                style=\"display:none;\">\n",
              "\n",
              "<svg xmlns=\"http://www.w3.org/2000/svg\" height=\"24px\"viewBox=\"0 0 24 24\"\n",
              "     width=\"24px\">\n",
              "    <g>\n",
              "        <path d=\"M19 3H5c-1.1 0-2 .9-2 2v14c0 1.1.9 2 2 2h14c1.1 0 2-.9 2-2V5c0-1.1-.9-2-2-2zM9 17H7v-7h2v7zm4 0h-2V7h2v10zm4 0h-2v-4h2v4z\"/>\n",
              "    </g>\n",
              "</svg>\n",
              "      </button>\n",
              "\n",
              "<style>\n",
              "  .colab-df-quickchart {\n",
              "      --bg-color: #E8F0FE;\n",
              "      --fill-color: #1967D2;\n",
              "      --hover-bg-color: #E2EBFA;\n",
              "      --hover-fill-color: #174EA6;\n",
              "      --disabled-fill-color: #AAA;\n",
              "      --disabled-bg-color: #DDD;\n",
              "  }\n",
              "\n",
              "  [theme=dark] .colab-df-quickchart {\n",
              "      --bg-color: #3B4455;\n",
              "      --fill-color: #D2E3FC;\n",
              "      --hover-bg-color: #434B5C;\n",
              "      --hover-fill-color: #FFFFFF;\n",
              "      --disabled-bg-color: #3B4455;\n",
              "      --disabled-fill-color: #666;\n",
              "  }\n",
              "\n",
              "  .colab-df-quickchart {\n",
              "    background-color: var(--bg-color);\n",
              "    border: none;\n",
              "    border-radius: 50%;\n",
              "    cursor: pointer;\n",
              "    display: none;\n",
              "    fill: var(--fill-color);\n",
              "    height: 32px;\n",
              "    padding: 0;\n",
              "    width: 32px;\n",
              "  }\n",
              "\n",
              "  .colab-df-quickchart:hover {\n",
              "    background-color: var(--hover-bg-color);\n",
              "    box-shadow: 0 1px 2px rgba(60, 64, 67, 0.3), 0 1px 3px 1px rgba(60, 64, 67, 0.15);\n",
              "    fill: var(--button-hover-fill-color);\n",
              "  }\n",
              "\n",
              "  .colab-df-quickchart-complete:disabled,\n",
              "  .colab-df-quickchart-complete:disabled:hover {\n",
              "    background-color: var(--disabled-bg-color);\n",
              "    fill: var(--disabled-fill-color);\n",
              "    box-shadow: none;\n",
              "  }\n",
              "\n",
              "  .colab-df-spinner {\n",
              "    border: 2px solid var(--fill-color);\n",
              "    border-color: transparent;\n",
              "    border-bottom-color: var(--fill-color);\n",
              "    animation:\n",
              "      spin 1s steps(1) infinite;\n",
              "  }\n",
              "\n",
              "  @keyframes spin {\n",
              "    0% {\n",
              "      border-color: transparent;\n",
              "      border-bottom-color: var(--fill-color);\n",
              "      border-left-color: var(--fill-color);\n",
              "    }\n",
              "    20% {\n",
              "      border-color: transparent;\n",
              "      border-left-color: var(--fill-color);\n",
              "      border-top-color: var(--fill-color);\n",
              "    }\n",
              "    30% {\n",
              "      border-color: transparent;\n",
              "      border-left-color: var(--fill-color);\n",
              "      border-top-color: var(--fill-color);\n",
              "      border-right-color: var(--fill-color);\n",
              "    }\n",
              "    40% {\n",
              "      border-color: transparent;\n",
              "      border-right-color: var(--fill-color);\n",
              "      border-top-color: var(--fill-color);\n",
              "    }\n",
              "    60% {\n",
              "      border-color: transparent;\n",
              "      border-right-color: var(--fill-color);\n",
              "    }\n",
              "    80% {\n",
              "      border-color: transparent;\n",
              "      border-right-color: var(--fill-color);\n",
              "      border-bottom-color: var(--fill-color);\n",
              "    }\n",
              "    90% {\n",
              "      border-color: transparent;\n",
              "      border-bottom-color: var(--fill-color);\n",
              "    }\n",
              "  }\n",
              "</style>\n",
              "\n",
              "      <script>\n",
              "        async function quickchart(key) {\n",
              "          const quickchartButtonEl =\n",
              "            document.querySelector('#' + key + ' button');\n",
              "          quickchartButtonEl.disabled = true;  // To prevent multiple clicks.\n",
              "          quickchartButtonEl.classList.add('colab-df-spinner');\n",
              "          try {\n",
              "            const charts = await google.colab.kernel.invokeFunction(\n",
              "                'suggestCharts', [key], {});\n",
              "          } catch (error) {\n",
              "            console.error('Error during call to suggestCharts:', error);\n",
              "          }\n",
              "          quickchartButtonEl.classList.remove('colab-df-spinner');\n",
              "          quickchartButtonEl.classList.add('colab-df-quickchart-complete');\n",
              "        }\n",
              "        (() => {\n",
              "          let quickchartButtonEl =\n",
              "            document.querySelector('#df-0065ac35-ae20-4c32-a782-25a18750b2f6 button');\n",
              "          quickchartButtonEl.style.display =\n",
              "            google.colab.kernel.accessAllowed ? 'block' : 'none';\n",
              "        })();\n",
              "      </script>\n",
              "    </div>\n",
              "\n",
              "  <div id=\"id_e76d03df-fb78-4afe-b3ea-c999c81cc9d2\">\n",
              "    <style>\n",
              "      .colab-df-generate {\n",
              "        background-color: #E8F0FE;\n",
              "        border: none;\n",
              "        border-radius: 50%;\n",
              "        cursor: pointer;\n",
              "        display: none;\n",
              "        fill: #1967D2;\n",
              "        height: 32px;\n",
              "        padding: 0 0 0 0;\n",
              "        width: 32px;\n",
              "      }\n",
              "\n",
              "      .colab-df-generate:hover {\n",
              "        background-color: #E2EBFA;\n",
              "        box-shadow: 0px 1px 2px rgba(60, 64, 67, 0.3), 0px 1px 3px 1px rgba(60, 64, 67, 0.15);\n",
              "        fill: #174EA6;\n",
              "      }\n",
              "\n",
              "      [theme=dark] .colab-df-generate {\n",
              "        background-color: #3B4455;\n",
              "        fill: #D2E3FC;\n",
              "      }\n",
              "\n",
              "      [theme=dark] .colab-df-generate:hover {\n",
              "        background-color: #434B5C;\n",
              "        box-shadow: 0px 1px 3px 1px rgba(0, 0, 0, 0.15);\n",
              "        filter: drop-shadow(0px 1px 2px rgba(0, 0, 0, 0.3));\n",
              "        fill: #FFFFFF;\n",
              "      }\n",
              "    </style>\n",
              "    <button class=\"colab-df-generate\" onclick=\"generateWithVariable('temparature_summary_df')\"\n",
              "            title=\"Generate code using this dataframe.\"\n",
              "            style=\"display:none;\">\n",
              "\n",
              "  <svg xmlns=\"http://www.w3.org/2000/svg\" height=\"24px\"viewBox=\"0 0 24 24\"\n",
              "       width=\"24px\">\n",
              "    <path d=\"M7,19H8.4L18.45,9,17,7.55,7,17.6ZM5,21V16.75L18.45,3.32a2,2,0,0,1,2.83,0l1.4,1.43a1.91,1.91,0,0,1,.58,1.4,1.91,1.91,0,0,1-.58,1.4L9.25,21ZM18.45,9,17,7.55Zm-12,3A5.31,5.31,0,0,0,4.9,8.1,5.31,5.31,0,0,0,1,6.5,5.31,5.31,0,0,0,4.9,4.9,5.31,5.31,0,0,0,6.5,1,5.31,5.31,0,0,0,8.1,4.9,5.31,5.31,0,0,0,12,6.5,5.46,5.46,0,0,0,6.5,12Z\"/>\n",
              "  </svg>\n",
              "    </button>\n",
              "    <script>\n",
              "      (() => {\n",
              "      const buttonEl =\n",
              "        document.querySelector('#id_e76d03df-fb78-4afe-b3ea-c999c81cc9d2 button.colab-df-generate');\n",
              "      buttonEl.style.display =\n",
              "        google.colab.kernel.accessAllowed ? 'block' : 'none';\n",
              "\n",
              "      buttonEl.onclick = () => {\n",
              "        google.colab.notebook.generateWithVariable('temparature_summary_df');\n",
              "      }\n",
              "      })();\n",
              "    </script>\n",
              "  </div>\n",
              "\n",
              "    </div>\n",
              "  </div>\n"
            ],
            "application/vnd.google.colaboratory.intrinsic+json": {
              "type": "dataframe",
              "variable_name": "temparature_summary_df",
              "summary": "{\n  \"name\": \"temparature_summary_df\",\n  \"rows\": 3,\n  \"fields\": [\n    {\n      \"column\": \"temperature\",\n      \"properties\": {\n        \"dtype\": \"number\",\n        \"std\": 25,\n        \"min\": 30,\n        \"max\": 80,\n        \"num_unique_values\": 3,\n        \"samples\": [\n          80,\n          55,\n          30\n        ],\n        \"semantic_type\": \"\",\n        \"description\": \"\"\n      }\n    },\n    {\n      \"column\": \"Total\",\n      \"properties\": {\n        \"dtype\": \"number\",\n        \"std\": 2132,\n        \"min\": 2316,\n        \"max\": 6528,\n        \"num_unique_values\": 3,\n        \"samples\": [\n          6528,\n          3840,\n          2316\n        ],\n        \"semantic_type\": \"\",\n        \"description\": \"\"\n      }\n    },\n    {\n      \"column\": \"Accepted\",\n      \"properties\": {\n        \"dtype\": \"number\",\n        \"std\": 1376,\n        \"min\": 1230,\n        \"max\": 3919,\n        \"num_unique_values\": 3,\n        \"samples\": [\n          3919,\n          2061,\n          1230\n        ],\n        \"semantic_type\": \"\",\n        \"description\": \"\"\n      }\n    },\n    {\n      \"column\": \"Rejected\",\n      \"properties\": {\n        \"dtype\": \"number\",\n        \"std\": 762,\n        \"min\": 1086,\n        \"max\": 2609,\n        \"num_unique_values\": 3,\n        \"samples\": [\n          2609,\n          1779,\n          1086\n        ],\n        \"semantic_type\": \"\",\n        \"description\": \"\"\n      }\n    },\n    {\n      \"column\": \"Accepted%\",\n      \"properties\": {\n        \"dtype\": \"number\",\n        \"std\": 3.84594240726509,\n        \"min\": 53.109,\n        \"max\": 60.034,\n        \"num_unique_values\": 3,\n        \"samples\": [\n          60.034,\n          53.672,\n          53.109\n        ],\n        \"semantic_type\": \"\",\n        \"description\": \"\"\n      }\n    },\n    {\n      \"column\": \"Rejected%\",\n      \"properties\": {\n        \"dtype\": \"number\",\n        \"std\": 3.84594240726509,\n        \"min\": 39.966,\n        \"max\": 46.891,\n        \"num_unique_values\": 3,\n        \"samples\": [\n          39.966,\n          46.328,\n          46.891\n        ],\n        \"semantic_type\": \"\",\n        \"description\": \"\"\n      }\n    }\n  ]\n}"
            }
          },
          "metadata": {},
          "execution_count": 58
        }
      ]
    },
    {
      "cell_type": "markdown",
      "source": [
        "From above histogram, temperature divide by Y(accepted or rejcted).  At temperature 80 has more propotion of accepted as compared to other temperature."
      ],
      "metadata": {
        "id": "3xG8MKZif5_P"
      }
    },
    {
      "cell_type": "markdown",
      "source": [
        "**Investigating the Bar Coupons**\n",
        "\n",
        "Now, we will lead you through an exploration of just the bar related coupons.\n",
        "\n",
        "Create a new DataFrame that contains just the bar coupons."
      ],
      "metadata": {
        "id": "pwzme6R4jiz_"
      }
    },
    {
      "cell_type": "code",
      "source": [
        "bar_df = data[['Bar', 'Y']]\n",
        "\n"
      ],
      "metadata": {
        "id": "E0m-gg1gfpUv"
      },
      "execution_count": null,
      "outputs": []
    },
    {
      "cell_type": "code",
      "source": [
        "bar_df.loc[:, 'outcome'] = bar_df['Y'].map({0: \"Rejected\", 1: \"Accepted\"})\n",
        "\n",
        "# Define colors and categories once\n",
        "color_map = {'Accepted': 'blue', 'Rejected': 'green'}\n",
        "outcomes = ['Accepted', 'Rejected']\n",
        "\n",
        "# Create figure with 1 row and 2 columns\n",
        "fig = make_subplots(\n",
        "    rows=1,\n",
        "    cols=2,\n",
        "    subplot_titles=(\"Box Plot\", \"Bar Plot\")\n",
        ")\n",
        "px_fig = px.box(bar_df, y='Bar', color='outcome',color_discrete_map=color_map)\n",
        "\n",
        "for trace in px_fig.data:\n",
        "    fig.add_trace(trace, row=1, col=1)\n",
        "\n",
        "\n",
        "\n",
        "\n",
        "# --- Plot the Bar chart in the second subplot ---\n",
        "for outcome in outcomes:\n",
        "    counts = bar_df[bar_df['outcome'] == outcome]['Bar'].value_counts()\n",
        "    fig.add_trace(\n",
        "        go.Bar(\n",
        "            x=counts.index,\n",
        "            y=counts.values,\n",
        "            name=outcome,\n",
        "            marker_color=color_map[outcome],\n",
        "            showlegend=False\n",
        "        ),\n",
        "        row=1, col=2\n",
        "    )\n",
        "\n",
        "# Use barmode='group' to prevent stacking and show a single legend\n",
        "fig.update_layout(barmode='group')\n",
        "fig.show()"
      ],
      "metadata": {
        "colab": {
          "base_uri": "https://localhost:8080/",
          "height": 681
        },
        "id": "3k7CUW3KwJXa",
        "outputId": "d75cedef-1ef0-4f09-87cb-afcd850c0561"
      },
      "execution_count": null,
      "outputs": [
        {
          "output_type": "stream",
          "name": "stderr",
          "text": [
            "/tmp/ipython-input-3044054059.py:1: SettingWithCopyWarning:\n",
            "\n",
            "\n",
            "A value is trying to be set on a copy of a slice from a DataFrame.\n",
            "Try using .loc[row_indexer,col_indexer] = value instead\n",
            "\n",
            "See the caveats in the documentation: https://pandas.pydata.org/pandas-docs/stable/user_guide/indexing.html#returning-a-view-versus-a-copy\n",
            "\n"
          ]
        },
        {
          "output_type": "display_data",
          "data": {
            "text/html": [
              "<html>\n",
              "<head><meta charset=\"utf-8\" /></head>\n",
              "<body>\n",
              "    <div>            <script src=\"https://cdnjs.cloudflare.com/ajax/libs/mathjax/2.7.5/MathJax.js?config=TeX-AMS-MML_SVG\"></script><script type=\"text/javascript\">if (window.MathJax && window.MathJax.Hub && window.MathJax.Hub.Config) {window.MathJax.Hub.Config({SVG: {font: \"STIX-Web\"}});}</script>                <script type=\"text/javascript\">window.PlotlyConfig = {MathJaxConfig: 'local'};</script>\n",
              "        <script charset=\"utf-8\" src=\"https://cdn.plot.ly/plotly-2.35.2.min.js\"></script>                <div id=\"99aaf60e-33de-44a0-be3a-ba8d997d4013\" class=\"plotly-graph-div\" style=\"height:525px; width:100%;\"></div>            <script type=\"text/javascript\">                                    window.PLOTLYENV=window.PLOTLYENV || {};                                    if (document.getElementById(\"99aaf60e-33de-44a0-be3a-ba8d997d4013\")) {                    Plotly.newPlot(                        \"99aaf60e-33de-44a0-be3a-ba8d997d4013\",                        [{\"alignmentgroup\":\"True\",\"hovertemplate\":\"outcome=Accepted\\u003cbr\\u003eBar=%{y}\\u003cextra\\u003e\\u003c\\u002fextra\\u003e\",\"legendgroup\":\"Accepted\",\"marker\":{\"color\":\"blue\"},\"name\":\"Accepted\",\"notched\":false,\"offsetgroup\":\"Accepted\",\"orientation\":\"v\",\"showlegend\":true,\"x0\":\" \",\"xaxis\":\"x\",\"y\":[\"never\",\"never\",\"never\",\"never\",\"never\",\"never\",\"never\",\"never\",\"never\",\"never\",\"never\",\"never\",\"never\",\"never\",\"never\",\"never\",\"never\",\"never\",\"never\",\"never\",\"never\",\"never\",\"never\",\"never\",\"never\",\"never\",\"never\",\"never\",\"never\",\"never\",\"never\",\"never\",\"never\",\"never\",\"never\",\"less1\",\"less1\",\"less1\",\"less1\",\"less1\",\"less1\",\"less1\",\"less1\",\"less1\",\"less1\",\"less1\",\"less1\",\"less1\",\"less1\",\"less1\",\"less1\",\"less1\",\"1~3\",\"1~3\",\"1~3\",\"1~3\",\"1~3\",\"1~3\",\"1~3\",\"1~3\",\"1~3\",\"1~3\",\"1~3\",\"1~3\",\"1~3\",\"1~3\",\"1~3\",\"1~3\",\"1~3\",\"1~3\",\"1~3\",\"1~3\",\"1~3\",\"1~3\",\"1~3\",\"1~3\",\"1~3\",\"1~3\",\"1~3\",\"1~3\",\"1~3\",\"1~3\",\"1~3\",\"1~3\",\"1~3\",\"never\",\"never\",\"never\",\"never\",\"never\",\"never\",\"never\",\"never\",\"never\",\"never\",\"never\",\"never\",\"gt8\",\"gt8\",\"gt8\",\"gt8\",\"gt8\",\"gt8\",\"gt8\",\"gt8\",\"gt8\",\"gt8\",\"gt8\",\"never\",\"never\",\"never\",\"never\",\"never\",\"never\",\"never\",\"never\",\"never\",\"never\",\"never\",\"never\",\"never\",\"never\",\"never\",\"never\",\"less1\",\"less1\",\"less1\",\"less1\",\"less1\",\"less1\",\"less1\",\"less1\",\"less1\",\"1~3\",\"1~3\",\"1~3\",\"1~3\",\"1~3\",\"1~3\",\"1~3\",\"1~3\",\"1~3\",\"1~3\",\"1~3\",\"1~3\",\"1~3\",\"1~3\",\"1~3\",\"1~3\",\"1~3\",\"1~3\",\"1~3\",\"1~3\",\"1~3\",\"1~3\",\"1~3\",\"1~3\",\"1~3\",\"1~3\",\"1~3\",\"1~3\",\"1~3\",\"1~3\",\"1~3\",\"never\",\"never\",\"never\",\"never\",\"never\",\"never\",\"never\",\"never\",\"never\",\"never\",\"never\",\"never\",\"never\",\"never\",\"never\",\"never\",\"never\",\"never\",\"never\",\"never\",\"never\",\"never\",\"never\",\"never\",\"never\",\"never\",\"never\",\"never\",\"never\",\"never\",\"never\",\"never\",\"never\",\"never\",\"never\",\"never\",\"never\",\"never\",\"never\",\"never\",\"never\",\"never\",\"never\",\"never\",\"less1\",\"less1\",\"less1\",\"less1\",\"less1\",\"less1\",\"less1\",\"less1\",\"less1\",\"less1\",\"never\",\"never\",\"never\",\"never\",\"never\",\"never\",\"never\",\"never\",\"never\",\"never\",\"never\",\"1~3\",\"1~3\",\"1~3\",\"1~3\",\"1~3\",\"1~3\",\"1~3\",\"1~3\",\"1~3\",\"1~3\",\"never\",\"never\",\"never\",\"never\",\"never\",\"never\",\"never\",\"never\",\"never\",\"never\",\"never\",\"never\",\"never\",\"never\",\"never\",\"never\",\"never\",\"never\",\"never\",\"never\",\"never\",\"never\",\"never\",\"never\",\"never\",\"never\",\"gt8\",\"gt8\",\"gt8\",\"gt8\",\"gt8\",\"gt8\",\"gt8\",\"gt8\",\"gt8\",\"gt8\",\"gt8\",\"gt8\",\"gt8\",\"gt8\",\"gt8\",\"gt8\",\"gt8\",\"never\",\"never\",\"never\",\"never\",\"never\",\"never\",\"never\",\"never\",\"never\",\"never\",\"never\",\"never\",\"never\",\"never\",\"never\",\"never\",\"never\",\"never\",\"never\",\"never\",\"never\",\"never\",\"never\",\"never\",\"never\",\"never\",\"never\",\"never\",\"1~3\",\"1~3\",\"1~3\",\"1~3\",\"1~3\",\"1~3\",\"1~3\",\"1~3\",\"1~3\",\"1~3\",\"1~3\",\"1~3\",\"1~3\",\"1~3\",\"1~3\",\"1~3\",\"1~3\",\"never\",\"never\",\"never\",\"never\",\"never\",\"never\",\"never\",\"never\",\"never\",\"never\",\"never\",\"4~8\",\"4~8\",\"4~8\",\"4~8\",\"4~8\",\"4~8\",\"4~8\",\"4~8\",\"4~8\",\"4~8\",\"4~8\",\"4~8\",\"4~8\",\"4~8\",\"4~8\",\"4~8\",\"4~8\",\"4~8\",\"4~8\",\"4~8\",\"4~8\",\"4~8\",\"4~8\",\"4~8\",\"4~8\",\"4~8\",\"4~8\",\"never\",\"never\",\"never\",\"never\",\"never\",\"never\",\"never\",\"never\",\"never\",\"never\",\"never\",\"never\",\"never\",\"never\",\"less1\",\"less1\",\"less1\",\"less1\",\"less1\",\"less1\",\"less1\",\"less1\",\"less1\",\"less1\",\"less1\",\"less1\",\"less1\",\"less1\",\"1~3\",\"1~3\",\"1~3\",\"1~3\",\"1~3\",\"1~3\",\"1~3\",\"1~3\",\"1~3\",\"1~3\",\"1~3\",\"1~3\",\"1~3\",\"1~3\",\"less1\",\"less1\",\"less1\",\"less1\",\"less1\",\"less1\",\"less1\",\"less1\",\"less1\",\"less1\",\"less1\",\"less1\",\"less1\",\"less1\",\"less1\",\"less1\",\"less1\",\"less1\",\"less1\",\"less1\",\"less1\",\"less1\",\"less1\",\"less1\",\"never\",\"never\",\"never\",\"never\",\"never\",\"never\",\"never\",\"never\",\"never\",\"never\",\"never\",\"never\",\"never\",\"never\",\"1~3\",\"1~3\",\"1~3\",\"1~3\",\"1~3\",\"1~3\",\"1~3\",\"1~3\",\"1~3\",\"1~3\",\"1~3\",\"1~3\",\"1~3\",\"1~3\",\"1~3\",\"1~3\",\"1~3\",\"1~3\",\"1~3\",\"1~3\",\"1~3\",\"1~3\",\"1~3\",\"1~3\",\"1~3\",\"1~3\",\"1~3\",\"1~3\",\"1~3\",\"1~3\",\"1~3\",\"1~3\",\"1~3\",\"1~3\",\"1~3\",\"1~3\",\"1~3\",\"1~3\",\"less1\",\"less1\",\"less1\",\"less1\",\"less1\",\"less1\",\"less1\",\"less1\",\"less1\",\"less1\",\"less1\",\"less1\",\"less1\",\"never\",\"never\",\"never\",\"never\",\"never\",\"never\",\"never\",\"never\",\"never\",\"never\",\"never\",\"never\",\"never\",\"never\",\"never\",\"never\",\"never\",\"never\",\"never\",\"never\",\"never\",\"never\",\"never\",\"never\",\"never\",\"never\",\"never\",\"never\",\"never\",\"never\",\"never\",\"never\",\"never\",\"never\",\"never\",\"never\",\"never\",\"never\",\"never\",\"never\",\"never\",\"never\",\"never\",\"never\",\"1~3\",\"1~3\",\"1~3\",\"1~3\",\"1~3\",\"1~3\",\"1~3\",\"1~3\",\"1~3\",\"1~3\",\"1~3\",\"1~3\",\"1~3\",\"1~3\",\"never\",\"never\",\"never\",\"never\",\"never\",\"never\",\"never\",\"never\",\"never\",\"never\",\"never\",\"never\",\"never\",\"never\",\"never\",\"never\",\"never\",\"never\",\"never\",\"1~3\",\"1~3\",\"1~3\",\"1~3\",\"1~3\",\"1~3\",\"1~3\",\"1~3\",\"1~3\",\"1~3\",\"1~3\",\"1~3\",\"less1\",\"less1\",\"less1\",\"less1\",\"less1\",\"less1\",\"less1\",\"less1\",\"less1\",\"less1\",\"less1\",\"less1\",\"less1\",\"less1\",\"less1\",\"less1\",\"less1\",\"less1\",\"less1\",\"less1\",\"less1\",\"less1\",\"less1\",\"never\",\"never\",\"never\",\"never\",\"never\",\"never\",\"never\",\"never\",\"never\",\"never\",\"1~3\",\"1~3\",\"1~3\",\"1~3\",\"1~3\",\"1~3\",\"1~3\",\"1~3\",\"1~3\",\"1~3\",\"never\",\"never\",\"never\",\"never\",\"never\",\"never\",\"less1\",\"less1\",\"less1\",\"less1\",\"less1\",\"less1\",\"less1\",\"less1\",\"less1\",\"less1\",\"less1\",\"less1\",\"never\",\"never\",\"never\",\"never\",\"never\",\"never\",\"never\",\"never\",\"never\",\"never\",\"never\",\"never\",\"never\",\"never\",\"never\",\"never\",\"never\",\"never\",\"never\",\"never\",\"less1\",\"less1\",\"less1\",\"less1\",\"less1\",\"less1\",\"less1\",\"less1\",\"less1\",\"less1\",\"less1\",\"less1\",\"less1\",\"less1\",\"less1\",\"less1\",\"never\",\"never\",\"never\",\"never\",\"never\",\"1~3\",\"1~3\",\"1~3\",\"1~3\",\"1~3\",\"1~3\",\"1~3\",\"1~3\",\"1~3\",\"1~3\",\"1~3\",\"1~3\",\"1~3\",\"1~3\",\"1~3\",\"1~3\",\"1~3\",\"1~3\",\"1~3\",\"1~3\",\"1~3\",\"1~3\",\"never\",\"never\",\"never\",\"never\",\"never\",\"never\",\"never\",\"never\",\"never\",\"never\",\"never\",\"never\",\"never\",\"never\",\"never\",\"never\",\"never\",\"never\",\"less1\",\"less1\",\"less1\",\"less1\",\"less1\",\"less1\",\"less1\",\"less1\",\"less1\",\"less1\",\"less1\",\"never\",\"never\",\"never\",\"never\",\"never\",\"never\",\"never\",\"never\",\"never\",\"never\",\"never\",\"never\",\"never\",\"never\",\"never\",\"never\",\"never\",\"never\",\"never\",\"never\",\"never\",\"never\",\"never\",\"never\",\"never\",\"never\",\"never\",\"never\",\"never\",\"never\",\"never\",\"never\",\"never\",\"never\",\"never\",\"never\",\"never\",\"never\",\"never\",\"never\",\"1~3\",\"1~3\",\"1~3\",\"1~3\",\"1~3\",\"1~3\",\"1~3\",\"1~3\",\"1~3\",\"1~3\",\"1~3\",\"1~3\",\"1~3\",\"1~3\",\"1~3\",\"1~3\",\"1~3\",\"1~3\",\"1~3\",\"1~3\",\"1~3\",\"1~3\",\"1~3\",\"1~3\",\"1~3\",\"1~3\",\"1~3\",\"1~3\",\"1~3\",\"1~3\",\"1~3\",\"1~3\",\"1~3\",\"1~3\",\"1~3\",\"1~3\",\"1~3\",\"1~3\",\"never\",\"never\",\"never\",\"never\",\"never\",\"never\",\"never\",\"never\",\"never\",\"never\",\"never\",\"never\",\"never\",\"never\",\"never\",\"less1\",\"less1\",\"less1\",\"less1\",\"less1\",\"never\",\"never\",\"never\",\"never\",\"never\",\"never\",\"never\",\"never\",\"less1\",\"less1\",\"less1\",\"less1\",\"less1\",\"less1\",\"less1\",\"less1\",\"less1\",\"less1\",\"less1\",\"less1\",\"less1\",\"less1\",\"never\",\"never\",\"never\",\"never\",\"never\",\"never\",\"never\",\"never\",\"never\",\"never\",\"never\",\"never\",\"never\",\"never\",\"never\",\"never\",\"never\",\"never\",\"never\",\"never\",\"never\",\"never\",\"never\",\"never\",\"never\",\"never\",\"never\",\"never\",\"never\",\"never\",\"never\",\"never\",\"never\",\"never\",\"never\",\"never\",\"never\",\"never\",\"never\",\"never\",\"never\",\"less1\",\"less1\",\"less1\",\"less1\",\"less1\",\"less1\",\"less1\",\"less1\",\"less1\",\"less1\",\"less1\",\"less1\",\"less1\",\"less1\",\"less1\",\"less1\",\"less1\",\"less1\",\"less1\",\"less1\",\"less1\",\"less1\",\"less1\",\"less1\",\"less1\",\"less1\",\"less1\",\"less1\",\"less1\",\"less1\",\"less1\",\"less1\",\"less1\",\"less1\",\"less1\",\"less1\",\"1~3\",\"1~3\",\"1~3\",\"1~3\",\"1~3\",\"1~3\",\"1~3\",\"1~3\",\"1~3\",\"1~3\",\"1~3\",\"1~3\",\"1~3\",\"1~3\",\"1~3\",\"1~3\",\"1~3\",\"1~3\",\"1~3\",\"1~3\",\"1~3\",\"1~3\",\"1~3\",\"1~3\",\"1~3\",\"1~3\",\"1~3\",\"1~3\",\"1~3\",\"1~3\",\"1~3\",\"1~3\",\"1~3\",\"1~3\",\"gt8\",\"gt8\",\"gt8\",\"gt8\",\"gt8\",\"gt8\",\"gt8\",\"gt8\",\"gt8\",\"gt8\",\"gt8\",\"gt8\",\"gt8\",\"never\",\"never\",\"never\",\"never\",\"never\",\"never\",\"never\",\"never\",\"never\",\"never\",\"never\",\"never\",\"never\",\"never\",\"never\",\"never\",\"never\",\"never\",\"never\",\"never\",\"never\",\"never\",\"never\",\"never\",\"never\",\"never\",\"never\",\"never\",\"never\",\"never\",\"never\",\"never\",\"never\",\"never\",\"never\",\"never\",\"never\",\"never\",\"never\",\"never\",\"never\",\"never\",\"never\",\"never\",\"never\",\"never\",\"never\",\"never\",\"never\",\"never\",\"never\",\"4~8\",\"4~8\",\"4~8\",\"4~8\",\"4~8\",\"4~8\",\"4~8\",\"4~8\",\"4~8\",\"4~8\",\"4~8\",\"4~8\",\"4~8\",\"4~8\",\"4~8\",\"4~8\",\"1~3\",\"1~3\",\"1~3\",\"1~3\",\"1~3\",\"1~3\",\"1~3\",\"1~3\",\"1~3\",\"1~3\",\"1~3\",\"1~3\",\"1~3\",\"1~3\",\"1~3\",\"1~3\",\"1~3\",\"1~3\",\"1~3\",\"never\",\"never\",\"never\",\"never\",\"never\",\"never\",\"never\",\"never\",\"never\",\"never\",\"less1\",\"less1\",\"less1\",\"less1\",\"less1\",\"less1\",\"less1\",\"less1\",\"less1\",\"less1\",\"less1\",\"less1\",\"less1\",\"less1\",\"less1\",\"less1\",\"less1\",\"less1\",\"1~3\",\"1~3\",\"1~3\",\"1~3\",\"1~3\",\"1~3\",\"1~3\",\"1~3\",\"1~3\",\"1~3\",\"1~3\",\"1~3\",\"1~3\",\"1~3\",\"1~3\",\"1~3\",\"less1\",\"less1\",\"less1\",\"less1\",\"less1\",\"less1\",\"less1\",\"less1\",\"less1\",\"less1\",\"less1\",\"less1\",\"less1\",\"less1\",\"less1\",\"less1\",\"less1\",\"less1\",\"less1\",\"less1\",\"less1\",\"less1\",\"less1\",\"less1\",\"less1\",\"less1\",\"less1\",\"less1\",\"less1\",\"less1\",\"less1\",\"less1\",\"less1\",\"less1\",\"less1\",\"less1\",\"less1\",\"less1\",\"less1\",\"less1\",\"less1\",\"less1\",\"less1\",\"less1\",\"less1\",\"less1\",\"less1\",\"less1\",\"less1\",\"less1\",\"less1\",\"less1\",\"less1\",\"less1\",\"less1\",\"less1\",\"less1\",\"less1\",\"less1\",\"less1\",\"less1\",\"1~3\",\"1~3\",\"1~3\",\"1~3\",\"1~3\",\"1~3\",\"1~3\",\"1~3\",\"1~3\",\"1~3\",\"1~3\",\"1~3\",\"1~3\",\"1~3\",\"never\",\"never\",\"never\",\"never\",\"never\",\"never\",\"never\",\"never\",\"never\",\"never\",\"never\",\"never\",\"never\",\"never\",\"never\",\"never\",\"never\",\"less1\",\"less1\",\"less1\",\"less1\",\"less1\",\"less1\",\"less1\",\"less1\",\"less1\",\"less1\",\"less1\",\"less1\",\"less1\",\"less1\",\"less1\",\"less1\",\"less1\",\"less1\",\"less1\",\"less1\",\"less1\",\"less1\",\"less1\",\"less1\",\"less1\",\"less1\",\"less1\",\"4~8\",\"4~8\",\"4~8\",\"4~8\",\"4~8\",\"4~8\",\"4~8\",\"4~8\",\"4~8\",\"4~8\",\"4~8\",\"4~8\",\"4~8\",\"4~8\",\"4~8\",\"never\",\"never\",\"never\",\"never\",\"never\",\"4~8\",\"4~8\",\"4~8\",\"4~8\",\"4~8\",\"4~8\",\"4~8\",\"4~8\",\"4~8\",\"4~8\",\"4~8\",\"4~8\",\"4~8\",\"4~8\",\"4~8\",\"4~8\",\"4~8\",\"less1\",\"less1\",\"less1\",\"less1\",\"less1\",\"less1\",\"less1\",\"less1\",\"less1\",\"less1\",\"less1\",\"less1\",\"less1\",\"less1\",\"less1\",\"never\",\"never\",\"never\",\"never\",\"never\",\"never\",\"never\",\"never\",\"never\",\"never\",\"never\",\"never\",\"never\",\"never\",\"never\",\"never\",\"never\",\"never\",\"4~8\",\"4~8\",\"4~8\",\"4~8\",\"4~8\",\"4~8\",\"4~8\",\"4~8\",\"4~8\",\"4~8\",\"4~8\",\"4~8\",\"4~8\",\"4~8\",\"4~8\",\"4~8\",\"4~8\",\"4~8\",\"4~8\",\"1~3\",\"1~3\",\"1~3\",\"1~3\",\"1~3\",\"1~3\",\"1~3\",\"1~3\",\"1~3\",\"1~3\",\"1~3\",\"1~3\",\"4~8\",\"4~8\",\"4~8\",\"4~8\",\"4~8\",\"4~8\",\"4~8\",\"4~8\",\"4~8\",\"4~8\",\"4~8\",\"4~8\",\"4~8\",\"4~8\",\"never\",\"never\",\"never\",\"never\",\"never\",\"never\",\"never\",\"never\",\"never\",\"never\",\"never\",\"never\",\"never\",\"never\",\"less1\",\"less1\",\"less1\",\"less1\",\"less1\",\"less1\",\"less1\",\"less1\",\"less1\",\"less1\",\"less1\",\"less1\",\"less1\",\"less1\",\"less1\",\"less1\",\"never\",\"never\",\"never\",\"never\",\"never\",\"never\",\"never\",\"never\",\"never\",\"never\",\"never\",\"never\",\"never\",\"4~8\",\"4~8\",\"4~8\",\"4~8\",\"4~8\",\"4~8\",\"4~8\",\"4~8\",\"4~8\",\"4~8\",\"4~8\",\"4~8\",\"less1\",\"less1\",\"less1\",\"less1\",\"less1\",\"less1\",\"less1\",\"less1\",\"less1\",\"less1\",\"less1\",\"less1\",\"less1\",\"less1\",\"less1\",\"less1\",\"4~8\",\"4~8\",\"4~8\",\"4~8\",\"4~8\",\"4~8\",\"4~8\",\"4~8\",\"4~8\",\"never\",\"never\",\"never\",\"never\",\"never\",\"never\",\"never\",\"never\",\"never\",\"never\",\"never\",\"never\",\"4~8\",\"4~8\",\"4~8\",\"4~8\",\"4~8\",\"4~8\",\"4~8\",\"4~8\",\"4~8\",\"4~8\",\"4~8\",\"4~8\",\"4~8\",\"4~8\",\"1~3\",\"1~3\",\"1~3\",\"1~3\",\"1~3\",\"1~3\",\"1~3\",\"1~3\",\"1~3\",\"1~3\",\"1~3\",\"1~3\",\"1~3\",\"1~3\",\"1~3\",\"1~3\",\"1~3\",\"1~3\",\"1~3\",\"1~3\",\"1~3\",\"1~3\",\"1~3\",\"1~3\",\"1~3\",\"1~3\",\"1~3\",\"1~3\",\"1~3\",\"1~3\",\"never\",\"never\",\"never\",\"never\",\"never\",\"never\",\"never\",\"never\",\"never\",\"less1\",\"less1\",\"less1\",\"less1\",\"less1\",\"less1\",\"less1\",\"less1\",\"less1\",\"less1\",\"less1\",\"less1\",\"less1\",\"less1\",\"less1\",\"4~8\",\"4~8\",\"4~8\",\"4~8\",\"4~8\",\"4~8\",\"4~8\",\"4~8\",\"4~8\",\"4~8\",\"4~8\",\"4~8\",\"4~8\",\"4~8\",\"4~8\",\"4~8\",\"4~8\",\"4~8\",\"4~8\",\"4~8\",\"4~8\",\"4~8\",\"4~8\",\"4~8\",\"4~8\",\"4~8\",\"4~8\",\"4~8\",\"4~8\",\"4~8\",\"4~8\",\"4~8\",\"4~8\",\"4~8\",\"4~8\",\"4~8\",\"4~8\",\"4~8\",\"4~8\",\"never\",\"never\",\"never\",\"never\",\"never\",\"never\",\"never\",\"1~3\",\"1~3\",\"1~3\",\"1~3\",\"1~3\",\"1~3\",\"1~3\",\"1~3\",\"1~3\",\"1~3\",\"1~3\",\"1~3\",\"1~3\",\"1~3\",\"1~3\",\"1~3\",\"never\",\"never\",\"never\",\"never\",\"never\",\"never\",\"never\",\"never\",\"4~8\",\"4~8\",\"4~8\",\"4~8\",\"4~8\",\"4~8\",\"4~8\",\"4~8\",\"4~8\",\"never\",\"never\",\"never\",\"never\",\"never\",\"never\",\"never\",\"never\",\"never\",\"never\",\"never\",\"never\",\"never\",\"never\",\"never\",\"never\",\"never\",\"never\",\"less1\",\"less1\",\"less1\",\"less1\",\"less1\",\"less1\",\"less1\",\"less1\",\"less1\",\"less1\",\"less1\",\"less1\",\"less1\",\"less1\",\"less1\",\"less1\",\"less1\",\"less1\",\"less1\",\"less1\",\"less1\",\"less1\",\"less1\",\"less1\",\"less1\",\"less1\",\"less1\",\"less1\",\"1~3\",\"1~3\",\"1~3\",\"1~3\",\"1~3\",\"1~3\",\"1~3\",\"1~3\",\"1~3\",\"1~3\",\"1~3\",\"1~3\",\"1~3\",\"never\",\"never\",\"never\",\"never\",\"never\",\"never\",\"never\",\"never\",\"never\",\"never\",\"never\",\"never\",\"never\",\"never\",\"1~3\",\"1~3\",\"1~3\",\"1~3\",\"1~3\",\"1~3\",\"1~3\",\"1~3\",\"1~3\",\"1~3\",\"1~3\",\"1~3\",\"1~3\",\"1~3\",\"1~3\",\"1~3\",\"1~3\",\"1~3\",\"1~3\",\"never\",\"never\",\"never\",\"never\",\"never\",\"never\",\"never\",\"never\",\"never\",\"never\",\"never\",\"never\",\"never\",\"never\",\"never\",\"never\",\"less1\",\"less1\",\"less1\",\"less1\",\"less1\",\"less1\",\"less1\",\"less1\",\"less1\",\"less1\",\"less1\",\"less1\",\"less1\",\"less1\",\"never\",\"never\",\"never\",\"never\",\"never\",\"never\",\"never\",\"never\",\"never\",\"never\",\"never\",\"never\",\"never\",\"never\",\"never\",\"never\",\"never\",\"never\",\"never\",\"never\",\"never\",\"never\",\"never\",\"never\",\"never\",\"never\",\"never\",\"never\",\"never\",\"never\",\"never\",\"less1\",\"less1\",\"less1\",\"less1\",\"less1\",\"less1\",\"less1\",\"less1\",\"less1\",\"less1\",\"less1\",\"less1\",\"less1\",\"less1\",\"less1\",\"less1\",\"less1\",\"less1\",\"less1\",\"less1\",\"1~3\",\"1~3\",\"1~3\",\"1~3\",\"1~3\",\"1~3\",\"1~3\",\"1~3\",\"1~3\",\"1~3\",\"1~3\",\"1~3\",\"1~3\",\"1~3\",\"1~3\",\"1~3\",\"1~3\",\"1~3\",\"1~3\",\"1~3\",\"1~3\",\"1~3\",\"1~3\",\"1~3\",\"1~3\",\"1~3\",\"1~3\",\"1~3\",\"1~3\",\"1~3\",\"never\",\"never\",\"never\",\"never\",\"never\",\"never\",\"never\",\"never\",\"never\",\"gt8\",\"gt8\",\"gt8\",\"gt8\",\"gt8\",\"gt8\",\"gt8\",\"gt8\",\"gt8\",\"gt8\",\"gt8\",\"gt8\",\"gt8\",\"1~3\",\"1~3\",\"1~3\",\"1~3\",\"1~3\",\"1~3\",\"1~3\",\"1~3\",\"1~3\",\"1~3\",\"less1\",\"less1\",\"less1\",\"less1\",\"less1\",\"less1\",\"less1\",\"less1\",\"less1\",\"less1\",\"less1\",\"less1\",\"less1\",\"less1\",\"less1\",\"less1\",\"less1\",\"less1\",\"less1\",\"less1\",\"less1\",\"less1\",\"less1\",\"gt8\",\"gt8\",\"gt8\",\"gt8\",\"gt8\",\"gt8\",\"gt8\",\"gt8\",\"gt8\",\"gt8\",\"gt8\",\"never\",\"never\",\"never\",\"never\",\"never\",\"never\",\"never\",\"never\",\"never\",\"never\",\"never\",\"never\",\"never\",\"never\",\"never\",\"never\",\"4~8\",\"4~8\",\"4~8\",\"4~8\",\"4~8\",\"never\",\"never\",\"never\",\"never\",\"1~3\",\"1~3\",\"1~3\",\"1~3\",\"1~3\",\"1~3\",\"1~3\",\"1~3\",\"1~3\",\"1~3\",\"1~3\",\"1~3\",\"1~3\",\"never\",\"never\",\"never\",\"never\",\"gt8\",\"gt8\",\"gt8\",\"gt8\",\"gt8\",\"gt8\",\"gt8\",\"gt8\",\"gt8\",\"gt8\",\"gt8\",\"gt8\",\"1~3\",\"1~3\",\"1~3\",\"1~3\",\"1~3\",\"1~3\",\"1~3\",\"1~3\",\"1~3\",\"1~3\",\"never\",\"never\",\"never\",\"never\",\"never\",\"never\",\"never\",\"never\",\"never\",\"never\",\"never\",\"never\",\"never\",\"never\",\"never\",\"never\",\"never\",\"never\",\"never\",\"never\",\"never\",\"never\",\"never\",\"never\",\"never\",\"never\",\"never\",\"never\",\"never\",\"never\",\"never\",\"never\",\"never\",\"never\",\"less1\",\"less1\",\"less1\",\"less1\",\"less1\",\"less1\",\"less1\",\"less1\",\"less1\",\"less1\",\"less1\",\"less1\",\"less1\",\"less1\",\"less1\",\"less1\",\"less1\",\"never\",\"never\",\"never\",\"never\",\"never\",\"never\",\"never\",\"never\",\"never\",\"never\",\"never\",\"never\",\"less1\",\"less1\",\"less1\",\"less1\",\"less1\",\"less1\",\"never\",\"never\",\"never\",\"never\",\"never\",\"never\",\"never\",\"never\",\"never\",\"never\",\"never\",\"never\",\"never\",\"never\",\"never\",\"never\",\"never\",\"never\",\"never\",\"never\",\"never\",\"never\",\"never\",\"never\",\"never\",\"never\",\"never\",\"never\",\"never\",\"never\",\"never\",\"never\",\"never\",\"never\",\"never\",\"never\",\"never\",\"never\",\"never\",\"never\",\"never\",\"never\",\"never\",\"less1\",\"less1\",\"less1\",\"less1\",\"less1\",\"less1\",\"less1\",\"less1\",\"less1\",\"less1\",\"less1\",\"less1\",\"less1\",\"less1\",\"less1\",\"4~8\",\"4~8\",\"4~8\",\"4~8\",\"4~8\",\"4~8\",\"4~8\",\"4~8\",\"4~8\",\"4~8\",\"4~8\",\"4~8\",\"4~8\",\"4~8\",\"4~8\",\"4~8\",\"4~8\",\"4~8\",\"never\",\"never\",\"never\",\"never\",\"never\",\"never\",\"never\",\"never\",\"never\",\"never\",\"never\",\"never\",\"never\",\"never\",\"never\",\"never\",\"never\",\"never\",\"never\",\"never\",\"never\",\"never\",\"never\",\"never\",\"never\",\"never\",\"less1\",\"less1\",\"less1\",\"less1\",\"less1\",\"less1\",\"less1\",\"less1\",\"less1\",\"less1\",\"less1\",\"less1\",\"less1\",\"less1\",\"less1\",\"less1\",\"less1\",\"less1\",\"less1\",\"less1\",\"less1\",\"less1\",\"less1\",\"less1\",\"less1\",\"less1\",\"less1\",\"less1\",\"less1\",\"less1\",\"less1\",\"less1\",\"gt8\",\"gt8\",\"gt8\",\"gt8\",\"gt8\",\"gt8\",\"gt8\",\"gt8\",\"gt8\",\"gt8\",\"gt8\",\"gt8\",\"gt8\",\"gt8\",\"gt8\",\"gt8\",\"gt8\",\"gt8\",\"gt8\",\"gt8\",\"gt8\",\"gt8\",\"gt8\",\"gt8\",\"gt8\",\"gt8\",\"gt8\",\"gt8\",\"gt8\",\"gt8\",\"gt8\",\"gt8\",\"less1\",\"less1\",\"less1\",\"less1\",\"less1\",\"less1\",\"less1\",\"less1\",\"less1\",\"less1\",\"less1\",\"less1\",\"less1\",\"less1\",\"less1\",\"less1\",\"less1\",\"less1\",\"never\",\"never\",\"never\",\"never\",\"never\",\"never\",\"4~8\",\"4~8\",\"4~8\",\"4~8\",\"4~8\",\"4~8\",\"4~8\",\"4~8\",\"4~8\",\"4~8\",\"4~8\",\"4~8\",\"4~8\",\"4~8\",\"4~8\",\"4~8\",\"4~8\",\"4~8\",\"4~8\",\"4~8\",\"4~8\",\"less1\",\"less1\",\"less1\",\"less1\",\"less1\",\"less1\",\"less1\",\"less1\",\"less1\",\"less1\",\"less1\",\"less1\",\"less1\",\"less1\",\"less1\",\"less1\",\"less1\",\"less1\",\"less1\",\"less1\",\"less1\",\"less1\",\"less1\",\"less1\",\"less1\",\"less1\",\"less1\",\"less1\",\"less1\",\"less1\",\"less1\",\"less1\",\"less1\",\"less1\",\"never\",\"never\",\"never\",\"never\",\"never\",\"never\",\"never\",\"never\",\"never\",\"never\",\"never\",\"never\",\"never\",\"never\",\"never\",\"never\",\"never\",\"never\",\"never\",\"never\",\"never\",\"never\",\"never\",\"never\",\"never\",\"never\",\"never\",\"never\",\"never\",\"never\",\"never\",\"less1\",\"less1\",\"less1\",\"less1\",\"less1\",\"less1\",\"less1\",\"less1\",\"less1\",\"less1\",\"less1\",\"less1\",\"less1\",\"less1\",\"less1\",\"less1\",\"less1\",\"less1\",\"1~3\",\"1~3\",\"1~3\",\"1~3\",\"1~3\",\"1~3\",\"1~3\",\"1~3\",\"1~3\",\"1~3\",\"1~3\",\"1~3\",\"1~3\",\"1~3\",\"1~3\",\"1~3\",\"1~3\",\"1~3\",\"1~3\",\"1~3\",\"1~3\",\"1~3\",\"1~3\",\"1~3\",\"1~3\",\"1~3\",\"1~3\",\"1~3\",\"1~3\",\"1~3\",\"1~3\",\"never\",\"never\",\"never\",\"never\",\"never\",\"never\",\"never\",\"never\",\"never\",\"never\",\"never\",\"never\",\"never\",\"never\",\"never\",\"never\",\"never\",\"never\",\"never\",\"never\",\"never\",\"never\",\"never\",\"never\",\"never\",\"never\",\"1~3\",\"1~3\",\"1~3\",\"1~3\",\"1~3\",\"1~3\",\"1~3\",\"1~3\",\"1~3\",\"1~3\",\"never\",\"never\",\"never\",\"never\",\"never\",\"never\",\"never\",\"never\",\"never\",\"less1\",\"less1\",\"less1\",\"less1\",\"less1\",\"less1\",\"less1\",\"less1\",\"less1\",\"less1\",\"less1\",\"less1\",\"less1\",\"less1\",\"less1\",\"never\",\"never\",\"never\",\"never\",\"never\",\"never\",\"never\",\"never\",\"never\",\"never\",\"never\",\"never\",\"never\",\"never\",\"never\",\"never\",\"less1\",\"less1\",\"less1\",\"less1\",\"less1\",\"less1\",\"less1\",\"less1\",\"less1\",\"less1\",\"less1\",\"less1\",\"4~8\",\"4~8\",\"4~8\",\"4~8\",\"4~8\",\"4~8\",\"4~8\",\"4~8\",\"4~8\",\"4~8\",\"4~8\",\"4~8\",\"4~8\",\"4~8\",\"4~8\",\"4~8\",\"1~3\",\"1~3\",\"1~3\",\"1~3\",\"1~3\",\"1~3\",\"1~3\",\"1~3\",\"1~3\",\"1~3\",\"1~3\",\"1~3\",\"1~3\",\"1~3\",\"1~3\",\"never\",\"never\",\"never\",\"never\",\"never\",\"never\",\"never\",\"never\",\"never\",\"never\",\"never\",\"never\",\"never\",\"never\",\"never\",\"never\",\"never\",\"never\",\"never\",\"never\",\"1~3\",\"1~3\",\"1~3\",\"1~3\",\"1~3\",\"1~3\",\"1~3\",\"1~3\",\"1~3\",\"never\",\"never\",\"never\",\"never\",\"never\",\"never\",\"never\",\"never\",\"never\",\"never\",\"never\",\"never\",\"never\",\"never\",\"never\",\"never\",\"never\",\"never\",\"never\",\"never\",\"never\",\"never\",\"never\",\"never\",\"never\",\"never\",\"never\",\"never\",\"never\",\"never\",\"never\",\"never\",\"never\",\"never\",\"less1\",\"less1\",\"less1\",\"less1\",\"less1\",\"less1\",\"less1\",\"less1\",\"less1\",\"less1\",\"less1\",\"less1\",\"less1\",\"less1\",\"less1\",\"less1\",\"less1\",\"less1\",\"less1\",\"less1\",\"less1\",\"less1\",\"less1\",\"less1\",\"less1\",\"less1\",\"less1\",\"less1\",\"4~8\",\"4~8\",\"4~8\",\"4~8\",\"4~8\",\"4~8\",\"4~8\",\"4~8\",\"4~8\",\"4~8\",\"4~8\",\"4~8\",\"4~8\",\"4~8\",\"4~8\",\"4~8\",\"4~8\",\"4~8\",\"1~3\",\"1~3\",\"1~3\",\"1~3\",\"1~3\",\"1~3\",\"1~3\",\"1~3\",\"1~3\",\"1~3\",\"1~3\",\"1~3\",\"1~3\",\"1~3\",\"1~3\",\"1~3\",\"1~3\",\"1~3\",\"1~3\",\"1~3\",\"1~3\",\"1~3\",\"1~3\",\"1~3\",\"1~3\",\"1~3\",\"1~3\",\"1~3\",\"1~3\",\"1~3\",\"1~3\",\"1~3\",\"1~3\",\"1~3\",\"1~3\",\"1~3\",\"1~3\",\"1~3\",\"1~3\",\"1~3\",\"1~3\",\"1~3\",\"1~3\",\"1~3\",\"1~3\",\"1~3\",\"1~3\",\"1~3\",\"1~3\",\"1~3\",\"1~3\",\"1~3\",\"1~3\",\"1~3\",\"1~3\",\"1~3\",\"1~3\",\"1~3\",\"1~3\",\"never\",\"never\",\"never\",\"never\",\"never\",\"never\",\"never\",\"never\",\"never\",\"less1\",\"less1\",\"less1\",\"less1\",\"less1\",\"less1\",\"less1\",\"less1\",\"less1\",\"less1\",\"less1\",\"less1\",\"less1\",\"less1\",\"less1\",\"less1\",\"less1\",\"less1\",\"less1\",\"less1\",\"less1\",\"less1\",\"less1\",\"less1\",\"less1\",\"less1\",\"less1\",\"less1\",\"less1\",\"less1\",\"less1\",\"less1\",\"less1\",\"less1\",\"less1\",\"less1\",\"less1\",\"less1\",\"less1\",\"less1\",\"less1\",\"less1\",\"less1\",\"less1\",\"less1\",\"less1\",\"less1\",\"less1\",\"less1\",\"less1\",\"never\",\"never\",\"never\",\"never\",\"never\",\"never\",\"never\",\"never\",\"never\",\"never\",\"never\",\"never\",\"never\",\"never\",\"1~3\",\"1~3\",\"1~3\",\"1~3\",\"1~3\",\"1~3\",\"1~3\",\"1~3\",\"1~3\",\"1~3\",\"1~3\",\"1~3\",\"1~3\",\"never\",\"never\",\"never\",\"never\",\"never\",\"never\",\"never\",\"never\",\"never\",\"never\",\"1~3\",\"1~3\",\"1~3\",\"1~3\",\"1~3\",\"1~3\",\"1~3\",\"1~3\",\"1~3\",\"1~3\",\"1~3\",\"1~3\",\"1~3\",\"1~3\",\"1~3\",\"never\",\"never\",\"never\",\"never\",\"never\",\"never\",\"never\",\"never\",\"never\",\"never\",\"never\",\"never\",\"never\",\"never\",\"never\",\"never\",\"never\",\"never\",\"never\",\"never\",\"never\",\"never\",\"never\",\"never\",\"never\",\"4~8\",\"4~8\",\"4~8\",\"4~8\",\"4~8\",\"4~8\",\"4~8\",\"4~8\",\"4~8\",\"4~8\",\"4~8\",\"4~8\",\"4~8\",\"4~8\",\"4~8\",\"4~8\",\"4~8\",\"less1\",\"less1\",\"less1\",\"less1\",\"less1\",\"less1\",\"less1\",\"never\",\"never\",\"never\",\"never\",\"never\",\"never\",\"never\",\"never\",\"never\",\"never\",\"never\",\"never\",\"never\",\"never\",\"never\",\"never\",\"never\",\"never\",\"never\",\"never\",\"never\",\"never\",\"never\",\"never\",\"never\",\"less1\",\"less1\",\"less1\",\"less1\",\"less1\",\"less1\",\"less1\",\"less1\",\"less1\",\"less1\",\"less1\",\"less1\",\"less1\",\"less1\",\"less1\",\"never\",\"never\",\"never\",\"never\",\"never\",\"never\",\"never\",\"never\",\"never\",\"never\",\"never\",\"never\",\"never\",\"never\",\"never\",\"never\",\"never\",\"never\",\"never\",\"never\",\"never\",\"never\",\"never\",\"never\",\"never\",\"never\",\"less1\",\"less1\",\"less1\",\"less1\",\"less1\",\"less1\",\"less1\",\"less1\",\"less1\",\"less1\",\"less1\",\"less1\",\"less1\",\"less1\",\"less1\",\"less1\",\"less1\",\"less1\",\"less1\",\"less1\",\"less1\",\"less1\",\"less1\",\"less1\",\"less1\",\"less1\",\"less1\",\"4~8\",\"4~8\",\"4~8\",\"4~8\",\"4~8\",\"4~8\",\"4~8\",\"4~8\",\"4~8\",\"4~8\",\"4~8\",\"4~8\",\"4~8\",\"4~8\",\"4~8\",\"4~8\",\"4~8\",\"4~8\",\"never\",\"never\",\"never\",\"never\",\"never\",\"never\",\"never\",\"never\",\"never\",\"never\",\"never\",\"never\",\"never\",\"never\",\"never\",\"never\",\"never\",\"never\",\"never\",\"never\",\"never\",\"never\",\"never\",\"never\",\"never\",\"never\",\"never\",\"never\",\"never\",\"never\",\"never\",\"never\",\"never\",\"never\",\"never\",\"never\",\"never\",\"never\",\"never\",\"never\",\"never\",\"never\",\"never\",\"never\",\"never\",\"never\",\"never\",\"never\",\"never\",\"never\",\"never\",\"never\",\"never\",\"never\",\"never\",\"never\",\"never\",\"never\",\"never\",\"never\",\"never\",\"never\",\"never\",\"never\",\"never\",\"never\",\"1~3\",\"1~3\",\"1~3\",\"1~3\",\"1~3\",\"1~3\",\"1~3\",\"1~3\",\"1~3\",\"1~3\",\"less1\",\"less1\",\"less1\",\"less1\",\"less1\",\"less1\",\"less1\",\"less1\",\"less1\",\"less1\",\"less1\",\"less1\",\"less1\",\"less1\",\"less1\",\"less1\",\"less1\",\"never\",\"never\",\"never\",\"never\",\"never\",\"never\",\"never\",\"never\",\"never\",\"never\",\"never\",\"never\",\"never\",\"never\",\"never\",\"never\",\"never\",\"never\",\"never\",\"never\",\"less1\",\"less1\",\"less1\",\"less1\",\"less1\",\"less1\",\"less1\",\"less1\",\"less1\",\"less1\",\"less1\",\"less1\",\"less1\",\"less1\",\"less1\",\"less1\",\"less1\",\"less1\",\"less1\",\"less1\",\"less1\",\"less1\",\"less1\",\"less1\",\"less1\",\"less1\",\"less1\",\"less1\",\"less1\",\"less1\",\"less1\",\"less1\",\"less1\",\"less1\",\"never\",\"never\",\"never\",\"never\",\"never\",\"never\",\"never\",\"never\",\"never\",\"never\",\"never\",\"never\",\"never\",\"never\",\"never\",\"never\",\"never\",\"never\",\"never\",\"less1\",\"less1\",\"less1\",\"less1\",\"less1\",\"less1\",\"less1\",\"less1\",\"less1\",\"less1\",\"less1\",\"less1\",\"less1\",\"never\",\"never\",\"never\",\"never\",\"never\",\"never\",\"never\",\"never\",\"never\",\"never\",\"never\",\"never\",\"never\",\"less1\",\"less1\",\"less1\",\"less1\",\"less1\",\"less1\",\"less1\",\"less1\",\"less1\",\"less1\",\"less1\",\"less1\",\"less1\",\"less1\",\"less1\",\"less1\",\"less1\",\"never\",\"never\",\"never\",\"never\",\"never\",\"never\",\"never\",\"never\",\"never\",\"never\",\"never\",\"never\",\"never\",\"never\",\"never\",\"never\",\"never\",\"never\",\"never\",\"less1\",\"less1\",\"never\",\"never\",\"never\",\"never\",\"never\",\"never\",\"never\",\"never\",\"never\",\"never\",\"never\",\"never\",\"never\",\"never\",\"never\",\"never\",\"never\",\"never\",\"never\",\"never\",\"never\",\"never\",\"never\",\"never\",\"never\",\"never\",\"never\",\"never\",\"never\",\"never\",\"never\",\"never\",\"never\",\"never\",\"1~3\",\"1~3\",\"1~3\",\"1~3\",\"1~3\",\"1~3\",\"1~3\",\"1~3\",\"never\",\"never\",\"never\",\"never\",\"never\",\"never\",\"never\",\"never\",\"never\",\"never\",\"never\",\"never\",\"never\",\"never\",\"never\",\"less1\",\"less1\",\"less1\",\"less1\",\"less1\",\"less1\",\"less1\",\"less1\",\"less1\",\"less1\",\"less1\",\"4~8\",\"4~8\",\"4~8\",\"4~8\",\"4~8\",\"4~8\",\"4~8\",\"4~8\",\"4~8\",\"4~8\",\"4~8\",\"4~8\",\"4~8\",\"4~8\",\"4~8\",\"1~3\",\"1~3\",\"1~3\",\"1~3\",\"1~3\",\"1~3\",\"1~3\",\"1~3\",\"1~3\",\"1~3\",\"1~3\",\"1~3\",\"1~3\",\"1~3\",\"1~3\",\"1~3\",\"never\",\"never\",\"never\",\"never\",\"never\",\"never\",\"never\",\"never\",\"never\",\"never\",\"never\",\"never\",\"never\",\"never\",\"never\",\"never\",\"never\",\"never\",\"never\",\"never\",\"never\",\"never\",\"never\",\"never\",\"never\",\"never\",\"never\",\"4~8\",\"4~8\",\"4~8\",\"4~8\",\"4~8\",\"4~8\",\"less1\",\"less1\",\"less1\",\"less1\",\"less1\",\"less1\",\"less1\",\"never\",\"never\",\"never\",\"never\",\"never\",\"never\",\"never\",\"never\",\"never\",\"never\",\"never\",\"never\",\"never\",\"never\",\"never\",\"never\",\"never\",\"never\",\"less1\",\"less1\",\"less1\",\"less1\",\"less1\",\"never\",\"never\",\"never\",\"never\",\"never\",\"never\",\"never\",\"never\",\"never\",\"never\",\"never\",\"never\",\"never\",\"never\",\"never\",\"never\",\"never\",\"never\",\"4~8\",\"4~8\",\"4~8\",\"4~8\",\"4~8\",\"4~8\",\"4~8\",\"4~8\",\"4~8\",\"4~8\",\"4~8\",\"4~8\",\"4~8\",\"4~8\",\"less1\",\"less1\",\"less1\",\"less1\",\"less1\",\"less1\",\"less1\",\"less1\",\"less1\",\"less1\",\"less1\",\"less1\",\"less1\",\"less1\",\"less1\",\"less1\",\"less1\",\"less1\",\"less1\",\"less1\",\"less1\",\"never\",\"never\",\"never\",\"never\",\"never\",\"never\",\"never\",\"never\",\"never\",\"never\",\"never\",\"never\",\"never\",\"never\",\"never\",\"never\",\"never\",\"4~8\",\"4~8\",\"4~8\",\"4~8\",\"4~8\",\"4~8\",\"4~8\",\"4~8\",\"4~8\",\"4~8\",\"4~8\",\"4~8\",\"4~8\",\"4~8\",\"4~8\",\"4~8\",\"4~8\",\"4~8\",\"4~8\",\"less1\",\"less1\",\"less1\",\"less1\",\"less1\",\"less1\",\"less1\",\"less1\",\"less1\",\"less1\",\"less1\",\"less1\",\"less1\",\"less1\",\"never\",\"never\",\"never\",\"never\",\"never\",\"never\",\"never\",\"never\",\"never\",\"never\",\"never\",\"never\",\"never\",\"never\",\"never\",\"never\",\"less1\",\"less1\",\"less1\",\"less1\",\"less1\",\"less1\",\"less1\",\"4~8\",\"4~8\",\"4~8\",\"4~8\",\"4~8\",\"4~8\",\"4~8\",\"4~8\",\"4~8\",\"4~8\",\"4~8\",\"less1\",\"less1\",\"less1\",\"less1\",\"less1\",\"less1\",\"less1\",\"less1\",\"less1\",\"less1\",\"1~3\",\"1~3\",\"1~3\",\"1~3\",\"1~3\",\"1~3\",\"1~3\",\"1~3\",\"1~3\",\"1~3\",\"1~3\",\"1~3\",\"1~3\",\"1~3\",\"1~3\",\"less1\",\"less1\",\"less1\",\"less1\",\"less1\",\"less1\",\"less1\",\"never\",\"never\",\"never\",\"never\",\"never\",\"never\",\"never\",\"less1\",\"less1\",\"less1\",\"less1\",\"less1\",\"less1\",\"less1\",\"less1\",\"less1\",\"less1\",\"less1\",\"less1\",\"less1\",\"less1\",\"less1\",\"less1\",\"less1\",\"less1\",\"less1\",\"gt8\",\"gt8\",\"gt8\",\"gt8\",\"gt8\",\"gt8\",\"gt8\",\"gt8\",\"gt8\",\"gt8\",\"less1\",\"less1\",\"less1\",\"less1\",\"less1\",\"1~3\",\"1~3\",\"1~3\",\"1~3\",\"1~3\",\"1~3\",\"1~3\",\"1~3\",\"1~3\",\"1~3\",\"1~3\",\"1~3\",\"1~3\",\"1~3\",\"1~3\",\"1~3\",\"1~3\",\"1~3\",\"never\",\"never\",\"never\",\"never\",\"never\",\"never\",\"never\",\"never\",\"never\",\"4~8\",\"4~8\",\"4~8\",\"4~8\",\"4~8\",\"4~8\",\"4~8\",\"4~8\",\"4~8\",\"4~8\",\"4~8\",\"4~8\",\"4~8\",\"4~8\",\"4~8\",\"less1\",\"less1\",\"less1\",\"less1\",\"less1\",\"less1\",\"less1\",\"less1\",\"less1\",\"less1\",\"less1\",\"less1\",\"less1\",\"less1\",\"less1\",\"less1\",\"less1\",\"less1\",\"less1\",\"less1\",\"less1\",\"less1\",\"never\",\"never\",\"never\",\"never\",\"never\",\"never\",\"never\",\"never\",\"never\",\"never\",\"never\",\"never\",\"never\",\"never\",\"never\",\"never\",\"never\",\"never\",\"never\",\"1~3\",\"1~3\",\"1~3\",\"1~3\",\"1~3\",\"1~3\",\"1~3\",\"1~3\",\"1~3\",\"1~3\",\"1~3\",\"1~3\",\"1~3\",\"never\",\"never\",\"never\",\"never\",\"never\",\"never\",\"never\",\"never\",\"never\",\"never\",\"never\",\"never\",\"never\",\"never\",\"never\",\"never\",\"never\",\"never\",\"never\",\"never\",\"never\",\"never\",\"never\",\"never\",\"never\",\"never\",\"never\",\"never\",\"never\",\"never\",\"never\",\"never\",\"never\",\"1~3\",\"1~3\",\"1~3\",\"1~3\",\"1~3\",\"1~3\",\"1~3\",\"1~3\",\"1~3\",\"1~3\",\"1~3\",\"1~3\",\"1~3\",\"1~3\",\"1~3\",\"1~3\",\"1~3\",\"less1\",\"less1\",\"less1\",\"less1\",\"less1\",\"less1\",\"less1\",\"less1\",\"less1\",\"4~8\",\"4~8\",\"4~8\",\"4~8\",\"4~8\",\"4~8\",\"4~8\",\"4~8\",\"4~8\",\"4~8\",\"4~8\",\"4~8\",\"4~8\",\"4~8\",\"4~8\",\"4~8\",\"4~8\",\"less1\",\"less1\",\"less1\",\"less1\",\"less1\",\"less1\",\"less1\",\"less1\",\"less1\",\"less1\",\"less1\",\"less1\",\"less1\",\"less1\",\"less1\",\"less1\",\"less1\",\"less1\",\"less1\",\"less1\",\"less1\",\"less1\",\"less1\",\"less1\",\"less1\",\"less1\",\"less1\",\"less1\",\"less1\",\"less1\",\"less1\",\"less1\",\"less1\",\"less1\",\"less1\",\"less1\",\"less1\",\"less1\",\"less1\",\"less1\",\"less1\",\"less1\",\"less1\",\"less1\",\"less1\",\"never\",\"never\",\"never\",\"less1\",\"less1\",\"less1\",\"less1\",\"less1\",\"less1\",\"less1\",\"less1\",\"less1\",\"less1\",\"less1\",\"less1\",\"less1\",\"less1\",\"less1\",\"less1\",\"less1\",\"less1\",\"less1\",\"1~3\",\"1~3\",\"1~3\",\"1~3\",\"1~3\",\"1~3\",\"never\",\"never\",\"never\",\"never\",\"never\",\"never\",\"never\",\"never\",\"never\",\"never\",\"never\",\"never\",\"1~3\",\"1~3\",\"1~3\",\"1~3\",\"1~3\",\"1~3\",\"1~3\",\"1~3\",\"1~3\",\"1~3\",\"1~3\",\"1~3\",\"1~3\",\"1~3\",\"1~3\",\"1~3\",\"1~3\",\"1~3\",\"1~3\",\"1~3\",\"1~3\",\"1~3\",\"1~3\",\"1~3\",\"1~3\",\"1~3\",\"1~3\",\"1~3\",\"1~3\",\"1~3\",\"1~3\",\"1~3\",\"1~3\",\"1~3\",\"1~3\",\"less1\",\"less1\",\"less1\",\"less1\",\"less1\",\"less1\",\"less1\",\"less1\",\"less1\",\"less1\",\"less1\",\"less1\",\"less1\",\"less1\",\"less1\",\"less1\",\"less1\",\"less1\",\"less1\",\"never\",\"never\",\"never\",\"never\",\"never\",\"never\",\"never\",\"never\",\"never\",\"1~3\",\"1~3\",\"1~3\",\"1~3\",\"1~3\",\"1~3\",\"1~3\",\"1~3\",\"1~3\",\"1~3\",\"1~3\",\"1~3\",\"1~3\",\"1~3\",\"1~3\",\"1~3\",\"1~3\",\"1~3\",\"1~3\",\"1~3\",\"1~3\",\"1~3\",\"1~3\",\"1~3\",\"1~3\",\"1~3\",\"1~3\",\"1~3\",\"1~3\",\"1~3\",\"1~3\",\"1~3\",\"1~3\",\"never\",\"never\",\"never\",\"never\",\"never\",\"never\",\"never\",\"never\",\"never\",\"never\",\"never\",\"never\",\"never\",\"4~8\",\"4~8\",\"4~8\",\"4~8\",\"4~8\",\"4~8\",\"4~8\",\"4~8\",\"4~8\",\"4~8\",\"never\",\"never\",\"never\",\"never\",\"never\",\"never\",\"never\",\"never\",\"never\",\"never\",\"never\",\"never\",\"never\",\"never\",\"never\",\"never\",\"never\",\"never\",\"never\",\"4~8\",\"4~8\",\"4~8\",\"4~8\",\"4~8\",\"4~8\",\"4~8\",\"4~8\",\"4~8\",\"4~8\",\"4~8\",\"4~8\",\"4~8\",\"4~8\",\"4~8\",\"1~3\",\"1~3\",\"1~3\",\"1~3\",\"1~3\",\"1~3\",\"1~3\",\"1~3\",\"1~3\",\"1~3\",\"1~3\",\"1~3\",\"1~3\",\"less1\",\"less1\",\"less1\",\"less1\",\"less1\",\"less1\",\"less1\",\"less1\",\"less1\",\"less1\",\"less1\",\"less1\",\"less1\",\"less1\",\"less1\",\"less1\",\"4~8\",\"4~8\",\"4~8\",\"4~8\",\"4~8\",\"4~8\",\"4~8\",\"4~8\",\"4~8\",\"4~8\",\"4~8\",\"4~8\",\"never\",\"never\",\"never\",\"never\",\"never\",\"never\",\"never\",\"never\",\"never\",\"1~3\",\"1~3\",\"1~3\",\"1~3\",\"1~3\",\"1~3\",\"1~3\",\"1~3\",\"1~3\",\"1~3\",\"1~3\",\"less1\",\"less1\",\"less1\",\"less1\",\"less1\",\"less1\",\"less1\",\"less1\",\"less1\",\"less1\",\"never\",\"never\",\"never\",\"never\",\"never\",\"never\",\"never\",\"never\",\"never\",\"never\",\"never\",\"never\",\"never\",\"never\",\"never\",\"never\",\"never\",\"never\",\"never\",\"never\",\"never\",\"never\",\"never\",\"never\",\"never\",\"never\",\"never\",\"never\",\"never\",\"never\",\"never\",\"never\",\"never\",\"never\",\"never\",\"never\",\"never\",\"never\",\"never\",\"never\",\"never\",\"never\",\"never\",\"never\",\"never\",\"never\",\"never\",\"never\",\"never\",\"never\",\"never\",\"never\",\"never\",\"never\",\"never\",\"never\",\"never\",\"1~3\",\"1~3\",\"1~3\",\"1~3\",\"1~3\",\"1~3\",\"1~3\",\"1~3\",\"1~3\",\"1~3\",\"1~3\",\"1~3\",\"1~3\",\"1~3\",\"gt8\",\"gt8\",\"gt8\",\"gt8\",\"gt8\",\"gt8\",\"gt8\",\"gt8\",\"gt8\",\"gt8\",\"gt8\",\"gt8\",\"gt8\",\"gt8\",\"gt8\",\"gt8\",\"gt8\",\"gt8\",\"less1\",\"less1\",\"less1\",\"less1\",\"less1\",\"less1\",\"less1\",\"less1\",\"less1\",\"less1\",\"less1\",\"less1\",\"less1\",\"less1\",\"less1\",\"less1\",\"less1\",\"less1\",\"less1\",\"less1\",\"less1\",\"less1\",\"less1\",\"less1\",\"1~3\",\"1~3\",\"1~3\",\"1~3\",\"1~3\",\"1~3\",\"1~3\",\"1~3\",\"1~3\",\"1~3\",\"1~3\",\"1~3\",\"1~3\",\"never\",\"never\",\"never\",\"never\",\"never\",\"never\",\"never\",\"never\",\"never\",\"never\",\"never\",\"never\",\"never\",\"never\",\"never\",\"never\",\"never\",\"never\",\"never\",\"never\",\"never\",\"never\",\"never\",\"never\",\"never\",\"never\",\"never\",\"never\",\"never\",\"never\",\"never\",\"never\",\"never\",\"never\",\"never\",\"never\",\"never\",\"never\",\"never\",\"less1\",\"less1\",\"less1\",\"less1\",\"less1\",\"less1\",\"less1\",\"less1\",\"less1\",\"less1\",\"less1\",\"less1\",\"less1\",\"4~8\",\"4~8\",\"4~8\",\"4~8\",\"4~8\",\"4~8\",\"4~8\",\"4~8\",\"4~8\",\"4~8\",\"4~8\",\"4~8\",\"4~8\",\"4~8\",\"4~8\",\"less1\",\"less1\",\"less1\",\"less1\",\"less1\",\"less1\",\"less1\",\"less1\",\"less1\",\"1~3\",\"1~3\",\"1~3\",\"1~3\",\"1~3\",\"1~3\",\"never\",\"never\",\"never\",\"never\",\"never\",\"never\",\"never\",\"never\",\"never\",\"never\",\"never\",\"never\",\"never\",\"never\",\"never\",\"never\",\"never\",\"never\",\"never\",\"never\",\"never\",\"never\",\"never\",\"never\",\"never\",\"never\",\"never\",\"never\",\"never\",\"never\",\"never\",\"never\",\"never\",\"never\",\"never\",\"never\",\"never\",\"never\",\"never\",\"never\",\"1~3\",\"1~3\",\"1~3\",\"1~3\",\"1~3\",\"1~3\",\"1~3\",\"1~3\",\"1~3\",\"1~3\",\"1~3\",\"1~3\",\"1~3\",\"1~3\",\"1~3\",\"less1\",\"less1\",\"less1\",\"less1\",\"less1\",\"less1\",\"less1\",\"less1\",\"less1\",\"less1\",\"less1\",\"less1\",\"less1\",\"less1\",\"never\",\"never\",\"never\",\"never\",\"never\",\"never\",\"never\",\"never\",\"never\",\"never\",\"never\",\"never\",\"gt8\",\"gt8\",\"gt8\",\"gt8\",\"gt8\",\"gt8\",\"gt8\",\"gt8\",\"gt8\",\"gt8\",\"1~3\",\"1~3\",\"1~3\",\"1~3\",\"1~3\",\"1~3\",\"1~3\",\"1~3\",\"1~3\",\"1~3\",\"1~3\",\"1~3\",\"1~3\",\"never\",\"never\",\"never\",\"never\",\"never\",\"never\",\"never\",\"never\",\"never\",\"never\",\"never\",\"never\",\"never\",\"never\",\"never\",\"never\",\"never\",\"never\",\"never\",\"never\",\"never\",\"never\",\"never\",\"never\",\"never\",\"never\",\"never\",\"never\",\"less1\",\"less1\",\"less1\",\"less1\",\"less1\",\"less1\",\"less1\",\"less1\",\"less1\",\"less1\",\"less1\",\"less1\",\"less1\",\"less1\",\"less1\",\"less1\",\"less1\",\"less1\",\"less1\",\"less1\",\"less1\",\"less1\",\"less1\",\"less1\",\"less1\",\"4~8\",\"4~8\",\"4~8\",\"4~8\",\"4~8\",\"4~8\",\"4~8\",\"4~8\",\"4~8\",\"never\",\"never\",\"never\",\"never\",\"never\",\"never\",\"never\",\"never\",\"never\",\"never\",\"never\",\"never\",\"never\",\"never\",\"never\",\"never\",\"never\",\"4~8\",\"4~8\",\"4~8\",\"4~8\",\"4~8\",\"4~8\",\"4~8\",\"never\",\"never\",\"never\",\"never\",\"never\",\"never\",\"never\",\"never\",\"never\",\"never\",\"never\",\"never\",\"never\",\"never\",\"never\",\"never\",\"never\",\"never\",\"never\",\"never\",\"never\",\"never\",\"never\",\"never\",\"never\",\"never\",\"never\",\"never\",\"never\",\"never\",\"never\",\"never\",\"never\",\"never\",\"never\",\"never\",\"never\",\"never\",\"never\",\"less1\",\"less1\",\"less1\",\"less1\",\"less1\",\"less1\",\"less1\",\"less1\",\"less1\",\"less1\",\"never\",\"never\",\"never\",\"never\",\"never\",\"never\",\"never\",\"never\",\"never\",\"never\",\"never\",\"never\",\"never\",\"never\",\"never\",\"never\",\"never\",\"never\",\"never\",\"never\",\"never\",\"never\",\"never\",\"never\",\"never\",\"never\",\"never\",\"never\",\"never\",\"never\",\"never\",\"never\",\"never\",\"never\",\"never\",\"never\",\"never\",\"never\",\"never\",\"never\",\"never\",\"never\",\"never\",\"never\",\"never\",\"never\",\"never\",\"never\",\"never\",\"never\",\"never\",\"never\",\"never\",\"never\",\"never\",\"never\",\"less1\",\"less1\",\"less1\",\"less1\",\"less1\",\"less1\",\"less1\",\"less1\",\"less1\",\"less1\",\"less1\",\"less1\",\"never\",\"never\",\"never\",\"never\",\"never\",\"never\",\"never\",\"never\",\"never\",\"less1\",\"less1\",\"less1\",\"less1\",\"less1\",\"less1\",\"less1\",\"less1\",\"less1\",\"less1\",\"less1\",\"less1\",\"less1\",\"less1\",\"less1\",\"4~8\",\"4~8\",\"4~8\",\"4~8\",\"4~8\",\"4~8\",\"4~8\",\"4~8\",\"4~8\",\"4~8\",\"gt8\",\"gt8\",\"gt8\",\"gt8\",\"gt8\",\"gt8\",\"gt8\",\"gt8\",\"gt8\",\"gt8\",\"gt8\",\"gt8\",\"gt8\",\"1~3\",\"1~3\",\"1~3\",\"1~3\",\"1~3\",\"1~3\",\"1~3\",\"1~3\",\"1~3\",\"1~3\",\"1~3\",\"1~3\",\"less1\",\"less1\",\"less1\",\"less1\",\"less1\",\"less1\",\"less1\",\"less1\",\"less1\",\"less1\",\"less1\",\"less1\",\"less1\",\"less1\",\"less1\",\"less1\",\"less1\",\"less1\",\"less1\",\"less1\",\"less1\",\"less1\",\"less1\",\"less1\",\"less1\",\"less1\",\"less1\",\"less1\",\"less1\",\"less1\",\"less1\",\"less1\",\"less1\",\"less1\",\"less1\",\"less1\",\"less1\",\"less1\",\"less1\",\"less1\",\"less1\",\"less1\",\"less1\",\"less1\",\"less1\",\"1~3\",\"1~3\",\"1~3\",\"1~3\",\"1~3\",\"1~3\",\"1~3\",\"1~3\",\"1~3\",\"1~3\",\"1~3\",\"1~3\",\"1~3\",\"never\",\"never\",\"never\",\"never\",\"never\",\"never\",\"never\",\"never\",\"never\",\"never\",\"never\",\"never\",\"never\",\"never\",\"never\",\"never\",\"never\",\"never\",\"never\",\"never\",\"never\",\"never\",\"never\",\"never\",\"never\",\"never\",\"never\",\"never\",\"never\",\"never\",\"never\",\"never\",\"never\",\"never\",\"never\",\"never\",\"never\",\"never\",\"never\",\"never\",\"never\",\"less1\",\"less1\",\"less1\",\"less1\",\"less1\",\"less1\",\"less1\",\"less1\",\"less1\",\"less1\",\"less1\",\"less1\",\"1~3\",\"1~3\",\"1~3\",\"1~3\",\"1~3\",\"1~3\",\"1~3\",\"1~3\",\"1~3\",\"less1\",\"less1\",\"less1\",\"less1\",\"less1\",\"less1\",\"less1\",\"less1\",\"less1\",\"less1\",\"less1\",\"less1\",\"less1\",\"less1\",\"less1\",\"less1\",\"1~3\",\"1~3\",\"1~3\",\"1~3\",\"1~3\",\"1~3\",\"1~3\",\"1~3\",\"1~3\",\"1~3\",\"1~3\",\"1~3\",\"1~3\",\"4~8\",\"4~8\",\"4~8\",\"4~8\",\"4~8\",\"4~8\",\"4~8\",\"4~8\",\"4~8\",\"4~8\",\"less1\",\"less1\",\"less1\",\"less1\",\"less1\",\"less1\",\"less1\",\"less1\",\"less1\",\"less1\",\"less1\",\"less1\",\"less1\",\"less1\",\"never\",\"never\",\"never\",\"never\",\"never\",\"never\",\"never\",\"never\",\"never\",\"never\",\"4~8\",\"4~8\",\"4~8\",\"4~8\",\"4~8\",\"4~8\",\"4~8\",\"never\",\"never\",\"never\",\"never\",\"never\",\"never\",\"never\",\"never\",\"never\",\"never\",\"never\",\"never\",\"1~3\",\"1~3\",\"1~3\",\"1~3\",\"1~3\",\"1~3\",\"1~3\",\"1~3\",\"1~3\",\"1~3\",\"1~3\",\"1~3\",\"1~3\",\"1~3\",\"1~3\",\"1~3\",\"1~3\",\"1~3\",\"1~3\",\"1~3\",\"1~3\",\"never\",\"never\",\"never\",\"never\",\"never\",\"never\",\"never\",\"never\",\"never\",\"never\",\"never\",\"never\",\"never\",\"never\",\"never\",\"never\",\"never\",\"never\",\"never\",\"less1\",\"less1\",\"less1\",\"less1\",\"less1\",\"less1\",\"less1\",\"less1\",\"less1\",\"less1\",\"less1\",\"never\",\"never\",\"never\",\"never\",\"never\",\"never\",\"never\",\"never\",\"never\",\"never\",\"never\",\"never\",\"never\",\"never\",\"never\",\"never\",\"never\",\"1~3\",\"1~3\",\"1~3\",\"1~3\",\"1~3\",\"1~3\",\"1~3\",\"1~3\",\"1~3\",\"1~3\",\"1~3\",\"1~3\",\"1~3\",\"1~3\",\"1~3\",\"less1\",\"less1\",\"less1\",\"less1\",\"less1\",\"less1\",\"less1\",\"less1\",\"less1\",\"less1\",\"less1\",\"less1\",\"never\",\"never\",\"never\",\"never\",\"never\",\"never\",\"never\",\"never\",\"never\",\"never\",\"less1\",\"less1\",\"less1\",\"less1\",\"less1\",\"less1\",\"less1\",\"less1\",\"less1\",\"less1\",\"less1\",\"less1\",\"never\",\"never\",\"never\",\"never\",\"never\",\"never\",\"never\",\"never\",\"never\",\"never\",\"never\",\"never\",\"never\",\"never\",\"never\",\"never\",\"4~8\",\"4~8\",\"4~8\",\"4~8\",\"4~8\",\"4~8\",\"4~8\",\"4~8\",\"4~8\",\"4~8\",\"4~8\",\"4~8\",\"4~8\",\"4~8\",\"4~8\",\"4~8\",\"never\",\"never\",\"never\",\"never\",\"never\",\"never\",\"never\",\"never\",\"never\",\"never\",\"never\",\"never\",\"never\",\"never\",\"never\",\"never\",\"never\",\"never\",\"never\",\"less1\",\"less1\",\"less1\",\"less1\",\"less1\",\"less1\",\"less1\",\"less1\",\"less1\",\"less1\",\"less1\",\"less1\",\"less1\",\"less1\",\"less1\",\"less1\",\"less1\",\"less1\",\"less1\",\"less1\",\"less1\",\"less1\",\"1~3\",\"1~3\",\"1~3\",\"1~3\",\"1~3\",\"1~3\",\"1~3\",\"1~3\",\"1~3\",\"never\",\"never\",\"never\",\"never\",\"never\",\"never\",\"never\",\"never\",\"never\",\"never\",\"never\",\"never\",\"never\",\"never\",\"never\",\"never\",\"never\",\"never\",\"never\",\"never\",\"never\",\"never\",\"never\",\"never\",\"never\",\"1~3\",\"1~3\",\"1~3\",\"1~3\",\"1~3\",\"1~3\",\"1~3\",\"1~3\",\"1~3\",\"1~3\",\"1~3\",\"1~3\",\"1~3\",\"1~3\",\"1~3\",\"1~3\",\"1~3\",\"1~3\",\"1~3\",\"1~3\",\"1~3\",\"1~3\",\"1~3\",\"1~3\",\"1~3\",\"1~3\",\"1~3\",\"1~3\",\"1~3\",\"1~3\",\"1~3\",\"1~3\",\"1~3\",\"1~3\",\"1~3\",\"1~3\",\"never\",\"never\",\"never\",\"never\",\"never\",\"never\",\"never\",\"never\",\"never\",\"never\",\"never\",\"4~8\",\"4~8\",\"4~8\",\"4~8\",\"4~8\",\"4~8\",\"4~8\",\"4~8\",\"4~8\",\"4~8\",\"4~8\",\"4~8\",\"4~8\",\"1~3\",\"1~3\",\"1~3\",\"1~3\",\"1~3\",\"1~3\",\"1~3\",\"1~3\",\"1~3\",\"less1\",\"less1\",\"less1\",\"less1\",\"less1\",\"less1\",\"less1\",\"less1\",\"less1\",\"less1\",\"less1\",\"less1\",\"less1\",\"less1\",\"less1\",\"less1\",\"less1\",\"4~8\",\"4~8\",\"4~8\",\"4~8\",\"4~8\",\"4~8\",\"4~8\",\"4~8\",\"4~8\",\"4~8\",\"4~8\",\"4~8\",\"4~8\",\"4~8\",\"never\",\"never\",\"never\",\"never\",\"never\",\"never\",\"never\",\"never\",\"never\",\"never\",\"never\",\"never\",\"never\",\"less1\",\"less1\",\"less1\",\"less1\",\"less1\",\"less1\",\"less1\",\"less1\",\"less1\",\"less1\",\"less1\",\"less1\",\"less1\",\"less1\",\"less1\",\"never\",\"never\",\"never\",\"never\",\"never\",\"never\",\"never\",\"never\",\"never\",\"never\",\"never\",\"never\",\"never\",\"never\",\"4~8\",\"4~8\",\"4~8\",\"4~8\",\"4~8\",\"4~8\",\"4~8\",\"4~8\",\"4~8\",\"4~8\",\"4~8\",\"4~8\",\"4~8\",\"4~8\",\"4~8\",\"less1\",\"less1\",\"less1\",\"less1\",\"less1\",\"less1\",\"less1\",\"less1\",\"less1\",\"less1\",\"less1\",\"less1\",\"less1\",\"less1\",\"less1\",\"never\",\"never\",\"never\",\"never\",\"never\",\"never\",\"never\",\"never\",\"never\",\"never\",\"never\",\"never\",\"never\",\"never\",\"never\",\"never\",\"never\",\"never\",\"never\",\"never\",\"never\",\"never\",\"never\",\"never\",\"never\",\"never\",\"never\",\"never\",\"never\",\"never\",\"never\",\"never\",\"never\",\"never\",\"never\",\"never\",\"never\",\"never\",\"never\",\"never\",\"never\",\"never\",\"never\",\"never\",\"less1\",\"less1\",\"less1\",\"less1\",\"less1\",\"less1\",\"less1\",\"less1\",\"less1\",\"less1\",\"less1\",\"less1\",\"less1\",\"less1\",\"less1\",\"less1\",\"less1\",\"less1\",\"less1\",\"less1\",\"less1\",\"1~3\",\"1~3\",\"1~3\",\"1~3\",\"1~3\",\"1~3\",\"1~3\",\"1~3\",\"1~3\",\"1~3\",\"1~3\",\"1~3\",\"1~3\",\"1~3\",\"never\",\"never\",\"never\",\"never\",\"never\",\"never\",\"never\",\"never\",\"never\",\"never\",\"never\",\"never\",\"never\",\"1~3\",\"1~3\",\"1~3\",\"1~3\",\"1~3\",\"1~3\",\"1~3\",\"1~3\",\"1~3\",\"1~3\",\"1~3\",\"1~3\",\"1~3\",\"1~3\",\"1~3\",\"1~3\",\"1~3\",\"1~3\",\"1~3\",\"less1\",\"less1\",\"less1\",\"less1\",\"less1\",\"less1\",\"less1\",\"less1\",\"less1\",\"less1\",\"less1\",\"less1\",\"less1\",\"less1\",\"less1\",\"less1\",\"less1\",\"less1\",\"less1\",\"less1\",\"less1\",\"less1\",\"less1\",\"less1\",\"less1\",\"less1\",\"never\",\"never\",\"never\",\"never\",\"never\",\"never\",\"never\",\"never\",\"never\",\"never\",\"never\",\"never\",\"never\",\"never\",\"never\",\"never\",\"never\",\"never\",\"never\",\"1~3\",\"1~3\",\"1~3\",\"1~3\",\"1~3\",\"1~3\",\"1~3\",\"1~3\",\"1~3\",\"1~3\",\"1~3\",\"1~3\",\"1~3\",\"never\",\"never\",\"never\",\"never\",\"never\",\"1~3\",\"1~3\",\"1~3\",\"1~3\",\"1~3\",\"1~3\",\"1~3\",\"1~3\",\"1~3\",\"1~3\",\"1~3\",\"1~3\",\"1~3\",\"1~3\",\"1~3\",\"1~3\",\"less1\",\"less1\",\"less1\",\"less1\",\"less1\",\"less1\",\"less1\",\"less1\",\"less1\",\"less1\",\"less1\",\"less1\",\"less1\",\"less1\",\"less1\",\"never\",\"never\",\"never\",\"never\",\"never\",\"never\",\"never\",\"never\",\"never\",\"never\",\"never\",\"never\",\"never\",\"never\",\"never\",\"never\",\"never\",\"never\",\"never\",\"never\",\"never\",\"never\",\"never\",\"never\",\"never\",\"never\",\"never\",\"never\",\"never\",\"never\",\"never\",\"never\",\"never\",\"never\",\"never\",\"never\",\"never\",\"never\",\"never\",\"never\",\"never\",\"never\",\"never\",\"never\",\"never\",\"never\",\"never\",\"never\",\"never\",\"never\",\"4~8\",\"4~8\",\"4~8\",\"4~8\",\"4~8\",\"4~8\",\"4~8\",\"4~8\",\"4~8\",\"4~8\",\"4~8\",\"4~8\",\"4~8\",\"4~8\",\"4~8\",\"4~8\",\"4~8\",\"4~8\",\"4~8\",\"never\",\"never\",\"never\",\"never\",\"never\",\"never\",\"never\",\"never\",\"never\",\"never\",\"never\",\"never\",\"never\",\"never\",\"never\",\"never\",\"never\",\"never\",\"never\",\"never\",\"less1\",\"less1\",\"less1\",\"less1\",\"less1\",\"less1\",\"never\",\"never\",\"never\",\"never\",\"never\",\"never\",\"never\",\"never\",\"never\",\"never\",\"never\",\"never\",\"never\",\"never\",\"never\",\"never\",\"never\",\"never\",\"never\",\"never\",\"never\",\"never\",\"never\",\"never\",\"never\",\"never\",\"never\",\"never\",\"never\",\"never\",\"less1\",\"less1\",\"less1\",\"less1\",\"less1\",\"less1\",\"less1\",\"less1\",\"less1\",\"less1\",\"less1\",\"less1\",\"less1\",\"less1\",\"less1\",\"less1\",\"less1\",\"less1\",\"less1\",\"less1\",\"less1\",\"less1\",\"less1\",\"less1\",\"less1\",\"less1\",\"less1\",\"less1\",\"less1\",\"less1\",\"less1\",\"less1\",\"less1\",\"less1\",\"never\",\"never\",\"never\",\"less1\",\"less1\",\"less1\",\"less1\",\"less1\",\"less1\",\"less1\",\"4~8\",\"4~8\",\"4~8\",\"4~8\",\"4~8\",\"4~8\",\"4~8\",\"4~8\",\"4~8\",\"4~8\",\"4~8\",\"4~8\",\"4~8\",\"4~8\",\"4~8\",\"1~3\",\"1~3\",\"1~3\",\"1~3\",\"1~3\",\"1~3\",\"1~3\",\"1~3\",\"1~3\",\"1~3\",\"1~3\",\"never\",\"never\",\"never\",\"never\",\"never\",\"never\",\"never\",\"never\",\"never\",\"never\",\"never\",\"never\",\"never\",\"less1\",\"less1\",\"less1\",\"less1\",\"less1\",\"less1\",\"less1\",\"less1\",\"less1\",\"less1\",\"less1\",\"less1\",\"less1\",\"less1\",\"less1\",\"never\",\"never\",\"never\",\"never\",\"never\",\"never\",\"never\",\"never\",\"never\",\"never\",\"never\",\"never\",\"never\",\"never\",\"never\",\"never\",\"never\",\"never\",\"never\",\"never\",\"never\",\"never\",\"never\",\"never\",\"never\",\"never\",\"never\",\"never\",\"never\",\"never\",\"never\",\"never\",\"never\",\"never\",\"never\",\"never\",\"never\",\"never\",\"never\",\"never\",\"never\",\"never\",\"never\",\"never\",\"never\",\"4~8\",\"4~8\",\"4~8\",\"4~8\",\"4~8\",\"4~8\",\"4~8\",\"4~8\",\"4~8\",\"4~8\",\"never\",\"never\",\"never\",\"never\",\"never\",\"never\",\"never\",\"4~8\",\"4~8\",\"4~8\",\"4~8\",\"4~8\",\"4~8\",\"4~8\",\"4~8\",\"4~8\",\"4~8\",\"4~8\",\"4~8\",\"4~8\",\"4~8\",\"1~3\",\"1~3\",\"1~3\",\"1~3\",\"1~3\",\"1~3\",\"1~3\",\"1~3\",\"1~3\",\"1~3\",\"less1\",\"less1\",\"less1\",\"less1\",\"less1\",\"less1\",\"less1\",\"less1\",\"less1\",\"less1\",\"less1\",\"less1\",\"less1\",\"less1\",\"less1\",\"less1\",\"less1\",\"less1\",\"less1\",\"less1\",\"less1\",\"less1\",\"less1\",\"less1\",\"less1\",\"less1\",\"less1\",\"less1\",\"less1\",\"less1\",\"never\",\"never\",\"never\",\"never\",\"never\",\"never\",\"never\",\"never\",\"never\",\"less1\",\"less1\",\"less1\",\"less1\",\"less1\",\"less1\",\"less1\",\"less1\",\"less1\",\"less1\",\"less1\",\"less1\",\"less1\",\"less1\",\"never\",\"never\",\"never\",\"never\",\"never\",\"never\",\"never\",\"never\",\"never\",\"never\",\"never\",\"never\",\"never\",\"never\",\"never\",\"never\",\"never\",\"never\",\"never\",\"never\",\"never\",\"never\",\"never\",\"never\",\"never\",\"never\",\"never\",\"never\",\"never\",\"never\",\"never\",\"never\",\"never\",\"never\",\"never\",\"never\",\"never\",\"never\",\"4~8\",\"4~8\",\"4~8\",\"4~8\",\"4~8\",\"4~8\",\"4~8\",\"4~8\",\"4~8\",\"4~8\",\"4~8\",\"4~8\",\"4~8\",\"4~8\",\"less1\",\"less1\",\"less1\",\"less1\",\"less1\",\"less1\",\"less1\",\"less1\",\"less1\",\"never\",\"never\",\"never\",\"never\",\"never\",\"never\",\"never\",\"never\",\"never\",\"never\",\"never\",\"never\",\"never\",\"never\",\"never\",\"never\",\"never\",\"1~3\",\"1~3\",\"1~3\",\"1~3\",\"1~3\",\"1~3\",\"1~3\",\"1~3\",\"1~3\",\"1~3\",\"1~3\",\"1~3\",\"1~3\",\"1~3\",\"1~3\",\"1~3\",\"1~3\",\"1~3\",\"1~3\",\"1~3\",\"1~3\",\"never\",\"never\",\"never\",\"never\",\"never\",\"never\",\"never\",\"never\",\"less1\",\"less1\",\"less1\",\"less1\",\"less1\",\"less1\",\"less1\",\"less1\",\"less1\",\"less1\",\"less1\",\"less1\",\"less1\",\"less1\",\"less1\",\"less1\",\"less1\",\"less1\",\"less1\",\"less1\",\"less1\",\"less1\",\"never\",\"never\",\"never\",\"never\",\"never\",\"never\",\"never\",\"never\",\"never\",\"never\",\"never\",\"never\",\"never\",\"never\",\"never\",\"never\",\"never\",\"never\",\"never\",\"never\",\"never\",\"never\",\"never\",\"never\",\"less1\",\"less1\",\"less1\",\"less1\",\"less1\",\"less1\",\"less1\",\"less1\",\"less1\",\"less1\",\"less1\",\"less1\",\"never\",\"never\",\"never\",\"never\",\"never\",\"never\",\"never\",\"never\",\"never\",\"never\",\"never\",\"never\",\"never\",\"never\",\"never\",\"never\",\"never\",\"never\",\"never\",\"never\",\"never\",\"never\",\"never\",\"never\",\"never\",\"never\",\"never\",\"never\",\"never\",\"never\",\"never\",\"never\",\"never\",\"never\",\"never\",\"never\",\"never\",\"never\",\"never\",\"never\",\"never\",\"never\",\"never\",\"never\",\"never\",\"never\",\"never\",\"never\",\"never\",\"never\",\"never\",\"never\",\"never\",\"never\",\"never\",\"1~3\",\"1~3\",\"1~3\",\"1~3\",\"1~3\",\"1~3\",\"1~3\",\"1~3\",\"1~3\",\"1~3\",\"1~3\",\"1~3\",\"1~3\",\"1~3\",\"1~3\",\"1~3\",\"1~3\",\"1~3\",\"1~3\",\"1~3\",\"never\",\"never\",\"never\",\"never\",\"never\",\"never\",\"never\",\"never\",\"never\",\"less1\",\"less1\",\"less1\",\"less1\",\"less1\",\"less1\",\"less1\",\"less1\",\"1~3\",\"1~3\",\"1~3\",\"1~3\",\"1~3\",\"1~3\",\"1~3\",\"1~3\",\"1~3\",\"1~3\",\"1~3\",\"1~3\",\"1~3\",\"1~3\",\"1~3\",\"1~3\",\"1~3\",\"1~3\",\"1~3\",\"1~3\",\"1~3\",\"1~3\",\"never\",\"never\",\"never\",\"never\",\"never\",\"never\",\"never\",\"never\",\"never\",\"never\",\"never\",\"never\",\"1~3\",\"1~3\",\"1~3\",\"1~3\",\"1~3\",\"1~3\",\"1~3\",\"1~3\",\"1~3\",\"1~3\",\"1~3\",\"1~3\",\"1~3\",\"1~3\",\"1~3\",\"1~3\",\"1~3\",\"1~3\",\"1~3\",\"never\",\"never\",\"never\",\"never\",\"never\",\"never\",\"never\",\"never\",\"never\",\"never\",\"never\",\"never\",\"never\",\"never\",\"never\",\"4~8\",\"4~8\",\"4~8\",\"4~8\",\"4~8\",\"4~8\",\"4~8\",\"4~8\",\"4~8\",\"4~8\",\"4~8\",\"4~8\",\"4~8\",\"4~8\",\"4~8\",\"4~8\",\"4~8\",\"4~8\",\"less1\",\"less1\",\"less1\",\"less1\",\"less1\",\"less1\",\"less1\",\"less1\",\"less1\",\"less1\",\"less1\",\"less1\",\"less1\",\"less1\",\"less1\",\"less1\",\"less1\",\"less1\",\"less1\",\"less1\",\"less1\",\"never\",\"never\",\"never\",\"never\",\"never\",\"never\",\"never\",\"never\",\"never\",\"never\",\"never\",\"less1\",\"less1\",\"less1\",\"less1\",\"less1\",\"less1\",\"less1\",\"less1\",\"less1\",\"less1\",\"less1\",\"never\",\"never\",\"never\",\"never\",\"1~3\",\"1~3\",\"1~3\",\"1~3\",\"1~3\",\"1~3\",\"1~3\",\"1~3\",\"1~3\",\"1~3\",\"1~3\",\"1~3\",\"less1\",\"less1\",\"less1\",\"less1\",\"less1\",\"less1\",\"less1\",\"less1\",\"less1\",\"less1\",\"less1\",\"less1\",\"never\",\"never\",\"never\",\"never\",\"never\",\"never\",\"never\",\"less1\",\"less1\",\"less1\",\"less1\",\"less1\",\"less1\",\"less1\",\"less1\",\"less1\",\"less1\",\"less1\",\"less1\",\"less1\",\"less1\",\"less1\",\"less1\",\"less1\",\"less1\",\"less1\",\"never\",\"never\",\"never\",\"never\",\"never\",\"never\",\"never\",\"never\",\"never\",\"never\",\"never\",\"never\",\"never\",\"never\",\"never\",\"never\",\"never\",\"never\",\"never\",\"never\",\"never\",\"never\",\"never\",\"1~3\",\"1~3\",\"1~3\",\"1~3\",\"1~3\",\"1~3\",\"1~3\",\"1~3\",\"1~3\",\"1~3\",\"1~3\",\"1~3\",\"1~3\",\"1~3\",\"1~3\",\"1~3\",\"1~3\",\"1~3\",\"1~3\",\"1~3\",\"1~3\",\"1~3\",\"1~3\",\"1~3\",\"1~3\",\"1~3\",\"1~3\",\"1~3\",\"1~3\",\"1~3\",\"1~3\",\"1~3\",\"1~3\",\"1~3\",\"1~3\",\"1~3\",\"1~3\",\"1~3\",\"1~3\",\"1~3\",\"1~3\",\"1~3\",\"1~3\",\"1~3\",\"1~3\",\"1~3\",\"1~3\",\"1~3\",\"1~3\",\"never\",\"never\",\"never\",\"never\",\"never\",\"never\",\"never\",\"never\",\"never\",\"never\",\"never\",\"never\",\"1~3\",\"1~3\",\"1~3\",\"1~3\",\"1~3\",\"1~3\",\"1~3\",\"1~3\",\"1~3\",\"1~3\",\"1~3\",\"1~3\",\"1~3\",\"1~3\",\"1~3\",\"1~3\",\"1~3\",\"1~3\",\"1~3\",\"1~3\",\"1~3\",\"1~3\",\"1~3\",\"1~3\",\"1~3\",\"never\",\"never\",\"never\",\"never\",\"never\",\"never\",\"never\",\"never\",\"never\",\"never\",\"never\",\"never\",\"less1\",\"less1\",\"less1\",\"less1\",\"less1\",\"less1\",\"less1\",\"less1\",\"less1\",\"less1\",\"less1\",\"less1\",\"less1\",\"less1\",\"less1\",\"less1\",\"less1\",\"less1\",\"less1\",\"less1\",\"less1\",\"less1\",\"less1\",\"less1\",\"less1\",\"less1\",\"less1\",\"less1\",\"1~3\",\"1~3\",\"1~3\",\"1~3\",\"1~3\",\"1~3\",\"1~3\",\"1~3\",\"1~3\",\"1~3\",\"1~3\",\"1~3\",\"1~3\",\"1~3\",\"1~3\",\"1~3\",\"1~3\",\"1~3\",\"1~3\",\"1~3\",\"1~3\",\"1~3\",\"1~3\",\"1~3\",\"1~3\",\"1~3\",\"1~3\",\"1~3\",\"1~3\",\"1~3\",\"1~3\",\"never\",\"never\",\"never\",\"never\",\"never\",\"never\",\"never\",\"never\",\"1~3\",\"1~3\",\"1~3\",\"1~3\",\"1~3\",\"1~3\",\"1~3\",\"1~3\",\"1~3\",\"1~3\",\"1~3\",\"1~3\",\"1~3\",\"1~3\",\"1~3\",\"1~3\",\"1~3\",\"1~3\",\"1~3\",\"1~3\",\"1~3\",\"1~3\",\"never\",\"never\",\"never\",\"never\",\"never\",\"never\",\"never\",\"never\",\"never\",\"never\",\"never\",\"never\",\"never\",\"never\",\"never\",\"1~3\",\"1~3\",\"1~3\",\"1~3\",\"1~3\",\"1~3\",\"1~3\",\"1~3\",\"1~3\",\"1~3\",\"1~3\",\"1~3\",\"1~3\",\"1~3\",\"1~3\",\"1~3\",\"1~3\",\"1~3\",\"1~3\",\"less1\",\"less1\",\"less1\",\"less1\",\"less1\",\"less1\",\"less1\",\"less1\",\"less1\",\"never\",\"never\",\"never\",\"never\",\"never\",\"never\",\"never\",\"never\",\"never\",\"never\",\"less1\",\"less1\",\"less1\",\"less1\",\"less1\",\"less1\",\"less1\",\"less1\",\"less1\",\"less1\",\"less1\",\"less1\",\"less1\",\"less1\",\"less1\",\"less1\",\"less1\",\"never\",\"never\",\"never\",\"never\",\"less1\",\"less1\",\"1~3\",\"1~3\",\"1~3\",\"1~3\",\"1~3\",\"1~3\",\"1~3\",\"1~3\",\"1~3\",\"1~3\",\"1~3\",\"1~3\",\"1~3\",\"1~3\",\"1~3\",\"1~3\",\"1~3\",\"1~3\",\"1~3\",\"1~3\",\"1~3\",\"1~3\",\"1~3\",\"1~3\",\"1~3\",\"1~3\",\"1~3\",\"1~3\",\"1~3\",\"1~3\",\"1~3\",\"1~3\",\"1~3\",\"1~3\",\"4~8\",\"4~8\",\"4~8\",\"4~8\",\"4~8\",\"4~8\",\"4~8\",\"4~8\",\"4~8\",\"4~8\",\"4~8\",\"never\",\"never\",\"never\",\"never\",\"never\",\"never\",\"never\",\"never\",\"never\",\"never\",\"never\",\"never\",\"never\",\"never\",\"never\",\"less1\",\"less1\",\"less1\",\"less1\",\"less1\",\"less1\",\"less1\",\"less1\",\"less1\",\"less1\",\"less1\",\"less1\",\"less1\",\"less1\",\"less1\",\"never\",\"never\",\"never\",\"never\",\"never\",\"never\",\"never\",\"never\",\"never\",\"never\",\"never\",\"never\",\"less1\",\"less1\",\"less1\",\"less1\",\"less1\",\"less1\",\"less1\",\"less1\",\"less1\",\"less1\",\"less1\",\"less1\",\"less1\",\"less1\",\"1~3\",\"1~3\",\"1~3\",\"1~3\",\"1~3\",\"1~3\",\"1~3\",\"1~3\",\"1~3\",\"1~3\",\"1~3\",\"1~3\",\"1~3\",\"1~3\",\"1~3\",\"1~3\",\"1~3\",\"1~3\",\"1~3\",\"1~3\",\"1~3\",\"1~3\",\"1~3\",\"1~3\",\"1~3\",\"1~3\",\"1~3\",\"1~3\",\"never\",\"never\",\"never\",\"never\",\"never\",\"never\",\"never\",\"never\",\"never\",\"1~3\",\"1~3\",\"1~3\",\"1~3\",\"1~3\",\"1~3\",\"1~3\",\"1~3\",\"1~3\",\"1~3\",\"1~3\",\"1~3\",\"gt8\",\"gt8\",\"gt8\",\"gt8\",\"gt8\",\"gt8\",\"gt8\",\"gt8\",\"gt8\",\"gt8\",\"gt8\",\"gt8\",\"gt8\",\"gt8\",\"gt8\",\"never\",\"never\",\"never\",\"never\",\"never\",\"never\",\"never\",\"never\",\"never\",\"never\",\"never\",\"never\",\"never\",\"never\",\"never\",\"never\",\"never\",\"never\",\"1~3\",\"1~3\",\"1~3\",\"1~3\",\"1~3\",\"1~3\",\"1~3\",\"1~3\",\"1~3\",\"1~3\",\"1~3\",\"1~3\",\"1~3\",\"never\",\"never\",\"never\",\"never\",\"never\",\"never\",\"never\",\"never\",\"never\",\"never\",\"never\",\"never\",\"never\",\"never\",\"never\",\"never\",\"never\",\"never\",\"never\",\"never\",\"never\",\"never\",\"never\",\"never\",\"never\",\"never\",\"never\",\"never\",\"never\",\"never\",\"never\",\"never\",\"never\",\"never\",\"never\",\"never\",\"less1\",\"less1\",\"less1\",\"less1\",\"less1\",\"less1\",\"less1\",\"less1\",\"less1\",\"less1\",\"less1\",\"less1\",\"less1\",\"less1\",\"less1\",\"less1\",\"less1\",\"less1\",\"less1\",\"less1\",\"less1\",\"less1\",\"less1\",\"less1\",\"less1\",\"less1\",\"less1\",\"less1\",\"less1\",\"less1\",\"less1\",\"less1\",\"less1\",\"less1\",\"less1\",\"less1\",\"less1\",\"less1\",\"less1\",\"less1\",\"less1\",\"less1\",\"less1\",\"less1\",\"less1\",\"less1\",\"less1\",\"less1\",\"less1\",\"less1\",\"less1\",\"less1\",\"less1\",\"less1\",\"less1\",\"never\",\"never\",\"never\",\"never\",\"never\",\"never\",\"never\",\"never\",\"never\",\"gt8\",\"gt8\",\"gt8\",\"gt8\",\"gt8\",\"gt8\",\"gt8\",\"gt8\",\"gt8\",\"gt8\",\"gt8\",\"gt8\",\"gt8\",\"gt8\",\"1~3\",\"1~3\",\"1~3\",\"1~3\",\"1~3\",\"1~3\",\"1~3\",\"1~3\",\"1~3\",\"1~3\",\"1~3\",\"1~3\",\"1~3\",\"1~3\",\"1~3\",\"1~3\",\"less1\",\"less1\",\"less1\",\"less1\",\"less1\",\"less1\",\"less1\",\"less1\",\"less1\",\"less1\",\"less1\",\"less1\",\"less1\",\"less1\",\"less1\",\"less1\",\"less1\",\"less1\",\"less1\",\"less1\",\"less1\",\"less1\",\"never\",\"never\",\"never\",\"never\",\"never\",\"never\",\"never\",\"never\",\"never\",\"never\",\"never\",\"never\",\"less1\",\"less1\",\"less1\",\"less1\",\"less1\",\"less1\",\"less1\",\"less1\",\"less1\",\"less1\",\"less1\",\"less1\",\"less1\",\"less1\",\"less1\",\"less1\",\"less1\",\"less1\",\"less1\",\"less1\",\"less1\",\"less1\",\"1~3\",\"1~3\",\"1~3\",\"1~3\",\"1~3\",\"1~3\",\"1~3\",\"1~3\",\"1~3\",\"1~3\",\"1~3\",\"1~3\",\"never\",\"never\",\"never\",\"never\",\"never\",\"never\",\"never\",\"never\",\"never\",\"never\",\"never\",\"never\",\"never\",\"never\",\"never\",\"never\",\"never\",\"less1\",\"less1\",\"less1\",\"less1\",\"less1\",\"less1\",\"less1\",\"less1\",\"less1\",\"less1\",\"less1\",\"less1\",\"less1\",\"less1\",\"less1\",\"less1\",\"less1\",\"less1\",\"less1\",\"less1\",\"less1\",\"less1\",\"less1\",\"less1\",\"less1\",\"less1\",\"never\",\"never\",\"never\",\"never\",\"never\",\"never\",\"never\",\"never\",\"never\",\"never\",\"never\",\"4~8\",\"4~8\",\"4~8\",\"4~8\",\"4~8\",\"4~8\",\"4~8\",\"4~8\",\"4~8\",\"4~8\",\"4~8\",\"4~8\",\"4~8\",\"4~8\",\"4~8\",\"1~3\",\"1~3\",\"1~3\",\"1~3\",\"1~3\",\"1~3\",\"1~3\",\"1~3\",\"1~3\",\"1~3\",\"1~3\",\"1~3\",\"1~3\",\"less1\",\"less1\",\"less1\",\"less1\",\"less1\",\"less1\",\"less1\",\"less1\",\"less1\",\"never\",\"never\",\"never\",\"never\",\"never\",\"never\",\"never\",\"never\",\"never\",\"never\",\"never\",\"never\",\"never\",\"never\",\"never\",\"never\",\"never\",\"never\",\"never\",\"never\",\"never\",\"never\",\"never\",\"never\",\"never\",\"never\",\"never\",\"never\",\"never\",\"never\",\"never\",\"less1\",\"less1\",\"less1\",\"less1\",\"less1\",\"less1\",\"less1\",\"less1\",\"less1\",\"less1\",\"less1\",\"less1\",\"never\",\"never\",\"never\",\"never\",\"never\",\"never\",\"never\",\"never\",\"never\",\"gt8\",\"gt8\",\"gt8\",\"gt8\",\"gt8\",\"gt8\",\"gt8\",\"gt8\",\"gt8\",\"gt8\",\"gt8\",\"gt8\",\"4~8\",\"4~8\",\"4~8\",\"4~8\",\"4~8\",\"4~8\",\"4~8\",\"4~8\",\"4~8\",\"4~8\",\"4~8\",\"4~8\",\"4~8\",\"4~8\",\"4~8\",\"4~8\",\"less1\",\"less1\",\"less1\",\"less1\",\"less1\",\"less1\",\"less1\",\"less1\",\"less1\",\"less1\",\"less1\",\"less1\",\"less1\",\"less1\",\"less1\",\"less1\",\"less1\",\"less1\",\"less1\",\"less1\",\"less1\",\"less1\",\"less1\",\"less1\",\"less1\",\"less1\",\"less1\",\"less1\",\"less1\",\"less1\",\"1~3\",\"1~3\",\"1~3\",\"1~3\",\"1~3\",\"1~3\",\"1~3\",\"1~3\",\"1~3\",\"1~3\",\"1~3\",\"1~3\",\"1~3\",\"1~3\",\"1~3\",\"never\",\"never\",\"never\",\"never\",\"never\",\"never\",\"never\",\"never\",\"never\",\"never\",\"never\",\"never\",\"never\",\"never\",\"never\",\"never\",\"never\",\"less1\",\"less1\",\"less1\",\"less1\",\"less1\",\"less1\",\"less1\",\"less1\",\"less1\",\"less1\",\"less1\",\"less1\",\"1~3\",\"1~3\",\"1~3\",\"1~3\",\"1~3\",\"1~3\",\"1~3\",\"1~3\",\"1~3\",\"1~3\",\"1~3\",\"1~3\",\"1~3\",\"1~3\",\"1~3\",\"1~3\",\"less1\",\"less1\",\"less1\",\"less1\",\"less1\",\"1~3\",\"1~3\",\"1~3\",\"1~3\",\"1~3\",\"1~3\",\"1~3\",\"1~3\",\"1~3\",\"1~3\",\"1~3\",\"1~3\",\"1~3\",\"never\",\"never\",\"never\",\"never\",\"never\",\"never\",\"never\",\"never\",\"never\",\"never\",\"never\",\"never\",\"never\",\"never\",\"never\",\"never\",\"never\",\"never\",\"never\",\"never\",\"never\",\"never\",\"never\",\"never\",\"never\",\"1~3\",\"1~3\",\"1~3\",\"1~3\",\"1~3\",\"1~3\",\"1~3\",\"1~3\",\"1~3\",\"1~3\",\"1~3\",\"1~3\",\"1~3\",\"1~3\",\"1~3\",\"1~3\",\"never\",\"never\",\"never\",\"never\",\"never\",\"never\",\"never\",\"never\",\"never\",\"never\",\"never\",\"1~3\",\"1~3\",\"1~3\",\"1~3\",\"1~3\",\"1~3\",\"1~3\",\"never\",\"never\",\"never\",\"never\",\"never\",\"never\",\"never\",\"never\",\"never\",\"never\",\"never\",\"never\",\"never\",\"never\",\"never\",\"never\",\"never\",\"never\",\"never\",\"never\",\"never\",\"never\",\"never\",\"never\",\"never\",\"never\",\"never\",\"never\",\"never\",\"never\",\"never\",\"never\",\"never\",\"never\",\"never\",\"never\",\"never\",\"never\",\"never\",\"never\",\"less1\",\"less1\",\"less1\",\"less1\",\"less1\",\"less1\",\"less1\",\"less1\",\"less1\",\"less1\",\"never\",\"never\",\"never\",\"never\",\"never\",\"never\",\"never\",\"never\",\"never\",\"never\"],\"y0\":\" \",\"yaxis\":\"y\",\"type\":\"box\"},{\"alignmentgroup\":\"True\",\"hovertemplate\":\"outcome=Rejected\\u003cbr\\u003eBar=%{y}\\u003cextra\\u003e\\u003c\\u002fextra\\u003e\",\"legendgroup\":\"Rejected\",\"marker\":{\"color\":\"green\"},\"name\":\"Rejected\",\"notched\":false,\"offsetgroup\":\"Rejected\",\"orientation\":\"v\",\"showlegend\":true,\"x0\":\" \",\"xaxis\":\"x\",\"y\":[\"never\",\"never\",\"never\",\"never\",\"never\",\"never\",\"never\",\"never\",\"never\",\"never\",\"never\",\"never\",\"never\",\"never\",\"never\",\"never\",\"never\",\"never\",\"never\",\"never\",\"never\",\"never\",\"never\",\"never\",\"never\",\"never\",\"never\",\"never\",\"never\",\"never\",\"never\",\"less1\",\"less1\",\"less1\",\"less1\",\"less1\",\"1~3\",\"1~3\",\"1~3\",\"1~3\",\"1~3\",\"1~3\",\"1~3\",\"1~3\",\"1~3\",\"1~3\",\"1~3\",\"never\",\"never\",\"never\",\"never\",\"never\",\"never\",\"never\",\"never\",\"never\",\"never\",\"gt8\",\"gt8\",\"gt8\",\"gt8\",\"gt8\",\"gt8\",\"gt8\",\"gt8\",\"gt8\",\"gt8\",\"gt8\",\"never\",\"less1\",\"less1\",\"less1\",\"less1\",\"less1\",\"less1\",\"less1\",\"less1\",\"less1\",\"less1\",\"less1\",\"less1\",\"less1\",\"1~3\",\"1~3\",\"1~3\",\"1~3\",\"1~3\",\"1~3\",\"1~3\",\"1~3\",\"1~3\",\"1~3\",\"1~3\",\"1~3\",\"1~3\",\"never\",\"never\",\"never\",\"never\",\"never\",\"never\",\"never\",\"never\",\"never\",\"never\",\"never\",\"never\",\"never\",\"never\",\"never\",\"never\",\"never\",\"never\",\"never\",\"never\",\"never\",\"never\",\"never\",\"never\",\"never\",\"never\",\"never\",\"never\",\"never\",\"never\",\"never\",\"never\",\"never\",\"never\",\"never\",\"never\",\"never\",\"never\",\"never\",\"never\",\"less1\",\"less1\",\"less1\",\"less1\",\"less1\",\"less1\",\"less1\",\"less1\",\"less1\",\"less1\",\"less1\",\"less1\",\"never\",\"never\",\"never\",\"never\",\"never\",\"never\",\"never\",\"never\",\"never\",\"never\",\"never\",\"1~3\",\"1~3\",\"1~3\",\"1~3\",\"1~3\",\"1~3\",\"1~3\",\"1~3\",\"1~3\",\"1~3\",\"1~3\",\"1~3\",\"never\",\"never\",\"never\",\"never\",\"never\",\"never\",\"never\",\"never\",\"never\",\"never\",\"never\",\"never\",\"never\",\"never\",\"never\",\"never\",\"never\",\"gt8\",\"gt8\",\"gt8\",\"gt8\",\"never\",\"never\",\"never\",\"never\",\"never\",\"never\",\"never\",\"never\",\"never\",\"never\",\"never\",\"never\",\"never\",\"never\",\"never\",\"never\",\"never\",\"never\",\"never\",\"never\",\"never\",\"never\",\"1~3\",\"1~3\",\"1~3\",\"1~3\",\"1~3\",\"never\",\"never\",\"never\",\"never\",\"never\",\"never\",\"never\",\"never\",\"never\",\"never\",\"never\",\"4~8\",\"4~8\",\"4~8\",\"4~8\",\"4~8\",\"4~8\",\"4~8\",\"4~8\",\"4~8\",\"4~8\",\"4~8\",\"4~8\",\"4~8\",\"4~8\",\"4~8\",\"4~8\",\"4~8\",\"never\",\"never\",\"never\",\"never\",\"never\",\"never\",\"never\",\"never\",\"less1\",\"less1\",\"less1\",\"less1\",\"less1\",\"less1\",\"less1\",\"less1\",\"1~3\",\"1~3\",\"1~3\",\"1~3\",\"1~3\",\"1~3\",\"1~3\",\"1~3\",\"less1\",\"less1\",\"less1\",\"less1\",\"less1\",\"less1\",\"less1\",\"less1\",\"less1\",\"less1\",\"less1\",\"less1\",\"less1\",\"less1\",\"less1\",\"less1\",\"less1\",\"less1\",\"less1\",\"less1\",\"never\",\"never\",\"never\",\"never\",\"never\",\"never\",\"never\",\"never\",\"1~3\",\"1~3\",\"1~3\",\"1~3\",\"1~3\",\"1~3\",\"less1\",\"less1\",\"less1\",\"less1\",\"less1\",\"less1\",\"less1\",\"less1\",\"less1\",\"never\",\"never\",\"never\",\"never\",\"never\",\"never\",\"never\",\"never\",\"never\",\"never\",\"never\",\"never\",\"never\",\"never\",\"never\",\"never\",\"never\",\"never\",\"never\",\"never\",\"never\",\"never\",\"never\",\"never\",\"never\",\"never\",\"never\",\"1~3\",\"1~3\",\"1~3\",\"1~3\",\"1~3\",\"1~3\",\"1~3\",\"1~3\",\"never\",\"never\",\"never\",\"1~3\",\"1~3\",\"1~3\",\"1~3\",\"1~3\",\"1~3\",\"1~3\",\"1~3\",\"1~3\",\"1~3\",\"less1\",\"less1\",\"less1\",\"less1\",\"less1\",\"less1\",\"less1\",\"less1\",\"less1\",\"less1\",\"less1\",\"less1\",\"less1\",\"less1\",\"less1\",\"less1\",\"less1\",\"less1\",\"less1\",\"less1\",\"less1\",\"never\",\"never\",\"never\",\"never\",\"never\",\"never\",\"never\",\"never\",\"never\",\"never\",\"never\",\"never\",\"1~3\",\"1~3\",\"1~3\",\"1~3\",\"1~3\",\"1~3\",\"1~3\",\"1~3\",\"1~3\",\"1~3\",\"1~3\",\"1~3\",\"never\",\"never\",\"never\",\"never\",\"never\",\"never\",\"never\",\"never\",\"never\",\"never\",\"never\",\"never\",\"never\",\"never\",\"never\",\"never\",\"less1\",\"less1\",\"less1\",\"less1\",\"less1\",\"less1\",\"less1\",\"less1\",\"less1\",\"less1\",\"never\",\"never\",\"never\",\"never\",\"never\",\"never\",\"never\",\"never\",\"never\",\"never\",\"never\",\"never\",\"never\",\"never\",\"never\",\"never\",\"never\",\"never\",\"never\",\"never\",\"never\",\"never\",\"never\",\"never\",\"less1\",\"less1\",\"less1\",\"less1\",\"less1\",\"less1\",\"less1\",\"less1\",\"less1\",\"less1\",\"less1\",\"less1\",\"less1\",\"less1\",\"less1\",\"less1\",\"less1\",\"less1\",\"less1\",\"less1\",\"less1\",\"less1\",\"less1\",\"less1\",\"less1\",\"less1\",\"less1\",\"less1\",\"never\",\"1~3\",\"1~3\",\"1~3\",\"1~3\",\"1~3\",\"1~3\",\"1~3\",\"1~3\",\"1~3\",\"1~3\",\"1~3\",\"1~3\",\"1~3\",\"1~3\",\"1~3\",\"1~3\",\"1~3\",\"1~3\",\"1~3\",\"1~3\",\"1~3\",\"never\",\"never\",\"never\",\"never\",\"less1\",\"less1\",\"less1\",\"less1\",\"less1\",\"less1\",\"less1\",\"less1\",\"less1\",\"less1\",\"less1\",\"never\",\"never\",\"never\",\"never\",\"never\",\"never\",\"never\",\"never\",\"never\",\"never\",\"never\",\"never\",\"never\",\"never\",\"never\",\"never\",\"never\",\"never\",\"never\",\"never\",\"never\",\"never\",\"never\",\"never\",\"never\",\"never\",\"never\",\"never\",\"never\",\"never\",\"never\",\"never\",\"never\",\"never\",\"never\",\"never\",\"never\",\"never\",\"never\",\"never\",\"never\",\"never\",\"never\",\"never\",\"never\",\"never\",\"never\",\"never\",\"1~3\",\"1~3\",\"1~3\",\"1~3\",\"1~3\",\"1~3\",\"never\",\"never\",\"never\",\"never\",\"never\",\"never\",\"never\",\"less1\",\"less1\",\"less1\",\"less1\",\"less1\",\"less1\",\"less1\",\"less1\",\"less1\",\"less1\",\"less1\",\"less1\",\"less1\",\"less1\",\"less1\",\"less1\",\"less1\",\"never\",\"never\",\"never\",\"never\",\"never\",\"never\",\"never\",\"never\",\"never\",\"never\",\"never\",\"never\",\"never\",\"never\",\"less1\",\"less1\",\"less1\",\"less1\",\"less1\",\"less1\",\"less1\",\"less1\",\"never\",\"never\",\"never\",\"never\",\"never\",\"never\",\"never\",\"never\",\"never\",\"never\",\"never\",\"never\",\"never\",\"never\",\"never\",\"never\",\"never\",\"never\",\"never\",\"never\",\"never\",\"never\",\"never\",\"never\",\"never\",\"less1\",\"less1\",\"less1\",\"less1\",\"less1\",\"less1\",\"less1\",\"less1\",\"less1\",\"less1\",\"less1\",\"less1\",\"less1\",\"less1\",\"less1\",\"less1\",\"less1\",\"less1\",\"less1\",\"less1\",\"less1\",\"less1\",\"less1\",\"less1\",\"less1\",\"less1\",\"less1\",\"less1\",\"less1\",\"less1\",\"1~3\",\"1~3\",\"1~3\",\"1~3\",\"1~3\",\"1~3\",\"1~3\",\"1~3\",\"1~3\",\"1~3\",\"gt8\",\"gt8\",\"gt8\",\"gt8\",\"gt8\",\"gt8\",\"gt8\",\"gt8\",\"gt8\",\"never\",\"never\",\"never\",\"never\",\"never\",\"never\",\"never\",\"never\",\"never\",\"never\",\"never\",\"never\",\"never\",\"never\",\"never\",\"never\",\"never\",\"never\",\"never\",\"never\",\"never\",\"never\",\"never\",\"never\",\"never\",\"never\",\"never\",\"never\",\"never\",\"never\",\"never\",\"never\",\"never\",\"never\",\"never\",\"never\",\"never\",\"4~8\",\"4~8\",\"4~8\",\"4~8\",\"4~8\",\"4~8\",\"1~3\",\"1~3\",\"1~3\",\"never\",\"never\",\"never\",\"never\",\"never\",\"never\",\"never\",\"never\",\"never\",\"never\",\"never\",\"never\",\"less1\",\"less1\",\"less1\",\"less1\",\"1~3\",\"1~3\",\"1~3\",\"1~3\",\"1~3\",\"1~3\",\"less1\",\"less1\",\"less1\",\"less1\",\"less1\",\"less1\",\"less1\",\"less1\",\"less1\",\"less1\",\"less1\",\"less1\",\"less1\",\"less1\",\"less1\",\"less1\",\"less1\",\"less1\",\"less1\",\"less1\",\"less1\",\"less1\",\"less1\",\"less1\",\"less1\",\"less1\",\"less1\",\"1~3\",\"1~3\",\"1~3\",\"1~3\",\"1~3\",\"1~3\",\"1~3\",\"1~3\",\"never\",\"never\",\"never\",\"never\",\"never\",\"less1\",\"less1\",\"less1\",\"less1\",\"less1\",\"less1\",\"less1\",\"less1\",\"less1\",\"less1\",\"less1\",\"less1\",\"less1\",\"less1\",\"less1\",\"less1\",\"less1\",\"4~8\",\"4~8\",\"4~8\",\"4~8\",\"4~8\",\"4~8\",\"4~8\",\"never\",\"never\",\"never\",\"never\",\"never\",\"never\",\"never\",\"never\",\"never\",\"never\",\"never\",\"never\",\"never\",\"never\",\"never\",\"never\",\"never\",\"4~8\",\"4~8\",\"4~8\",\"4~8\",\"4~8\",\"less1\",\"less1\",\"less1\",\"less1\",\"less1\",\"less1\",\"less1\",\"never\",\"never\",\"never\",\"never\",\"4~8\",\"4~8\",\"4~8\",\"1~3\",\"1~3\",\"1~3\",\"1~3\",\"1~3\",\"1~3\",\"1~3\",\"1~3\",\"1~3\",\"1~3\",\"4~8\",\"4~8\",\"4~8\",\"4~8\",\"4~8\",\"4~8\",\"4~8\",\"4~8\",\"never\",\"never\",\"never\",\"never\",\"never\",\"never\",\"never\",\"never\",\"never\",\"never\",\"never\",\"never\",\"never\",\"never\",\"never\",\"never\",\"never\",\"never\",\"never\",\"never\",\"never\",\"never\",\"never\",\"never\",\"never\",\"never\",\"never\",\"never\",\"never\",\"never\",\"less1\",\"less1\",\"less1\",\"less1\",\"less1\",\"less1\",\"never\",\"never\",\"never\",\"never\",\"never\",\"never\",\"never\",\"never\",\"never\",\"4~8\",\"4~8\",\"4~8\",\"4~8\",\"4~8\",\"4~8\",\"4~8\",\"4~8\",\"4~8\",\"less1\",\"less1\",\"less1\",\"less1\",\"less1\",\"less1\",\"4~8\",\"4~8\",\"4~8\",\"4~8\",\"4~8\",\"4~8\",\"4~8\",\"4~8\",\"4~8\",\"4~8\",\"4~8\",\"4~8\",\"4~8\",\"never\",\"never\",\"never\",\"never\",\"never\",\"never\",\"never\",\"never\",\"never\",\"never\",\"never\",\"never\",\"never\",\"never\",\"never\",\"never\",\"4~8\",\"4~8\",\"4~8\",\"4~8\",\"4~8\",\"4~8\",\"4~8\",\"4~8\",\"1~3\",\"1~3\",\"1~3\",\"1~3\",\"1~3\",\"1~3\",\"1~3\",\"1~3\",\"1~3\",\"1~3\",\"1~3\",\"1~3\",\"1~3\",\"1~3\",\"never\",\"never\",\"never\",\"never\",\"never\",\"never\",\"never\",\"never\",\"never\",\"never\",\"never\",\"less1\",\"less1\",\"less1\",\"less1\",\"less1\",\"less1\",\"less1\",\"4~8\",\"4~8\",\"4~8\",\"4~8\",\"4~8\",\"never\",\"never\",\"never\",\"never\",\"never\",\"never\",\"never\",\"never\",\"never\",\"never\",\"never\",\"never\",\"never\",\"never\",\"never\",\"1~3\",\"1~3\",\"1~3\",\"1~3\",\"1~3\",\"1~3\",\"never\",\"never\",\"never\",\"never\",\"never\",\"never\",\"never\",\"never\",\"never\",\"never\",\"never\",\"never\",\"never\",\"4~8\",\"4~8\",\"4~8\",\"4~8\",\"4~8\",\"4~8\",\"4~8\",\"4~8\",\"4~8\",\"4~8\",\"4~8\",\"4~8\",\"4~8\",\"never\",\"never\",\"never\",\"less1\",\"less1\",\"less1\",\"less1\",\"less1\",\"less1\",\"less1\",\"less1\",\"less1\",\"less1\",\"less1\",\"less1\",\"less1\",\"less1\",\"less1\",\"less1\",\"1~3\",\"1~3\",\"1~3\",\"1~3\",\"1~3\",\"1~3\",\"1~3\",\"1~3\",\"1~3\",\"never\",\"never\",\"never\",\"never\",\"never\",\"never\",\"never\",\"never\",\"never\",\"never\",\"never\",\"never\",\"never\",\"never\",\"never\",\"never\",\"never\",\"never\",\"never\",\"never\",\"never\",\"never\",\"never\",\"never\",\"never\",\"never\",\"never\",\"never\",\"never\",\"never\",\"1~3\",\"1~3\",\"1~3\",\"never\",\"never\",\"never\",\"never\",\"never\",\"never\",\"less1\",\"less1\",\"less1\",\"less1\",\"less1\",\"less1\",\"less1\",\"less1\",\"never\",\"never\",\"never\",\"never\",\"never\",\"never\",\"never\",\"never\",\"never\",\"never\",\"never\",\"never\",\"never\",\"never\",\"never\",\"never\",\"never\",\"never\",\"never\",\"less1\",\"less1\",\"1~3\",\"1~3\",\"1~3\",\"1~3\",\"1~3\",\"1~3\",\"1~3\",\"1~3\",\"1~3\",\"1~3\",\"1~3\",\"1~3\",\"1~3\",\"1~3\",\"never\",\"never\",\"never\",\"never\",\"never\",\"never\",\"never\",\"never\",\"never\",\"never\",\"never\",\"never\",\"never\",\"gt8\",\"gt8\",\"gt8\",\"gt8\",\"gt8\",\"gt8\",\"gt8\",\"gt8\",\"gt8\",\"1~3\",\"1~3\",\"1~3\",\"1~3\",\"1~3\",\"1~3\",\"1~3\",\"1~3\",\"1~3\",\"1~3\",\"1~3\",\"1~3\",\"less1\",\"less1\",\"less1\",\"less1\",\"less1\",\"less1\",\"less1\",\"less1\",\"less1\",\"less1\",\"less1\",\"less1\",\"less1\",\"less1\",\"less1\",\"less1\",\"less1\",\"less1\",\"less1\",\"less1\",\"less1\",\"gt8\",\"gt8\",\"gt8\",\"gt8\",\"gt8\",\"gt8\",\"gt8\",\"gt8\",\"gt8\",\"gt8\",\"gt8\",\"never\",\"never\",\"never\",\"never\",\"never\",\"never\",\"4~8\",\"4~8\",\"4~8\",\"4~8\",\"4~8\",\"4~8\",\"4~8\",\"4~8\",\"4~8\",\"4~8\",\"4~8\",\"4~8\",\"4~8\",\"4~8\",\"4~8\",\"4~8\",\"4~8\",\"4~8\",\"never\",\"never\",\"1~3\",\"1~3\",\"1~3\",\"1~3\",\"1~3\",\"1~3\",\"1~3\",\"1~3\",\"never\",\"never\",\"never\",\"never\",\"never\",\"never\",\"never\",\"never\",\"never\",\"never\",\"never\",\"never\",\"never\",\"never\",\"never\",\"never\",\"never\",\"never\",\"gt8\",\"gt8\",\"gt8\",\"gt8\",\"gt8\",\"gt8\",\"gt8\",\"gt8\",\"1~3\",\"1~3\",\"1~3\",\"1~3\",\"1~3\",\"1~3\",\"1~3\",\"1~3\",\"1~3\",\"1~3\",\"1~3\",\"1~3\",\"never\",\"never\",\"never\",\"never\",\"never\",\"never\",\"never\",\"never\",\"never\",\"never\",\"less1\",\"less1\",\"less1\",\"less1\",\"less1\",\"never\",\"never\",\"never\",\"never\",\"never\",\"never\",\"never\",\"never\",\"never\",\"never\",\"less1\",\"less1\",\"less1\",\"less1\",\"less1\",\"less1\",\"less1\",\"less1\",\"less1\",\"less1\",\"never\",\"never\",\"never\",\"never\",\"never\",\"never\",\"never\",\"never\",\"never\",\"never\",\"never\",\"never\",\"never\",\"never\",\"never\",\"never\",\"never\",\"never\",\"never\",\"never\",\"never\",\"never\",\"never\",\"never\",\"never\",\"never\",\"never\",\"never\",\"never\",\"less1\",\"less1\",\"less1\",\"less1\",\"less1\",\"less1\",\"less1\",\"4~8\",\"4~8\",\"4~8\",\"4~8\",\"never\",\"never\",\"never\",\"never\",\"never\",\"never\",\"never\",\"never\",\"never\",\"never\",\"never\",\"never\",\"never\",\"never\",\"never\",\"never\",\"never\",\"never\",\"less1\",\"less1\",\"less1\",\"less1\",\"less1\",\"less1\",\"less1\",\"less1\",\"less1\",\"less1\",\"less1\",\"less1\",\"gt8\",\"gt8\",\"gt8\",\"gt8\",\"gt8\",\"gt8\",\"gt8\",\"gt8\",\"gt8\",\"gt8\",\"gt8\",\"gt8\",\"less1\",\"less1\",\"less1\",\"less1\",\"never\",\"never\",\"never\",\"never\",\"never\",\"never\",\"never\",\"never\",\"never\",\"never\",\"never\",\"never\",\"never\",\"never\",\"never\",\"never\",\"4~8\",\"less1\",\"less1\",\"less1\",\"less1\",\"less1\",\"less1\",\"less1\",\"less1\",\"less1\",\"less1\",\"never\",\"never\",\"never\",\"never\",\"never\",\"never\",\"never\",\"never\",\"never\",\"never\",\"never\",\"never\",\"never\",\"less1\",\"less1\",\"less1\",\"less1\",\"1~3\",\"1~3\",\"1~3\",\"1~3\",\"1~3\",\"1~3\",\"1~3\",\"1~3\",\"1~3\",\"1~3\",\"1~3\",\"1~3\",\"1~3\",\"never\",\"never\",\"never\",\"never\",\"never\",\"never\",\"never\",\"never\",\"never\",\"never\",\"never\",\"never\",\"never\",\"never\",\"never\",\"never\",\"never\",\"never\",\"never\",\"never\",\"never\",\"never\",\"never\",\"never\",\"never\",\"never\",\"never\",\"never\",\"never\",\"never\",\"never\",\"never\",\"never\",\"never\",\"never\",\"never\",\"never\",\"never\",\"never\",\"never\",\"never\",\"never\",\"never\",\"never\",\"never\",\"never\",\"never\",\"never\",\"never\",\"never\",\"never\",\"never\",\"never\",\"never\",\"never\",\"never\",\"never\",\"never\",\"never\",\"never\",\"never\",\"never\",\"1~3\",\"1~3\",\"1~3\",\"1~3\",\"1~3\",\"1~3\",\"1~3\",\"1~3\",\"1~3\",\"1~3\",\"1~3\",\"1~3\",\"never\",\"never\",\"never\",\"never\",\"never\",\"never\",\"never\",\"never\",\"never\",\"never\",\"never\",\"never\",\"never\",\"less1\",\"less1\",\"less1\",\"less1\",\"less1\",\"less1\",\"less1\",\"never\",\"never\",\"never\",\"never\",\"never\",\"never\",\"less1\",\"less1\",\"less1\",\"less1\",\"less1\",\"less1\",\"less1\",\"less1\",\"less1\",\"less1\",\"4~8\",\"4~8\",\"4~8\",\"4~8\",\"4~8\",\"4~8\",\"1~3\",\"1~3\",\"1~3\",\"1~3\",\"1~3\",\"1~3\",\"1~3\",\"never\",\"never\",\"never\",\"never\",\"never\",\"never\",\"never\",\"never\",\"never\",\"never\",\"never\",\"never\",\"never\",\"never\",\"never\",\"never\",\"never\",\"never\",\"never\",\"never\",\"never\",\"never\",\"never\",\"never\",\"1~3\",\"1~3\",\"1~3\",\"1~3\",\"1~3\",\"1~3\",\"1~3\",\"1~3\",\"1~3\",\"1~3\",\"1~3\",\"1~3\",\"1~3\",\"never\",\"never\",\"never\",\"never\",\"never\",\"never\",\"never\",\"never\",\"never\",\"never\",\"never\",\"never\",\"never\",\"never\",\"never\",\"never\",\"never\",\"never\",\"never\",\"never\",\"never\",\"never\",\"never\",\"never\",\"never\",\"never\",\"never\",\"never\",\"never\",\"never\",\"never\",\"less1\",\"less1\",\"less1\",\"less1\",\"less1\",\"less1\",\"less1\",\"less1\",\"less1\",\"less1\",\"less1\",\"less1\",\"less1\",\"less1\",\"less1\",\"less1\",\"4~8\",\"4~8\",\"4~8\",\"4~8\",\"1~3\",\"1~3\",\"1~3\",\"1~3\",\"1~3\",\"1~3\",\"1~3\",\"1~3\",\"1~3\",\"1~3\",\"1~3\",\"1~3\",\"1~3\",\"1~3\",\"1~3\",\"1~3\",\"1~3\",\"1~3\",\"1~3\",\"1~3\",\"1~3\",\"1~3\",\"1~3\",\"1~3\",\"1~3\",\"1~3\",\"1~3\",\"1~3\",\"1~3\",\"1~3\",\"1~3\",\"1~3\",\"1~3\",\"1~3\",\"1~3\",\"1~3\",\"1~3\",\"1~3\",\"1~3\",\"1~3\",\"1~3\",\"1~3\",\"1~3\",\"1~3\",\"1~3\",\"1~3\",\"1~3\",\"1~3\",\"never\",\"never\",\"never\",\"never\",\"never\",\"never\",\"never\",\"never\",\"never\",\"never\",\"never\",\"never\",\"never\",\"less1\",\"less1\",\"less1\",\"less1\",\"less1\",\"less1\",\"less1\",\"less1\",\"less1\",\"less1\",\"less1\",\"less1\",\"less1\",\"less1\",\"less1\",\"less1\",\"less1\",\"less1\",\"less1\",\"less1\",\"less1\",\"less1\",\"less1\",\"less1\",\"less1\",\"less1\",\"less1\",\"less1\",\"less1\",\"less1\",\"less1\",\"less1\",\"less1\",\"less1\",\"less1\",\"less1\",\"less1\",\"less1\",\"less1\",\"less1\",\"less1\",\"less1\",\"less1\",\"less1\",\"less1\",\"less1\",\"less1\",\"less1\",\"less1\",\"less1\",\"less1\",\"less1\",\"less1\",\"less1\",\"less1\",\"less1\",\"less1\",\"less1\",\"less1\",\"less1\",\"never\",\"never\",\"never\",\"never\",\"never\",\"never\",\"never\",\"never\",\"never\",\"1~3\",\"1~3\",\"1~3\",\"1~3\",\"1~3\",\"1~3\",\"1~3\",\"1~3\",\"1~3\",\"never\",\"never\",\"never\",\"never\",\"never\",\"never\",\"never\",\"never\",\"never\",\"never\",\"never\",\"never\",\"1~3\",\"1~3\",\"1~3\",\"1~3\",\"1~3\",\"1~3\",\"1~3\",\"never\",\"never\",\"never\",\"never\",\"never\",\"never\",\"never\",\"never\",\"never\",\"never\",\"never\",\"never\",\"never\",\"never\",\"never\",\"never\",\"never\",\"never\",\"never\",\"4~8\",\"4~8\",\"4~8\",\"4~8\",\"4~8\",\"less1\",\"less1\",\"less1\",\"less1\",\"less1\",\"less1\",\"less1\",\"less1\",\"less1\",\"less1\",\"less1\",\"less1\",\"less1\",\"less1\",\"less1\",\"never\",\"never\",\"never\",\"never\",\"never\",\"never\",\"never\",\"never\",\"never\",\"never\",\"never\",\"never\",\"never\",\"never\",\"never\",\"never\",\"never\",\"never\",\"never\",\"less1\",\"less1\",\"less1\",\"less1\",\"less1\",\"less1\",\"less1\",\"never\",\"never\",\"never\",\"never\",\"never\",\"never\",\"never\",\"never\",\"never\",\"never\",\"never\",\"never\",\"never\",\"never\",\"never\",\"never\",\"never\",\"less1\",\"less1\",\"less1\",\"less1\",\"less1\",\"less1\",\"less1\",\"less1\",\"less1\",\"less1\",\"less1\",\"less1\",\"less1\",\"less1\",\"less1\",\"less1\",\"less1\",\"4~8\",\"4~8\",\"4~8\",\"4~8\",\"never\",\"never\",\"never\",\"never\",\"never\",\"never\",\"never\",\"never\",\"never\",\"never\",\"never\",\"never\",\"never\",\"never\",\"never\",\"never\",\"never\",\"never\",\"never\",\"never\",\"never\",\"never\",\"never\",\"never\",\"never\",\"never\",\"never\",\"never\",\"never\",\"never\",\"never\",\"never\",\"never\",\"never\",\"never\",\"never\",\"never\",\"never\",\"never\",\"never\",\"never\",\"never\",\"never\",\"never\",\"1~3\",\"1~3\",\"1~3\",\"1~3\",\"1~3\",\"1~3\",\"1~3\",\"1~3\",\"1~3\",\"1~3\",\"1~3\",\"1~3\",\"less1\",\"less1\",\"less1\",\"less1\",\"never\",\"never\",\"never\",\"never\",\"never\",\"never\",\"never\",\"never\",\"never\",\"never\",\"never\",\"never\",\"never\",\"never\",\"never\",\"never\",\"never\",\"never\",\"never\",\"never\",\"never\",\"never\",\"never\",\"never\",\"never\",\"never\",\"never\",\"less1\",\"less1\",\"less1\",\"less1\",\"less1\",\"less1\",\"less1\",\"less1\",\"less1\",\"never\",\"never\",\"never\",\"never\",\"never\",\"never\",\"never\",\"never\",\"never\",\"less1\",\"less1\",\"less1\",\"less1\",\"less1\",\"less1\",\"less1\",\"less1\",\"less1\",\"less1\",\"less1\",\"less1\",\"less1\",\"less1\",\"less1\",\"less1\",\"less1\",\"less1\",\"less1\",\"less1\",\"less1\",\"less1\",\"less1\",\"less1\",\"less1\",\"less1\",\"less1\",\"never\",\"never\",\"never\",\"never\",\"never\",\"never\",\"never\",\"never\",\"never\",\"never\",\"never\",\"never\",\"never\",\"never\",\"never\",\"never\",\"never\",\"never\",\"never\",\"never\",\"never\",\"never\",\"never\",\"never\",\"never\",\"never\",\"never\",\"never\",\"never\",\"never\",\"never\",\"never\",\"never\",\"never\",\"never\",\"never\",\"never\",\"never\",\"never\",\"never\",\"never\",\"never\",\"never\",\"never\",\"never\",\"never\",\"never\",\"less1\",\"less1\",\"less1\",\"less1\",\"less1\",\"less1\",\"less1\",\"less1\",\"less1\",\"less1\",\"less1\",\"less1\",\"less1\",\"less1\",\"less1\",\"less1\",\"less1\",\"less1\",\"less1\",\"less1\",\"never\",\"never\",\"never\",\"never\",\"never\",\"never\",\"never\",\"never\",\"never\",\"never\",\"1~3\",\"1~3\",\"1~3\",\"1~3\",\"1~3\",\"1~3\",\"1~3\",\"1~3\",\"1~3\",\"1~3\",\"1~3\",\"1~3\",\"1~3\",\"1~3\",\"never\",\"never\",\"never\",\"never\",\"never\",\"never\",\"never\",\"less1\",\"less1\",\"less1\",\"less1\",\"less1\",\"less1\",\"less1\",\"less1\",\"less1\",\"less1\",\"less1\",\"4~8\",\"4~8\",\"4~8\",\"4~8\",\"4~8\",\"4~8\",\"4~8\",\"1~3\",\"1~3\",\"1~3\",\"1~3\",\"1~3\",\"1~3\",\"never\",\"never\",\"never\",\"never\",\"never\",\"never\",\"never\",\"never\",\"never\",\"never\",\"never\",\"never\",\"never\",\"never\",\"never\",\"never\",\"never\",\"never\",\"never\",\"never\",\"never\",\"never\",\"never\",\"never\",\"never\",\"never\",\"never\",\"never\",\"never\",\"never\",\"never\",\"never\",\"never\",\"never\",\"never\",\"never\",\"never\",\"never\",\"never\",\"never\",\"never\",\"never\",\"never\",\"never\",\"never\",\"never\",\"never\",\"never\",\"never\",\"never\",\"never\",\"never\",\"never\",\"never\",\"never\",\"never\",\"never\",\"never\",\"never\",\"never\",\"4~8\",\"4~8\",\"4~8\",\"4~8\",\"4~8\",\"4~8\",\"4~8\",\"4~8\",\"4~8\",\"4~8\",\"4~8\",\"4~8\",\"4~8\",\"4~8\",\"4~8\",\"4~8\",\"less1\",\"less1\",\"less1\",\"less1\",\"less1\",\"less1\",\"less1\",\"less1\",\"less1\",\"less1\",\"less1\",\"less1\",\"less1\",\"less1\",\"less1\",\"never\",\"never\",\"never\",\"less1\",\"less1\",\"less1\",\"less1\",\"less1\",\"less1\",\"less1\",\"less1\",\"less1\",\"less1\",\"less1\",\"less1\",\"less1\",\"less1\",\"less1\",\"less1\",\"less1\",\"never\",\"never\",\"never\",\"never\",\"4~8\",\"4~8\",\"4~8\",\"4~8\",\"4~8\",\"4~8\",\"4~8\",\"4~8\",\"less1\",\"less1\",\"less1\",\"less1\",\"less1\",\"less1\",\"less1\",\"less1\",\"less1\",\"less1\",\"less1\",\"less1\",\"less1\",\"less1\",\"less1\",\"less1\",\"less1\",\"less1\",\"less1\",\"less1\",\"less1\",\"less1\",\"less1\",\"never\",\"never\",\"never\",\"never\",\"never\",\"4~8\",\"4~8\",\"4~8\",\"less1\",\"less1\",\"less1\",\"less1\",\"less1\",\"less1\",\"less1\",\"less1\",\"never\",\"never\",\"never\",\"never\",\"never\",\"never\",\"less1\",\"less1\",\"less1\",\"less1\",\"less1\",\"less1\",\"less1\",\"less1\",\"less1\",\"less1\",\"less1\",\"less1\",\"less1\",\"less1\",\"less1\",\"4~8\",\"4~8\",\"4~8\",\"4~8\",\"4~8\",\"4~8\",\"4~8\",\"4~8\",\"4~8\",\"4~8\",\"4~8\",\"less1\",\"less1\",\"less1\",\"less1\",\"less1\",\"less1\",\"less1\",\"less1\",\"less1\",\"less1\",\"less1\",\"less1\",\"1~3\",\"1~3\",\"1~3\",\"1~3\",\"1~3\",\"1~3\",\"1~3\",\"less1\",\"less1\",\"less1\",\"less1\",\"less1\",\"less1\",\"less1\",\"less1\",\"less1\",\"less1\",\"less1\",\"less1\",\"less1\",\"less1\",\"less1\",\"never\",\"never\",\"never\",\"never\",\"never\",\"never\",\"never\",\"never\",\"never\",\"never\",\"never\",\"never\",\"never\",\"never\",\"never\",\"less1\",\"less1\",\"less1\",\"gt8\",\"gt8\",\"gt8\",\"gt8\",\"gt8\",\"gt8\",\"gt8\",\"gt8\",\"gt8\",\"gt8\",\"gt8\",\"gt8\",\"less1\",\"less1\",\"less1\",\"less1\",\"less1\",\"less1\",\"less1\",\"less1\",\"less1\",\"less1\",\"less1\",\"less1\",\"less1\",\"less1\",\"less1\",\"less1\",\"less1\",\"1~3\",\"1~3\",\"1~3\",\"never\",\"never\",\"never\",\"never\",\"never\",\"never\",\"never\",\"never\",\"never\",\"never\",\"never\",\"never\",\"never\",\"4~8\",\"4~8\",\"4~8\",\"4~8\",\"4~8\",\"4~8\",\"4~8\",\"less1\",\"less1\",\"less1\",\"less1\",\"less1\",\"less1\",\"less1\",\"less1\",\"less1\",\"less1\",\"less1\",\"less1\",\"less1\",\"less1\",\"less1\",\"less1\",\"less1\",\"less1\",\"less1\",\"less1\",\"less1\",\"less1\",\"never\",\"never\",\"never\",\"1~3\",\"1~3\",\"1~3\",\"1~3\",\"1~3\",\"1~3\",\"1~3\",\"1~3\",\"1~3\",\"1~3\",\"1~3\",\"1~3\",\"1~3\",\"1~3\",\"1~3\",\"1~3\",\"1~3\",\"1~3\",\"1~3\",\"1~3\",\"1~3\",\"1~3\",\"1~3\",\"1~3\",\"1~3\",\"1~3\",\"1~3\",\"1~3\",\"1~3\",\"1~3\",\"1~3\",\"never\",\"never\",\"never\",\"never\",\"never\",\"never\",\"never\",\"never\",\"never\",\"never\",\"never\",\"never\",\"never\",\"never\",\"never\",\"never\",\"never\",\"never\",\"never\",\"never\",\"never\",\"never\",\"never\",\"1~3\",\"1~3\",\"1~3\",\"1~3\",\"1~3\",\"less1\",\"less1\",\"less1\",\"less1\",\"less1\",\"less1\",\"less1\",\"less1\",\"less1\",\"less1\",\"less1\",\"less1\",\"less1\",\"4~8\",\"4~8\",\"4~8\",\"4~8\",\"4~8\",\"less1\",\"less1\",\"less1\",\"less1\",\"less1\",\"less1\",\"less1\",\"less1\",\"less1\",\"less1\",\"less1\",\"less1\",\"less1\",\"less1\",\"less1\",\"less1\",\"less1\",\"less1\",\"less1\",\"less1\",\"less1\",\"never\",\"never\",\"never\",\"never\",\"never\",\"never\",\"never\",\"never\",\"never\",\"never\",\"never\",\"never\",\"never\",\"never\",\"never\",\"never\",\"never\",\"never\",\"never\",\"less1\",\"less1\",\"less1\",\"1~3\",\"1~3\",\"1~3\",\"1~3\",\"1~3\",\"1~3\",\"1~3\",\"1~3\",\"1~3\",\"1~3\",\"1~3\",\"never\",\"never\",\"never\",\"never\",\"never\",\"never\",\"never\",\"never\",\"never\",\"never\",\"1~3\",\"1~3\",\"1~3\",\"1~3\",\"1~3\",\"1~3\",\"1~3\",\"1~3\",\"1~3\",\"less1\",\"less1\",\"less1\",\"never\",\"never\",\"never\",\"never\",\"never\",\"never\",\"never\",\"never\",\"never\",\"never\",\"never\",\"never\",\"never\",\"1~3\",\"1~3\",\"1~3\",\"1~3\",\"1~3\",\"1~3\",\"1~3\",\"1~3\",\"1~3\",\"1~3\",\"never\",\"never\",\"never\",\"never\",\"never\",\"never\",\"never\",\"never\",\"never\",\"4~8\",\"4~8\",\"4~8\",\"4~8\",\"4~8\",\"4~8\",\"4~8\",\"4~8\",\"4~8\",\"4~8\",\"4~8\",\"4~8\",\"never\",\"never\",\"never\",\"never\",\"never\",\"never\",\"never\",\"never\",\"never\",\"never\",\"never\",\"never\",\"never\",\"never\",\"never\",\"never\",\"never\",\"never\",\"never\",\"never\",\"never\",\"never\",\"never\",\"never\",\"never\",\"4~8\",\"4~8\",\"4~8\",\"4~8\",\"4~8\",\"1~3\",\"1~3\",\"1~3\",\"1~3\",\"1~3\",\"1~3\",\"1~3\",\"1~3\",\"1~3\",\"less1\",\"less1\",\"less1\",\"less1\",\"less1\",\"less1\",\"4~8\",\"4~8\",\"4~8\",\"4~8\",\"4~8\",\"4~8\",\"4~8\",\"4~8\",\"4~8\",\"4~8\",\"never\",\"never\",\"never\",\"never\",\"never\",\"never\",\"never\",\"never\",\"never\",\"never\",\"never\",\"never\",\"never\",\"1~3\",\"1~3\",\"1~3\",\"1~3\",\"1~3\",\"1~3\",\"1~3\",\"1~3\",\"1~3\",\"1~3\",\"1~3\",\"less1\",\"less1\",\"less1\",\"less1\",\"less1\",\"less1\",\"less1\",\"less1\",\"less1\",\"less1\",\"less1\",\"less1\",\"never\",\"never\",\"never\",\"never\",\"never\",\"never\",\"never\",\"never\",\"never\",\"never\",\"never\",\"never\",\"never\",\"never\",\"never\",\"never\",\"never\",\"never\",\"never\",\"never\",\"never\",\"never\",\"never\",\"never\",\"never\",\"never\",\"never\",\"never\",\"never\",\"never\",\"never\",\"never\",\"never\",\"never\",\"never\",\"never\",\"never\",\"never\",\"never\",\"never\",\"never\",\"never\",\"never\",\"never\",\"never\",\"never\",\"never\",\"never\",\"never\",\"never\",\"never\",\"never\",\"1~3\",\"1~3\",\"1~3\",\"1~3\",\"1~3\",\"1~3\",\"1~3\",\"1~3\",\"gt8\",\"gt8\",\"gt8\",\"gt8\",\"less1\",\"less1\",\"less1\",\"less1\",\"less1\",\"less1\",\"less1\",\"less1\",\"less1\",\"less1\",\"less1\",\"less1\",\"less1\",\"less1\",\"less1\",\"less1\",\"less1\",\"less1\",\"less1\",\"less1\",\"1~3\",\"1~3\",\"1~3\",\"1~3\",\"1~3\",\"1~3\",\"1~3\",\"1~3\",\"1~3\",\"never\",\"never\",\"never\",\"never\",\"never\",\"never\",\"never\",\"never\",\"never\",\"never\",\"never\",\"never\",\"never\",\"never\",\"never\",\"never\",\"never\",\"never\",\"never\",\"never\",\"never\",\"never\",\"never\",\"never\",\"never\",\"never\",\"never\",\"less1\",\"less1\",\"less1\",\"less1\",\"less1\",\"less1\",\"less1\",\"less1\",\"less1\",\"4~8\",\"4~8\",\"4~8\",\"4~8\",\"4~8\",\"4~8\",\"4~8\",\"less1\",\"less1\",\"less1\",\"less1\",\"less1\",\"less1\",\"less1\",\"less1\",\"less1\",\"less1\",\"less1\",\"less1\",\"less1\",\"1~3\",\"1~3\",\"1~3\",\"1~3\",\"1~3\",\"1~3\",\"1~3\",\"1~3\",\"1~3\",\"1~3\",\"1~3\",\"1~3\",\"1~3\",\"1~3\",\"1~3\",\"1~3\",\"never\",\"never\",\"never\",\"never\",\"never\",\"never\",\"never\",\"never\",\"never\",\"never\",\"never\",\"never\",\"never\",\"never\",\"never\",\"never\",\"never\",\"never\",\"never\",\"never\",\"never\",\"never\",\"never\",\"never\",\"never\",\"never\",\"never\",\"never\",\"never\",\"never\",\"never\",\"never\",\"never\",\"never\",\"never\",\"never\",\"never\",\"never\",\"never\",\"never\",\"never\",\"never\",\"never\",\"never\",\"never\",\"never\",\"never\",\"never\",\"1~3\",\"1~3\",\"1~3\",\"1~3\",\"1~3\",\"1~3\",\"1~3\",\"less1\",\"less1\",\"less1\",\"less1\",\"less1\",\"less1\",\"less1\",\"less1\",\"never\",\"never\",\"never\",\"never\",\"never\",\"never\",\"never\",\"never\",\"never\",\"never\",\"gt8\",\"gt8\",\"gt8\",\"gt8\",\"gt8\",\"gt8\",\"gt8\",\"gt8\",\"gt8\",\"gt8\",\"gt8\",\"gt8\",\"1~3\",\"1~3\",\"1~3\",\"1~3\",\"1~3\",\"1~3\",\"1~3\",\"1~3\",\"1~3\",\"never\",\"never\",\"never\",\"never\",\"never\",\"never\",\"never\",\"never\",\"never\",\"never\",\"never\",\"never\",\"never\",\"never\",\"never\",\"never\",\"less1\",\"less1\",\"less1\",\"less1\",\"less1\",\"less1\",\"less1\",\"less1\",\"less1\",\"less1\",\"less1\",\"less1\",\"less1\",\"less1\",\"less1\",\"less1\",\"less1\",\"less1\",\"less1\",\"4~8\",\"4~8\",\"4~8\",\"4~8\",\"4~8\",\"4~8\",\"4~8\",\"4~8\",\"4~8\",\"4~8\",\"4~8\",\"4~8\",\"4~8\",\"never\",\"never\",\"never\",\"never\",\"never\",\"4~8\",\"4~8\",\"4~8\",\"4~8\",\"4~8\",\"4~8\",\"4~8\",\"4~8\",\"4~8\",\"4~8\",\"4~8\",\"4~8\",\"4~8\",\"4~8\",\"4~8\",\"never\",\"never\",\"never\",\"never\",\"never\",\"never\",\"never\",\"never\",\"never\",\"never\",\"never\",\"never\",\"never\",\"never\",\"never\",\"never\",\"never\",\"never\",\"never\",\"never\",\"never\",\"never\",\"never\",\"never\",\"never\",\"never\",\"never\",\"never\",\"never\",\"never\",\"never\",\"never\",\"never\",\"never\",\"never\",\"never\",\"never\",\"never\",\"never\",\"never\",\"less1\",\"less1\",\"less1\",\"less1\",\"less1\",\"less1\",\"less1\",\"never\",\"never\",\"never\",\"never\",\"never\",\"never\",\"never\",\"never\",\"never\",\"never\",\"never\",\"never\",\"never\",\"never\",\"never\",\"never\",\"never\",\"never\",\"never\",\"never\",\"never\",\"never\",\"never\",\"never\",\"never\",\"never\",\"never\",\"never\",\"never\",\"never\",\"less1\",\"less1\",\"less1\",\"less1\",\"less1\",\"less1\",\"less1\",\"less1\",\"less1\",\"less1\",\"never\",\"never\",\"never\",\"never\",\"never\",\"never\",\"never\",\"never\",\"never\",\"never\",\"never\",\"never\",\"never\",\"less1\",\"less1\",\"less1\",\"less1\",\"less1\",\"less1\",\"less1\",\"4~8\",\"4~8\",\"4~8\",\"4~8\",\"4~8\",\"4~8\",\"4~8\",\"4~8\",\"4~8\",\"4~8\",\"4~8\",\"4~8\",\"gt8\",\"gt8\",\"gt8\",\"gt8\",\"gt8\",\"gt8\",\"gt8\",\"gt8\",\"gt8\",\"1~3\",\"1~3\",\"1~3\",\"1~3\",\"1~3\",\"1~3\",\"1~3\",\"1~3\",\"1~3\",\"less1\",\"less1\",\"less1\",\"less1\",\"less1\",\"less1\",\"less1\",\"less1\",\"less1\",\"less1\",\"less1\",\"less1\",\"less1\",\"less1\",\"less1\",\"less1\",\"less1\",\"less1\",\"less1\",\"less1\",\"less1\",\"1~3\",\"1~3\",\"1~3\",\"1~3\",\"1~3\",\"1~3\",\"1~3\",\"1~3\",\"1~3\",\"never\",\"never\",\"never\",\"never\",\"never\",\"never\",\"never\",\"never\",\"never\",\"never\",\"never\",\"never\",\"never\",\"never\",\"never\",\"never\",\"never\",\"never\",\"never\",\"never\",\"never\",\"never\",\"never\",\"never\",\"never\",\"less1\",\"less1\",\"less1\",\"less1\",\"less1\",\"less1\",\"less1\",\"less1\",\"less1\",\"less1\",\"1~3\",\"1~3\",\"1~3\",\"1~3\",\"1~3\",\"1~3\",\"1~3\",\"1~3\",\"1~3\",\"1~3\",\"1~3\",\"1~3\",\"1~3\",\"less1\",\"less1\",\"less1\",\"less1\",\"less1\",\"less1\",\"1~3\",\"1~3\",\"1~3\",\"1~3\",\"1~3\",\"1~3\",\"1~3\",\"1~3\",\"1~3\",\"4~8\",\"4~8\",\"4~8\",\"4~8\",\"4~8\",\"4~8\",\"4~8\",\"4~8\",\"4~8\",\"4~8\",\"4~8\",\"4~8\",\"less1\",\"less1\",\"less1\",\"less1\",\"less1\",\"less1\",\"less1\",\"less1\",\"never\",\"never\",\"never\",\"never\",\"never\",\"never\",\"never\",\"never\",\"never\",\"never\",\"never\",\"never\",\"4~8\",\"4~8\",\"4~8\",\"4~8\",\"4~8\",\"4~8\",\"4~8\",\"4~8\",\"4~8\",\"4~8\",\"4~8\",\"4~8\",\"4~8\",\"4~8\",\"4~8\",\"never\",\"never\",\"never\",\"never\",\"never\",\"never\",\"never\",\"never\",\"never\",\"1~3\",\"1~3\",\"1~3\",\"1~3\",\"1~3\",\"1~3\",\"1~3\",\"1~3\",\"1~3\",\"1~3\",\"1~3\",\"1~3\",\"1~3\",\"1~3\",\"1~3\",\"1~3\",\"1~3\",\"1~3\",\"1~3\",\"1~3\",\"1~3\",\"1~3\",\"1~3\",\"never\",\"never\",\"never\",\"never\",\"never\",\"never\",\"never\",\"never\",\"never\",\"never\",\"never\",\"never\",\"never\",\"never\",\"never\",\"never\",\"never\",\"never\",\"never\",\"never\",\"never\",\"never\",\"never\",\"never\",\"never\",\"less1\",\"less1\",\"less1\",\"less1\",\"less1\",\"less1\",\"less1\",\"less1\",\"less1\",\"less1\",\"less1\",\"never\",\"never\",\"never\",\"never\",\"1~3\",\"1~3\",\"1~3\",\"1~3\",\"1~3\",\"1~3\",\"1~3\",\"less1\",\"less1\",\"less1\",\"less1\",\"less1\",\"less1\",\"less1\",\"less1\",\"less1\",\"less1\",\"never\",\"never\",\"never\",\"never\",\"never\",\"never\",\"never\",\"never\",\"never\",\"never\",\"never\",\"never\",\"less1\",\"less1\",\"less1\",\"less1\",\"less1\",\"less1\",\"less1\",\"less1\",\"less1\",\"less1\",\"never\",\"never\",\"never\",\"never\",\"never\",\"never\",\"4~8\",\"4~8\",\"4~8\",\"4~8\",\"4~8\",\"4~8\",\"never\",\"never\",\"never\",\"never\",\"never\",\"never\",\"never\",\"never\",\"never\",\"never\",\"never\",\"never\",\"never\",\"never\",\"never\",\"never\",\"never\",\"never\",\"never\",\"never\",\"never\",\"never\",\"never\",\"never\",\"less1\",\"less1\",\"less1\",\"less1\",\"less1\",\"less1\",\"less1\",\"less1\",\"less1\",\"less1\",\"less1\",\"less1\",\"less1\",\"less1\",\"less1\",\"less1\",\"less1\",\"less1\",\"less1\",\"less1\",\"less1\",\"less1\",\"1~3\",\"1~3\",\"1~3\",\"1~3\",\"1~3\",\"1~3\",\"1~3\",\"1~3\",\"1~3\",\"1~3\",\"1~3\",\"1~3\",\"1~3\",\"never\",\"never\",\"never\",\"never\",\"never\",\"never\",\"never\",\"never\",\"never\",\"never\",\"never\",\"never\",\"never\",\"never\",\"never\",\"never\",\"never\",\"never\",\"never\",\"1~3\",\"1~3\",\"1~3\",\"1~3\",\"1~3\",\"1~3\",\"1~3\",\"1~3\",\"1~3\",\"1~3\",\"1~3\",\"1~3\",\"1~3\",\"1~3\",\"1~3\",\"1~3\",\"1~3\",\"1~3\",\"1~3\",\"1~3\",\"1~3\",\"1~3\",\"1~3\",\"1~3\",\"1~3\",\"1~3\",\"1~3\",\"1~3\",\"1~3\",\"1~3\",\"never\",\"never\",\"never\",\"never\",\"never\",\"never\",\"never\",\"never\",\"never\",\"never\",\"never\",\"4~8\",\"4~8\",\"4~8\",\"4~8\",\"4~8\",\"4~8\",\"4~8\",\"4~8\",\"4~8\",\"1~3\",\"1~3\",\"1~3\",\"1~3\",\"1~3\",\"1~3\",\"1~3\",\"1~3\",\"1~3\",\"1~3\",\"1~3\",\"1~3\",\"1~3\",\"less1\",\"less1\",\"less1\",\"less1\",\"less1\",\"less1\",\"less1\",\"less1\",\"less1\",\"less1\",\"less1\",\"less1\",\"less1\",\"less1\",\"less1\",\"less1\",\"less1\",\"less1\",\"less1\",\"less1\",\"less1\",\"less1\",\"less1\",\"less1\",\"less1\",\"less1\",\"less1\",\"1~3\",\"1~3\",\"1~3\",\"1~3\",\"1~3\",\"1~3\",\"1~3\",\"1~3\",\"1~3\",\"1~3\",\"1~3\",\"1~3\",\"1~3\",\"1~3\",\"1~3\",\"1~3\",\"1~3\",\"1~3\",\"1~3\",\"1~3\",\"1~3\",\"4~8\",\"4~8\",\"4~8\",\"4~8\",\"4~8\",\"4~8\",\"4~8\",\"4~8\",\"never\",\"never\",\"never\",\"never\",\"never\",\"never\",\"never\",\"never\",\"never\",\"less1\",\"less1\",\"less1\",\"less1\",\"less1\",\"less1\",\"less1\",\"never\",\"never\",\"never\",\"never\",\"never\",\"never\",\"never\",\"never\",\"4~8\",\"4~8\",\"4~8\",\"4~8\",\"4~8\",\"4~8\",\"4~8\",\"less1\",\"less1\",\"less1\",\"less1\",\"less1\",\"less1\",\"less1\",\"never\",\"never\",\"never\",\"never\",\"never\",\"never\",\"never\",\"never\",\"never\",\"never\",\"never\",\"never\",\"never\",\"never\",\"never\",\"never\",\"never\",\"never\",\"never\",\"never\",\"never\",\"never\",\"less1\",\"less1\",\"less1\",\"less1\",\"less1\",\"less1\",\"less1\",\"less1\",\"less1\",\"less1\",\"less1\",\"less1\",\"less1\",\"less1\",\"less1\",\"less1\",\"less1\",\"less1\",\"less1\",\"less1\",\"less1\",\"less1\",\"less1\",\"1~3\",\"1~3\",\"1~3\",\"1~3\",\"1~3\",\"1~3\",\"1~3\",\"1~3\",\"never\",\"never\",\"never\",\"never\",\"never\",\"never\",\"never\",\"never\",\"never\",\"1~3\",\"1~3\",\"1~3\",\"less1\",\"less1\",\"less1\",\"less1\",\"less1\",\"less1\",\"less1\",\"less1\",\"less1\",\"less1\",\"less1\",\"less1\",\"less1\",\"less1\",\"less1\",\"less1\",\"less1\",\"less1\",\"less1\",\"less1\",\"less1\",\"less1\",\"less1\",\"less1\",\"never\",\"never\",\"never\",\"never\",\"never\",\"never\",\"never\",\"never\",\"never\",\"never\",\"never\",\"never\",\"never\",\"never\",\"never\",\"never\",\"never\",\"never\",\"never\",\"never\",\"never\",\"never\",\"never\",\"never\",\"never\",\"1~3\",\"1~3\",\"1~3\",\"1~3\",\"1~3\",\"1~3\",\"1~3\",\"1~3\",\"1~3\",\"never\",\"never\",\"never\",\"never\",\"never\",\"never\",\"never\",\"never\",\"never\",\"never\",\"never\",\"never\",\"never\",\"never\",\"never\",\"never\",\"never\",\"1~3\",\"1~3\",\"1~3\",\"1~3\",\"1~3\",\"1~3\",\"1~3\",\"1~3\",\"1~3\",\"1~3\",\"1~3\",\"1~3\",\"1~3\",\"1~3\",\"1~3\",\"1~3\",\"1~3\",\"1~3\",\"1~3\",\"1~3\",\"1~3\",\"1~3\",\"1~3\",\"1~3\",\"1~3\",\"1~3\",\"1~3\",\"1~3\",\"less1\",\"less1\",\"less1\",\"less1\",\"less1\",\"less1\",\"less1\",\"never\",\"never\",\"never\",\"never\",\"never\",\"never\",\"never\",\"never\",\"never\",\"never\",\"never\",\"never\",\"never\",\"never\",\"never\",\"never\",\"never\",\"never\",\"never\",\"never\",\"never\",\"never\",\"never\",\"never\",\"never\",\"never\",\"never\",\"never\",\"never\",\"never\",\"never\",\"never\",\"never\",\"never\",\"never\",\"never\",\"never\",\"never\",\"4~8\",\"4~8\",\"4~8\",\"never\",\"never\",\"never\",\"never\",\"never\",\"never\",\"never\",\"never\",\"never\",\"never\",\"never\",\"never\",\"never\",\"never\",\"never\",\"never\",\"never\",\"never\",\"never\",\"never\",\"never\",\"never\",\"never\",\"never\",\"less1\",\"less1\",\"less1\",\"less1\",\"less1\",\"less1\",\"less1\",\"less1\",\"less1\",\"less1\",\"less1\",\"less1\",\"less1\",\"less1\",\"never\",\"never\",\"never\",\"never\",\"never\",\"never\",\"never\",\"never\",\"never\",\"never\",\"never\",\"less1\",\"less1\",\"less1\",\"less1\",\"less1\",\"less1\",\"less1\",\"less1\",\"less1\",\"less1\",\"less1\",\"less1\",\"less1\",\"less1\",\"less1\",\"less1\",\"less1\",\"less1\",\"less1\",\"less1\",\"less1\",\"less1\",\"never\",\"never\",\"never\",\"less1\",\"less1\",\"less1\",\"less1\",\"less1\",\"less1\",\"less1\",\"less1\",\"less1\",\"less1\",\"never\",\"never\",\"never\",\"never\",\"never\",\"never\",\"never\",\"never\",\"never\",\"never\",\"never\",\"never\",\"never\",\"never\",\"never\",\"never\",\"never\",\"never\",\"never\",\"less1\",\"less1\",\"less1\",\"less1\",\"less1\",\"less1\",\"less1\",\"less1\",\"less1\",\"less1\",\"less1\",\"less1\",\"less1\",\"less1\",\"less1\",\"4~8\",\"4~8\",\"4~8\",\"4~8\",\"4~8\",\"4~8\",\"4~8\",\"1~3\",\"1~3\",\"1~3\",\"1~3\",\"1~3\",\"1~3\",\"1~3\",\"1~3\",\"1~3\",\"1~3\",\"1~3\",\"never\",\"never\",\"never\",\"never\",\"never\",\"never\",\"never\",\"never\",\"less1\",\"less1\",\"less1\",\"less1\",\"less1\",\"less1\",\"less1\",\"never\",\"never\",\"never\",\"never\",\"never\",\"never\",\"never\",\"never\",\"never\",\"never\",\"never\",\"never\",\"never\",\"never\",\"never\",\"never\",\"never\",\"never\",\"never\",\"never\",\"never\",\"4~8\",\"4~8\",\"4~8\",\"4~8\",\"4~8\",\"4~8\",\"4~8\",\"4~8\",\"4~8\",\"4~8\",\"4~8\",\"4~8\",\"never\",\"never\",\"never\",\"never\",\"never\",\"never\",\"never\",\"never\",\"never\",\"never\",\"4~8\",\"4~8\",\"4~8\",\"4~8\",\"4~8\",\"4~8\",\"4~8\",\"4~8\",\"1~3\",\"1~3\",\"1~3\",\"1~3\",\"1~3\",\"1~3\",\"1~3\",\"1~3\",\"1~3\",\"1~3\",\"1~3\",\"1~3\",\"less1\",\"less1\",\"less1\",\"less1\",\"less1\",\"less1\",\"less1\",\"less1\",\"less1\",\"less1\",\"less1\",\"less1\",\"less1\",\"less1\",\"never\",\"never\",\"never\",\"never\",\"never\",\"never\",\"never\",\"never\",\"never\",\"never\",\"never\",\"never\",\"never\",\"less1\",\"less1\",\"less1\",\"less1\",\"less1\",\"less1\",\"less1\",\"less1\",\"never\",\"never\",\"never\",\"never\",\"never\",\"never\",\"never\",\"never\",\"never\",\"never\",\"never\",\"never\",\"never\",\"never\",\"never\",\"never\",\"never\",\"never\",\"never\",\"never\",\"never\",\"never\",\"never\",\"never\",\"never\",\"never\",\"never\",\"never\",\"4~8\",\"4~8\",\"4~8\",\"4~8\",\"4~8\",\"4~8\",\"4~8\",\"4~8\",\"less1\",\"less1\",\"less1\",\"less1\",\"less1\",\"less1\",\"less1\",\"less1\",\"less1\",\"less1\",\"less1\",\"less1\",\"less1\",\"never\",\"never\",\"never\",\"never\",\"never\",\"never\",\"never\",\"never\",\"never\",\"never\",\"never\",\"never\",\"never\",\"never\",\"never\",\"never\",\"never\",\"never\",\"never\",\"never\",\"never\",\"never\",\"never\",\"never\",\"never\",\"never\",\"never\",\"1~3\",\"never\",\"never\",\"never\",\"never\",\"never\",\"never\",\"never\",\"never\",\"never\",\"never\",\"never\",\"never\",\"never\",\"never\",\"never\",\"never\",\"never\",\"never\",\"never\",\"never\",\"never\",\"never\",\"never\",\"never\",\"never\",\"never\",\"never\",\"never\",\"never\",\"never\",\"never\",\"never\",\"less1\",\"less1\",\"less1\",\"less1\",\"less1\",\"less1\",\"less1\",\"less1\",\"less1\",\"less1\",\"never\",\"never\",\"never\",\"never\",\"never\",\"never\",\"never\",\"never\",\"never\",\"never\",\"never\",\"never\",\"never\",\"never\",\"never\",\"never\",\"never\",\"never\",\"never\",\"never\",\"never\",\"never\",\"never\",\"never\",\"never\",\"never\",\"never\",\"never\",\"never\",\"never\",\"never\",\"never\",\"never\",\"never\",\"never\",\"never\",\"never\",\"never\",\"never\",\"never\",\"never\",\"never\",\"never\",\"never\",\"never\",\"never\",\"never\",\"never\",\"never\",\"never\",\"never\",\"never\",\"never\",\"never\",\"never\",\"1~3\",\"1~3\",\"1~3\",\"1~3\",\"1~3\",\"1~3\",\"1~3\",\"1~3\",\"1~3\",\"1~3\",\"1~3\",\"1~3\",\"1~3\",\"1~3\",\"1~3\",\"1~3\",\"1~3\",\"1~3\",\"1~3\",\"1~3\",\"1~3\",\"1~3\",\"1~3\",\"1~3\",\"never\",\"never\",\"never\",\"never\",\"never\",\"never\",\"never\",\"never\",\"never\",\"never\",\"never\",\"never\",\"never\",\"less1\",\"less1\",\"less1\",\"less1\",\"less1\",\"less1\",\"less1\",\"less1\",\"less1\",\"less1\",\"less1\",\"less1\",\"less1\",\"never\",\"never\",\"never\",\"never\",\"never\",\"never\",\"never\",\"never\",\"never\",\"never\",\"1~3\",\"1~3\",\"1~3\",\"1~3\",\"1~3\",\"1~3\",\"1~3\",\"1~3\",\"1~3\",\"1~3\",\"1~3\",\"1~3\",\"1~3\",\"1~3\",\"1~3\",\"1~3\",\"1~3\",\"1~3\",\"1~3\",\"1~3\",\"never\",\"never\",\"never\",\"never\",\"never\",\"never\",\"never\",\"never\",\"never\",\"never\",\"never\",\"never\",\"never\",\"never\",\"never\",\"never\",\"never\",\"never\",\"never\",\"never\",\"never\",\"never\",\"never\",\"never\",\"4~8\",\"4~8\",\"4~8\",\"4~8\",\"less1\",\"less1\",\"less1\",\"less1\",\"less1\",\"less1\",\"less1\",\"less1\",\"less1\",\"less1\",\"less1\",\"less1\",\"less1\",\"never\",\"never\",\"never\",\"never\",\"never\",\"never\",\"less1\",\"less1\",\"less1\",\"less1\",\"less1\",\"less1\",\"less1\",\"less1\",\"less1\",\"less1\",\"never\",\"never\",\"never\",\"never\",\"never\",\"never\",\"never\",\"never\",\"never\",\"never\",\"never\",\"less1\",\"less1\",\"less1\",\"less1\",\"less1\",\"less1\",\"less1\",\"less1\",\"less1\",\"less1\",\"less1\",\"never\",\"never\",\"never\",\"never\",\"never\",\"never\",\"never\",\"never\",\"never\",\"never\",\"never\",\"never\",\"never\",\"never\",\"never\",\"never\",\"never\",\"never\",\"1~3\",\"1~3\",\"1~3\",\"1~3\",\"less1\",\"less1\",\"less1\",\"less1\",\"less1\",\"less1\",\"less1\",\"less1\",\"less1\",\"less1\",\"never\",\"never\",\"never\",\"never\",\"never\",\"never\",\"never\",\"never\",\"never\",\"never\",\"less1\",\"less1\",\"less1\",\"less1\",\"less1\",\"less1\",\"less1\",\"less1\",\"less1\",\"less1\",\"less1\",\"less1\",\"less1\",\"less1\",\"less1\",\"less1\",\"less1\",\"never\",\"gt8\",\"gt8\",\"gt8\",\"gt8\",\"gt8\",\"gt8\",\"gt8\",\"gt8\",\"gt8\",\"gt8\",\"gt8\",\"gt8\",\"gt8\",\"gt8\",\"gt8\",\"gt8\",\"gt8\",\"gt8\",\"gt8\",\"gt8\",\"gt8\",\"gt8\",\"never\",\"never\",\"never\",\"never\",\"1~3\",\"1~3\",\"1~3\",\"1~3\",\"1~3\",\"1~3\",\"1~3\",\"never\",\"never\",\"never\",\"never\",\"never\",\"never\",\"never\",\"never\",\"never\",\"never\",\"1~3\",\"1~3\",\"1~3\",\"1~3\",\"1~3\",\"1~3\",\"1~3\",\"1~3\",\"1~3\",\"1~3\",\"1~3\",\"1~3\",\"1~3\",\"1~3\",\"1~3\",\"1~3\",\"1~3\",\"1~3\",\"1~3\",\"never\",\"never\",\"never\",\"never\",\"never\",\"never\",\"never\",\"never\",\"never\",\"never\",\"less1\",\"less1\",\"less1\",\"less1\",\"less1\",\"less1\",\"less1\",\"less1\",\"less1\",\"less1\",\"less1\",\"less1\",\"less1\",\"less1\",\"less1\",\"less1\",\"1~3\",\"1~3\",\"1~3\",\"1~3\",\"1~3\",\"1~3\",\"1~3\",\"1~3\",\"1~3\",\"1~3\",\"1~3\",\"1~3\",\"1~3\",\"never\",\"never\",\"never\",\"never\",\"never\",\"never\",\"never\",\"never\",\"never\",\"never\",\"never\",\"never\",\"never\",\"never\",\"never\",\"never\",\"never\",\"never\",\"never\",\"never\",\"never\",\"1~3\",\"1~3\",\"1~3\",\"less1\",\"less1\",\"less1\",\"less1\",\"less1\",\"less1\",\"less1\",\"less1\",\"less1\",\"less1\",\"less1\",\"less1\",\"less1\",\"never\",\"never\",\"never\",\"never\",\"never\",\"never\",\"never\",\"never\",\"never\",\"never\",\"never\",\"never\",\"less1\",\"less1\",\"less1\",\"less1\",\"less1\",\"never\",\"never\",\"never\",\"never\",\"never\",\"never\",\"never\",\"never\",\"never\",\"never\",\"never\",\"never\",\"never\",\"never\",\"never\",\"never\",\"never\",\"never\",\"less1\",\"less1\",\"less1\",\"less1\",\"less1\",\"less1\",\"less1\",\"less1\",\"less1\",\"less1\",\"less1\",\"less1\",\"less1\",\"less1\",\"less1\",\"less1\",\"less1\",\"less1\",\"less1\",\"less1\",\"1~3\",\"1~3\",\"1~3\",\"1~3\",\"1~3\",\"1~3\",\"1~3\",\"1~3\",\"1~3\",\"1~3\",\"4~8\",\"4~8\",\"4~8\",\"4~8\",\"4~8\",\"4~8\",\"4~8\",\"4~8\",\"4~8\",\"4~8\",\"4~8\",\"never\",\"never\",\"never\",\"never\",\"never\",\"never\",\"never\",\"less1\",\"less1\",\"less1\",\"less1\",\"less1\",\"less1\",\"less1\",\"never\",\"never\",\"never\",\"never\",\"never\",\"never\",\"never\",\"never\",\"never\",\"never\",\"less1\",\"less1\",\"less1\",\"less1\",\"less1\",\"less1\",\"less1\",\"less1\",\"1~3\",\"1~3\",\"1~3\",\"1~3\",\"1~3\",\"1~3\",\"1~3\",\"1~3\",\"1~3\",\"1~3\",\"1~3\",\"1~3\",\"1~3\",\"1~3\",\"1~3\",\"1~3\",\"never\",\"never\",\"never\",\"never\",\"never\",\"never\",\"never\",\"never\",\"never\",\"never\",\"never\",\"never\",\"1~3\",\"1~3\",\"1~3\",\"1~3\",\"1~3\",\"1~3\",\"1~3\",\"1~3\",\"1~3\",\"1~3\",\"gt8\",\"gt8\",\"gt8\",\"gt8\",\"gt8\",\"gt8\",\"gt8\",\"never\",\"never\",\"never\",\"never\",\"never\",\"never\",\"never\",\"never\",\"never\",\"never\",\"1~3\",\"1~3\",\"1~3\",\"1~3\",\"1~3\",\"1~3\",\"1~3\",\"1~3\",\"1~3\",\"never\",\"never\",\"never\",\"never\",\"never\",\"never\",\"never\",\"never\",\"less1\",\"less1\",\"less1\",\"less1\",\"less1\",\"less1\",\"less1\",\"less1\",\"less1\",\"less1\",\"less1\",\"less1\",\"less1\",\"less1\",\"less1\",\"less1\",\"less1\",\"less1\",\"less1\",\"less1\",\"less1\",\"less1\",\"never\",\"never\",\"never\",\"never\",\"never\",\"never\",\"never\",\"never\",\"never\",\"never\",\"never\",\"never\",\"never\",\"never\",\"gt8\",\"gt8\",\"gt8\",\"gt8\",\"gt8\",\"gt8\",\"gt8\",\"gt8\",\"1~3\",\"1~3\",\"1~3\",\"1~3\",\"1~3\",\"1~3\",\"less1\",\"less1\",\"less1\",\"less1\",\"less1\",\"less1\",\"less1\",\"less1\",\"less1\",\"less1\",\"less1\",\"less1\",\"less1\",\"less1\",\"less1\",\"less1\",\"less1\",\"less1\",\"less1\",\"less1\",\"less1\",\"less1\",\"never\",\"never\",\"never\",\"never\",\"never\",\"never\",\"never\",\"never\",\"never\",\"never\",\"less1\",\"less1\",\"less1\",\"less1\",\"less1\",\"less1\",\"less1\",\"less1\",\"less1\",\"less1\",\"less1\",\"less1\",\"less1\",\"less1\",\"less1\",\"less1\",\"less1\",\"less1\",\"less1\",\"less1\",\"less1\",\"less1\",\"less1\",\"less1\",\"less1\",\"less1\",\"less1\",\"less1\",\"less1\",\"less1\",\"less1\",\"less1\",\"less1\",\"less1\",\"less1\",\"less1\",\"less1\",\"less1\",\"less1\",\"less1\",\"less1\",\"less1\",\"less1\",\"less1\",\"1~3\",\"1~3\",\"1~3\",\"1~3\",\"1~3\",\"1~3\",\"1~3\",\"1~3\",\"1~3\",\"1~3\",\"never\",\"never\",\"never\",\"never\",\"less1\",\"less1\",\"less1\",\"less1\",\"less1\",\"less1\",\"less1\",\"less1\",\"less1\",\"less1\",\"less1\",\"less1\",\"less1\",\"less1\",\"less1\",\"less1\",\"less1\",\"less1\",\"never\",\"never\",\"never\",\"never\",\"never\",\"never\",\"never\",\"never\",\"never\",\"never\",\"never\",\"4~8\",\"4~8\",\"4~8\",\"4~8\",\"4~8\",\"4~8\",\"4~8\",\"1~3\",\"1~3\",\"1~3\",\"1~3\",\"1~3\",\"1~3\",\"1~3\",\"1~3\",\"1~3\",\"less1\",\"less1\",\"less1\",\"less1\",\"less1\",\"less1\",\"less1\",\"less1\",\"less1\",\"less1\",\"less1\",\"less1\",\"less1\",\"never\",\"never\",\"never\",\"never\",\"never\",\"never\",\"never\",\"never\",\"never\",\"never\",\"never\",\"never\",\"never\",\"less1\",\"less1\",\"less1\",\"less1\",\"less1\",\"less1\",\"less1\",\"less1\",\"less1\",\"less1\",\"never\",\"never\",\"never\",\"never\",\"never\",\"never\",\"never\",\"never\",\"never\",\"never\",\"never\",\"never\",\"never\",\"never\",\"never\",\"never\",\"never\",\"never\",\"never\",\"never\",\"never\",\"never\",\"never\",\"never\",\"never\",\"never\",\"never\",\"never\",\"never\",\"never\",\"never\",\"never\",\"never\",\"never\",\"gt8\",\"gt8\",\"gt8\",\"gt8\",\"gt8\",\"gt8\",\"gt8\",\"gt8\",\"gt8\",\"gt8\",\"4~8\",\"4~8\",\"4~8\",\"4~8\",\"4~8\",\"4~8\",\"less1\",\"less1\",\"less1\",\"less1\",\"less1\",\"less1\",\"less1\",\"less1\",\"less1\",\"less1\",\"less1\",\"less1\",\"less1\",\"less1\",\"1~3\",\"1~3\",\"1~3\",\"1~3\",\"1~3\",\"1~3\",\"1~3\",\"never\",\"never\",\"never\",\"never\",\"never\",\"never\",\"never\",\"never\",\"never\",\"never\",\"never\",\"less1\",\"less1\",\"less1\",\"less1\",\"less1\",\"less1\",\"less1\",\"less1\",\"less1\",\"less1\",\"less1\",\"less1\",\"less1\",\"less1\",\"less1\",\"less1\",\"less1\",\"less1\",\"less1\",\"less1\",\"less1\",\"less1\",\"never\",\"never\",\"never\",\"never\",\"never\",\"never\",\"never\",\"never\",\"never\",\"never\",\"never\",\"never\",\"never\",\"never\",\"never\",\"less1\",\"less1\",\"less1\",\"less1\",\"less1\",\"less1\",\"less1\",\"less1\",\"less1\",\"less1\",\"1~3\",\"1~3\",\"1~3\",\"1~3\",\"1~3\",\"1~3\",\"less1\",\"less1\",\"less1\",\"less1\",\"less1\",\"less1\",\"less1\",\"less1\",\"less1\",\"less1\",\"less1\",\"less1\",\"less1\",\"less1\",\"less1\",\"less1\",\"less1\",\"1~3\",\"1~3\",\"1~3\",\"1~3\",\"1~3\",\"1~3\",\"1~3\",\"1~3\",\"1~3\",\"never\",\"never\",\"never\",\"never\",\"never\",\"never\",\"never\",\"never\",\"never\",\"never\",\"never\",\"never\",\"never\",\"never\",\"never\",\"never\",\"never\",\"never\",\"never\",\"1~3\",\"1~3\",\"1~3\",\"1~3\",\"1~3\",\"1~3\",\"never\",\"never\",\"never\",\"never\",\"never\",\"never\",\"never\",\"never\",\"never\",\"never\",\"never\",\"1~3\",\"1~3\",\"1~3\",\"1~3\",\"1~3\",\"1~3\",\"1~3\",\"1~3\",\"1~3\",\"1~3\",\"1~3\",\"1~3\",\"1~3\",\"1~3\",\"1~3\",\"never\",\"never\",\"never\",\"never\",\"never\",\"never\",\"never\",\"never\",\"never\",\"never\",\"never\",\"never\",\"never\",\"never\",\"never\",\"never\",\"never\",\"never\",\"never\",\"never\",\"never\",\"never\",\"never\",\"never\",\"never\",\"never\",\"never\",\"never\",\"never\",\"never\",\"never\",\"never\",\"never\",\"never\",\"never\",\"never\",\"never\",\"never\",\"never\",\"never\",\"never\",\"never\",\"never\",\"never\",\"never\",\"never\",\"never\",\"never\",\"never\",\"never\",\"never\",\"never\",\"never\",\"never\",\"less1\",\"less1\",\"less1\",\"less1\",\"less1\",\"less1\",\"less1\",\"less1\",\"less1\",\"less1\",\"less1\",\"less1\",\"never\",\"never\",\"never\",\"never\",\"never\",\"never\",\"never\",\"never\",\"never\",\"never\",\"never\",\"never\"],\"y0\":\" \",\"yaxis\":\"y\",\"type\":\"box\"},{\"marker\":{\"color\":\"blue\"},\"name\":\"Accepted\",\"showlegend\":false,\"x\":[\"never\",\"less1\",\"1~3\",\"4~8\",\"gt8\"],\"y\":[2822,1963,1538,686,201],\"type\":\"bar\",\"xaxis\":\"x2\",\"yaxis\":\"y2\"},{\"marker\":{\"color\":\"green\"},\"name\":\"Rejected\",\"showlegend\":false,\"x\":[\"never\",\"less1\",\"1~3\",\"4~8\",\"gt8\"],\"y\":[2482,1519,935,390,148],\"type\":\"bar\",\"xaxis\":\"x2\",\"yaxis\":\"y2\"}],                        {\"template\":{\"data\":{\"histogram2dcontour\":[{\"type\":\"histogram2dcontour\",\"colorbar\":{\"outlinewidth\":0,\"ticks\":\"\"},\"colorscale\":[[0.0,\"#0d0887\"],[0.1111111111111111,\"#46039f\"],[0.2222222222222222,\"#7201a8\"],[0.3333333333333333,\"#9c179e\"],[0.4444444444444444,\"#bd3786\"],[0.5555555555555556,\"#d8576b\"],[0.6666666666666666,\"#ed7953\"],[0.7777777777777778,\"#fb9f3a\"],[0.8888888888888888,\"#fdca26\"],[1.0,\"#f0f921\"]]}],\"choropleth\":[{\"type\":\"choropleth\",\"colorbar\":{\"outlinewidth\":0,\"ticks\":\"\"}}],\"histogram2d\":[{\"type\":\"histogram2d\",\"colorbar\":{\"outlinewidth\":0,\"ticks\":\"\"},\"colorscale\":[[0.0,\"#0d0887\"],[0.1111111111111111,\"#46039f\"],[0.2222222222222222,\"#7201a8\"],[0.3333333333333333,\"#9c179e\"],[0.4444444444444444,\"#bd3786\"],[0.5555555555555556,\"#d8576b\"],[0.6666666666666666,\"#ed7953\"],[0.7777777777777778,\"#fb9f3a\"],[0.8888888888888888,\"#fdca26\"],[1.0,\"#f0f921\"]]}],\"heatmap\":[{\"type\":\"heatmap\",\"colorbar\":{\"outlinewidth\":0,\"ticks\":\"\"},\"colorscale\":[[0.0,\"#0d0887\"],[0.1111111111111111,\"#46039f\"],[0.2222222222222222,\"#7201a8\"],[0.3333333333333333,\"#9c179e\"],[0.4444444444444444,\"#bd3786\"],[0.5555555555555556,\"#d8576b\"],[0.6666666666666666,\"#ed7953\"],[0.7777777777777778,\"#fb9f3a\"],[0.8888888888888888,\"#fdca26\"],[1.0,\"#f0f921\"]]}],\"heatmapgl\":[{\"type\":\"heatmapgl\",\"colorbar\":{\"outlinewidth\":0,\"ticks\":\"\"},\"colorscale\":[[0.0,\"#0d0887\"],[0.1111111111111111,\"#46039f\"],[0.2222222222222222,\"#7201a8\"],[0.3333333333333333,\"#9c179e\"],[0.4444444444444444,\"#bd3786\"],[0.5555555555555556,\"#d8576b\"],[0.6666666666666666,\"#ed7953\"],[0.7777777777777778,\"#fb9f3a\"],[0.8888888888888888,\"#fdca26\"],[1.0,\"#f0f921\"]]}],\"contourcarpet\":[{\"type\":\"contourcarpet\",\"colorbar\":{\"outlinewidth\":0,\"ticks\":\"\"}}],\"contour\":[{\"type\":\"contour\",\"colorbar\":{\"outlinewidth\":0,\"ticks\":\"\"},\"colorscale\":[[0.0,\"#0d0887\"],[0.1111111111111111,\"#46039f\"],[0.2222222222222222,\"#7201a8\"],[0.3333333333333333,\"#9c179e\"],[0.4444444444444444,\"#bd3786\"],[0.5555555555555556,\"#d8576b\"],[0.6666666666666666,\"#ed7953\"],[0.7777777777777778,\"#fb9f3a\"],[0.8888888888888888,\"#fdca26\"],[1.0,\"#f0f921\"]]}],\"surface\":[{\"type\":\"surface\",\"colorbar\":{\"outlinewidth\":0,\"ticks\":\"\"},\"colorscale\":[[0.0,\"#0d0887\"],[0.1111111111111111,\"#46039f\"],[0.2222222222222222,\"#7201a8\"],[0.3333333333333333,\"#9c179e\"],[0.4444444444444444,\"#bd3786\"],[0.5555555555555556,\"#d8576b\"],[0.6666666666666666,\"#ed7953\"],[0.7777777777777778,\"#fb9f3a\"],[0.8888888888888888,\"#fdca26\"],[1.0,\"#f0f921\"]]}],\"mesh3d\":[{\"type\":\"mesh3d\",\"colorbar\":{\"outlinewidth\":0,\"ticks\":\"\"}}],\"scatter\":[{\"fillpattern\":{\"fillmode\":\"overlay\",\"size\":10,\"solidity\":0.2},\"type\":\"scatter\"}],\"parcoords\":[{\"type\":\"parcoords\",\"line\":{\"colorbar\":{\"outlinewidth\":0,\"ticks\":\"\"}}}],\"scatterpolargl\":[{\"type\":\"scatterpolargl\",\"marker\":{\"colorbar\":{\"outlinewidth\":0,\"ticks\":\"\"}}}],\"bar\":[{\"error_x\":{\"color\":\"#2a3f5f\"},\"error_y\":{\"color\":\"#2a3f5f\"},\"marker\":{\"line\":{\"color\":\"#E5ECF6\",\"width\":0.5},\"pattern\":{\"fillmode\":\"overlay\",\"size\":10,\"solidity\":0.2}},\"type\":\"bar\"}],\"scattergeo\":[{\"type\":\"scattergeo\",\"marker\":{\"colorbar\":{\"outlinewidth\":0,\"ticks\":\"\"}}}],\"scatterpolar\":[{\"type\":\"scatterpolar\",\"marker\":{\"colorbar\":{\"outlinewidth\":0,\"ticks\":\"\"}}}],\"histogram\":[{\"marker\":{\"pattern\":{\"fillmode\":\"overlay\",\"size\":10,\"solidity\":0.2}},\"type\":\"histogram\"}],\"scattergl\":[{\"type\":\"scattergl\",\"marker\":{\"colorbar\":{\"outlinewidth\":0,\"ticks\":\"\"}}}],\"scatter3d\":[{\"type\":\"scatter3d\",\"line\":{\"colorbar\":{\"outlinewidth\":0,\"ticks\":\"\"}},\"marker\":{\"colorbar\":{\"outlinewidth\":0,\"ticks\":\"\"}}}],\"scattermapbox\":[{\"type\":\"scattermapbox\",\"marker\":{\"colorbar\":{\"outlinewidth\":0,\"ticks\":\"\"}}}],\"scatterternary\":[{\"type\":\"scatterternary\",\"marker\":{\"colorbar\":{\"outlinewidth\":0,\"ticks\":\"\"}}}],\"scattercarpet\":[{\"type\":\"scattercarpet\",\"marker\":{\"colorbar\":{\"outlinewidth\":0,\"ticks\":\"\"}}}],\"carpet\":[{\"aaxis\":{\"endlinecolor\":\"#2a3f5f\",\"gridcolor\":\"white\",\"linecolor\":\"white\",\"minorgridcolor\":\"white\",\"startlinecolor\":\"#2a3f5f\"},\"baxis\":{\"endlinecolor\":\"#2a3f5f\",\"gridcolor\":\"white\",\"linecolor\":\"white\",\"minorgridcolor\":\"white\",\"startlinecolor\":\"#2a3f5f\"},\"type\":\"carpet\"}],\"table\":[{\"cells\":{\"fill\":{\"color\":\"#EBF0F8\"},\"line\":{\"color\":\"white\"}},\"header\":{\"fill\":{\"color\":\"#C8D4E3\"},\"line\":{\"color\":\"white\"}},\"type\":\"table\"}],\"barpolar\":[{\"marker\":{\"line\":{\"color\":\"#E5ECF6\",\"width\":0.5},\"pattern\":{\"fillmode\":\"overlay\",\"size\":10,\"solidity\":0.2}},\"type\":\"barpolar\"}],\"pie\":[{\"automargin\":true,\"type\":\"pie\"}]},\"layout\":{\"autotypenumbers\":\"strict\",\"colorway\":[\"#636efa\",\"#EF553B\",\"#00cc96\",\"#ab63fa\",\"#FFA15A\",\"#19d3f3\",\"#FF6692\",\"#B6E880\",\"#FF97FF\",\"#FECB52\"],\"font\":{\"color\":\"#2a3f5f\"},\"hovermode\":\"closest\",\"hoverlabel\":{\"align\":\"left\"},\"paper_bgcolor\":\"white\",\"plot_bgcolor\":\"#E5ECF6\",\"polar\":{\"bgcolor\":\"#E5ECF6\",\"angularaxis\":{\"gridcolor\":\"white\",\"linecolor\":\"white\",\"ticks\":\"\"},\"radialaxis\":{\"gridcolor\":\"white\",\"linecolor\":\"white\",\"ticks\":\"\"}},\"ternary\":{\"bgcolor\":\"#E5ECF6\",\"aaxis\":{\"gridcolor\":\"white\",\"linecolor\":\"white\",\"ticks\":\"\"},\"baxis\":{\"gridcolor\":\"white\",\"linecolor\":\"white\",\"ticks\":\"\"},\"caxis\":{\"gridcolor\":\"white\",\"linecolor\":\"white\",\"ticks\":\"\"}},\"coloraxis\":{\"colorbar\":{\"outlinewidth\":0,\"ticks\":\"\"}},\"colorscale\":{\"sequential\":[[0.0,\"#0d0887\"],[0.1111111111111111,\"#46039f\"],[0.2222222222222222,\"#7201a8\"],[0.3333333333333333,\"#9c179e\"],[0.4444444444444444,\"#bd3786\"],[0.5555555555555556,\"#d8576b\"],[0.6666666666666666,\"#ed7953\"],[0.7777777777777778,\"#fb9f3a\"],[0.8888888888888888,\"#fdca26\"],[1.0,\"#f0f921\"]],\"sequentialminus\":[[0.0,\"#0d0887\"],[0.1111111111111111,\"#46039f\"],[0.2222222222222222,\"#7201a8\"],[0.3333333333333333,\"#9c179e\"],[0.4444444444444444,\"#bd3786\"],[0.5555555555555556,\"#d8576b\"],[0.6666666666666666,\"#ed7953\"],[0.7777777777777778,\"#fb9f3a\"],[0.8888888888888888,\"#fdca26\"],[1.0,\"#f0f921\"]],\"diverging\":[[0,\"#8e0152\"],[0.1,\"#c51b7d\"],[0.2,\"#de77ae\"],[0.3,\"#f1b6da\"],[0.4,\"#fde0ef\"],[0.5,\"#f7f7f7\"],[0.6,\"#e6f5d0\"],[0.7,\"#b8e186\"],[0.8,\"#7fbc41\"],[0.9,\"#4d9221\"],[1,\"#276419\"]]},\"xaxis\":{\"gridcolor\":\"white\",\"linecolor\":\"white\",\"ticks\":\"\",\"title\":{\"standoff\":15},\"zerolinecolor\":\"white\",\"automargin\":true,\"zerolinewidth\":2},\"yaxis\":{\"gridcolor\":\"white\",\"linecolor\":\"white\",\"ticks\":\"\",\"title\":{\"standoff\":15},\"zerolinecolor\":\"white\",\"automargin\":true,\"zerolinewidth\":2},\"scene\":{\"xaxis\":{\"backgroundcolor\":\"#E5ECF6\",\"gridcolor\":\"white\",\"linecolor\":\"white\",\"showbackground\":true,\"ticks\":\"\",\"zerolinecolor\":\"white\",\"gridwidth\":2},\"yaxis\":{\"backgroundcolor\":\"#E5ECF6\",\"gridcolor\":\"white\",\"linecolor\":\"white\",\"showbackground\":true,\"ticks\":\"\",\"zerolinecolor\":\"white\",\"gridwidth\":2},\"zaxis\":{\"backgroundcolor\":\"#E5ECF6\",\"gridcolor\":\"white\",\"linecolor\":\"white\",\"showbackground\":true,\"ticks\":\"\",\"zerolinecolor\":\"white\",\"gridwidth\":2}},\"shapedefaults\":{\"line\":{\"color\":\"#2a3f5f\"}},\"annotationdefaults\":{\"arrowcolor\":\"#2a3f5f\",\"arrowhead\":0,\"arrowwidth\":1},\"geo\":{\"bgcolor\":\"white\",\"landcolor\":\"#E5ECF6\",\"subunitcolor\":\"white\",\"showland\":true,\"showlakes\":true,\"lakecolor\":\"white\"},\"title\":{\"x\":0.05},\"mapbox\":{\"style\":\"light\"}}},\"xaxis\":{\"anchor\":\"y\",\"domain\":[0.0,0.45]},\"yaxis\":{\"anchor\":\"x\",\"domain\":[0.0,1.0]},\"xaxis2\":{\"anchor\":\"y2\",\"domain\":[0.55,1.0]},\"yaxis2\":{\"anchor\":\"x2\",\"domain\":[0.0,1.0]},\"annotations\":[{\"font\":{\"size\":16},\"showarrow\":false,\"text\":\"Box Plot\",\"x\":0.225,\"xanchor\":\"center\",\"xref\":\"paper\",\"y\":1.0,\"yanchor\":\"bottom\",\"yref\":\"paper\"},{\"font\":{\"size\":16},\"showarrow\":false,\"text\":\"Bar Plot\",\"x\":0.775,\"xanchor\":\"center\",\"xref\":\"paper\",\"y\":1.0,\"yanchor\":\"bottom\",\"yref\":\"paper\"}],\"barmode\":\"group\"},                        {\"responsive\": true}                    ).then(function(){\n",
              "                            \n",
              "var gd = document.getElementById('99aaf60e-33de-44a0-be3a-ba8d997d4013');\n",
              "var x = new MutationObserver(function (mutations, observer) {{\n",
              "        var display = window.getComputedStyle(gd).display;\n",
              "        if (!display || display === 'none') {{\n",
              "            console.log([gd, 'removed!']);\n",
              "            Plotly.purge(gd);\n",
              "            observer.disconnect();\n",
              "        }}\n",
              "}});\n",
              "\n",
              "// Listen for the removal of the full notebook cells\n",
              "var notebookContainer = gd.closest('#notebook-container');\n",
              "if (notebookContainer) {{\n",
              "    x.observe(notebookContainer, {childList: true});\n",
              "}}\n",
              "\n",
              "// Listen for the clearing of the current output cell\n",
              "var outputEl = gd.closest('.output');\n",
              "if (outputEl) {{\n",
              "    x.observe(outputEl, {childList: true});\n",
              "}}\n",
              "\n",
              "                        })                };                            </script>        </div>\n",
              "</body>\n",
              "</html>"
            ]
          },
          "metadata": {}
        }
      ]
    },
    {
      "cell_type": "markdown",
      "source": [
        "## Box plot\n",
        "**No clear acceptance**: This is explained by the overlapping boxes and medians. Because the key summary statistics for the Bar variable are so similar and overlap between the two outcomes, Bar alone does not provide a clear distinction between an 'Accepted' and a 'Rejected' result.\n",
        "## Bar plot\n",
        "What it reveal is that the number of Accepted vs. Rejected outcomes."
      ],
      "metadata": {
        "id": "GW9-Zdqh_btY"
      }
    },
    {
      "cell_type": "markdown",
      "source": [
        "# What proportion of bar coupons were accepted?"
      ],
      "metadata": {
        "id": "v2JM93UAnKVj"
      }
    },
    {
      "cell_type": "code",
      "source": [
        "bar_summary_df = bivariate_analysis(bar_df, 'Bar')\n",
        "bar_summary_df"
      ],
      "metadata": {
        "colab": {
          "base_uri": "https://localhost:8080/",
          "height": 206
        },
        "id": "sBbF2RbPDitB",
        "outputId": "b134d171-133a-4406-c2d3-5eedba0ffba9"
      },
      "execution_count": null,
      "outputs": [
        {
          "output_type": "execute_result",
          "data": {
            "text/plain": [
              "     Bar  Total  Accepted  Rejected  Accepted%  Rejected%\n",
              "4  never   5304      2822      2482     53.205     46.795\n",
              "3  less1   3482      1963      1519     56.376     43.624\n",
              "0    1~3   2473      1538       935     62.192     37.808\n",
              "1    4~8   1076       686       390     63.755     36.245\n",
              "2    gt8    349       201       148     57.593     42.407"
            ],
            "text/html": [
              "\n",
              "  <div id=\"df-c9cb3213-add9-4b89-b761-66960b51be1f\" class=\"colab-df-container\">\n",
              "    <div>\n",
              "<style scoped>\n",
              "    .dataframe tbody tr th:only-of-type {\n",
              "        vertical-align: middle;\n",
              "    }\n",
              "\n",
              "    .dataframe tbody tr th {\n",
              "        vertical-align: top;\n",
              "    }\n",
              "\n",
              "    .dataframe thead th {\n",
              "        text-align: right;\n",
              "    }\n",
              "</style>\n",
              "<table border=\"1\" class=\"dataframe\">\n",
              "  <thead>\n",
              "    <tr style=\"text-align: right;\">\n",
              "      <th></th>\n",
              "      <th>Bar</th>\n",
              "      <th>Total</th>\n",
              "      <th>Accepted</th>\n",
              "      <th>Rejected</th>\n",
              "      <th>Accepted%</th>\n",
              "      <th>Rejected%</th>\n",
              "    </tr>\n",
              "  </thead>\n",
              "  <tbody>\n",
              "    <tr>\n",
              "      <th>4</th>\n",
              "      <td>never</td>\n",
              "      <td>5304</td>\n",
              "      <td>2822</td>\n",
              "      <td>2482</td>\n",
              "      <td>53.205</td>\n",
              "      <td>46.795</td>\n",
              "    </tr>\n",
              "    <tr>\n",
              "      <th>3</th>\n",
              "      <td>less1</td>\n",
              "      <td>3482</td>\n",
              "      <td>1963</td>\n",
              "      <td>1519</td>\n",
              "      <td>56.376</td>\n",
              "      <td>43.624</td>\n",
              "    </tr>\n",
              "    <tr>\n",
              "      <th>0</th>\n",
              "      <td>1~3</td>\n",
              "      <td>2473</td>\n",
              "      <td>1538</td>\n",
              "      <td>935</td>\n",
              "      <td>62.192</td>\n",
              "      <td>37.808</td>\n",
              "    </tr>\n",
              "    <tr>\n",
              "      <th>1</th>\n",
              "      <td>4~8</td>\n",
              "      <td>1076</td>\n",
              "      <td>686</td>\n",
              "      <td>390</td>\n",
              "      <td>63.755</td>\n",
              "      <td>36.245</td>\n",
              "    </tr>\n",
              "    <tr>\n",
              "      <th>2</th>\n",
              "      <td>gt8</td>\n",
              "      <td>349</td>\n",
              "      <td>201</td>\n",
              "      <td>148</td>\n",
              "      <td>57.593</td>\n",
              "      <td>42.407</td>\n",
              "    </tr>\n",
              "  </tbody>\n",
              "</table>\n",
              "</div>\n",
              "    <div class=\"colab-df-buttons\">\n",
              "\n",
              "  <div class=\"colab-df-container\">\n",
              "    <button class=\"colab-df-convert\" onclick=\"convertToInteractive('df-c9cb3213-add9-4b89-b761-66960b51be1f')\"\n",
              "            title=\"Convert this dataframe to an interactive table.\"\n",
              "            style=\"display:none;\">\n",
              "\n",
              "  <svg xmlns=\"http://www.w3.org/2000/svg\" height=\"24px\" viewBox=\"0 -960 960 960\">\n",
              "    <path d=\"M120-120v-720h720v720H120Zm60-500h600v-160H180v160Zm220 220h160v-160H400v160Zm0 220h160v-160H400v160ZM180-400h160v-160H180v160Zm440 0h160v-160H620v160ZM180-180h160v-160H180v160Zm440 0h160v-160H620v160Z\"/>\n",
              "  </svg>\n",
              "    </button>\n",
              "\n",
              "  <style>\n",
              "    .colab-df-container {\n",
              "      display:flex;\n",
              "      gap: 12px;\n",
              "    }\n",
              "\n",
              "    .colab-df-convert {\n",
              "      background-color: #E8F0FE;\n",
              "      border: none;\n",
              "      border-radius: 50%;\n",
              "      cursor: pointer;\n",
              "      display: none;\n",
              "      fill: #1967D2;\n",
              "      height: 32px;\n",
              "      padding: 0 0 0 0;\n",
              "      width: 32px;\n",
              "    }\n",
              "\n",
              "    .colab-df-convert:hover {\n",
              "      background-color: #E2EBFA;\n",
              "      box-shadow: 0px 1px 2px rgba(60, 64, 67, 0.3), 0px 1px 3px 1px rgba(60, 64, 67, 0.15);\n",
              "      fill: #174EA6;\n",
              "    }\n",
              "\n",
              "    .colab-df-buttons div {\n",
              "      margin-bottom: 4px;\n",
              "    }\n",
              "\n",
              "    [theme=dark] .colab-df-convert {\n",
              "      background-color: #3B4455;\n",
              "      fill: #D2E3FC;\n",
              "    }\n",
              "\n",
              "    [theme=dark] .colab-df-convert:hover {\n",
              "      background-color: #434B5C;\n",
              "      box-shadow: 0px 1px 3px 1px rgba(0, 0, 0, 0.15);\n",
              "      filter: drop-shadow(0px 1px 2px rgba(0, 0, 0, 0.3));\n",
              "      fill: #FFFFFF;\n",
              "    }\n",
              "  </style>\n",
              "\n",
              "    <script>\n",
              "      const buttonEl =\n",
              "        document.querySelector('#df-c9cb3213-add9-4b89-b761-66960b51be1f button.colab-df-convert');\n",
              "      buttonEl.style.display =\n",
              "        google.colab.kernel.accessAllowed ? 'block' : 'none';\n",
              "\n",
              "      async function convertToInteractive(key) {\n",
              "        const element = document.querySelector('#df-c9cb3213-add9-4b89-b761-66960b51be1f');\n",
              "        const dataTable =\n",
              "          await google.colab.kernel.invokeFunction('convertToInteractive',\n",
              "                                                    [key], {});\n",
              "        if (!dataTable) return;\n",
              "\n",
              "        const docLinkHtml = 'Like what you see? Visit the ' +\n",
              "          '<a target=\"_blank\" href=https://colab.research.google.com/notebooks/data_table.ipynb>data table notebook</a>'\n",
              "          + ' to learn more about interactive tables.';\n",
              "        element.innerHTML = '';\n",
              "        dataTable['output_type'] = 'display_data';\n",
              "        await google.colab.output.renderOutput(dataTable, element);\n",
              "        const docLink = document.createElement('div');\n",
              "        docLink.innerHTML = docLinkHtml;\n",
              "        element.appendChild(docLink);\n",
              "      }\n",
              "    </script>\n",
              "  </div>\n",
              "\n",
              "\n",
              "    <div id=\"df-7fdb294e-5b07-40d9-86b1-19c072703f1d\">\n",
              "      <button class=\"colab-df-quickchart\" onclick=\"quickchart('df-7fdb294e-5b07-40d9-86b1-19c072703f1d')\"\n",
              "                title=\"Suggest charts\"\n",
              "                style=\"display:none;\">\n",
              "\n",
              "<svg xmlns=\"http://www.w3.org/2000/svg\" height=\"24px\"viewBox=\"0 0 24 24\"\n",
              "     width=\"24px\">\n",
              "    <g>\n",
              "        <path d=\"M19 3H5c-1.1 0-2 .9-2 2v14c0 1.1.9 2 2 2h14c1.1 0 2-.9 2-2V5c0-1.1-.9-2-2-2zM9 17H7v-7h2v7zm4 0h-2V7h2v10zm4 0h-2v-4h2v4z\"/>\n",
              "    </g>\n",
              "</svg>\n",
              "      </button>\n",
              "\n",
              "<style>\n",
              "  .colab-df-quickchart {\n",
              "      --bg-color: #E8F0FE;\n",
              "      --fill-color: #1967D2;\n",
              "      --hover-bg-color: #E2EBFA;\n",
              "      --hover-fill-color: #174EA6;\n",
              "      --disabled-fill-color: #AAA;\n",
              "      --disabled-bg-color: #DDD;\n",
              "  }\n",
              "\n",
              "  [theme=dark] .colab-df-quickchart {\n",
              "      --bg-color: #3B4455;\n",
              "      --fill-color: #D2E3FC;\n",
              "      --hover-bg-color: #434B5C;\n",
              "      --hover-fill-color: #FFFFFF;\n",
              "      --disabled-bg-color: #3B4455;\n",
              "      --disabled-fill-color: #666;\n",
              "  }\n",
              "\n",
              "  .colab-df-quickchart {\n",
              "    background-color: var(--bg-color);\n",
              "    border: none;\n",
              "    border-radius: 50%;\n",
              "    cursor: pointer;\n",
              "    display: none;\n",
              "    fill: var(--fill-color);\n",
              "    height: 32px;\n",
              "    padding: 0;\n",
              "    width: 32px;\n",
              "  }\n",
              "\n",
              "  .colab-df-quickchart:hover {\n",
              "    background-color: var(--hover-bg-color);\n",
              "    box-shadow: 0 1px 2px rgba(60, 64, 67, 0.3), 0 1px 3px 1px rgba(60, 64, 67, 0.15);\n",
              "    fill: var(--button-hover-fill-color);\n",
              "  }\n",
              "\n",
              "  .colab-df-quickchart-complete:disabled,\n",
              "  .colab-df-quickchart-complete:disabled:hover {\n",
              "    background-color: var(--disabled-bg-color);\n",
              "    fill: var(--disabled-fill-color);\n",
              "    box-shadow: none;\n",
              "  }\n",
              "\n",
              "  .colab-df-spinner {\n",
              "    border: 2px solid var(--fill-color);\n",
              "    border-color: transparent;\n",
              "    border-bottom-color: var(--fill-color);\n",
              "    animation:\n",
              "      spin 1s steps(1) infinite;\n",
              "  }\n",
              "\n",
              "  @keyframes spin {\n",
              "    0% {\n",
              "      border-color: transparent;\n",
              "      border-bottom-color: var(--fill-color);\n",
              "      border-left-color: var(--fill-color);\n",
              "    }\n",
              "    20% {\n",
              "      border-color: transparent;\n",
              "      border-left-color: var(--fill-color);\n",
              "      border-top-color: var(--fill-color);\n",
              "    }\n",
              "    30% {\n",
              "      border-color: transparent;\n",
              "      border-left-color: var(--fill-color);\n",
              "      border-top-color: var(--fill-color);\n",
              "      border-right-color: var(--fill-color);\n",
              "    }\n",
              "    40% {\n",
              "      border-color: transparent;\n",
              "      border-right-color: var(--fill-color);\n",
              "      border-top-color: var(--fill-color);\n",
              "    }\n",
              "    60% {\n",
              "      border-color: transparent;\n",
              "      border-right-color: var(--fill-color);\n",
              "    }\n",
              "    80% {\n",
              "      border-color: transparent;\n",
              "      border-right-color: var(--fill-color);\n",
              "      border-bottom-color: var(--fill-color);\n",
              "    }\n",
              "    90% {\n",
              "      border-color: transparent;\n",
              "      border-bottom-color: var(--fill-color);\n",
              "    }\n",
              "  }\n",
              "</style>\n",
              "\n",
              "      <script>\n",
              "        async function quickchart(key) {\n",
              "          const quickchartButtonEl =\n",
              "            document.querySelector('#' + key + ' button');\n",
              "          quickchartButtonEl.disabled = true;  // To prevent multiple clicks.\n",
              "          quickchartButtonEl.classList.add('colab-df-spinner');\n",
              "          try {\n",
              "            const charts = await google.colab.kernel.invokeFunction(\n",
              "                'suggestCharts', [key], {});\n",
              "          } catch (error) {\n",
              "            console.error('Error during call to suggestCharts:', error);\n",
              "          }\n",
              "          quickchartButtonEl.classList.remove('colab-df-spinner');\n",
              "          quickchartButtonEl.classList.add('colab-df-quickchart-complete');\n",
              "        }\n",
              "        (() => {\n",
              "          let quickchartButtonEl =\n",
              "            document.querySelector('#df-7fdb294e-5b07-40d9-86b1-19c072703f1d button');\n",
              "          quickchartButtonEl.style.display =\n",
              "            google.colab.kernel.accessAllowed ? 'block' : 'none';\n",
              "        })();\n",
              "      </script>\n",
              "    </div>\n",
              "\n",
              "  <div id=\"id_7641617b-8098-4f66-8a79-0e1c55d7bdde\">\n",
              "    <style>\n",
              "      .colab-df-generate {\n",
              "        background-color: #E8F0FE;\n",
              "        border: none;\n",
              "        border-radius: 50%;\n",
              "        cursor: pointer;\n",
              "        display: none;\n",
              "        fill: #1967D2;\n",
              "        height: 32px;\n",
              "        padding: 0 0 0 0;\n",
              "        width: 32px;\n",
              "      }\n",
              "\n",
              "      .colab-df-generate:hover {\n",
              "        background-color: #E2EBFA;\n",
              "        box-shadow: 0px 1px 2px rgba(60, 64, 67, 0.3), 0px 1px 3px 1px rgba(60, 64, 67, 0.15);\n",
              "        fill: #174EA6;\n",
              "      }\n",
              "\n",
              "      [theme=dark] .colab-df-generate {\n",
              "        background-color: #3B4455;\n",
              "        fill: #D2E3FC;\n",
              "      }\n",
              "\n",
              "      [theme=dark] .colab-df-generate:hover {\n",
              "        background-color: #434B5C;\n",
              "        box-shadow: 0px 1px 3px 1px rgba(0, 0, 0, 0.15);\n",
              "        filter: drop-shadow(0px 1px 2px rgba(0, 0, 0, 0.3));\n",
              "        fill: #FFFFFF;\n",
              "      }\n",
              "    </style>\n",
              "    <button class=\"colab-df-generate\" onclick=\"generateWithVariable('bar_summary_df')\"\n",
              "            title=\"Generate code using this dataframe.\"\n",
              "            style=\"display:none;\">\n",
              "\n",
              "  <svg xmlns=\"http://www.w3.org/2000/svg\" height=\"24px\"viewBox=\"0 0 24 24\"\n",
              "       width=\"24px\">\n",
              "    <path d=\"M7,19H8.4L18.45,9,17,7.55,7,17.6ZM5,21V16.75L18.45,3.32a2,2,0,0,1,2.83,0l1.4,1.43a1.91,1.91,0,0,1,.58,1.4,1.91,1.91,0,0,1-.58,1.4L9.25,21ZM18.45,9,17,7.55Zm-12,3A5.31,5.31,0,0,0,4.9,8.1,5.31,5.31,0,0,0,1,6.5,5.31,5.31,0,0,0,4.9,4.9,5.31,5.31,0,0,0,6.5,1,5.31,5.31,0,0,0,8.1,4.9,5.31,5.31,0,0,0,12,6.5,5.46,5.46,0,0,0,6.5,12Z\"/>\n",
              "  </svg>\n",
              "    </button>\n",
              "    <script>\n",
              "      (() => {\n",
              "      const buttonEl =\n",
              "        document.querySelector('#id_7641617b-8098-4f66-8a79-0e1c55d7bdde button.colab-df-generate');\n",
              "      buttonEl.style.display =\n",
              "        google.colab.kernel.accessAllowed ? 'block' : 'none';\n",
              "\n",
              "      buttonEl.onclick = () => {\n",
              "        google.colab.notebook.generateWithVariable('bar_summary_df');\n",
              "      }\n",
              "      })();\n",
              "    </script>\n",
              "  </div>\n",
              "\n",
              "    </div>\n",
              "  </div>\n"
            ],
            "application/vnd.google.colaboratory.intrinsic+json": {
              "type": "dataframe",
              "variable_name": "bar_summary_df",
              "summary": "{\n  \"name\": \"bar_summary_df\",\n  \"rows\": 5,\n  \"fields\": [\n    {\n      \"column\": \"Bar\",\n      \"properties\": {\n        \"dtype\": \"string\",\n        \"num_unique_values\": 5,\n        \"samples\": [\n          \"less1\",\n          \"gt8\",\n          \"1~3\"\n        ],\n        \"semantic_type\": \"\",\n        \"description\": \"\"\n      }\n    },\n    {\n      \"column\": \"Total\",\n      \"properties\": {\n        \"dtype\": \"number\",\n        \"std\": 1966,\n        \"min\": 349,\n        \"max\": 5304,\n        \"num_unique_values\": 5,\n        \"samples\": [\n          3482,\n          349,\n          2473\n        ],\n        \"semantic_type\": \"\",\n        \"description\": \"\"\n      }\n    },\n    {\n      \"column\": \"Accepted\",\n      \"properties\": {\n        \"dtype\": \"number\",\n        \"std\": 1036,\n        \"min\": 201,\n        \"max\": 2822,\n        \"num_unique_values\": 5,\n        \"samples\": [\n          1963,\n          201,\n          1538\n        ],\n        \"semantic_type\": \"\",\n        \"description\": \"\"\n      }\n    },\n    {\n      \"column\": \"Rejected\",\n      \"properties\": {\n        \"dtype\": \"number\",\n        \"std\": 938,\n        \"min\": 148,\n        \"max\": 2482,\n        \"num_unique_values\": 5,\n        \"samples\": [\n          1519,\n          148,\n          935\n        ],\n        \"semantic_type\": \"\",\n        \"description\": \"\"\n      }\n    },\n    {\n      \"column\": \"Accepted%\",\n      \"properties\": {\n        \"dtype\": \"number\",\n        \"std\": 4.3168220602660945,\n        \"min\": 53.205,\n        \"max\": 63.755,\n        \"num_unique_values\": 5,\n        \"samples\": [\n          56.376,\n          57.593,\n          62.192\n        ],\n        \"semantic_type\": \"\",\n        \"description\": \"\"\n      }\n    },\n    {\n      \"column\": \"Rejected%\",\n      \"properties\": {\n        \"dtype\": \"number\",\n        \"std\": 4.3168220602660945,\n        \"min\": 36.245,\n        \"max\": 46.795,\n        \"num_unique_values\": 5,\n        \"samples\": [\n          43.624,\n          42.407,\n          37.808\n        ],\n        \"semantic_type\": \"\",\n        \"description\": \"\"\n      }\n    }\n  ]\n}"
            }
          },
          "metadata": {},
          "execution_count": 61
        }
      ]
    },
    {
      "cell_type": "markdown",
      "source": [
        "In the above plot, we can see that the acceptance percentage for both the 1 to 3 and 4 to 8 times bar is very close (62% is close to 63.7%)."
      ],
      "metadata": {
        "id": "w_417ozwHT2I"
      }
    },
    {
      "cell_type": "markdown",
      "source": [
        "**Compare the acceptance rate between those who went to a bar 3 or fewer times a month to those who went more.**"
      ],
      "metadata": {
        "id": "eemtQnm4nV3X"
      }
    },
    {
      "cell_type": "code",
      "source": [
        "\n",
        "bar_frequency_3_or_fewer = ['less1', '1~3']\n",
        "bar_frequency_more_than_3 = ['4~8', 'gt8']\n",
        "bar_df['category'] = 'Other'\n",
        "bar_df.loc[bar_df['Bar'].isin(bar_frequency_3_or_fewer), 'category'] = '3 or fewer'\n",
        "bar_df.loc[bar_df['Bar'].isin(bar_frequency_more_than_3), 'category'] = 'more than 3'\n",
        "\n",
        "contingency_table = pd.crosstab(\n",
        "    bar_df['category'],\n",
        "    bar_df['Y'],\n",
        "    normalize='index'\n",
        ") * 100\n",
        "\n",
        "print(\"Contingency Table (Percentages):\")\n",
        "print(contingency_table)"
      ],
      "metadata": {
        "colab": {
          "base_uri": "https://localhost:8080/"
        },
        "id": "8Jl8NVL1jIr5",
        "outputId": "76ad1dfa-d2a9-4434-b0b3-4d6f0db1ebb4"
      },
      "execution_count": null,
      "outputs": [
        {
          "output_type": "stream",
          "name": "stderr",
          "text": [
            "/tmp/ipython-input-2374431053.py:3: SettingWithCopyWarning:\n",
            "\n",
            "\n",
            "A value is trying to be set on a copy of a slice from a DataFrame.\n",
            "Try using .loc[row_indexer,col_indexer] = value instead\n",
            "\n",
            "See the caveats in the documentation: https://pandas.pydata.org/pandas-docs/stable/user_guide/indexing.html#returning-a-view-versus-a-copy\n",
            "\n"
          ]
        },
        {
          "output_type": "stream",
          "name": "stdout",
          "text": [
            "Contingency Table (Percentages):\n",
            "Y                    0          1\n",
            "category                         \n",
            "3 or fewer   41.209068  58.790932\n",
            "Other        46.794872  53.205128\n",
            "more than 3  37.754386  62.245614\n"
          ]
        }
      ]
    },
    {
      "cell_type": "markdown",
      "source": [
        "This interprets, that bar_frequency_more_than_3 has 62%"
      ],
      "metadata": {
        "id": "CilQrKKcHck6"
      }
    },
    {
      "cell_type": "code",
      "source": [
        "\n",
        "fig = px.bar(\n",
        "    contingency_table,\n",
        "    x=contingency_table.index,\n",
        "    y=contingency_table.columns,\n",
        "    title='Acceptance and Rejection Rates by Category',\n",
        "    labels={'x': 'Bar Frequency Category', 'value': 'Percentage'},\n",
        "    barmode='stack',\n",
        "    color_discrete_map={'Accepted': 'green', 'Rejected': 'red'}\n",
        ")\n",
        "\n",
        "fig.show()"
      ],
      "metadata": {
        "colab": {
          "base_uri": "https://localhost:8080/",
          "height": 542
        },
        "id": "8LInnyRPONez",
        "outputId": "b68d607a-039f-45ff-f7b6-bb6520ebae89"
      },
      "execution_count": null,
      "outputs": [
        {
          "output_type": "display_data",
          "data": {
            "text/html": [
              "<html>\n",
              "<head><meta charset=\"utf-8\" /></head>\n",
              "<body>\n",
              "    <div>            <script src=\"https://cdnjs.cloudflare.com/ajax/libs/mathjax/2.7.5/MathJax.js?config=TeX-AMS-MML_SVG\"></script><script type=\"text/javascript\">if (window.MathJax && window.MathJax.Hub && window.MathJax.Hub.Config) {window.MathJax.Hub.Config({SVG: {font: \"STIX-Web\"}});}</script>                <script type=\"text/javascript\">window.PlotlyConfig = {MathJaxConfig: 'local'};</script>\n",
              "        <script charset=\"utf-8\" src=\"https://cdn.plot.ly/plotly-2.35.2.min.js\"></script>                <div id=\"8c81c342-56bc-4444-bcc5-4684c77d4e0e\" class=\"plotly-graph-div\" style=\"height:525px; width:100%;\"></div>            <script type=\"text/javascript\">                                    window.PLOTLYENV=window.PLOTLYENV || {};                                    if (document.getElementById(\"8c81c342-56bc-4444-bcc5-4684c77d4e0e\")) {                    Plotly.newPlot(                        \"8c81c342-56bc-4444-bcc5-4684c77d4e0e\",                        [{\"alignmentgroup\":\"True\",\"hovertemplate\":\"Y=0\\u003cbr\\u003ecategory=%{x}\\u003cbr\\u003ePercentage=%{y}\\u003cextra\\u003e\\u003c\\u002fextra\\u003e\",\"legendgroup\":\"0\",\"marker\":{\"color\":\"#00cc96\",\"pattern\":{\"shape\":\"\"}},\"name\":\"0\",\"offsetgroup\":\"0\",\"orientation\":\"v\",\"showlegend\":true,\"textposition\":\"auto\",\"x\":[\"3 or fewer\",\"Other\",\"more than 3\"],\"xaxis\":\"x\",\"y\":[41.20906801007557,46.794871794871796,37.75438596491228],\"yaxis\":\"y\",\"type\":\"bar\"},{\"alignmentgroup\":\"True\",\"hovertemplate\":\"Y=1\\u003cbr\\u003ecategory=%{x}\\u003cbr\\u003ePercentage=%{y}\\u003cextra\\u003e\\u003c\\u002fextra\\u003e\",\"legendgroup\":\"1\",\"marker\":{\"color\":\"#ab63fa\",\"pattern\":{\"shape\":\"\"}},\"name\":\"1\",\"offsetgroup\":\"1\",\"orientation\":\"v\",\"showlegend\":true,\"textposition\":\"auto\",\"x\":[\"3 or fewer\",\"Other\",\"more than 3\"],\"xaxis\":\"x\",\"y\":[58.79093198992443,53.205128205128204,62.24561403508771],\"yaxis\":\"y\",\"type\":\"bar\"}],                        {\"template\":{\"data\":{\"histogram2dcontour\":[{\"type\":\"histogram2dcontour\",\"colorbar\":{\"outlinewidth\":0,\"ticks\":\"\"},\"colorscale\":[[0.0,\"#0d0887\"],[0.1111111111111111,\"#46039f\"],[0.2222222222222222,\"#7201a8\"],[0.3333333333333333,\"#9c179e\"],[0.4444444444444444,\"#bd3786\"],[0.5555555555555556,\"#d8576b\"],[0.6666666666666666,\"#ed7953\"],[0.7777777777777778,\"#fb9f3a\"],[0.8888888888888888,\"#fdca26\"],[1.0,\"#f0f921\"]]}],\"choropleth\":[{\"type\":\"choropleth\",\"colorbar\":{\"outlinewidth\":0,\"ticks\":\"\"}}],\"histogram2d\":[{\"type\":\"histogram2d\",\"colorbar\":{\"outlinewidth\":0,\"ticks\":\"\"},\"colorscale\":[[0.0,\"#0d0887\"],[0.1111111111111111,\"#46039f\"],[0.2222222222222222,\"#7201a8\"],[0.3333333333333333,\"#9c179e\"],[0.4444444444444444,\"#bd3786\"],[0.5555555555555556,\"#d8576b\"],[0.6666666666666666,\"#ed7953\"],[0.7777777777777778,\"#fb9f3a\"],[0.8888888888888888,\"#fdca26\"],[1.0,\"#f0f921\"]]}],\"heatmap\":[{\"type\":\"heatmap\",\"colorbar\":{\"outlinewidth\":0,\"ticks\":\"\"},\"colorscale\":[[0.0,\"#0d0887\"],[0.1111111111111111,\"#46039f\"],[0.2222222222222222,\"#7201a8\"],[0.3333333333333333,\"#9c179e\"],[0.4444444444444444,\"#bd3786\"],[0.5555555555555556,\"#d8576b\"],[0.6666666666666666,\"#ed7953\"],[0.7777777777777778,\"#fb9f3a\"],[0.8888888888888888,\"#fdca26\"],[1.0,\"#f0f921\"]]}],\"heatmapgl\":[{\"type\":\"heatmapgl\",\"colorbar\":{\"outlinewidth\":0,\"ticks\":\"\"},\"colorscale\":[[0.0,\"#0d0887\"],[0.1111111111111111,\"#46039f\"],[0.2222222222222222,\"#7201a8\"],[0.3333333333333333,\"#9c179e\"],[0.4444444444444444,\"#bd3786\"],[0.5555555555555556,\"#d8576b\"],[0.6666666666666666,\"#ed7953\"],[0.7777777777777778,\"#fb9f3a\"],[0.8888888888888888,\"#fdca26\"],[1.0,\"#f0f921\"]]}],\"contourcarpet\":[{\"type\":\"contourcarpet\",\"colorbar\":{\"outlinewidth\":0,\"ticks\":\"\"}}],\"contour\":[{\"type\":\"contour\",\"colorbar\":{\"outlinewidth\":0,\"ticks\":\"\"},\"colorscale\":[[0.0,\"#0d0887\"],[0.1111111111111111,\"#46039f\"],[0.2222222222222222,\"#7201a8\"],[0.3333333333333333,\"#9c179e\"],[0.4444444444444444,\"#bd3786\"],[0.5555555555555556,\"#d8576b\"],[0.6666666666666666,\"#ed7953\"],[0.7777777777777778,\"#fb9f3a\"],[0.8888888888888888,\"#fdca26\"],[1.0,\"#f0f921\"]]}],\"surface\":[{\"type\":\"surface\",\"colorbar\":{\"outlinewidth\":0,\"ticks\":\"\"},\"colorscale\":[[0.0,\"#0d0887\"],[0.1111111111111111,\"#46039f\"],[0.2222222222222222,\"#7201a8\"],[0.3333333333333333,\"#9c179e\"],[0.4444444444444444,\"#bd3786\"],[0.5555555555555556,\"#d8576b\"],[0.6666666666666666,\"#ed7953\"],[0.7777777777777778,\"#fb9f3a\"],[0.8888888888888888,\"#fdca26\"],[1.0,\"#f0f921\"]]}],\"mesh3d\":[{\"type\":\"mesh3d\",\"colorbar\":{\"outlinewidth\":0,\"ticks\":\"\"}}],\"scatter\":[{\"fillpattern\":{\"fillmode\":\"overlay\",\"size\":10,\"solidity\":0.2},\"type\":\"scatter\"}],\"parcoords\":[{\"type\":\"parcoords\",\"line\":{\"colorbar\":{\"outlinewidth\":0,\"ticks\":\"\"}}}],\"scatterpolargl\":[{\"type\":\"scatterpolargl\",\"marker\":{\"colorbar\":{\"outlinewidth\":0,\"ticks\":\"\"}}}],\"bar\":[{\"error_x\":{\"color\":\"#2a3f5f\"},\"error_y\":{\"color\":\"#2a3f5f\"},\"marker\":{\"line\":{\"color\":\"#E5ECF6\",\"width\":0.5},\"pattern\":{\"fillmode\":\"overlay\",\"size\":10,\"solidity\":0.2}},\"type\":\"bar\"}],\"scattergeo\":[{\"type\":\"scattergeo\",\"marker\":{\"colorbar\":{\"outlinewidth\":0,\"ticks\":\"\"}}}],\"scatterpolar\":[{\"type\":\"scatterpolar\",\"marker\":{\"colorbar\":{\"outlinewidth\":0,\"ticks\":\"\"}}}],\"histogram\":[{\"marker\":{\"pattern\":{\"fillmode\":\"overlay\",\"size\":10,\"solidity\":0.2}},\"type\":\"histogram\"}],\"scattergl\":[{\"type\":\"scattergl\",\"marker\":{\"colorbar\":{\"outlinewidth\":0,\"ticks\":\"\"}}}],\"scatter3d\":[{\"type\":\"scatter3d\",\"line\":{\"colorbar\":{\"outlinewidth\":0,\"ticks\":\"\"}},\"marker\":{\"colorbar\":{\"outlinewidth\":0,\"ticks\":\"\"}}}],\"scattermapbox\":[{\"type\":\"scattermapbox\",\"marker\":{\"colorbar\":{\"outlinewidth\":0,\"ticks\":\"\"}}}],\"scatterternary\":[{\"type\":\"scatterternary\",\"marker\":{\"colorbar\":{\"outlinewidth\":0,\"ticks\":\"\"}}}],\"scattercarpet\":[{\"type\":\"scattercarpet\",\"marker\":{\"colorbar\":{\"outlinewidth\":0,\"ticks\":\"\"}}}],\"carpet\":[{\"aaxis\":{\"endlinecolor\":\"#2a3f5f\",\"gridcolor\":\"white\",\"linecolor\":\"white\",\"minorgridcolor\":\"white\",\"startlinecolor\":\"#2a3f5f\"},\"baxis\":{\"endlinecolor\":\"#2a3f5f\",\"gridcolor\":\"white\",\"linecolor\":\"white\",\"minorgridcolor\":\"white\",\"startlinecolor\":\"#2a3f5f\"},\"type\":\"carpet\"}],\"table\":[{\"cells\":{\"fill\":{\"color\":\"#EBF0F8\"},\"line\":{\"color\":\"white\"}},\"header\":{\"fill\":{\"color\":\"#C8D4E3\"},\"line\":{\"color\":\"white\"}},\"type\":\"table\"}],\"barpolar\":[{\"marker\":{\"line\":{\"color\":\"#E5ECF6\",\"width\":0.5},\"pattern\":{\"fillmode\":\"overlay\",\"size\":10,\"solidity\":0.2}},\"type\":\"barpolar\"}],\"pie\":[{\"automargin\":true,\"type\":\"pie\"}]},\"layout\":{\"autotypenumbers\":\"strict\",\"colorway\":[\"#636efa\",\"#EF553B\",\"#00cc96\",\"#ab63fa\",\"#FFA15A\",\"#19d3f3\",\"#FF6692\",\"#B6E880\",\"#FF97FF\",\"#FECB52\"],\"font\":{\"color\":\"#2a3f5f\"},\"hovermode\":\"closest\",\"hoverlabel\":{\"align\":\"left\"},\"paper_bgcolor\":\"white\",\"plot_bgcolor\":\"#E5ECF6\",\"polar\":{\"bgcolor\":\"#E5ECF6\",\"angularaxis\":{\"gridcolor\":\"white\",\"linecolor\":\"white\",\"ticks\":\"\"},\"radialaxis\":{\"gridcolor\":\"white\",\"linecolor\":\"white\",\"ticks\":\"\"}},\"ternary\":{\"bgcolor\":\"#E5ECF6\",\"aaxis\":{\"gridcolor\":\"white\",\"linecolor\":\"white\",\"ticks\":\"\"},\"baxis\":{\"gridcolor\":\"white\",\"linecolor\":\"white\",\"ticks\":\"\"},\"caxis\":{\"gridcolor\":\"white\",\"linecolor\":\"white\",\"ticks\":\"\"}},\"coloraxis\":{\"colorbar\":{\"outlinewidth\":0,\"ticks\":\"\"}},\"colorscale\":{\"sequential\":[[0.0,\"#0d0887\"],[0.1111111111111111,\"#46039f\"],[0.2222222222222222,\"#7201a8\"],[0.3333333333333333,\"#9c179e\"],[0.4444444444444444,\"#bd3786\"],[0.5555555555555556,\"#d8576b\"],[0.6666666666666666,\"#ed7953\"],[0.7777777777777778,\"#fb9f3a\"],[0.8888888888888888,\"#fdca26\"],[1.0,\"#f0f921\"]],\"sequentialminus\":[[0.0,\"#0d0887\"],[0.1111111111111111,\"#46039f\"],[0.2222222222222222,\"#7201a8\"],[0.3333333333333333,\"#9c179e\"],[0.4444444444444444,\"#bd3786\"],[0.5555555555555556,\"#d8576b\"],[0.6666666666666666,\"#ed7953\"],[0.7777777777777778,\"#fb9f3a\"],[0.8888888888888888,\"#fdca26\"],[1.0,\"#f0f921\"]],\"diverging\":[[0,\"#8e0152\"],[0.1,\"#c51b7d\"],[0.2,\"#de77ae\"],[0.3,\"#f1b6da\"],[0.4,\"#fde0ef\"],[0.5,\"#f7f7f7\"],[0.6,\"#e6f5d0\"],[0.7,\"#b8e186\"],[0.8,\"#7fbc41\"],[0.9,\"#4d9221\"],[1,\"#276419\"]]},\"xaxis\":{\"gridcolor\":\"white\",\"linecolor\":\"white\",\"ticks\":\"\",\"title\":{\"standoff\":15},\"zerolinecolor\":\"white\",\"automargin\":true,\"zerolinewidth\":2},\"yaxis\":{\"gridcolor\":\"white\",\"linecolor\":\"white\",\"ticks\":\"\",\"title\":{\"standoff\":15},\"zerolinecolor\":\"white\",\"automargin\":true,\"zerolinewidth\":2},\"scene\":{\"xaxis\":{\"backgroundcolor\":\"#E5ECF6\",\"gridcolor\":\"white\",\"linecolor\":\"white\",\"showbackground\":true,\"ticks\":\"\",\"zerolinecolor\":\"white\",\"gridwidth\":2},\"yaxis\":{\"backgroundcolor\":\"#E5ECF6\",\"gridcolor\":\"white\",\"linecolor\":\"white\",\"showbackground\":true,\"ticks\":\"\",\"zerolinecolor\":\"white\",\"gridwidth\":2},\"zaxis\":{\"backgroundcolor\":\"#E5ECF6\",\"gridcolor\":\"white\",\"linecolor\":\"white\",\"showbackground\":true,\"ticks\":\"\",\"zerolinecolor\":\"white\",\"gridwidth\":2}},\"shapedefaults\":{\"line\":{\"color\":\"#2a3f5f\"}},\"annotationdefaults\":{\"arrowcolor\":\"#2a3f5f\",\"arrowhead\":0,\"arrowwidth\":1},\"geo\":{\"bgcolor\":\"white\",\"landcolor\":\"#E5ECF6\",\"subunitcolor\":\"white\",\"showland\":true,\"showlakes\":true,\"lakecolor\":\"white\"},\"title\":{\"x\":0.05},\"mapbox\":{\"style\":\"light\"}}},\"xaxis\":{\"anchor\":\"y\",\"domain\":[0.0,1.0],\"title\":{\"text\":\"category\"}},\"yaxis\":{\"anchor\":\"x\",\"domain\":[0.0,1.0],\"title\":{\"text\":\"Percentage\"}},\"legend\":{\"title\":{\"text\":\"Y\"},\"tracegroupgap\":0},\"title\":{\"text\":\"Acceptance and Rejection Rates by Category\"},\"barmode\":\"stack\"},                        {\"responsive\": true}                    ).then(function(){\n",
              "                            \n",
              "var gd = document.getElementById('8c81c342-56bc-4444-bcc5-4684c77d4e0e');\n",
              "var x = new MutationObserver(function (mutations, observer) {{\n",
              "        var display = window.getComputedStyle(gd).display;\n",
              "        if (!display || display === 'none') {{\n",
              "            console.log([gd, 'removed!']);\n",
              "            Plotly.purge(gd);\n",
              "            observer.disconnect();\n",
              "        }}\n",
              "}});\n",
              "\n",
              "// Listen for the removal of the full notebook cells\n",
              "var notebookContainer = gd.closest('#notebook-container');\n",
              "if (notebookContainer) {{\n",
              "    x.observe(notebookContainer, {childList: true});\n",
              "}}\n",
              "\n",
              "// Listen for the clearing of the current output cell\n",
              "var outputEl = gd.closest('.output');\n",
              "if (outputEl) {{\n",
              "    x.observe(outputEl, {childList: true});\n",
              "}}\n",
              "\n",
              "                        })                };                            </script>        </div>\n",
              "</body>\n",
              "</html>"
            ]
          },
          "metadata": {}
        }
      ]
    },
    {
      "cell_type": "markdown",
      "source": [
        "# **Multivariate analysis**"
      ],
      "metadata": {
        "id": "lOLA-TpGM41-"
      }
    },
    {
      "cell_type": "markdown",
      "source": [
        "## **Compare** the acceptance rate between drivers who go to a bar more than once a month and are over the age of 25 to the all others. Is there a difference?"
      ],
      "metadata": {
        "id": "rw3uNVTX_77X"
      }
    },
    {
      "cell_type": "code",
      "source": [
        "bar_age_df = data[['Bar','Y','age']].copy()\n",
        "\n",
        "bar_visits_more_than_once = ['1~3', '4~8', 'gt8']\n",
        "over_25 = ['26', '31', '36', '41', '46', '50plus']\n",
        "\n",
        "\n",
        "bar_age_df['bar_age_group'] = 'Other Drivers'\n",
        "bar_age_df.loc[\n",
        "    (bar_age_df['Bar'].isin(bar_visits_more_than_once)) & (bar_age_df['age'].isin(over_25)),\n",
        "    'bar_age_group'\n",
        "] = 'Bar > 1 & Age > 25'\n",
        "\n",
        "\n",
        "rates_and_counts = bar_age_df.groupby('bar_age_group').agg(\n",
        "    accepted_rate=('Y', 'mean'),\n",
        "    total_count=('Y', 'count')\n",
        ").reset_index()\n",
        "\n",
        "rates_and_counts['rejected_rate'] = 1 - rates_and_counts['accepted_rate']\n",
        "\n",
        "# Transform to a \"long\" format for plotting\n",
        "long_format_df = rates_and_counts.melt(\n",
        "    id_vars=['bar_age_group'],\n",
        "    value_vars=['accepted_rate', 'rejected_rate'],\n",
        "    var_name='outcome',\n",
        "    value_name='rate'\n",
        ")\n",
        "\n",
        "print(long_format_df)\n",
        "\n",
        "fig = px.bar(\n",
        "    long_format_df,\n",
        "    x='bar_age_group',\n",
        "    y='rate',\n",
        "    color='outcome',\n",
        "    title='Acceptance and Rejection Rates by Driver Group',\n",
        "    labels={'bar_age_group': 'Driver Group', 'rate': 'Rate', 'outcome': 'Outcome'},\n",
        "    barmode='stack',\n",
        "    color_discrete_map={'accepted_rate': 'green', 'rejected_rate': 'red'}\n",
        ")\n",
        "fig.show()"
      ],
      "metadata": {
        "colab": {
          "base_uri": "https://localhost:8080/",
          "height": 629
        },
        "id": "BxU0a4H--_KU",
        "outputId": "cab928e2-23b0-4a5c-fdb2-d0c2fd14e8ee"
      },
      "execution_count": null,
      "outputs": [
        {
          "output_type": "stream",
          "name": "stdout",
          "text": [
            "        bar_age_group        outcome      rate\n",
            "0  Bar > 1 & Age > 25  accepted_rate  0.621534\n",
            "1       Other Drivers  accepted_rate  0.553548\n",
            "2  Bar > 1 & Age > 25  rejected_rate  0.378466\n",
            "3       Other Drivers  rejected_rate  0.446452\n"
          ]
        },
        {
          "output_type": "display_data",
          "data": {
            "text/html": [
              "<html>\n",
              "<head><meta charset=\"utf-8\" /></head>\n",
              "<body>\n",
              "    <div>            <script src=\"https://cdnjs.cloudflare.com/ajax/libs/mathjax/2.7.5/MathJax.js?config=TeX-AMS-MML_SVG\"></script><script type=\"text/javascript\">if (window.MathJax && window.MathJax.Hub && window.MathJax.Hub.Config) {window.MathJax.Hub.Config({SVG: {font: \"STIX-Web\"}});}</script>                <script type=\"text/javascript\">window.PlotlyConfig = {MathJaxConfig: 'local'};</script>\n",
              "        <script charset=\"utf-8\" src=\"https://cdn.plot.ly/plotly-2.35.2.min.js\"></script>                <div id=\"f00ef2aa-f954-403f-a73a-b0b390381ad3\" class=\"plotly-graph-div\" style=\"height:525px; width:100%;\"></div>            <script type=\"text/javascript\">                                    window.PLOTLYENV=window.PLOTLYENV || {};                                    if (document.getElementById(\"f00ef2aa-f954-403f-a73a-b0b390381ad3\")) {                    Plotly.newPlot(                        \"f00ef2aa-f954-403f-a73a-b0b390381ad3\",                        [{\"alignmentgroup\":\"True\",\"hovertemplate\":\"Outcome=accepted_rate\\u003cbr\\u003eDriver Group=%{x}\\u003cbr\\u003eRate=%{y}\\u003cextra\\u003e\\u003c\\u002fextra\\u003e\",\"legendgroup\":\"accepted_rate\",\"marker\":{\"color\":\"green\",\"pattern\":{\"shape\":\"\"}},\"name\":\"accepted_rate\",\"offsetgroup\":\"accepted_rate\",\"orientation\":\"v\",\"showlegend\":true,\"textposition\":\"auto\",\"x\":[\"Bar \\u003e 1 & Age \\u003e 25\",\"Other Drivers\"],\"xaxis\":\"x\",\"y\":[0.6215340295282679,0.5535479963662057],\"yaxis\":\"y\",\"type\":\"bar\"},{\"alignmentgroup\":\"True\",\"hovertemplate\":\"Outcome=rejected_rate\\u003cbr\\u003eDriver Group=%{x}\\u003cbr\\u003eRate=%{y}\\u003cextra\\u003e\\u003c\\u002fextra\\u003e\",\"legendgroup\":\"rejected_rate\",\"marker\":{\"color\":\"red\",\"pattern\":{\"shape\":\"\"}},\"name\":\"rejected_rate\",\"offsetgroup\":\"rejected_rate\",\"orientation\":\"v\",\"showlegend\":true,\"textposition\":\"auto\",\"x\":[\"Bar \\u003e 1 & Age \\u003e 25\",\"Other Drivers\"],\"xaxis\":\"x\",\"y\":[0.37846597047173214,0.44645200363379434],\"yaxis\":\"y\",\"type\":\"bar\"}],                        {\"template\":{\"data\":{\"histogram2dcontour\":[{\"type\":\"histogram2dcontour\",\"colorbar\":{\"outlinewidth\":0,\"ticks\":\"\"},\"colorscale\":[[0.0,\"#0d0887\"],[0.1111111111111111,\"#46039f\"],[0.2222222222222222,\"#7201a8\"],[0.3333333333333333,\"#9c179e\"],[0.4444444444444444,\"#bd3786\"],[0.5555555555555556,\"#d8576b\"],[0.6666666666666666,\"#ed7953\"],[0.7777777777777778,\"#fb9f3a\"],[0.8888888888888888,\"#fdca26\"],[1.0,\"#f0f921\"]]}],\"choropleth\":[{\"type\":\"choropleth\",\"colorbar\":{\"outlinewidth\":0,\"ticks\":\"\"}}],\"histogram2d\":[{\"type\":\"histogram2d\",\"colorbar\":{\"outlinewidth\":0,\"ticks\":\"\"},\"colorscale\":[[0.0,\"#0d0887\"],[0.1111111111111111,\"#46039f\"],[0.2222222222222222,\"#7201a8\"],[0.3333333333333333,\"#9c179e\"],[0.4444444444444444,\"#bd3786\"],[0.5555555555555556,\"#d8576b\"],[0.6666666666666666,\"#ed7953\"],[0.7777777777777778,\"#fb9f3a\"],[0.8888888888888888,\"#fdca26\"],[1.0,\"#f0f921\"]]}],\"heatmap\":[{\"type\":\"heatmap\",\"colorbar\":{\"outlinewidth\":0,\"ticks\":\"\"},\"colorscale\":[[0.0,\"#0d0887\"],[0.1111111111111111,\"#46039f\"],[0.2222222222222222,\"#7201a8\"],[0.3333333333333333,\"#9c179e\"],[0.4444444444444444,\"#bd3786\"],[0.5555555555555556,\"#d8576b\"],[0.6666666666666666,\"#ed7953\"],[0.7777777777777778,\"#fb9f3a\"],[0.8888888888888888,\"#fdca26\"],[1.0,\"#f0f921\"]]}],\"heatmapgl\":[{\"type\":\"heatmapgl\",\"colorbar\":{\"outlinewidth\":0,\"ticks\":\"\"},\"colorscale\":[[0.0,\"#0d0887\"],[0.1111111111111111,\"#46039f\"],[0.2222222222222222,\"#7201a8\"],[0.3333333333333333,\"#9c179e\"],[0.4444444444444444,\"#bd3786\"],[0.5555555555555556,\"#d8576b\"],[0.6666666666666666,\"#ed7953\"],[0.7777777777777778,\"#fb9f3a\"],[0.8888888888888888,\"#fdca26\"],[1.0,\"#f0f921\"]]}],\"contourcarpet\":[{\"type\":\"contourcarpet\",\"colorbar\":{\"outlinewidth\":0,\"ticks\":\"\"}}],\"contour\":[{\"type\":\"contour\",\"colorbar\":{\"outlinewidth\":0,\"ticks\":\"\"},\"colorscale\":[[0.0,\"#0d0887\"],[0.1111111111111111,\"#46039f\"],[0.2222222222222222,\"#7201a8\"],[0.3333333333333333,\"#9c179e\"],[0.4444444444444444,\"#bd3786\"],[0.5555555555555556,\"#d8576b\"],[0.6666666666666666,\"#ed7953\"],[0.7777777777777778,\"#fb9f3a\"],[0.8888888888888888,\"#fdca26\"],[1.0,\"#f0f921\"]]}],\"surface\":[{\"type\":\"surface\",\"colorbar\":{\"outlinewidth\":0,\"ticks\":\"\"},\"colorscale\":[[0.0,\"#0d0887\"],[0.1111111111111111,\"#46039f\"],[0.2222222222222222,\"#7201a8\"],[0.3333333333333333,\"#9c179e\"],[0.4444444444444444,\"#bd3786\"],[0.5555555555555556,\"#d8576b\"],[0.6666666666666666,\"#ed7953\"],[0.7777777777777778,\"#fb9f3a\"],[0.8888888888888888,\"#fdca26\"],[1.0,\"#f0f921\"]]}],\"mesh3d\":[{\"type\":\"mesh3d\",\"colorbar\":{\"outlinewidth\":0,\"ticks\":\"\"}}],\"scatter\":[{\"fillpattern\":{\"fillmode\":\"overlay\",\"size\":10,\"solidity\":0.2},\"type\":\"scatter\"}],\"parcoords\":[{\"type\":\"parcoords\",\"line\":{\"colorbar\":{\"outlinewidth\":0,\"ticks\":\"\"}}}],\"scatterpolargl\":[{\"type\":\"scatterpolargl\",\"marker\":{\"colorbar\":{\"outlinewidth\":0,\"ticks\":\"\"}}}],\"bar\":[{\"error_x\":{\"color\":\"#2a3f5f\"},\"error_y\":{\"color\":\"#2a3f5f\"},\"marker\":{\"line\":{\"color\":\"#E5ECF6\",\"width\":0.5},\"pattern\":{\"fillmode\":\"overlay\",\"size\":10,\"solidity\":0.2}},\"type\":\"bar\"}],\"scattergeo\":[{\"type\":\"scattergeo\",\"marker\":{\"colorbar\":{\"outlinewidth\":0,\"ticks\":\"\"}}}],\"scatterpolar\":[{\"type\":\"scatterpolar\",\"marker\":{\"colorbar\":{\"outlinewidth\":0,\"ticks\":\"\"}}}],\"histogram\":[{\"marker\":{\"pattern\":{\"fillmode\":\"overlay\",\"size\":10,\"solidity\":0.2}},\"type\":\"histogram\"}],\"scattergl\":[{\"type\":\"scattergl\",\"marker\":{\"colorbar\":{\"outlinewidth\":0,\"ticks\":\"\"}}}],\"scatter3d\":[{\"type\":\"scatter3d\",\"line\":{\"colorbar\":{\"outlinewidth\":0,\"ticks\":\"\"}},\"marker\":{\"colorbar\":{\"outlinewidth\":0,\"ticks\":\"\"}}}],\"scattermapbox\":[{\"type\":\"scattermapbox\",\"marker\":{\"colorbar\":{\"outlinewidth\":0,\"ticks\":\"\"}}}],\"scatterternary\":[{\"type\":\"scatterternary\",\"marker\":{\"colorbar\":{\"outlinewidth\":0,\"ticks\":\"\"}}}],\"scattercarpet\":[{\"type\":\"scattercarpet\",\"marker\":{\"colorbar\":{\"outlinewidth\":0,\"ticks\":\"\"}}}],\"carpet\":[{\"aaxis\":{\"endlinecolor\":\"#2a3f5f\",\"gridcolor\":\"white\",\"linecolor\":\"white\",\"minorgridcolor\":\"white\",\"startlinecolor\":\"#2a3f5f\"},\"baxis\":{\"endlinecolor\":\"#2a3f5f\",\"gridcolor\":\"white\",\"linecolor\":\"white\",\"minorgridcolor\":\"white\",\"startlinecolor\":\"#2a3f5f\"},\"type\":\"carpet\"}],\"table\":[{\"cells\":{\"fill\":{\"color\":\"#EBF0F8\"},\"line\":{\"color\":\"white\"}},\"header\":{\"fill\":{\"color\":\"#C8D4E3\"},\"line\":{\"color\":\"white\"}},\"type\":\"table\"}],\"barpolar\":[{\"marker\":{\"line\":{\"color\":\"#E5ECF6\",\"width\":0.5},\"pattern\":{\"fillmode\":\"overlay\",\"size\":10,\"solidity\":0.2}},\"type\":\"barpolar\"}],\"pie\":[{\"automargin\":true,\"type\":\"pie\"}]},\"layout\":{\"autotypenumbers\":\"strict\",\"colorway\":[\"#636efa\",\"#EF553B\",\"#00cc96\",\"#ab63fa\",\"#FFA15A\",\"#19d3f3\",\"#FF6692\",\"#B6E880\",\"#FF97FF\",\"#FECB52\"],\"font\":{\"color\":\"#2a3f5f\"},\"hovermode\":\"closest\",\"hoverlabel\":{\"align\":\"left\"},\"paper_bgcolor\":\"white\",\"plot_bgcolor\":\"#E5ECF6\",\"polar\":{\"bgcolor\":\"#E5ECF6\",\"angularaxis\":{\"gridcolor\":\"white\",\"linecolor\":\"white\",\"ticks\":\"\"},\"radialaxis\":{\"gridcolor\":\"white\",\"linecolor\":\"white\",\"ticks\":\"\"}},\"ternary\":{\"bgcolor\":\"#E5ECF6\",\"aaxis\":{\"gridcolor\":\"white\",\"linecolor\":\"white\",\"ticks\":\"\"},\"baxis\":{\"gridcolor\":\"white\",\"linecolor\":\"white\",\"ticks\":\"\"},\"caxis\":{\"gridcolor\":\"white\",\"linecolor\":\"white\",\"ticks\":\"\"}},\"coloraxis\":{\"colorbar\":{\"outlinewidth\":0,\"ticks\":\"\"}},\"colorscale\":{\"sequential\":[[0.0,\"#0d0887\"],[0.1111111111111111,\"#46039f\"],[0.2222222222222222,\"#7201a8\"],[0.3333333333333333,\"#9c179e\"],[0.4444444444444444,\"#bd3786\"],[0.5555555555555556,\"#d8576b\"],[0.6666666666666666,\"#ed7953\"],[0.7777777777777778,\"#fb9f3a\"],[0.8888888888888888,\"#fdca26\"],[1.0,\"#f0f921\"]],\"sequentialminus\":[[0.0,\"#0d0887\"],[0.1111111111111111,\"#46039f\"],[0.2222222222222222,\"#7201a8\"],[0.3333333333333333,\"#9c179e\"],[0.4444444444444444,\"#bd3786\"],[0.5555555555555556,\"#d8576b\"],[0.6666666666666666,\"#ed7953\"],[0.7777777777777778,\"#fb9f3a\"],[0.8888888888888888,\"#fdca26\"],[1.0,\"#f0f921\"]],\"diverging\":[[0,\"#8e0152\"],[0.1,\"#c51b7d\"],[0.2,\"#de77ae\"],[0.3,\"#f1b6da\"],[0.4,\"#fde0ef\"],[0.5,\"#f7f7f7\"],[0.6,\"#e6f5d0\"],[0.7,\"#b8e186\"],[0.8,\"#7fbc41\"],[0.9,\"#4d9221\"],[1,\"#276419\"]]},\"xaxis\":{\"gridcolor\":\"white\",\"linecolor\":\"white\",\"ticks\":\"\",\"title\":{\"standoff\":15},\"zerolinecolor\":\"white\",\"automargin\":true,\"zerolinewidth\":2},\"yaxis\":{\"gridcolor\":\"white\",\"linecolor\":\"white\",\"ticks\":\"\",\"title\":{\"standoff\":15},\"zerolinecolor\":\"white\",\"automargin\":true,\"zerolinewidth\":2},\"scene\":{\"xaxis\":{\"backgroundcolor\":\"#E5ECF6\",\"gridcolor\":\"white\",\"linecolor\":\"white\",\"showbackground\":true,\"ticks\":\"\",\"zerolinecolor\":\"white\",\"gridwidth\":2},\"yaxis\":{\"backgroundcolor\":\"#E5ECF6\",\"gridcolor\":\"white\",\"linecolor\":\"white\",\"showbackground\":true,\"ticks\":\"\",\"zerolinecolor\":\"white\",\"gridwidth\":2},\"zaxis\":{\"backgroundcolor\":\"#E5ECF6\",\"gridcolor\":\"white\",\"linecolor\":\"white\",\"showbackground\":true,\"ticks\":\"\",\"zerolinecolor\":\"white\",\"gridwidth\":2}},\"shapedefaults\":{\"line\":{\"color\":\"#2a3f5f\"}},\"annotationdefaults\":{\"arrowcolor\":\"#2a3f5f\",\"arrowhead\":0,\"arrowwidth\":1},\"geo\":{\"bgcolor\":\"white\",\"landcolor\":\"#E5ECF6\",\"subunitcolor\":\"white\",\"showland\":true,\"showlakes\":true,\"lakecolor\":\"white\"},\"title\":{\"x\":0.05},\"mapbox\":{\"style\":\"light\"}}},\"xaxis\":{\"anchor\":\"y\",\"domain\":[0.0,1.0],\"title\":{\"text\":\"Driver Group\"}},\"yaxis\":{\"anchor\":\"x\",\"domain\":[0.0,1.0],\"title\":{\"text\":\"Rate\"}},\"legend\":{\"title\":{\"text\":\"Outcome\"},\"tracegroupgap\":0},\"title\":{\"text\":\"Acceptance and Rejection Rates by Driver Group\"},\"barmode\":\"stack\"},                        {\"responsive\": true}                    ).then(function(){\n",
              "                            \n",
              "var gd = document.getElementById('f00ef2aa-f954-403f-a73a-b0b390381ad3');\n",
              "var x = new MutationObserver(function (mutations, observer) {{\n",
              "        var display = window.getComputedStyle(gd).display;\n",
              "        if (!display || display === 'none') {{\n",
              "            console.log([gd, 'removed!']);\n",
              "            Plotly.purge(gd);\n",
              "            observer.disconnect();\n",
              "        }}\n",
              "}});\n",
              "\n",
              "// Listen for the removal of the full notebook cells\n",
              "var notebookContainer = gd.closest('#notebook-container');\n",
              "if (notebookContainer) {{\n",
              "    x.observe(notebookContainer, {childList: true});\n",
              "}}\n",
              "\n",
              "// Listen for the clearing of the current output cell\n",
              "var outputEl = gd.closest('.output');\n",
              "if (outputEl) {{\n",
              "    x.observe(outputEl, {childList: true});\n",
              "}}\n",
              "\n",
              "                        })                };                            </script>        </div>\n",
              "</body>\n",
              "</html>"
            ]
          },
          "metadata": {}
        }
      ]
    },
    {
      "cell_type": "markdown",
      "source": [
        "Use the same process to compare the acceptance rate between drivers who go to bars more than once a month and had passengers that were not a kid and had occupations other than farming, fishing, or forestry."
      ],
      "metadata": {
        "id": "REKrW0gBAfup"
      }
    },
    {
      "cell_type": "code",
      "source": [
        "bar_passenger_occupation = data[['Bar','passanger','occupation','Y']]\n",
        "bar_visits_more_than_once = ['1~3', '4~8', 'gt8']\n",
        "passengers_not_kid = 'Kid'\n",
        "excluded_occupations = ['Farming', 'Fishing', 'Forestry']\n",
        "\n",
        "\n",
        "bar_passenger_occupation['bar_not_kid_occupation_group'] = 'Other Drivers'\n",
        "\n",
        "mask =(\n",
        "    (data['Bar'].isin(bar_visits_more_than_once)) &\n",
        "    (data['passanger'] != passengers_not_kid) &\n",
        "    (~data['occupation'].isin(excluded_occupations))\n",
        ")\n",
        "\n",
        "bar_passenger_occupation.loc[mask,'bar_not_kid_occupation_group'] ='Bar > 1 & Age not a kid & occupations other than farming, fishing, or forestry '\n",
        "\n",
        "rates_and_counts = bar_passenger_occupation.groupby('bar_not_kid_occupation_group').agg(\n",
        "    accepted_rate=('Y', 'mean'),\n",
        "    total_count=('Y', 'count')\n",
        ").reset_index()\n",
        "\n",
        "rates_and_counts['rejected_rate'] = 1 - rates_and_counts['accepted_rate']\n",
        "\n",
        "# Transform to a \"long\" format for plotting\n",
        "long_format_df = rates_and_counts.melt(\n",
        "    id_vars=['bar_not_kid_occupation_group'],\n",
        "    value_vars=['accepted_rate', 'rejected_rate'],\n",
        "    var_name='outcome',\n",
        "    value_name='rate'\n",
        ")\n",
        "\n",
        "print(long_format_df)\n",
        "\n",
        "fig = px.bar(\n",
        "    long_format_df,\n",
        "    x='bar_not_kid_occupation_group',\n",
        "    y='rate',\n",
        "    color='outcome',\n",
        "    title='Acceptance and Rejection Rates by Driver Group',\n",
        "    labels={'bar_not_kid_occupation_group': 'Driver Group', 'rate': 'Rate', 'outcome': 'Outcome'},\n",
        "    barmode='stack',\n",
        "    color_discrete_map={'accepted_rate': 'green', 'rejected_rate': 'red'}\n",
        ")\n",
        "fig.show()"
      ],
      "metadata": {
        "colab": {
          "base_uri": "https://localhost:8080/",
          "height": 768
        },
        "id": "RmkBzrZOBpD6",
        "outputId": "1e011ff7-abd9-462c-a942-1302c4c8f9d7"
      },
      "execution_count": null,
      "outputs": [
        {
          "output_type": "stream",
          "name": "stdout",
          "text": [
            "                        bar_not_kid_occupation_group        outcome      rate\n",
            "0  Bar > 1 & Age not a kid & occupations other th...  accepted_rate  0.622114\n",
            "1                                      Other Drivers  accepted_rate  0.544616\n",
            "2  Bar > 1 & Age not a kid & occupations other th...  rejected_rate  0.377886\n",
            "3                                      Other Drivers  rejected_rate  0.455384\n"
          ]
        },
        {
          "output_type": "stream",
          "name": "stderr",
          "text": [
            "/tmp/ipython-input-2117311591.py:7: SettingWithCopyWarning:\n",
            "\n",
            "\n",
            "A value is trying to be set on a copy of a slice from a DataFrame.\n",
            "Try using .loc[row_indexer,col_indexer] = value instead\n",
            "\n",
            "See the caveats in the documentation: https://pandas.pydata.org/pandas-docs/stable/user_guide/indexing.html#returning-a-view-versus-a-copy\n",
            "\n"
          ]
        },
        {
          "output_type": "display_data",
          "data": {
            "text/html": [
              "<html>\n",
              "<head><meta charset=\"utf-8\" /></head>\n",
              "<body>\n",
              "    <div>            <script src=\"https://cdnjs.cloudflare.com/ajax/libs/mathjax/2.7.5/MathJax.js?config=TeX-AMS-MML_SVG\"></script><script type=\"text/javascript\">if (window.MathJax && window.MathJax.Hub && window.MathJax.Hub.Config) {window.MathJax.Hub.Config({SVG: {font: \"STIX-Web\"}});}</script>                <script type=\"text/javascript\">window.PlotlyConfig = {MathJaxConfig: 'local'};</script>\n",
              "        <script charset=\"utf-8\" src=\"https://cdn.plot.ly/plotly-2.35.2.min.js\"></script>                <div id=\"fa770300-649c-4638-b73c-566aa0333072\" class=\"plotly-graph-div\" style=\"height:525px; width:100%;\"></div>            <script type=\"text/javascript\">                                    window.PLOTLYENV=window.PLOTLYENV || {};                                    if (document.getElementById(\"fa770300-649c-4638-b73c-566aa0333072\")) {                    Plotly.newPlot(                        \"fa770300-649c-4638-b73c-566aa0333072\",                        [{\"alignmentgroup\":\"True\",\"hovertemplate\":\"Outcome=accepted_rate\\u003cbr\\u003eDriver Group=%{x}\\u003cbr\\u003eRate=%{y}\\u003cextra\\u003e\\u003c\\u002fextra\\u003e\",\"legendgroup\":\"accepted_rate\",\"marker\":{\"color\":\"green\",\"pattern\":{\"shape\":\"\"}},\"name\":\"accepted_rate\",\"offsetgroup\":\"accepted_rate\",\"orientation\":\"v\",\"showlegend\":true,\"textposition\":\"auto\",\"x\":[\"Bar \\u003e 1 & Age not a kid & occupations other than farming, fishing, or forestry \",\"Other Drivers\"],\"xaxis\":\"x\",\"y\":[0.6221139045664443,0.5446164352378784],\"yaxis\":\"y\",\"type\":\"bar\"},{\"alignmentgroup\":\"True\",\"hovertemplate\":\"Outcome=rejected_rate\\u003cbr\\u003eDriver Group=%{x}\\u003cbr\\u003eRate=%{y}\\u003cextra\\u003e\\u003c\\u002fextra\\u003e\",\"legendgroup\":\"rejected_rate\",\"marker\":{\"color\":\"red\",\"pattern\":{\"shape\":\"\"}},\"name\":\"rejected_rate\",\"offsetgroup\":\"rejected_rate\",\"orientation\":\"v\",\"showlegend\":true,\"textposition\":\"auto\",\"x\":[\"Bar \\u003e 1 & Age not a kid & occupations other than farming, fishing, or forestry \",\"Other Drivers\"],\"xaxis\":\"x\",\"y\":[0.37788609543355567,0.4553835647621216],\"yaxis\":\"y\",\"type\":\"bar\"}],                        {\"template\":{\"data\":{\"histogram2dcontour\":[{\"type\":\"histogram2dcontour\",\"colorbar\":{\"outlinewidth\":0,\"ticks\":\"\"},\"colorscale\":[[0.0,\"#0d0887\"],[0.1111111111111111,\"#46039f\"],[0.2222222222222222,\"#7201a8\"],[0.3333333333333333,\"#9c179e\"],[0.4444444444444444,\"#bd3786\"],[0.5555555555555556,\"#d8576b\"],[0.6666666666666666,\"#ed7953\"],[0.7777777777777778,\"#fb9f3a\"],[0.8888888888888888,\"#fdca26\"],[1.0,\"#f0f921\"]]}],\"choropleth\":[{\"type\":\"choropleth\",\"colorbar\":{\"outlinewidth\":0,\"ticks\":\"\"}}],\"histogram2d\":[{\"type\":\"histogram2d\",\"colorbar\":{\"outlinewidth\":0,\"ticks\":\"\"},\"colorscale\":[[0.0,\"#0d0887\"],[0.1111111111111111,\"#46039f\"],[0.2222222222222222,\"#7201a8\"],[0.3333333333333333,\"#9c179e\"],[0.4444444444444444,\"#bd3786\"],[0.5555555555555556,\"#d8576b\"],[0.6666666666666666,\"#ed7953\"],[0.7777777777777778,\"#fb9f3a\"],[0.8888888888888888,\"#fdca26\"],[1.0,\"#f0f921\"]]}],\"heatmap\":[{\"type\":\"heatmap\",\"colorbar\":{\"outlinewidth\":0,\"ticks\":\"\"},\"colorscale\":[[0.0,\"#0d0887\"],[0.1111111111111111,\"#46039f\"],[0.2222222222222222,\"#7201a8\"],[0.3333333333333333,\"#9c179e\"],[0.4444444444444444,\"#bd3786\"],[0.5555555555555556,\"#d8576b\"],[0.6666666666666666,\"#ed7953\"],[0.7777777777777778,\"#fb9f3a\"],[0.8888888888888888,\"#fdca26\"],[1.0,\"#f0f921\"]]}],\"heatmapgl\":[{\"type\":\"heatmapgl\",\"colorbar\":{\"outlinewidth\":0,\"ticks\":\"\"},\"colorscale\":[[0.0,\"#0d0887\"],[0.1111111111111111,\"#46039f\"],[0.2222222222222222,\"#7201a8\"],[0.3333333333333333,\"#9c179e\"],[0.4444444444444444,\"#bd3786\"],[0.5555555555555556,\"#d8576b\"],[0.6666666666666666,\"#ed7953\"],[0.7777777777777778,\"#fb9f3a\"],[0.8888888888888888,\"#fdca26\"],[1.0,\"#f0f921\"]]}],\"contourcarpet\":[{\"type\":\"contourcarpet\",\"colorbar\":{\"outlinewidth\":0,\"ticks\":\"\"}}],\"contour\":[{\"type\":\"contour\",\"colorbar\":{\"outlinewidth\":0,\"ticks\":\"\"},\"colorscale\":[[0.0,\"#0d0887\"],[0.1111111111111111,\"#46039f\"],[0.2222222222222222,\"#7201a8\"],[0.3333333333333333,\"#9c179e\"],[0.4444444444444444,\"#bd3786\"],[0.5555555555555556,\"#d8576b\"],[0.6666666666666666,\"#ed7953\"],[0.7777777777777778,\"#fb9f3a\"],[0.8888888888888888,\"#fdca26\"],[1.0,\"#f0f921\"]]}],\"surface\":[{\"type\":\"surface\",\"colorbar\":{\"outlinewidth\":0,\"ticks\":\"\"},\"colorscale\":[[0.0,\"#0d0887\"],[0.1111111111111111,\"#46039f\"],[0.2222222222222222,\"#7201a8\"],[0.3333333333333333,\"#9c179e\"],[0.4444444444444444,\"#bd3786\"],[0.5555555555555556,\"#d8576b\"],[0.6666666666666666,\"#ed7953\"],[0.7777777777777778,\"#fb9f3a\"],[0.8888888888888888,\"#fdca26\"],[1.0,\"#f0f921\"]]}],\"mesh3d\":[{\"type\":\"mesh3d\",\"colorbar\":{\"outlinewidth\":0,\"ticks\":\"\"}}],\"scatter\":[{\"fillpattern\":{\"fillmode\":\"overlay\",\"size\":10,\"solidity\":0.2},\"type\":\"scatter\"}],\"parcoords\":[{\"type\":\"parcoords\",\"line\":{\"colorbar\":{\"outlinewidth\":0,\"ticks\":\"\"}}}],\"scatterpolargl\":[{\"type\":\"scatterpolargl\",\"marker\":{\"colorbar\":{\"outlinewidth\":0,\"ticks\":\"\"}}}],\"bar\":[{\"error_x\":{\"color\":\"#2a3f5f\"},\"error_y\":{\"color\":\"#2a3f5f\"},\"marker\":{\"line\":{\"color\":\"#E5ECF6\",\"width\":0.5},\"pattern\":{\"fillmode\":\"overlay\",\"size\":10,\"solidity\":0.2}},\"type\":\"bar\"}],\"scattergeo\":[{\"type\":\"scattergeo\",\"marker\":{\"colorbar\":{\"outlinewidth\":0,\"ticks\":\"\"}}}],\"scatterpolar\":[{\"type\":\"scatterpolar\",\"marker\":{\"colorbar\":{\"outlinewidth\":0,\"ticks\":\"\"}}}],\"histogram\":[{\"marker\":{\"pattern\":{\"fillmode\":\"overlay\",\"size\":10,\"solidity\":0.2}},\"type\":\"histogram\"}],\"scattergl\":[{\"type\":\"scattergl\",\"marker\":{\"colorbar\":{\"outlinewidth\":0,\"ticks\":\"\"}}}],\"scatter3d\":[{\"type\":\"scatter3d\",\"line\":{\"colorbar\":{\"outlinewidth\":0,\"ticks\":\"\"}},\"marker\":{\"colorbar\":{\"outlinewidth\":0,\"ticks\":\"\"}}}],\"scattermapbox\":[{\"type\":\"scattermapbox\",\"marker\":{\"colorbar\":{\"outlinewidth\":0,\"ticks\":\"\"}}}],\"scatterternary\":[{\"type\":\"scatterternary\",\"marker\":{\"colorbar\":{\"outlinewidth\":0,\"ticks\":\"\"}}}],\"scattercarpet\":[{\"type\":\"scattercarpet\",\"marker\":{\"colorbar\":{\"outlinewidth\":0,\"ticks\":\"\"}}}],\"carpet\":[{\"aaxis\":{\"endlinecolor\":\"#2a3f5f\",\"gridcolor\":\"white\",\"linecolor\":\"white\",\"minorgridcolor\":\"white\",\"startlinecolor\":\"#2a3f5f\"},\"baxis\":{\"endlinecolor\":\"#2a3f5f\",\"gridcolor\":\"white\",\"linecolor\":\"white\",\"minorgridcolor\":\"white\",\"startlinecolor\":\"#2a3f5f\"},\"type\":\"carpet\"}],\"table\":[{\"cells\":{\"fill\":{\"color\":\"#EBF0F8\"},\"line\":{\"color\":\"white\"}},\"header\":{\"fill\":{\"color\":\"#C8D4E3\"},\"line\":{\"color\":\"white\"}},\"type\":\"table\"}],\"barpolar\":[{\"marker\":{\"line\":{\"color\":\"#E5ECF6\",\"width\":0.5},\"pattern\":{\"fillmode\":\"overlay\",\"size\":10,\"solidity\":0.2}},\"type\":\"barpolar\"}],\"pie\":[{\"automargin\":true,\"type\":\"pie\"}]},\"layout\":{\"autotypenumbers\":\"strict\",\"colorway\":[\"#636efa\",\"#EF553B\",\"#00cc96\",\"#ab63fa\",\"#FFA15A\",\"#19d3f3\",\"#FF6692\",\"#B6E880\",\"#FF97FF\",\"#FECB52\"],\"font\":{\"color\":\"#2a3f5f\"},\"hovermode\":\"closest\",\"hoverlabel\":{\"align\":\"left\"},\"paper_bgcolor\":\"white\",\"plot_bgcolor\":\"#E5ECF6\",\"polar\":{\"bgcolor\":\"#E5ECF6\",\"angularaxis\":{\"gridcolor\":\"white\",\"linecolor\":\"white\",\"ticks\":\"\"},\"radialaxis\":{\"gridcolor\":\"white\",\"linecolor\":\"white\",\"ticks\":\"\"}},\"ternary\":{\"bgcolor\":\"#E5ECF6\",\"aaxis\":{\"gridcolor\":\"white\",\"linecolor\":\"white\",\"ticks\":\"\"},\"baxis\":{\"gridcolor\":\"white\",\"linecolor\":\"white\",\"ticks\":\"\"},\"caxis\":{\"gridcolor\":\"white\",\"linecolor\":\"white\",\"ticks\":\"\"}},\"coloraxis\":{\"colorbar\":{\"outlinewidth\":0,\"ticks\":\"\"}},\"colorscale\":{\"sequential\":[[0.0,\"#0d0887\"],[0.1111111111111111,\"#46039f\"],[0.2222222222222222,\"#7201a8\"],[0.3333333333333333,\"#9c179e\"],[0.4444444444444444,\"#bd3786\"],[0.5555555555555556,\"#d8576b\"],[0.6666666666666666,\"#ed7953\"],[0.7777777777777778,\"#fb9f3a\"],[0.8888888888888888,\"#fdca26\"],[1.0,\"#f0f921\"]],\"sequentialminus\":[[0.0,\"#0d0887\"],[0.1111111111111111,\"#46039f\"],[0.2222222222222222,\"#7201a8\"],[0.3333333333333333,\"#9c179e\"],[0.4444444444444444,\"#bd3786\"],[0.5555555555555556,\"#d8576b\"],[0.6666666666666666,\"#ed7953\"],[0.7777777777777778,\"#fb9f3a\"],[0.8888888888888888,\"#fdca26\"],[1.0,\"#f0f921\"]],\"diverging\":[[0,\"#8e0152\"],[0.1,\"#c51b7d\"],[0.2,\"#de77ae\"],[0.3,\"#f1b6da\"],[0.4,\"#fde0ef\"],[0.5,\"#f7f7f7\"],[0.6,\"#e6f5d0\"],[0.7,\"#b8e186\"],[0.8,\"#7fbc41\"],[0.9,\"#4d9221\"],[1,\"#276419\"]]},\"xaxis\":{\"gridcolor\":\"white\",\"linecolor\":\"white\",\"ticks\":\"\",\"title\":{\"standoff\":15},\"zerolinecolor\":\"white\",\"automargin\":true,\"zerolinewidth\":2},\"yaxis\":{\"gridcolor\":\"white\",\"linecolor\":\"white\",\"ticks\":\"\",\"title\":{\"standoff\":15},\"zerolinecolor\":\"white\",\"automargin\":true,\"zerolinewidth\":2},\"scene\":{\"xaxis\":{\"backgroundcolor\":\"#E5ECF6\",\"gridcolor\":\"white\",\"linecolor\":\"white\",\"showbackground\":true,\"ticks\":\"\",\"zerolinecolor\":\"white\",\"gridwidth\":2},\"yaxis\":{\"backgroundcolor\":\"#E5ECF6\",\"gridcolor\":\"white\",\"linecolor\":\"white\",\"showbackground\":true,\"ticks\":\"\",\"zerolinecolor\":\"white\",\"gridwidth\":2},\"zaxis\":{\"backgroundcolor\":\"#E5ECF6\",\"gridcolor\":\"white\",\"linecolor\":\"white\",\"showbackground\":true,\"ticks\":\"\",\"zerolinecolor\":\"white\",\"gridwidth\":2}},\"shapedefaults\":{\"line\":{\"color\":\"#2a3f5f\"}},\"annotationdefaults\":{\"arrowcolor\":\"#2a3f5f\",\"arrowhead\":0,\"arrowwidth\":1},\"geo\":{\"bgcolor\":\"white\",\"landcolor\":\"#E5ECF6\",\"subunitcolor\":\"white\",\"showland\":true,\"showlakes\":true,\"lakecolor\":\"white\"},\"title\":{\"x\":0.05},\"mapbox\":{\"style\":\"light\"}}},\"xaxis\":{\"anchor\":\"y\",\"domain\":[0.0,1.0],\"title\":{\"text\":\"Driver Group\"}},\"yaxis\":{\"anchor\":\"x\",\"domain\":[0.0,1.0],\"title\":{\"text\":\"Rate\"}},\"legend\":{\"title\":{\"text\":\"Outcome\"},\"tracegroupgap\":0},\"title\":{\"text\":\"Acceptance and Rejection Rates by Driver Group\"},\"barmode\":\"stack\"},                        {\"responsive\": true}                    ).then(function(){\n",
              "                            \n",
              "var gd = document.getElementById('fa770300-649c-4638-b73c-566aa0333072');\n",
              "var x = new MutationObserver(function (mutations, observer) {{\n",
              "        var display = window.getComputedStyle(gd).display;\n",
              "        if (!display || display === 'none') {{\n",
              "            console.log([gd, 'removed!']);\n",
              "            Plotly.purge(gd);\n",
              "            observer.disconnect();\n",
              "        }}\n",
              "}});\n",
              "\n",
              "// Listen for the removal of the full notebook cells\n",
              "var notebookContainer = gd.closest('#notebook-container');\n",
              "if (notebookContainer) {{\n",
              "    x.observe(notebookContainer, {childList: true});\n",
              "}}\n",
              "\n",
              "// Listen for the clearing of the current output cell\n",
              "var outputEl = gd.closest('.output');\n",
              "if (outputEl) {{\n",
              "    x.observe(outputEl, {childList: true});\n",
              "}}\n",
              "\n",
              "                        })                };                            </script>        </div>\n",
              "</body>\n",
              "</html>"
            ]
          },
          "metadata": {}
        }
      ]
    },
    {
      "cell_type": "markdown",
      "source": [
        "The data reveals a specific segment of the population that is highly receptive to coupons. This group is composed of individuals in certain occupations—specifically unemployed, students, and those in the computer and math fields. They also share a unique behavioral pattern: they visit bars infrequently (never or less than once a week) and are typically traveling as passengers, either alone or with friends. Targeting this combination of traits is most likely to yield a successful campaign."
      ],
      "metadata": {
        "id": "ruZz3XAW_0GB"
      }
    },
    {
      "cell_type": "markdown",
      "source": [
        "The heatmap shows the combined frequency of specific Bar categories and passanger counts. Correlation: \"Bar Never\" and \"Passanger alone\" might primarily serve a high-traffic segment, as shown by a yellow color in the upper passenger count range."
      ],
      "metadata": {
        "id": "NEQOX4zJ9JET"
      }
    },
    {
      "cell_type": "markdown",
      "source": [
        "**Compare the acceptance rates between those drivers who:**\n",
        "* go to bars more than once a month, had passengers that were not a kid, and were not widowed OR\n",
        "* go to bars more than once a month and are under the age of 30 OR\n",
        "* go to cheap restaurants more than 4 times a month and income is less than 50K."
      ],
      "metadata": {
        "id": "RkgCuYkZEyNM"
      }
    },
    {
      "cell_type": "code",
      "source": [
        "bar_visits_more_than_once = ['1~3', '4~8', 'gt8']\n",
        "under_30 = ['21', '26']\n",
        "cheap_rest_more_than_4 = 'gt4'\n",
        "income_less_than_50k = ['$37500 - $49999', '$25000 - $37499', '$12500 - $24999', 'Less than $12500']\n",
        "\n",
        "condition1 = (\n",
        "    data['Bar'].isin(bar_visits_more_than_once) &\n",
        "    (data['passanger'] != 'Kid') &\n",
        "    (data['maritalStatus'] != 'Widowed')\n",
        ")\n",
        "\n",
        "condition2 = (\n",
        "    data['Bar'].isin(bar_visits_more_than_once) &\n",
        "    (data['age'].isin(under_30))\n",
        ")\n",
        "\n",
        "condition3 = (\n",
        "    (data['RestaurantLessThan20'] == cheap_rest_more_than_4) &\n",
        "    (data['income'].isin(income_less_than_50k))\n",
        ")\n",
        "\n",
        "# Group 1: Drivers who satisfy ANY of the conditions (OR)\n",
        "specific_group = data[condition1 | condition2 | condition3]\n",
        "\n",
        "# Group 2: All other drivers (using the ~ operator to invert the mask)\n",
        "other_drivers = data[~(condition1 | condition2 | condition3)]\n",
        "\n",
        "# Calculate acceptance rates\n",
        "rate_specific_group = specific_group['Y'].mean()\n",
        "rate_other_drivers = other_drivers['Y'].mean()\n",
        "\n",
        "print(f\"Acceptance rate for specific group: {rate_specific_group:.2%}\")\n",
        "print(f\"Acceptance rate for all other drivers: {rate_other_drivers:.2%}\")"
      ],
      "metadata": {
        "id": "jZTYYCpxCGyg",
        "colab": {
          "base_uri": "https://localhost:8080/"
        },
        "outputId": "cd691a99-b01c-438f-d0c1-7a6997f9f0a8"
      },
      "execution_count": null,
      "outputs": [
        {
          "output_type": "stream",
          "name": "stdout",
          "text": [
            "Acceptance rate for specific group: 62.21%\n",
            "Acceptance rate for all other drivers: 54.46%\n"
          ]
        }
      ]
    },
    {
      "cell_type": "markdown",
      "source": [
        "Based on these observations, what do you hypothesize about drivers who accepted the bar coupons?"
      ],
      "metadata": {
        "id": "s2wPQKCeFdB7"
      }
    },
    {
      "cell_type": "markdown",
      "source": [
        "# **Independent Investigation**\n",
        "Using the bar coupon example as motivation, you are to explore one of the other coupon groups and try to determine the characteristics of passengers who accept the coupons."
      ],
      "metadata": {
        "id": "_N1jSUrJFrqA"
      }
    },
    {
      "cell_type": "code",
      "source": [
        "numeric_cols = ['toCoupon_GEQ5min','toCoupon_GEQ15min','toCoupon_GEQ25min','direction_same','direction_opp','has_children']\n",
        "data[numeric_cols].describe()"
      ],
      "metadata": {
        "id": "E0pJaPWpNwTD",
        "colab": {
          "base_uri": "https://localhost:8080/",
          "height": 300
        },
        "outputId": "94ce3a55-58ba-4e89-e89a-7cbff72c7496"
      },
      "execution_count": null,
      "outputs": [
        {
          "output_type": "execute_result",
          "data": {
            "text/plain": [
              "       toCoupon_GEQ5min  toCoupon_GEQ15min  toCoupon_GEQ25min  direction_same  \\\n",
              "count           12684.0       12684.000000       12684.000000    12684.000000   \n",
              "mean                1.0           0.561495           0.119126        0.214759   \n",
              "std                 0.0           0.496224           0.323950        0.410671   \n",
              "min                 1.0           0.000000           0.000000        0.000000   \n",
              "25%                 1.0           0.000000           0.000000        0.000000   \n",
              "50%                 1.0           1.000000           0.000000        0.000000   \n",
              "75%                 1.0           1.000000           0.000000        0.000000   \n",
              "max                 1.0           1.000000           1.000000        1.000000   \n",
              "\n",
              "       direction_opp  has_children  \n",
              "count   12684.000000  12684.000000  \n",
              "mean        0.785241      0.414144  \n",
              "std         0.410671      0.492593  \n",
              "min         0.000000      0.000000  \n",
              "25%         1.000000      0.000000  \n",
              "50%         1.000000      0.000000  \n",
              "75%         1.000000      1.000000  \n",
              "max         1.000000      1.000000  "
            ],
            "text/html": [
              "\n",
              "  <div id=\"df-05b574b4-4183-4b37-b75d-d148804b5b9f\" class=\"colab-df-container\">\n",
              "    <div>\n",
              "<style scoped>\n",
              "    .dataframe tbody tr th:only-of-type {\n",
              "        vertical-align: middle;\n",
              "    }\n",
              "\n",
              "    .dataframe tbody tr th {\n",
              "        vertical-align: top;\n",
              "    }\n",
              "\n",
              "    .dataframe thead th {\n",
              "        text-align: right;\n",
              "    }\n",
              "</style>\n",
              "<table border=\"1\" class=\"dataframe\">\n",
              "  <thead>\n",
              "    <tr style=\"text-align: right;\">\n",
              "      <th></th>\n",
              "      <th>toCoupon_GEQ5min</th>\n",
              "      <th>toCoupon_GEQ15min</th>\n",
              "      <th>toCoupon_GEQ25min</th>\n",
              "      <th>direction_same</th>\n",
              "      <th>direction_opp</th>\n",
              "      <th>has_children</th>\n",
              "    </tr>\n",
              "  </thead>\n",
              "  <tbody>\n",
              "    <tr>\n",
              "      <th>count</th>\n",
              "      <td>12684.0</td>\n",
              "      <td>12684.000000</td>\n",
              "      <td>12684.000000</td>\n",
              "      <td>12684.000000</td>\n",
              "      <td>12684.000000</td>\n",
              "      <td>12684.000000</td>\n",
              "    </tr>\n",
              "    <tr>\n",
              "      <th>mean</th>\n",
              "      <td>1.0</td>\n",
              "      <td>0.561495</td>\n",
              "      <td>0.119126</td>\n",
              "      <td>0.214759</td>\n",
              "      <td>0.785241</td>\n",
              "      <td>0.414144</td>\n",
              "    </tr>\n",
              "    <tr>\n",
              "      <th>std</th>\n",
              "      <td>0.0</td>\n",
              "      <td>0.496224</td>\n",
              "      <td>0.323950</td>\n",
              "      <td>0.410671</td>\n",
              "      <td>0.410671</td>\n",
              "      <td>0.492593</td>\n",
              "    </tr>\n",
              "    <tr>\n",
              "      <th>min</th>\n",
              "      <td>1.0</td>\n",
              "      <td>0.000000</td>\n",
              "      <td>0.000000</td>\n",
              "      <td>0.000000</td>\n",
              "      <td>0.000000</td>\n",
              "      <td>0.000000</td>\n",
              "    </tr>\n",
              "    <tr>\n",
              "      <th>25%</th>\n",
              "      <td>1.0</td>\n",
              "      <td>0.000000</td>\n",
              "      <td>0.000000</td>\n",
              "      <td>0.000000</td>\n",
              "      <td>1.000000</td>\n",
              "      <td>0.000000</td>\n",
              "    </tr>\n",
              "    <tr>\n",
              "      <th>50%</th>\n",
              "      <td>1.0</td>\n",
              "      <td>1.000000</td>\n",
              "      <td>0.000000</td>\n",
              "      <td>0.000000</td>\n",
              "      <td>1.000000</td>\n",
              "      <td>0.000000</td>\n",
              "    </tr>\n",
              "    <tr>\n",
              "      <th>75%</th>\n",
              "      <td>1.0</td>\n",
              "      <td>1.000000</td>\n",
              "      <td>0.000000</td>\n",
              "      <td>0.000000</td>\n",
              "      <td>1.000000</td>\n",
              "      <td>1.000000</td>\n",
              "    </tr>\n",
              "    <tr>\n",
              "      <th>max</th>\n",
              "      <td>1.0</td>\n",
              "      <td>1.000000</td>\n",
              "      <td>1.000000</td>\n",
              "      <td>1.000000</td>\n",
              "      <td>1.000000</td>\n",
              "      <td>1.000000</td>\n",
              "    </tr>\n",
              "  </tbody>\n",
              "</table>\n",
              "</div>\n",
              "    <div class=\"colab-df-buttons\">\n",
              "\n",
              "  <div class=\"colab-df-container\">\n",
              "    <button class=\"colab-df-convert\" onclick=\"convertToInteractive('df-05b574b4-4183-4b37-b75d-d148804b5b9f')\"\n",
              "            title=\"Convert this dataframe to an interactive table.\"\n",
              "            style=\"display:none;\">\n",
              "\n",
              "  <svg xmlns=\"http://www.w3.org/2000/svg\" height=\"24px\" viewBox=\"0 -960 960 960\">\n",
              "    <path d=\"M120-120v-720h720v720H120Zm60-500h600v-160H180v160Zm220 220h160v-160H400v160Zm0 220h160v-160H400v160ZM180-400h160v-160H180v160Zm440 0h160v-160H620v160ZM180-180h160v-160H180v160Zm440 0h160v-160H620v160Z\"/>\n",
              "  </svg>\n",
              "    </button>\n",
              "\n",
              "  <style>\n",
              "    .colab-df-container {\n",
              "      display:flex;\n",
              "      gap: 12px;\n",
              "    }\n",
              "\n",
              "    .colab-df-convert {\n",
              "      background-color: #E8F0FE;\n",
              "      border: none;\n",
              "      border-radius: 50%;\n",
              "      cursor: pointer;\n",
              "      display: none;\n",
              "      fill: #1967D2;\n",
              "      height: 32px;\n",
              "      padding: 0 0 0 0;\n",
              "      width: 32px;\n",
              "    }\n",
              "\n",
              "    .colab-df-convert:hover {\n",
              "      background-color: #E2EBFA;\n",
              "      box-shadow: 0px 1px 2px rgba(60, 64, 67, 0.3), 0px 1px 3px 1px rgba(60, 64, 67, 0.15);\n",
              "      fill: #174EA6;\n",
              "    }\n",
              "\n",
              "    .colab-df-buttons div {\n",
              "      margin-bottom: 4px;\n",
              "    }\n",
              "\n",
              "    [theme=dark] .colab-df-convert {\n",
              "      background-color: #3B4455;\n",
              "      fill: #D2E3FC;\n",
              "    }\n",
              "\n",
              "    [theme=dark] .colab-df-convert:hover {\n",
              "      background-color: #434B5C;\n",
              "      box-shadow: 0px 1px 3px 1px rgba(0, 0, 0, 0.15);\n",
              "      filter: drop-shadow(0px 1px 2px rgba(0, 0, 0, 0.3));\n",
              "      fill: #FFFFFF;\n",
              "    }\n",
              "  </style>\n",
              "\n",
              "    <script>\n",
              "      const buttonEl =\n",
              "        document.querySelector('#df-05b574b4-4183-4b37-b75d-d148804b5b9f button.colab-df-convert');\n",
              "      buttonEl.style.display =\n",
              "        google.colab.kernel.accessAllowed ? 'block' : 'none';\n",
              "\n",
              "      async function convertToInteractive(key) {\n",
              "        const element = document.querySelector('#df-05b574b4-4183-4b37-b75d-d148804b5b9f');\n",
              "        const dataTable =\n",
              "          await google.colab.kernel.invokeFunction('convertToInteractive',\n",
              "                                                    [key], {});\n",
              "        if (!dataTable) return;\n",
              "\n",
              "        const docLinkHtml = 'Like what you see? Visit the ' +\n",
              "          '<a target=\"_blank\" href=https://colab.research.google.com/notebooks/data_table.ipynb>data table notebook</a>'\n",
              "          + ' to learn more about interactive tables.';\n",
              "        element.innerHTML = '';\n",
              "        dataTable['output_type'] = 'display_data';\n",
              "        await google.colab.output.renderOutput(dataTable, element);\n",
              "        const docLink = document.createElement('div');\n",
              "        docLink.innerHTML = docLinkHtml;\n",
              "        element.appendChild(docLink);\n",
              "      }\n",
              "    </script>\n",
              "  </div>\n",
              "\n",
              "\n",
              "    <div id=\"df-7df6e15f-4864-43e8-8748-f40486d3275d\">\n",
              "      <button class=\"colab-df-quickchart\" onclick=\"quickchart('df-7df6e15f-4864-43e8-8748-f40486d3275d')\"\n",
              "                title=\"Suggest charts\"\n",
              "                style=\"display:none;\">\n",
              "\n",
              "<svg xmlns=\"http://www.w3.org/2000/svg\" height=\"24px\"viewBox=\"0 0 24 24\"\n",
              "     width=\"24px\">\n",
              "    <g>\n",
              "        <path d=\"M19 3H5c-1.1 0-2 .9-2 2v14c0 1.1.9 2 2 2h14c1.1 0 2-.9 2-2V5c0-1.1-.9-2-2-2zM9 17H7v-7h2v7zm4 0h-2V7h2v10zm4 0h-2v-4h2v4z\"/>\n",
              "    </g>\n",
              "</svg>\n",
              "      </button>\n",
              "\n",
              "<style>\n",
              "  .colab-df-quickchart {\n",
              "      --bg-color: #E8F0FE;\n",
              "      --fill-color: #1967D2;\n",
              "      --hover-bg-color: #E2EBFA;\n",
              "      --hover-fill-color: #174EA6;\n",
              "      --disabled-fill-color: #AAA;\n",
              "      --disabled-bg-color: #DDD;\n",
              "  }\n",
              "\n",
              "  [theme=dark] .colab-df-quickchart {\n",
              "      --bg-color: #3B4455;\n",
              "      --fill-color: #D2E3FC;\n",
              "      --hover-bg-color: #434B5C;\n",
              "      --hover-fill-color: #FFFFFF;\n",
              "      --disabled-bg-color: #3B4455;\n",
              "      --disabled-fill-color: #666;\n",
              "  }\n",
              "\n",
              "  .colab-df-quickchart {\n",
              "    background-color: var(--bg-color);\n",
              "    border: none;\n",
              "    border-radius: 50%;\n",
              "    cursor: pointer;\n",
              "    display: none;\n",
              "    fill: var(--fill-color);\n",
              "    height: 32px;\n",
              "    padding: 0;\n",
              "    width: 32px;\n",
              "  }\n",
              "\n",
              "  .colab-df-quickchart:hover {\n",
              "    background-color: var(--hover-bg-color);\n",
              "    box-shadow: 0 1px 2px rgba(60, 64, 67, 0.3), 0 1px 3px 1px rgba(60, 64, 67, 0.15);\n",
              "    fill: var(--button-hover-fill-color);\n",
              "  }\n",
              "\n",
              "  .colab-df-quickchart-complete:disabled,\n",
              "  .colab-df-quickchart-complete:disabled:hover {\n",
              "    background-color: var(--disabled-bg-color);\n",
              "    fill: var(--disabled-fill-color);\n",
              "    box-shadow: none;\n",
              "  }\n",
              "\n",
              "  .colab-df-spinner {\n",
              "    border: 2px solid var(--fill-color);\n",
              "    border-color: transparent;\n",
              "    border-bottom-color: var(--fill-color);\n",
              "    animation:\n",
              "      spin 1s steps(1) infinite;\n",
              "  }\n",
              "\n",
              "  @keyframes spin {\n",
              "    0% {\n",
              "      border-color: transparent;\n",
              "      border-bottom-color: var(--fill-color);\n",
              "      border-left-color: var(--fill-color);\n",
              "    }\n",
              "    20% {\n",
              "      border-color: transparent;\n",
              "      border-left-color: var(--fill-color);\n",
              "      border-top-color: var(--fill-color);\n",
              "    }\n",
              "    30% {\n",
              "      border-color: transparent;\n",
              "      border-left-color: var(--fill-color);\n",
              "      border-top-color: var(--fill-color);\n",
              "      border-right-color: var(--fill-color);\n",
              "    }\n",
              "    40% {\n",
              "      border-color: transparent;\n",
              "      border-right-color: var(--fill-color);\n",
              "      border-top-color: var(--fill-color);\n",
              "    }\n",
              "    60% {\n",
              "      border-color: transparent;\n",
              "      border-right-color: var(--fill-color);\n",
              "    }\n",
              "    80% {\n",
              "      border-color: transparent;\n",
              "      border-right-color: var(--fill-color);\n",
              "      border-bottom-color: var(--fill-color);\n",
              "    }\n",
              "    90% {\n",
              "      border-color: transparent;\n",
              "      border-bottom-color: var(--fill-color);\n",
              "    }\n",
              "  }\n",
              "</style>\n",
              "\n",
              "      <script>\n",
              "        async function quickchart(key) {\n",
              "          const quickchartButtonEl =\n",
              "            document.querySelector('#' + key + ' button');\n",
              "          quickchartButtonEl.disabled = true;  // To prevent multiple clicks.\n",
              "          quickchartButtonEl.classList.add('colab-df-spinner');\n",
              "          try {\n",
              "            const charts = await google.colab.kernel.invokeFunction(\n",
              "                'suggestCharts', [key], {});\n",
              "          } catch (error) {\n",
              "            console.error('Error during call to suggestCharts:', error);\n",
              "          }\n",
              "          quickchartButtonEl.classList.remove('colab-df-spinner');\n",
              "          quickchartButtonEl.classList.add('colab-df-quickchart-complete');\n",
              "        }\n",
              "        (() => {\n",
              "          let quickchartButtonEl =\n",
              "            document.querySelector('#df-7df6e15f-4864-43e8-8748-f40486d3275d button');\n",
              "          quickchartButtonEl.style.display =\n",
              "            google.colab.kernel.accessAllowed ? 'block' : 'none';\n",
              "        })();\n",
              "      </script>\n",
              "    </div>\n",
              "\n",
              "    </div>\n",
              "  </div>\n"
            ],
            "application/vnd.google.colaboratory.intrinsic+json": {
              "type": "dataframe",
              "summary": "{\n  \"name\": \"data[numeric_cols]\",\n  \"rows\": 8,\n  \"fields\": [\n    {\n      \"column\": \"toCoupon_GEQ5min\",\n      \"properties\": {\n        \"dtype\": \"number\",\n        \"std\": 4484.168174175196,\n        \"min\": 0.0,\n        \"max\": 12684.0,\n        \"num_unique_values\": 3,\n        \"samples\": [\n          12684.0,\n          1.0,\n          0.0\n        ],\n        \"semantic_type\": \"\",\n        \"description\": \"\"\n      }\n    },\n    {\n      \"column\": \"toCoupon_GEQ15min\",\n      \"properties\": {\n        \"dtype\": \"number\",\n        \"std\": 4484.2662798234105,\n        \"min\": 0.0,\n        \"max\": 12684.0,\n        \"num_unique_values\": 5,\n        \"samples\": [\n          0.5614947965941344,\n          1.0,\n          0.4962235416149328\n        ],\n        \"semantic_type\": \"\",\n        \"description\": \"\"\n      }\n    },\n    {\n      \"column\": \"toCoupon_GEQ25min\",\n      \"properties\": {\n        \"dtype\": \"number\",\n        \"std\": 4484.398333003226,\n        \"min\": 0.0,\n        \"max\": 12684.0,\n        \"num_unique_values\": 5,\n        \"samples\": [\n          0.11912645853043204,\n          1.0,\n          0.3239500256352782\n        ],\n        \"semantic_type\": \"\",\n        \"description\": \"\"\n      }\n    },\n    {\n      \"column\": \"direction_same\",\n      \"properties\": {\n        \"dtype\": \"number\",\n        \"std\": 4484.389123019063,\n        \"min\": 0.0,\n        \"max\": 12684.0,\n        \"num_unique_values\": 5,\n        \"samples\": [\n          0.21475875118259224,\n          1.0,\n          0.4106710682640413\n        ],\n        \"semantic_type\": \"\",\n        \"description\": \"\"\n      }\n    },\n    {\n      \"column\": \"direction_opp\",\n      \"properties\": {\n        \"dtype\": \"number\",\n        \"std\": 4484.208787872153,\n        \"min\": 0.0,\n        \"max\": 12684.0,\n        \"num_unique_values\": 5,\n        \"samples\": [\n          0.7852412488174078,\n          1.0,\n          0.4106710682640413\n        ],\n        \"semantic_type\": \"\",\n        \"description\": \"\"\n      }\n    },\n    {\n      \"column\": \"has_children\",\n      \"properties\": {\n        \"dtype\": \"number\",\n        \"std\": 4484.3244131352285,\n        \"min\": 0.0,\n        \"max\": 12684.0,\n        \"num_unique_values\": 5,\n        \"samples\": [\n          0.4141438032166509,\n          1.0,\n          0.4925929797554677\n        ],\n        \"semantic_type\": \"\",\n        \"description\": \"\"\n      }\n    }\n  ]\n}"
            }
          },
          "metadata": {},
          "execution_count": 67
        }
      ]
    },
    {
      "cell_type": "code",
      "source": [
        "data[numeric_cols] = data[numeric_cols].apply(pd.to_numeric)"
      ],
      "metadata": {
        "id": "Z2PfbAxIPvvA"
      },
      "execution_count": null,
      "outputs": []
    },
    {
      "cell_type": "code",
      "source": [
        "corr_matrix = data[numeric_cols].corr()"
      ],
      "metadata": {
        "id": "czuAP1ZXeuBb"
      },
      "execution_count": null,
      "outputs": []
    },
    {
      "cell_type": "code",
      "source": [
        "plt.figure(figsize=(10, 8))\n",
        "sns.heatmap(\n",
        "    corr_matrix,\n",
        "    annot=True,\n",
        "    cmap='coolwarm',\n",
        "    fmt=\".2f\",\n",
        "    linewidths=.5\n",
        ")\n",
        "plt.title('Correlation Matrix Heatmap', fontsize=16)\n",
        "plt.show()"
      ],
      "metadata": {
        "colab": {
          "base_uri": "https://localhost:8080/",
          "height": 835
        },
        "id": "UxZGy_Fbe0OC",
        "outputId": "c455d842-867b-42b6-f718-c10d744ad43c"
      },
      "execution_count": null,
      "outputs": [
        {
          "output_type": "display_data",
          "data": {
            "text/plain": [
              "<Figure size 1000x800 with 2 Axes>"
            ],
            "image/png": "[encoded data removed]"
          },
          "metadata": {}
        }
      ]
    },
    {
      "cell_type": "markdown",
      "source": [
        "The above plot shows that there is no strong correlaction. However, toCoupon_GEQ5min and toCoupon_GEQ15min have 0.32 moderate correlation."
      ],
      "metadata": {
        "id": "o6xSHyWsO0VI"
      }
    },
    {
      "cell_type": "code",
      "source": [
        "result = data.groupby('Y')[numeric_cols].mean()\n",
        "print(result)"
      ],
      "metadata": {
        "id": "MlodYD8PPK4B",
        "colab": {
          "base_uri": "https://localhost:8080/"
        },
        "outputId": "b0868ed8-eafa-4fce-f59e-6008eafa0302"
      },
      "execution_count": null,
      "outputs": [
        {
          "output_type": "stream",
          "name": "stdout",
          "text": [
            "   toCoupon_GEQ5min  toCoupon_GEQ15min  toCoupon_GEQ25min  direction_same  \\\n",
            "Y                                                                           \n",
            "0               1.0           0.607965           0.157654        0.207892   \n",
            "1               1.0           0.526214           0.089875        0.219972   \n",
            "\n",
            "   direction_opp  has_children  \n",
            "Y                               \n",
            "0       0.792108      0.439898  \n",
            "1       0.780028      0.394591  \n"
          ]
        }
      ]
    },
    {
      "cell_type": "markdown",
      "source": [
        "In the above table, we can see these doesn't contribute to acceptance."
      ],
      "metadata": {
        "id": "oRNPOoPSRkfo"
      }
    },
    {
      "cell_type": "markdown",
      "source": [
        "## Joint, marginal, and conditional probability for weather/coupon"
      ],
      "metadata": {
        "id": "3ZNYgFtjNW7R"
      }
    },
    {
      "cell_type": "code",
      "source": [
        "\n",
        "contingency_table = pd.crosstab(data['weather'], data['coupon'])\n",
        "print( contingency_table)\n",
        "\n",
        "\n",
        "# Joint Probability\n",
        "joint_probability = pd.crosstab(data['weather'], data['coupon'], normalize=True)\n",
        "print(\"\\nJoint Probability:\\n\", joint_probability)\n",
        "\n",
        "# Marginal Probability\n",
        "marginal_weather = joint_probability.sum(axis=1)\n",
        "marginal_coupon = joint_probability.sum(axis=0)\n",
        "print(\"\\nMarginal Probability for weather:\\n\", marginal_weather)\n",
        "print(\"\\nMarginal Probability for coupon:\\n\", marginal_coupon)\n",
        "\n",
        "# Conditional Probability\n",
        "conditional_coupon_given_weather = pd.crosstab(data['weather'], data['coupon'], normalize='index')\n",
        "print(\"\\nConditional Probability P(weather | coupon):\\n\", conditional_coupon_given_weather)\n",
        "\n",
        "# Using 'normalize='columns' gives P(weather | coupon)\n",
        "conditional_weather_given_coupon = pd.crosstab(data['weather'], data['coupon'], normalize='columns')\n",
        "print(\"\\nConditional Probability P(coupon | weather):\\n\", conditional_weather_given_coupon)\n",
        "\n",
        "\n"
      ],
      "metadata": {
        "colab": {
          "base_uri": "https://localhost:8080/"
        },
        "id": "xDxCiIAciGQN",
        "outputId": "c334e369-d8d0-4cb7-a129-befa1b350b47"
      },
      "execution_count": null,
      "outputs": [
        {
          "output_type": "stream",
          "name": "stdout",
          "text": [
            "coupon    Bar  Carry out & Take away  Coffee House  Restaurant(20-50)  \\\n",
            "weather                                                                 \n",
            "Rainy     430                    319           226                 65   \n",
            "Snowy     239                    307           303                180   \n",
            "Sunny    1348                   1767          3467               1247   \n",
            "\n",
            "coupon   Restaurant(<20)  \n",
            "weather                   \n",
            "Rainy                170  \n",
            "Snowy                376  \n",
            "Sunny               2240  \n",
            "\n",
            "Joint Probability:\n",
            " coupon        Bar  Carry out & Take away  Coffee House  Restaurant(20-50)  \\\n",
            "weather                                                                     \n",
            "Rainy    0.033901               0.025150      0.017818           0.005125   \n",
            "Snowy    0.018843               0.024204      0.023888           0.014191   \n",
            "Sunny    0.106276               0.139309      0.273336           0.098313   \n",
            "\n",
            "coupon   Restaurant(<20)  \n",
            "weather                   \n",
            "Rainy           0.013403  \n",
            "Snowy           0.029644  \n",
            "Sunny           0.176600  \n",
            "\n",
            "Marginal Probability for weather:\n",
            " weather\n",
            "Rainy    0.095396\n",
            "Snowy    0.110769\n",
            "Sunny    0.793835\n",
            "dtype: float64\n",
            "\n",
            "Marginal Probability for coupon:\n",
            " coupon\n",
            "Bar                      0.159019\n",
            "Carry out & Take away    0.188663\n",
            "Coffee House             0.315043\n",
            "Restaurant(20-50)        0.117629\n",
            "Restaurant(<20)          0.219647\n",
            "dtype: float64\n",
            "\n",
            "Conditional Probability P(weather | coupon):\n",
            " coupon        Bar  Carry out & Take away  Coffee House  Restaurant(20-50)  \\\n",
            "weather                                                                     \n",
            "Rainy    0.355372               0.263636      0.186777           0.053719   \n",
            "Snowy    0.170107               0.218505      0.215658           0.128114   \n",
            "Sunny    0.133876               0.175489      0.344324           0.123845   \n",
            "\n",
            "coupon   Restaurant(<20)  \n",
            "weather                   \n",
            "Rainy           0.140496  \n",
            "Snowy           0.267616  \n",
            "Sunny           0.222465  \n",
            "\n",
            "Conditional Probability P(coupon | weather):\n",
            " coupon        Bar  Carry out & Take away  Coffee House  Restaurant(20-50)  \\\n",
            "weather                                                                     \n",
            "Rainy    0.213188               0.133305      0.056557           0.043566   \n",
            "Snowy    0.118493               0.128291      0.075826           0.120643   \n",
            "Sunny    0.668319               0.738404      0.867618           0.835791   \n",
            "\n",
            "coupon   Restaurant(<20)  \n",
            "weather                   \n",
            "Rainy           0.061019  \n",
            "Snowy           0.134961  \n",
            "Sunny           0.804020  \n"
          ]
        }
      ]
    },
    {
      "cell_type": "code",
      "source": [
        "joint_dist_raw = contingency_table\n",
        "joint_dist_index = conditional_coupon_given_weather\n",
        "joint_dist_columns = conditional_weather_given_coupon\n",
        "\n",
        "# 3. Create figure with subplots\n",
        "fig = make_subplots(\n",
        "    rows=1, cols=3,\n",
        "    subplot_titles=(\n",
        "        'Joint Distribution',\n",
        "        'weather given coupon P(weather|coupon)',\n",
        "        'coupon given weather P(coupon|weather)'\n",
        "    ),\n",
        "    horizontal_spacing=0.1\n",
        ")\n",
        "\n",
        "\n",
        "fig.add_trace(go.Heatmap(\n",
        "    z=joint_dist_raw.values,\n",
        "    x=joint_dist_raw.columns,\n",
        "    y=joint_dist_raw.index,\n",
        "    colorscale='viridis',\n",
        "    showscale=False\n",
        "), row=1, col=1)\n",
        "\n",
        "fig.add_trace(go.Heatmap(\n",
        "    z=joint_dist_index.values,\n",
        "    x=joint_dist_index.columns,\n",
        "    y=joint_dist_index.index,\n",
        "    colorscale='viridis',\n",
        "    showscale=False\n",
        "), row=1, col=2)\n",
        "\n",
        "fig.add_trace(go.Heatmap(\n",
        "    z=joint_dist_columns.values,\n",
        "    x=joint_dist_columns.columns,\n",
        "    y=joint_dist_columns.index,\n",
        "    colorscale='viridis',\n",
        "    showscale=False\n",
        "), row=1, col=3)\n",
        "\n",
        "def add_annotations(fig, df, row, col, fmt):\n",
        "    for i in range(len(df.index)):\n",
        "        for j in range(len(df.columns)):\n",
        "            value = df.iloc[i, j]\n",
        "            text = fmt.format(value)\n",
        "            fig.add_annotation(\n",
        "                text=text,\n",
        "                x=df.columns[j],\n",
        "                y=df.index[i],\n",
        "                xref=f'x{col}',\n",
        "                yref=f'y{row}',\n",
        "                showarrow=False,\n",
        "                font=dict(color='white' if value < df.max().max() / 2 else 'black')\n",
        "            )\n",
        "\n",
        "add_annotations(fig, joint_dist_raw, 1, 1, '{:.0f}')\n",
        "add_annotations(fig, joint_dist_index, 1, 2, '{:.1%}')\n",
        "add_annotations(fig, joint_dist_columns, 1, 3, '{:.1%}')\n",
        "\n",
        "fig.update_layout(\n",
        "    title_text='Joint Distribution Heatmaps with Different Normalization Methods',\n",
        "    height=400,\n",
        "    width=1200,\n",
        "    margin=dict(t=80, b=20),\n",
        ")\n",
        "\n",
        "fig.update_yaxes(title_text='Weather', row=1, col=1)\n",
        "fig.update_yaxes(title_text=None, showticklabels=False, row=1, col=2)\n",
        "fig.update_yaxes(title_text=None, showticklabels=False, row=1, col=3)\n",
        "\n",
        "fig.show()"
      ],
      "metadata": {
        "id": "PfflN8DXUdGq",
        "colab": {
          "base_uri": "https://localhost:8080/",
          "height": 417
        },
        "outputId": "916c6ce3-bb35-4d44-c998-b179bb65b244"
      },
      "execution_count": null,
      "outputs": [
        {
          "output_type": "display_data",
          "data": {
            "text/html": [
              "<html>\n",
              "<head><meta charset=\"utf-8\" /></head>\n",
              "<body>\n",
              "    <div>            <script src=\"https://cdnjs.cloudflare.com/ajax/libs/mathjax/2.7.5/MathJax.js?config=TeX-AMS-MML_SVG\"></script><script type=\"text/javascript\">if (window.MathJax && window.MathJax.Hub && window.MathJax.Hub.Config) {window.MathJax.Hub.Config({SVG: {font: \"STIX-Web\"}});}</script>                <script type=\"text/javascript\">window.PlotlyConfig = {MathJaxConfig: 'local'};</script>\n",
              "        <script charset=\"utf-8\" src=\"https://cdn.plot.ly/plotly-2.35.2.min.js\"></script>                <div id=\"5eacca42-dc9b-48d5-808d-bd0efdf153e4\" class=\"plotly-graph-div\" style=\"height:400px; width:1200px;\"></div>            <script type=\"text/javascript\">                                    window.PLOTLYENV=window.PLOTLYENV || {};                                    if (document.getElementById(\"5eacca42-dc9b-48d5-808d-bd0efdf153e4\")) {                    Plotly.newPlot(                        \"5eacca42-dc9b-48d5-808d-bd0efdf153e4\",                        [{\"colorscale\":[[0.0,\"#440154\"],[0.1111111111111111,\"#482878\"],[0.2222222222222222,\"#3e4989\"],[0.3333333333333333,\"#31688e\"],[0.4444444444444444,\"#26828e\"],[0.5555555555555556,\"#1f9e89\"],[0.6666666666666666,\"#35b779\"],[0.7777777777777778,\"#6ece58\"],[0.8888888888888888,\"#b5de2b\"],[1.0,\"#fde725\"]],\"showscale\":false,\"x\":[\"Bar\",\"Carry out & Take away\",\"Coffee House\",\"Restaurant(20-50)\",\"Restaurant(\\u003c20)\"],\"y\":[\"Rainy\",\"Snowy\",\"Sunny\"],\"z\":[[430,319,226,65,170],[239,307,303,180,376],[1348,1767,3467,1247,2240]],\"type\":\"heatmap\",\"xaxis\":\"x\",\"yaxis\":\"y\"},{\"colorscale\":[[0.0,\"#440154\"],[0.1111111111111111,\"#482878\"],[0.2222222222222222,\"#3e4989\"],[0.3333333333333333,\"#31688e\"],[0.4444444444444444,\"#26828e\"],[0.5555555555555556,\"#1f9e89\"],[0.6666666666666666,\"#35b779\"],[0.7777777777777778,\"#6ece58\"],[0.8888888888888888,\"#b5de2b\"],[1.0,\"#fde725\"]],\"showscale\":false,\"x\":[\"Bar\",\"Carry out & Take away\",\"Coffee House\",\"Restaurant(20-50)\",\"Restaurant(\\u003c20)\"],\"y\":[\"Rainy\",\"Snowy\",\"Sunny\"],\"z\":[[0.35537190082644626,0.2636363636363636,0.18677685950413223,0.05371900826446281,0.14049586776859505],[0.1701067615658363,0.2185053380782918,0.21565836298932384,0.12811387900355872,0.26761565836298934],[0.13387625384844573,0.175489125037243,0.3443241632734135,0.12384546628264971,0.2224649915582481]],\"type\":\"heatmap\",\"xaxis\":\"x2\",\"yaxis\":\"y2\"},{\"colorscale\":[[0.0,\"#440154\"],[0.1111111111111111,\"#482878\"],[0.2222222222222222,\"#3e4989\"],[0.3333333333333333,\"#31688e\"],[0.4444444444444444,\"#26828e\"],[0.5555555555555556,\"#1f9e89\"],[0.6666666666666666,\"#35b779\"],[0.7777777777777778,\"#6ece58\"],[0.8888888888888888,\"#b5de2b\"],[1.0,\"#fde725\"]],\"showscale\":false,\"x\":[\"Bar\",\"Carry out & Take away\",\"Coffee House\",\"Restaurant(20-50)\",\"Restaurant(\\u003c20)\"],\"y\":[\"Rainy\",\"Snowy\",\"Sunny\"],\"z\":[[0.2131879028259792,0.13330547430004178,0.05655655655655656,0.0435656836461126,0.061019382627422826],[0.11849281110560238,0.12829084830756374,0.07582582582582582,0.12064343163538874,0.1349605168700646],[0.6683192860684184,0.7384036773923944,0.8676176176176176,0.8357908847184986,0.8040201005025126]],\"type\":\"heatmap\",\"xaxis\":\"x3\",\"yaxis\":\"y3\"}],                        {\"template\":{\"data\":{\"histogram2dcontour\":[{\"type\":\"histogram2dcontour\",\"colorbar\":{\"outlinewidth\":0,\"ticks\":\"\"},\"colorscale\":[[0.0,\"#0d0887\"],[0.1111111111111111,\"#46039f\"],[0.2222222222222222,\"#7201a8\"],[0.3333333333333333,\"#9c179e\"],[0.4444444444444444,\"#bd3786\"],[0.5555555555555556,\"#d8576b\"],[0.6666666666666666,\"#ed7953\"],[0.7777777777777778,\"#fb9f3a\"],[0.8888888888888888,\"#fdca26\"],[1.0,\"#f0f921\"]]}],\"choropleth\":[{\"type\":\"choropleth\",\"colorbar\":{\"outlinewidth\":0,\"ticks\":\"\"}}],\"histogram2d\":[{\"type\":\"histogram2d\",\"colorbar\":{\"outlinewidth\":0,\"ticks\":\"\"},\"colorscale\":[[0.0,\"#0d0887\"],[0.1111111111111111,\"#46039f\"],[0.2222222222222222,\"#7201a8\"],[0.3333333333333333,\"#9c179e\"],[0.4444444444444444,\"#bd3786\"],[0.5555555555555556,\"#d8576b\"],[0.6666666666666666,\"#ed7953\"],[0.7777777777777778,\"#fb9f3a\"],[0.8888888888888888,\"#fdca26\"],[1.0,\"#f0f921\"]]}],\"heatmap\":[{\"type\":\"heatmap\",\"colorbar\":{\"outlinewidth\":0,\"ticks\":\"\"},\"colorscale\":[[0.0,\"#0d0887\"],[0.1111111111111111,\"#46039f\"],[0.2222222222222222,\"#7201a8\"],[0.3333333333333333,\"#9c179e\"],[0.4444444444444444,\"#bd3786\"],[0.5555555555555556,\"#d8576b\"],[0.6666666666666666,\"#ed7953\"],[0.7777777777777778,\"#fb9f3a\"],[0.8888888888888888,\"#fdca26\"],[1.0,\"#f0f921\"]]}],\"heatmapgl\":[{\"type\":\"heatmapgl\",\"colorbar\":{\"outlinewidth\":0,\"ticks\":\"\"},\"colorscale\":[[0.0,\"#0d0887\"],[0.1111111111111111,\"#46039f\"],[0.2222222222222222,\"#7201a8\"],[0.3333333333333333,\"#9c179e\"],[0.4444444444444444,\"#bd3786\"],[0.5555555555555556,\"#d8576b\"],[0.6666666666666666,\"#ed7953\"],[0.7777777777777778,\"#fb9f3a\"],[0.8888888888888888,\"#fdca26\"],[1.0,\"#f0f921\"]]}],\"contourcarpet\":[{\"type\":\"contourcarpet\",\"colorbar\":{\"outlinewidth\":0,\"ticks\":\"\"}}],\"contour\":[{\"type\":\"contour\",\"colorbar\":{\"outlinewidth\":0,\"ticks\":\"\"},\"colorscale\":[[0.0,\"#0d0887\"],[0.1111111111111111,\"#46039f\"],[0.2222222222222222,\"#7201a8\"],[0.3333333333333333,\"#9c179e\"],[0.4444444444444444,\"#bd3786\"],[0.5555555555555556,\"#d8576b\"],[0.6666666666666666,\"#ed7953\"],[0.7777777777777778,\"#fb9f3a\"],[0.8888888888888888,\"#fdca26\"],[1.0,\"#f0f921\"]]}],\"surface\":[{\"type\":\"surface\",\"colorbar\":{\"outlinewidth\":0,\"ticks\":\"\"},\"colorscale\":[[0.0,\"#0d0887\"],[0.1111111111111111,\"#46039f\"],[0.2222222222222222,\"#7201a8\"],[0.3333333333333333,\"#9c179e\"],[0.4444444444444444,\"#bd3786\"],[0.5555555555555556,\"#d8576b\"],[0.6666666666666666,\"#ed7953\"],[0.7777777777777778,\"#fb9f3a\"],[0.8888888888888888,\"#fdca26\"],[1.0,\"#f0f921\"]]}],\"mesh3d\":[{\"type\":\"mesh3d\",\"colorbar\":{\"outlinewidth\":0,\"ticks\":\"\"}}],\"scatter\":[{\"fillpattern\":{\"fillmode\":\"overlay\",\"size\":10,\"solidity\":0.2},\"type\":\"scatter\"}],\"parcoords\":[{\"type\":\"parcoords\",\"line\":{\"colorbar\":{\"outlinewidth\":0,\"ticks\":\"\"}}}],\"scatterpolargl\":[{\"type\":\"scatterpolargl\",\"marker\":{\"colorbar\":{\"outlinewidth\":0,\"ticks\":\"\"}}}],\"bar\":[{\"error_x\":{\"color\":\"#2a3f5f\"},\"error_y\":{\"color\":\"#2a3f5f\"},\"marker\":{\"line\":{\"color\":\"#E5ECF6\",\"width\":0.5},\"pattern\":{\"fillmode\":\"overlay\",\"size\":10,\"solidity\":0.2}},\"type\":\"bar\"}],\"scattergeo\":[{\"type\":\"scattergeo\",\"marker\":{\"colorbar\":{\"outlinewidth\":0,\"ticks\":\"\"}}}],\"scatterpolar\":[{\"type\":\"scatterpolar\",\"marker\":{\"colorbar\":{\"outlinewidth\":0,\"ticks\":\"\"}}}],\"histogram\":[{\"marker\":{\"pattern\":{\"fillmode\":\"overlay\",\"size\":10,\"solidity\":0.2}},\"type\":\"histogram\"}],\"scattergl\":[{\"type\":\"scattergl\",\"marker\":{\"colorbar\":{\"outlinewidth\":0,\"ticks\":\"\"}}}],\"scatter3d\":[{\"type\":\"scatter3d\",\"line\":{\"colorbar\":{\"outlinewidth\":0,\"ticks\":\"\"}},\"marker\":{\"colorbar\":{\"outlinewidth\":0,\"ticks\":\"\"}}}],\"scattermapbox\":[{\"type\":\"scattermapbox\",\"marker\":{\"colorbar\":{\"outlinewidth\":0,\"ticks\":\"\"}}}],\"scatterternary\":[{\"type\":\"scatterternary\",\"marker\":{\"colorbar\":{\"outlinewidth\":0,\"ticks\":\"\"}}}],\"scattercarpet\":[{\"type\":\"scattercarpet\",\"marker\":{\"colorbar\":{\"outlinewidth\":0,\"ticks\":\"\"}}}],\"carpet\":[{\"aaxis\":{\"endlinecolor\":\"#2a3f5f\",\"gridcolor\":\"white\",\"linecolor\":\"white\",\"minorgridcolor\":\"white\",\"startlinecolor\":\"#2a3f5f\"},\"baxis\":{\"endlinecolor\":\"#2a3f5f\",\"gridcolor\":\"white\",\"linecolor\":\"white\",\"minorgridcolor\":\"white\",\"startlinecolor\":\"#2a3f5f\"},\"type\":\"carpet\"}],\"table\":[{\"cells\":{\"fill\":{\"color\":\"#EBF0F8\"},\"line\":{\"color\":\"white\"}},\"header\":{\"fill\":{\"color\":\"#C8D4E3\"},\"line\":{\"color\":\"white\"}},\"type\":\"table\"}],\"barpolar\":[{\"marker\":{\"line\":{\"color\":\"#E5ECF6\",\"width\":0.5},\"pattern\":{\"fillmode\":\"overlay\",\"size\":10,\"solidity\":0.2}},\"type\":\"barpolar\"}],\"pie\":[{\"automargin\":true,\"type\":\"pie\"}]},\"layout\":{\"autotypenumbers\":\"strict\",\"colorway\":[\"#636efa\",\"#EF553B\",\"#00cc96\",\"#ab63fa\",\"#FFA15A\",\"#19d3f3\",\"#FF6692\",\"#B6E880\",\"#FF97FF\",\"#FECB52\"],\"font\":{\"color\":\"#2a3f5f\"},\"hovermode\":\"closest\",\"hoverlabel\":{\"align\":\"left\"},\"paper_bgcolor\":\"white\",\"plot_bgcolor\":\"#E5ECF6\",\"polar\":{\"bgcolor\":\"#E5ECF6\",\"angularaxis\":{\"gridcolor\":\"white\",\"linecolor\":\"white\",\"ticks\":\"\"},\"radialaxis\":{\"gridcolor\":\"white\",\"linecolor\":\"white\",\"ticks\":\"\"}},\"ternary\":{\"bgcolor\":\"#E5ECF6\",\"aaxis\":{\"gridcolor\":\"white\",\"linecolor\":\"white\",\"ticks\":\"\"},\"baxis\":{\"gridcolor\":\"white\",\"linecolor\":\"white\",\"ticks\":\"\"},\"caxis\":{\"gridcolor\":\"white\",\"linecolor\":\"white\",\"ticks\":\"\"}},\"coloraxis\":{\"colorbar\":{\"outlinewidth\":0,\"ticks\":\"\"}},\"colorscale\":{\"sequential\":[[0.0,\"#0d0887\"],[0.1111111111111111,\"#46039f\"],[0.2222222222222222,\"#7201a8\"],[0.3333333333333333,\"#9c179e\"],[0.4444444444444444,\"#bd3786\"],[0.5555555555555556,\"#d8576b\"],[0.6666666666666666,\"#ed7953\"],[0.7777777777777778,\"#fb9f3a\"],[0.8888888888888888,\"#fdca26\"],[1.0,\"#f0f921\"]],\"sequentialminus\":[[0.0,\"#0d0887\"],[0.1111111111111111,\"#46039f\"],[0.2222222222222222,\"#7201a8\"],[0.3333333333333333,\"#9c179e\"],[0.4444444444444444,\"#bd3786\"],[0.5555555555555556,\"#d8576b\"],[0.6666666666666666,\"#ed7953\"],[0.7777777777777778,\"#fb9f3a\"],[0.8888888888888888,\"#fdca26\"],[1.0,\"#f0f921\"]],\"diverging\":[[0,\"#8e0152\"],[0.1,\"#c51b7d\"],[0.2,\"#de77ae\"],[0.3,\"#f1b6da\"],[0.4,\"#fde0ef\"],[0.5,\"#f7f7f7\"],[0.6,\"#e6f5d0\"],[0.7,\"#b8e186\"],[0.8,\"#7fbc41\"],[0.9,\"#4d9221\"],[1,\"#276419\"]]},\"xaxis\":{\"gridcolor\":\"white\",\"linecolor\":\"white\",\"ticks\":\"\",\"title\":{\"standoff\":15},\"zerolinecolor\":\"white\",\"automargin\":true,\"zerolinewidth\":2},\"yaxis\":{\"gridcolor\":\"white\",\"linecolor\":\"white\",\"ticks\":\"\",\"title\":{\"standoff\":15},\"zerolinecolor\":\"white\",\"automargin\":true,\"zerolinewidth\":2},\"scene\":{\"xaxis\":{\"backgroundcolor\":\"#E5ECF6\",\"gridcolor\":\"white\",\"linecolor\":\"white\",\"showbackground\":true,\"ticks\":\"\",\"zerolinecolor\":\"white\",\"gridwidth\":2},\"yaxis\":{\"backgroundcolor\":\"#E5ECF6\",\"gridcolor\":\"white\",\"linecolor\":\"white\",\"showbackground\":true,\"ticks\":\"\",\"zerolinecolor\":\"white\",\"gridwidth\":2},\"zaxis\":{\"backgroundcolor\":\"#E5ECF6\",\"gridcolor\":\"white\",\"linecolor\":\"white\",\"showbackground\":true,\"ticks\":\"\",\"zerolinecolor\":\"white\",\"gridwidth\":2}},\"shapedefaults\":{\"line\":{\"color\":\"#2a3f5f\"}},\"annotationdefaults\":{\"arrowcolor\":\"#2a3f5f\",\"arrowhead\":0,\"arrowwidth\":1},\"geo\":{\"bgcolor\":\"white\",\"landcolor\":\"#E5ECF6\",\"subunitcolor\":\"white\",\"showland\":true,\"showlakes\":true,\"lakecolor\":\"white\"},\"title\":{\"x\":0.05},\"mapbox\":{\"style\":\"light\"}}},\"xaxis\":{\"anchor\":\"y\",\"domain\":[0.0,0.26666666666666666]},\"yaxis\":{\"anchor\":\"x\",\"domain\":[0.0,1.0],\"title\":{\"text\":\"Weather\"}},\"xaxis2\":{\"anchor\":\"y2\",\"domain\":[0.3666666666666667,0.6333333333333333]},\"yaxis2\":{\"anchor\":\"x2\",\"domain\":[0.0,1.0],\"showticklabels\":false},\"xaxis3\":{\"anchor\":\"y3\",\"domain\":[0.7333333333333334,1.0]},\"yaxis3\":{\"anchor\":\"x3\",\"domain\":[0.0,1.0],\"showticklabels\":false},\"annotations\":[{\"font\":{\"size\":16},\"showarrow\":false,\"text\":\"Joint Distribution\",\"x\":0.13333333333333333,\"xanchor\":\"center\",\"xref\":\"paper\",\"y\":1.0,\"yanchor\":\"bottom\",\"yref\":\"paper\"},{\"font\":{\"size\":16},\"showarrow\":false,\"text\":\"weather given coupon P(weather|coupon)\",\"x\":0.5,\"xanchor\":\"center\",\"xref\":\"paper\",\"y\":1.0,\"yanchor\":\"bottom\",\"yref\":\"paper\"},{\"font\":{\"size\":16},\"showarrow\":false,\"text\":\"coupon given weather P(coupon|weather)\",\"x\":0.8666666666666667,\"xanchor\":\"center\",\"xref\":\"paper\",\"y\":1.0,\"yanchor\":\"bottom\",\"yref\":\"paper\"},{\"font\":{\"color\":\"white\"},\"showarrow\":false,\"text\":\"430\",\"x\":\"Bar\",\"xref\":\"x\",\"y\":\"Rainy\",\"yref\":\"y\"},{\"font\":{\"color\":\"white\"},\"showarrow\":false,\"text\":\"319\",\"x\":\"Carry out & Take away\",\"xref\":\"x\",\"y\":\"Rainy\",\"yref\":\"y\"},{\"font\":{\"color\":\"white\"},\"showarrow\":false,\"text\":\"226\",\"x\":\"Coffee House\",\"xref\":\"x\",\"y\":\"Rainy\",\"yref\":\"y\"},{\"font\":{\"color\":\"white\"},\"showarrow\":false,\"text\":\"65\",\"x\":\"Restaurant(20-50)\",\"xref\":\"x\",\"y\":\"Rainy\",\"yref\":\"y\"},{\"font\":{\"color\":\"white\"},\"showarrow\":false,\"text\":\"170\",\"x\":\"Restaurant(\\u003c20)\",\"xref\":\"x\",\"y\":\"Rainy\",\"yref\":\"y\"},{\"font\":{\"color\":\"white\"},\"showarrow\":false,\"text\":\"239\",\"x\":\"Bar\",\"xref\":\"x\",\"y\":\"Snowy\",\"yref\":\"y\"},{\"font\":{\"color\":\"white\"},\"showarrow\":false,\"text\":\"307\",\"x\":\"Carry out & Take away\",\"xref\":\"x\",\"y\":\"Snowy\",\"yref\":\"y\"},{\"font\":{\"color\":\"white\"},\"showarrow\":false,\"text\":\"303\",\"x\":\"Coffee House\",\"xref\":\"x\",\"y\":\"Snowy\",\"yref\":\"y\"},{\"font\":{\"color\":\"white\"},\"showarrow\":false,\"text\":\"180\",\"x\":\"Restaurant(20-50)\",\"xref\":\"x\",\"y\":\"Snowy\",\"yref\":\"y\"},{\"font\":{\"color\":\"white\"},\"showarrow\":false,\"text\":\"376\",\"x\":\"Restaurant(\\u003c20)\",\"xref\":\"x\",\"y\":\"Snowy\",\"yref\":\"y\"},{\"font\":{\"color\":\"white\"},\"showarrow\":false,\"text\":\"1348\",\"x\":\"Bar\",\"xref\":\"x\",\"y\":\"Sunny\",\"yref\":\"y\"},{\"font\":{\"color\":\"black\"},\"showarrow\":false,\"text\":\"1767\",\"x\":\"Carry out & Take away\",\"xref\":\"x\",\"y\":\"Sunny\",\"yref\":\"y\"},{\"font\":{\"color\":\"black\"},\"showarrow\":false,\"text\":\"3467\",\"x\":\"Coffee House\",\"xref\":\"x\",\"y\":\"Sunny\",\"yref\":\"y\"},{\"font\":{\"color\":\"white\"},\"showarrow\":false,\"text\":\"1247\",\"x\":\"Restaurant(20-50)\",\"xref\":\"x\",\"y\":\"Sunny\",\"yref\":\"y\"},{\"font\":{\"color\":\"black\"},\"showarrow\":false,\"text\":\"2240\",\"x\":\"Restaurant(\\u003c20)\",\"xref\":\"x\",\"y\":\"Sunny\",\"yref\":\"y\"},{\"font\":{\"color\":\"black\"},\"showarrow\":false,\"text\":\"35.5%\",\"x\":\"Bar\",\"xref\":\"x2\",\"y\":\"Rainy\",\"yref\":\"y\"},{\"font\":{\"color\":\"black\"},\"showarrow\":false,\"text\":\"26.4%\",\"x\":\"Carry out & Take away\",\"xref\":\"x2\",\"y\":\"Rainy\",\"yref\":\"y\"},{\"font\":{\"color\":\"black\"},\"showarrow\":false,\"text\":\"18.7%\",\"x\":\"Coffee House\",\"xref\":\"x2\",\"y\":\"Rainy\",\"yref\":\"y\"},{\"font\":{\"color\":\"white\"},\"showarrow\":false,\"text\":\"5.4%\",\"x\":\"Restaurant(20-50)\",\"xref\":\"x2\",\"y\":\"Rainy\",\"yref\":\"y\"},{\"font\":{\"color\":\"white\"},\"showarrow\":false,\"text\":\"14.0%\",\"x\":\"Restaurant(\\u003c20)\",\"xref\":\"x2\",\"y\":\"Rainy\",\"yref\":\"y\"},{\"font\":{\"color\":\"white\"},\"showarrow\":false,\"text\":\"17.0%\",\"x\":\"Bar\",\"xref\":\"x2\",\"y\":\"Snowy\",\"yref\":\"y\"},{\"font\":{\"color\":\"black\"},\"showarrow\":false,\"text\":\"21.9%\",\"x\":\"Carry out & Take away\",\"xref\":\"x2\",\"y\":\"Snowy\",\"yref\":\"y\"},{\"font\":{\"color\":\"black\"},\"showarrow\":false,\"text\":\"21.6%\",\"x\":\"Coffee House\",\"xref\":\"x2\",\"y\":\"Snowy\",\"yref\":\"y\"},{\"font\":{\"color\":\"white\"},\"showarrow\":false,\"text\":\"12.8%\",\"x\":\"Restaurant(20-50)\",\"xref\":\"x2\",\"y\":\"Snowy\",\"yref\":\"y\"},{\"font\":{\"color\":\"black\"},\"showarrow\":false,\"text\":\"26.8%\",\"x\":\"Restaurant(\\u003c20)\",\"xref\":\"x2\",\"y\":\"Snowy\",\"yref\":\"y\"},{\"font\":{\"color\":\"white\"},\"showarrow\":false,\"text\":\"13.4%\",\"x\":\"Bar\",\"xref\":\"x2\",\"y\":\"Sunny\",\"yref\":\"y\"},{\"font\":{\"color\":\"white\"},\"showarrow\":false,\"text\":\"17.5%\",\"x\":\"Carry out & Take away\",\"xref\":\"x2\",\"y\":\"Sunny\",\"yref\":\"y\"},{\"font\":{\"color\":\"black\"},\"showarrow\":false,\"text\":\"34.4%\",\"x\":\"Coffee House\",\"xref\":\"x2\",\"y\":\"Sunny\",\"yref\":\"y\"},{\"font\":{\"color\":\"white\"},\"showarrow\":false,\"text\":\"12.4%\",\"x\":\"Restaurant(20-50)\",\"xref\":\"x2\",\"y\":\"Sunny\",\"yref\":\"y\"},{\"font\":{\"color\":\"black\"},\"showarrow\":false,\"text\":\"22.2%\",\"x\":\"Restaurant(\\u003c20)\",\"xref\":\"x2\",\"y\":\"Sunny\",\"yref\":\"y\"},{\"font\":{\"color\":\"white\"},\"showarrow\":false,\"text\":\"21.3%\",\"x\":\"Bar\",\"xref\":\"x3\",\"y\":\"Rainy\",\"yref\":\"y\"},{\"font\":{\"color\":\"white\"},\"showarrow\":false,\"text\":\"13.3%\",\"x\":\"Carry out & Take away\",\"xref\":\"x3\",\"y\":\"Rainy\",\"yref\":\"y\"},{\"font\":{\"color\":\"white\"},\"showarrow\":false,\"text\":\"5.7%\",\"x\":\"Coffee House\",\"xref\":\"x3\",\"y\":\"Rainy\",\"yref\":\"y\"},{\"font\":{\"color\":\"white\"},\"showarrow\":false,\"text\":\"4.4%\",\"x\":\"Restaurant(20-50)\",\"xref\":\"x3\",\"y\":\"Rainy\",\"yref\":\"y\"},{\"font\":{\"color\":\"white\"},\"showarrow\":false,\"text\":\"6.1%\",\"x\":\"Restaurant(\\u003c20)\",\"xref\":\"x3\",\"y\":\"Rainy\",\"yref\":\"y\"},{\"font\":{\"color\":\"white\"},\"showarrow\":false,\"text\":\"11.8%\",\"x\":\"Bar\",\"xref\":\"x3\",\"y\":\"Snowy\",\"yref\":\"y\"},{\"font\":{\"color\":\"white\"},\"showarrow\":false,\"text\":\"12.8%\",\"x\":\"Carry out & Take away\",\"xref\":\"x3\",\"y\":\"Snowy\",\"yref\":\"y\"},{\"font\":{\"color\":\"white\"},\"showarrow\":false,\"text\":\"7.6%\",\"x\":\"Coffee House\",\"xref\":\"x3\",\"y\":\"Snowy\",\"yref\":\"y\"},{\"font\":{\"color\":\"white\"},\"showarrow\":false,\"text\":\"12.1%\",\"x\":\"Restaurant(20-50)\",\"xref\":\"x3\",\"y\":\"Snowy\",\"yref\":\"y\"},{\"font\":{\"color\":\"white\"},\"showarrow\":false,\"text\":\"13.5%\",\"x\":\"Restaurant(\\u003c20)\",\"xref\":\"x3\",\"y\":\"Snowy\",\"yref\":\"y\"},{\"font\":{\"color\":\"black\"},\"showarrow\":false,\"text\":\"66.8%\",\"x\":\"Bar\",\"xref\":\"x3\",\"y\":\"Sunny\",\"yref\":\"y\"},{\"font\":{\"color\":\"black\"},\"showarrow\":false,\"text\":\"73.8%\",\"x\":\"Carry out & Take away\",\"xref\":\"x3\",\"y\":\"Sunny\",\"yref\":\"y\"},{\"font\":{\"color\":\"black\"},\"showarrow\":false,\"text\":\"86.8%\",\"x\":\"Coffee House\",\"xref\":\"x3\",\"y\":\"Sunny\",\"yref\":\"y\"},{\"font\":{\"color\":\"black\"},\"showarrow\":false,\"text\":\"83.6%\",\"x\":\"Restaurant(20-50)\",\"xref\":\"x3\",\"y\":\"Sunny\",\"yref\":\"y\"},{\"font\":{\"color\":\"black\"},\"showarrow\":false,\"text\":\"80.4%\",\"x\":\"Restaurant(\\u003c20)\",\"xref\":\"x3\",\"y\":\"Sunny\",\"yref\":\"y\"}],\"title\":{\"text\":\"Joint Distribution Heatmaps with Different Normalization Methods\"},\"margin\":{\"t\":80,\"b\":20},\"height\":400,\"width\":1200},                        {\"responsive\": true}                    ).then(function(){\n",
              "                            \n",
              "var gd = document.getElementById('5eacca42-dc9b-48d5-808d-bd0efdf153e4');\n",
              "var x = new MutationObserver(function (mutations, observer) {{\n",
              "        var display = window.getComputedStyle(gd).display;\n",
              "        if (!display || display === 'none') {{\n",
              "            console.log([gd, 'removed!']);\n",
              "            Plotly.purge(gd);\n",
              "            observer.disconnect();\n",
              "        }}\n",
              "}});\n",
              "\n",
              "// Listen for the removal of the full notebook cells\n",
              "var notebookContainer = gd.closest('#notebook-container');\n",
              "if (notebookContainer) {{\n",
              "    x.observe(notebookContainer, {childList: true});\n",
              "}}\n",
              "\n",
              "// Listen for the clearing of the current output cell\n",
              "var outputEl = gd.closest('.output');\n",
              "if (outputEl) {{\n",
              "    x.observe(outputEl, {childList: true});\n",
              "}}\n",
              "\n",
              "                        })                };                            </script>        </div>\n",
              "</body>\n",
              "</html>"
            ]
          },
          "metadata": {}
        }
      ]
    },
    {
      "cell_type": "markdown",
      "source": [
        "**To find the most frequent combinations overall**"
      ],
      "metadata": {
        "id": "7rA5N7tsT7ss"
      }
    },
    {
      "cell_type": "markdown",
      "source": [
        "### weather and coupon conditional probability\n",
        "When looking at the conditional probability of a customer visiting a coffee house given sunny weather, a high percentage like 87% is an example of a clear association we can derive"
      ],
      "metadata": {
        "id": "lyYcLZLZMI9M"
      }
    },
    {
      "cell_type": "code",
      "source": [
        "# calculates P(Y | weather, coupon)\n",
        "conditional_prob = pd.crosstab(\n",
        "    [data['weather'], data['coupon']],\n",
        "    data['Y'],\n",
        "    normalize='index'\n",
        ").reset_index()\n",
        "\n",
        "# Melt the DataFrame to long format\n",
        "long_df = conditional_prob.melt(\n",
        "    id_vars=['weather', 'coupon'],\n",
        "    value_vars=[0, 1],\n",
        "    var_name='Outcome',\n",
        "    value_name='Probability'\n",
        ")\n",
        "\n",
        "fig = px.bar(\n",
        "    long_df,\n",
        "    x='weather',\n",
        "    y='Probability',\n",
        "    color='Outcome',\n",
        "    facet_col='coupon',\n",
        "    barmode='group',\n",
        "    title='Conditional Probability of Outcome by Weather and Coupon'\n",
        ")\n",
        "\n",
        "fig.show()"
      ],
      "metadata": {
        "id": "uL63JlVz92OV",
        "colab": {
          "base_uri": "https://localhost:8080/",
          "height": 542
        },
        "outputId": "ce88fd74-4564-445a-c4f8-c7eab9e4bc68"
      },
      "execution_count": null,
      "outputs": [
        {
          "output_type": "display_data",
          "data": {
            "text/html": [
              "<html>\n",
              "<head><meta charset=\"utf-8\" /></head>\n",
              "<body>\n",
              "    <div>            <script src=\"https://cdnjs.cloudflare.com/ajax/libs/mathjax/2.7.5/MathJax.js?config=TeX-AMS-MML_SVG\"></script><script type=\"text/javascript\">if (window.MathJax && window.MathJax.Hub && window.MathJax.Hub.Config) {window.MathJax.Hub.Config({SVG: {font: \"STIX-Web\"}});}</script>                <script type=\"text/javascript\">window.PlotlyConfig = {MathJaxConfig: 'local'};</script>\n",
              "        <script charset=\"utf-8\" src=\"https://cdn.plot.ly/plotly-2.35.2.min.js\"></script>                <div id=\"1bdc9c92-250f-40b4-a61c-419c75c43bc7\" class=\"plotly-graph-div\" style=\"height:525px; width:100%;\"></div>            <script type=\"text/javascript\">                                    window.PLOTLYENV=window.PLOTLYENV || {};                                    if (document.getElementById(\"1bdc9c92-250f-40b4-a61c-419c75c43bc7\")) {                    Plotly.newPlot(                        \"1bdc9c92-250f-40b4-a61c-419c75c43bc7\",                        [{\"alignmentgroup\":\"True\",\"hovertemplate\":\"Outcome=0\\u003cbr\\u003ecoupon=Bar\\u003cbr\\u003eweather=%{x}\\u003cbr\\u003eProbability=%{y}\\u003cextra\\u003e\\u003c\\u002fextra\\u003e\",\"legendgroup\":\"0\",\"marker\":{\"color\":\"#636efa\",\"pattern\":{\"shape\":\"\"}},\"name\":\"0\",\"offsetgroup\":\"0\",\"orientation\":\"v\",\"showlegend\":true,\"textposition\":\"auto\",\"x\":[\"Rainy\",\"Snowy\",\"Sunny\"],\"xaxis\":\"x\",\"y\":[0.6372093023255814,0.6820083682008368,0.5586053412462908],\"yaxis\":\"y\",\"type\":\"bar\"},{\"alignmentgroup\":\"True\",\"hovertemplate\":\"Outcome=0\\u003cbr\\u003ecoupon=Carry out & Take away\\u003cbr\\u003eweather=%{x}\\u003cbr\\u003eProbability=%{y}\\u003cextra\\u003e\\u003c\\u002fextra\\u003e\",\"legendgroup\":\"0\",\"marker\":{\"color\":\"#636efa\",\"pattern\":{\"shape\":\"\"}},\"name\":\"0\",\"offsetgroup\":\"0\",\"orientation\":\"v\",\"showlegend\":false,\"textposition\":\"auto\",\"x\":[\"Rainy\",\"Snowy\",\"Sunny\"],\"xaxis\":\"x2\",\"y\":[0.3887147335423197,0.2931596091205212,0.23712507074136954],\"yaxis\":\"y2\",\"type\":\"bar\"},{\"alignmentgroup\":\"True\",\"hovertemplate\":\"Outcome=0\\u003cbr\\u003ecoupon=Coffee House\\u003cbr\\u003eweather=%{x}\\u003cbr\\u003eProbability=%{y}\\u003cextra\\u003e\\u003c\\u002fextra\\u003e\",\"legendgroup\":\"0\",\"marker\":{\"color\":\"#636efa\",\"pattern\":{\"shape\":\"\"}},\"name\":\"0\",\"offsetgroup\":\"0\",\"orientation\":\"v\",\"showlegend\":false,\"textposition\":\"auto\",\"x\":[\"Rainy\",\"Snowy\",\"Sunny\"],\"xaxis\":\"x3\",\"y\":[0.4778761061946903,0.5676567656765676,0.4963945774444765],\"yaxis\":\"y3\",\"type\":\"bar\"},{\"alignmentgroup\":\"True\",\"hovertemplate\":\"Outcome=0\\u003cbr\\u003ecoupon=Restaurant(20-50)\\u003cbr\\u003eweather=%{x}\\u003cbr\\u003eProbability=%{y}\\u003cextra\\u003e\\u003c\\u002fextra\\u003e\",\"legendgroup\":\"0\",\"marker\":{\"color\":\"#636efa\",\"pattern\":{\"shape\":\"\"}},\"name\":\"0\",\"offsetgroup\":\"0\",\"orientation\":\"v\",\"showlegend\":false,\"textposition\":\"auto\",\"x\":[\"Rainy\",\"Snowy\",\"Sunny\"],\"xaxis\":\"x4\",\"y\":[0.6153846153846154,0.7,0.5356856455493184],\"yaxis\":\"y4\",\"type\":\"bar\"},{\"alignmentgroup\":\"True\",\"hovertemplate\":\"Outcome=0\\u003cbr\\u003ecoupon=Restaurant(\\u003c20)\\u003cbr\\u003eweather=%{x}\\u003cbr\\u003eProbability=%{y}\\u003cextra\\u003e\\u003c\\u002fextra\\u003e\",\"legendgroup\":\"0\",\"marker\":{\"color\":\"#636efa\",\"pattern\":{\"shape\":\"\"}},\"name\":\"0\",\"offsetgroup\":\"0\",\"orientation\":\"v\",\"showlegend\":false,\"textposition\":\"auto\",\"x\":[\"Rainy\",\"Snowy\",\"Sunny\"],\"xaxis\":\"x5\",\"y\":[0.611764705882353,0.5132978723404256,0.23169642857142858],\"yaxis\":\"y5\",\"type\":\"bar\"},{\"alignmentgroup\":\"True\",\"hovertemplate\":\"Outcome=1\\u003cbr\\u003ecoupon=Bar\\u003cbr\\u003eweather=%{x}\\u003cbr\\u003eProbability=%{y}\\u003cextra\\u003e\\u003c\\u002fextra\\u003e\",\"legendgroup\":\"1\",\"marker\":{\"color\":\"#EF553B\",\"pattern\":{\"shape\":\"\"}},\"name\":\"1\",\"offsetgroup\":\"1\",\"orientation\":\"v\",\"showlegend\":true,\"textposition\":\"auto\",\"x\":[\"Rainy\",\"Snowy\",\"Sunny\"],\"xaxis\":\"x\",\"y\":[0.3627906976744186,0.3179916317991632,0.4413946587537092],\"yaxis\":\"y\",\"type\":\"bar\"},{\"alignmentgroup\":\"True\",\"hovertemplate\":\"Outcome=1\\u003cbr\\u003ecoupon=Carry out & Take away\\u003cbr\\u003eweather=%{x}\\u003cbr\\u003eProbability=%{y}\\u003cextra\\u003e\\u003c\\u002fextra\\u003e\",\"legendgroup\":\"1\",\"marker\":{\"color\":\"#EF553B\",\"pattern\":{\"shape\":\"\"}},\"name\":\"1\",\"offsetgroup\":\"1\",\"orientation\":\"v\",\"showlegend\":false,\"textposition\":\"auto\",\"x\":[\"Rainy\",\"Snowy\",\"Sunny\"],\"xaxis\":\"x2\",\"y\":[0.6112852664576802,0.7068403908794788,0.7628749292586304],\"yaxis\":\"y2\",\"type\":\"bar\"},{\"alignmentgroup\":\"True\",\"hovertemplate\":\"Outcome=1\\u003cbr\\u003ecoupon=Coffee House\\u003cbr\\u003eweather=%{x}\\u003cbr\\u003eProbability=%{y}\\u003cextra\\u003e\\u003c\\u002fextra\\u003e\",\"legendgroup\":\"1\",\"marker\":{\"color\":\"#EF553B\",\"pattern\":{\"shape\":\"\"}},\"name\":\"1\",\"offsetgroup\":\"1\",\"orientation\":\"v\",\"showlegend\":false,\"textposition\":\"auto\",\"x\":[\"Rainy\",\"Snowy\",\"Sunny\"],\"xaxis\":\"x3\",\"y\":[0.5221238938053098,0.43234323432343236,0.5036054225555235],\"yaxis\":\"y3\",\"type\":\"bar\"},{\"alignmentgroup\":\"True\",\"hovertemplate\":\"Outcome=1\\u003cbr\\u003ecoupon=Restaurant(20-50)\\u003cbr\\u003eweather=%{x}\\u003cbr\\u003eProbability=%{y}\\u003cextra\\u003e\\u003c\\u002fextra\\u003e\",\"legendgroup\":\"1\",\"marker\":{\"color\":\"#EF553B\",\"pattern\":{\"shape\":\"\"}},\"name\":\"1\",\"offsetgroup\":\"1\",\"orientation\":\"v\",\"showlegend\":false,\"textposition\":\"auto\",\"x\":[\"Rainy\",\"Snowy\",\"Sunny\"],\"xaxis\":\"x4\",\"y\":[0.38461538461538464,0.3,0.46431435445068164],\"yaxis\":\"y4\",\"type\":\"bar\"},{\"alignmentgroup\":\"True\",\"hovertemplate\":\"Outcome=1\\u003cbr\\u003ecoupon=Restaurant(\\u003c20)\\u003cbr\\u003eweather=%{x}\\u003cbr\\u003eProbability=%{y}\\u003cextra\\u003e\\u003c\\u002fextra\\u003e\",\"legendgroup\":\"1\",\"marker\":{\"color\":\"#EF553B\",\"pattern\":{\"shape\":\"\"}},\"name\":\"1\",\"offsetgroup\":\"1\",\"orientation\":\"v\",\"showlegend\":false,\"textposition\":\"auto\",\"x\":[\"Rainy\",\"Snowy\",\"Sunny\"],\"xaxis\":\"x5\",\"y\":[0.38823529411764707,0.4867021276595745,0.7683035714285714],\"yaxis\":\"y5\",\"type\":\"bar\"}],                        {\"template\":{\"data\":{\"histogram2dcontour\":[{\"type\":\"histogram2dcontour\",\"colorbar\":{\"outlinewidth\":0,\"ticks\":\"\"},\"colorscale\":[[0.0,\"#0d0887\"],[0.1111111111111111,\"#46039f\"],[0.2222222222222222,\"#7201a8\"],[0.3333333333333333,\"#9c179e\"],[0.4444444444444444,\"#bd3786\"],[0.5555555555555556,\"#d8576b\"],[0.6666666666666666,\"#ed7953\"],[0.7777777777777778,\"#fb9f3a\"],[0.8888888888888888,\"#fdca26\"],[1.0,\"#f0f921\"]]}],\"choropleth\":[{\"type\":\"choropleth\",\"colorbar\":{\"outlinewidth\":0,\"ticks\":\"\"}}],\"histogram2d\":[{\"type\":\"histogram2d\",\"colorbar\":{\"outlinewidth\":0,\"ticks\":\"\"},\"colorscale\":[[0.0,\"#0d0887\"],[0.1111111111111111,\"#46039f\"],[0.2222222222222222,\"#7201a8\"],[0.3333333333333333,\"#9c179e\"],[0.4444444444444444,\"#bd3786\"],[0.5555555555555556,\"#d8576b\"],[0.6666666666666666,\"#ed7953\"],[0.7777777777777778,\"#fb9f3a\"],[0.8888888888888888,\"#fdca26\"],[1.0,\"#f0f921\"]]}],\"heatmap\":[{\"type\":\"heatmap\",\"colorbar\":{\"outlinewidth\":0,\"ticks\":\"\"},\"colorscale\":[[0.0,\"#0d0887\"],[0.1111111111111111,\"#46039f\"],[0.2222222222222222,\"#7201a8\"],[0.3333333333333333,\"#9c179e\"],[0.4444444444444444,\"#bd3786\"],[0.5555555555555556,\"#d8576b\"],[0.6666666666666666,\"#ed7953\"],[0.7777777777777778,\"#fb9f3a\"],[0.8888888888888888,\"#fdca26\"],[1.0,\"#f0f921\"]]}],\"heatmapgl\":[{\"type\":\"heatmapgl\",\"colorbar\":{\"outlinewidth\":0,\"ticks\":\"\"},\"colorscale\":[[0.0,\"#0d0887\"],[0.1111111111111111,\"#46039f\"],[0.2222222222222222,\"#7201a8\"],[0.3333333333333333,\"#9c179e\"],[0.4444444444444444,\"#bd3786\"],[0.5555555555555556,\"#d8576b\"],[0.6666666666666666,\"#ed7953\"],[0.7777777777777778,\"#fb9f3a\"],[0.8888888888888888,\"#fdca26\"],[1.0,\"#f0f921\"]]}],\"contourcarpet\":[{\"type\":\"contourcarpet\",\"colorbar\":{\"outlinewidth\":0,\"ticks\":\"\"}}],\"contour\":[{\"type\":\"contour\",\"colorbar\":{\"outlinewidth\":0,\"ticks\":\"\"},\"colorscale\":[[0.0,\"#0d0887\"],[0.1111111111111111,\"#46039f\"],[0.2222222222222222,\"#7201a8\"],[0.3333333333333333,\"#9c179e\"],[0.4444444444444444,\"#bd3786\"],[0.5555555555555556,\"#d8576b\"],[0.6666666666666666,\"#ed7953\"],[0.7777777777777778,\"#fb9f3a\"],[0.8888888888888888,\"#fdca26\"],[1.0,\"#f0f921\"]]}],\"surface\":[{\"type\":\"surface\",\"colorbar\":{\"outlinewidth\":0,\"ticks\":\"\"},\"colorscale\":[[0.0,\"#0d0887\"],[0.1111111111111111,\"#46039f\"],[0.2222222222222222,\"#7201a8\"],[0.3333333333333333,\"#9c179e\"],[0.4444444444444444,\"#bd3786\"],[0.5555555555555556,\"#d8576b\"],[0.6666666666666666,\"#ed7953\"],[0.7777777777777778,\"#fb9f3a\"],[0.8888888888888888,\"#fdca26\"],[1.0,\"#f0f921\"]]}],\"mesh3d\":[{\"type\":\"mesh3d\",\"colorbar\":{\"outlinewidth\":0,\"ticks\":\"\"}}],\"scatter\":[{\"fillpattern\":{\"fillmode\":\"overlay\",\"size\":10,\"solidity\":0.2},\"type\":\"scatter\"}],\"parcoords\":[{\"type\":\"parcoords\",\"line\":{\"colorbar\":{\"outlinewidth\":0,\"ticks\":\"\"}}}],\"scatterpolargl\":[{\"type\":\"scatterpolargl\",\"marker\":{\"colorbar\":{\"outlinewidth\":0,\"ticks\":\"\"}}}],\"bar\":[{\"error_x\":{\"color\":\"#2a3f5f\"},\"error_y\":{\"color\":\"#2a3f5f\"},\"marker\":{\"line\":{\"color\":\"#E5ECF6\",\"width\":0.5},\"pattern\":{\"fillmode\":\"overlay\",\"size\":10,\"solidity\":0.2}},\"type\":\"bar\"}],\"scattergeo\":[{\"type\":\"scattergeo\",\"marker\":{\"colorbar\":{\"outlinewidth\":0,\"ticks\":\"\"}}}],\"scatterpolar\":[{\"type\":\"scatterpolar\",\"marker\":{\"colorbar\":{\"outlinewidth\":0,\"ticks\":\"\"}}}],\"histogram\":[{\"marker\":{\"pattern\":{\"fillmode\":\"overlay\",\"size\":10,\"solidity\":0.2}},\"type\":\"histogram\"}],\"scattergl\":[{\"type\":\"scattergl\",\"marker\":{\"colorbar\":{\"outlinewidth\":0,\"ticks\":\"\"}}}],\"scatter3d\":[{\"type\":\"scatter3d\",\"line\":{\"colorbar\":{\"outlinewidth\":0,\"ticks\":\"\"}},\"marker\":{\"colorbar\":{\"outlinewidth\":0,\"ticks\":\"\"}}}],\"scattermapbox\":[{\"type\":\"scattermapbox\",\"marker\":{\"colorbar\":{\"outlinewidth\":0,\"ticks\":\"\"}}}],\"scatterternary\":[{\"type\":\"scatterternary\",\"marker\":{\"colorbar\":{\"outlinewidth\":0,\"ticks\":\"\"}}}],\"scattercarpet\":[{\"type\":\"scattercarpet\",\"marker\":{\"colorbar\":{\"outlinewidth\":0,\"ticks\":\"\"}}}],\"carpet\":[{\"aaxis\":{\"endlinecolor\":\"#2a3f5f\",\"gridcolor\":\"white\",\"linecolor\":\"white\",\"minorgridcolor\":\"white\",\"startlinecolor\":\"#2a3f5f\"},\"baxis\":{\"endlinecolor\":\"#2a3f5f\",\"gridcolor\":\"white\",\"linecolor\":\"white\",\"minorgridcolor\":\"white\",\"startlinecolor\":\"#2a3f5f\"},\"type\":\"carpet\"}],\"table\":[{\"cells\":{\"fill\":{\"color\":\"#EBF0F8\"},\"line\":{\"color\":\"white\"}},\"header\":{\"fill\":{\"color\":\"#C8D4E3\"},\"line\":{\"color\":\"white\"}},\"type\":\"table\"}],\"barpolar\":[{\"marker\":{\"line\":{\"color\":\"#E5ECF6\",\"width\":0.5},\"pattern\":{\"fillmode\":\"overlay\",\"size\":10,\"solidity\":0.2}},\"type\":\"barpolar\"}],\"pie\":[{\"automargin\":true,\"type\":\"pie\"}]},\"layout\":{\"autotypenumbers\":\"strict\",\"colorway\":[\"#636efa\",\"#EF553B\",\"#00cc96\",\"#ab63fa\",\"#FFA15A\",\"#19d3f3\",\"#FF6692\",\"#B6E880\",\"#FF97FF\",\"#FECB52\"],\"font\":{\"color\":\"#2a3f5f\"},\"hovermode\":\"closest\",\"hoverlabel\":{\"align\":\"left\"},\"paper_bgcolor\":\"white\",\"plot_bgcolor\":\"#E5ECF6\",\"polar\":{\"bgcolor\":\"#E5ECF6\",\"angularaxis\":{\"gridcolor\":\"white\",\"linecolor\":\"white\",\"ticks\":\"\"},\"radialaxis\":{\"gridcolor\":\"white\",\"linecolor\":\"white\",\"ticks\":\"\"}},\"ternary\":{\"bgcolor\":\"#E5ECF6\",\"aaxis\":{\"gridcolor\":\"white\",\"linecolor\":\"white\",\"ticks\":\"\"},\"baxis\":{\"gridcolor\":\"white\",\"linecolor\":\"white\",\"ticks\":\"\"},\"caxis\":{\"gridcolor\":\"white\",\"linecolor\":\"white\",\"ticks\":\"\"}},\"coloraxis\":{\"colorbar\":{\"outlinewidth\":0,\"ticks\":\"\"}},\"colorscale\":{\"sequential\":[[0.0,\"#0d0887\"],[0.1111111111111111,\"#46039f\"],[0.2222222222222222,\"#7201a8\"],[0.3333333333333333,\"#9c179e\"],[0.4444444444444444,\"#bd3786\"],[0.5555555555555556,\"#d8576b\"],[0.6666666666666666,\"#ed7953\"],[0.7777777777777778,\"#fb9f3a\"],[0.8888888888888888,\"#fdca26\"],[1.0,\"#f0f921\"]],\"sequentialminus\":[[0.0,\"#0d0887\"],[0.1111111111111111,\"#46039f\"],[0.2222222222222222,\"#7201a8\"],[0.3333333333333333,\"#9c179e\"],[0.4444444444444444,\"#bd3786\"],[0.5555555555555556,\"#d8576b\"],[0.6666666666666666,\"#ed7953\"],[0.7777777777777778,\"#fb9f3a\"],[0.8888888888888888,\"#fdca26\"],[1.0,\"#f0f921\"]],\"diverging\":[[0,\"#8e0152\"],[0.1,\"#c51b7d\"],[0.2,\"#de77ae\"],[0.3,\"#f1b6da\"],[0.4,\"#fde0ef\"],[0.5,\"#f7f7f7\"],[0.6,\"#e6f5d0\"],[0.7,\"#b8e186\"],[0.8,\"#7fbc41\"],[0.9,\"#4d9221\"],[1,\"#276419\"]]},\"xaxis\":{\"gridcolor\":\"white\",\"linecolor\":\"white\",\"ticks\":\"\",\"title\":{\"standoff\":15},\"zerolinecolor\":\"white\",\"automargin\":true,\"zerolinewidth\":2},\"yaxis\":{\"gridcolor\":\"white\",\"linecolor\":\"white\",\"ticks\":\"\",\"title\":{\"standoff\":15},\"zerolinecolor\":\"white\",\"automargin\":true,\"zerolinewidth\":2},\"scene\":{\"xaxis\":{\"backgroundcolor\":\"#E5ECF6\",\"gridcolor\":\"white\",\"linecolor\":\"white\",\"showbackground\":true,\"ticks\":\"\",\"zerolinecolor\":\"white\",\"gridwidth\":2},\"yaxis\":{\"backgroundcolor\":\"#E5ECF6\",\"gridcolor\":\"white\",\"linecolor\":\"white\",\"showbackground\":true,\"ticks\":\"\",\"zerolinecolor\":\"white\",\"gridwidth\":2},\"zaxis\":{\"backgroundcolor\":\"#E5ECF6\",\"gridcolor\":\"white\",\"linecolor\":\"white\",\"showbackground\":true,\"ticks\":\"\",\"zerolinecolor\":\"white\",\"gridwidth\":2}},\"shapedefaults\":{\"line\":{\"color\":\"#2a3f5f\"}},\"annotationdefaults\":{\"arrowcolor\":\"#2a3f5f\",\"arrowhead\":0,\"arrowwidth\":1},\"geo\":{\"bgcolor\":\"white\",\"landcolor\":\"#E5ECF6\",\"subunitcolor\":\"white\",\"showland\":true,\"showlakes\":true,\"lakecolor\":\"white\"},\"title\":{\"x\":0.05},\"mapbox\":{\"style\":\"light\"}}},\"xaxis\":{\"anchor\":\"y\",\"domain\":[0.0,0.18400000000000002],\"title\":{\"text\":\"weather\"}},\"yaxis\":{\"anchor\":\"x\",\"domain\":[0.0,1.0],\"title\":{\"text\":\"Probability\"}},\"xaxis2\":{\"anchor\":\"y2\",\"domain\":[0.20400000000000001,0.388],\"matches\":\"x\",\"title\":{\"text\":\"weather\"}},\"yaxis2\":{\"anchor\":\"x2\",\"domain\":[0.0,1.0],\"matches\":\"y\",\"showticklabels\":false},\"xaxis3\":{\"anchor\":\"y3\",\"domain\":[0.40800000000000003,0.5920000000000001],\"matches\":\"x\",\"title\":{\"text\":\"weather\"}},\"yaxis3\":{\"anchor\":\"x3\",\"domain\":[0.0,1.0],\"matches\":\"y\",\"showticklabels\":false},\"xaxis4\":{\"anchor\":\"y4\",\"domain\":[0.6120000000000001,0.7960000000000002],\"matches\":\"x\",\"title\":{\"text\":\"weather\"}},\"yaxis4\":{\"anchor\":\"x4\",\"domain\":[0.0,1.0],\"matches\":\"y\",\"showticklabels\":false},\"xaxis5\":{\"anchor\":\"y5\",\"domain\":[0.8160000000000001,1.0],\"matches\":\"x\",\"title\":{\"text\":\"weather\"}},\"yaxis5\":{\"anchor\":\"x5\",\"domain\":[0.0,1.0],\"matches\":\"y\",\"showticklabels\":false},\"annotations\":[{\"font\":{},\"showarrow\":false,\"text\":\"coupon=Bar\",\"x\":0.09200000000000001,\"xanchor\":\"center\",\"xref\":\"paper\",\"y\":1.0,\"yanchor\":\"bottom\",\"yref\":\"paper\"},{\"font\":{},\"showarrow\":false,\"text\":\"coupon=Carry out & Take away\",\"x\":0.29600000000000004,\"xanchor\":\"center\",\"xref\":\"paper\",\"y\":1.0,\"yanchor\":\"bottom\",\"yref\":\"paper\"},{\"font\":{},\"showarrow\":false,\"text\":\"coupon=Coffee House\",\"x\":0.5,\"xanchor\":\"center\",\"xref\":\"paper\",\"y\":1.0,\"yanchor\":\"bottom\",\"yref\":\"paper\"},{\"font\":{},\"showarrow\":false,\"text\":\"coupon=Restaurant(20-50)\",\"x\":0.7040000000000002,\"xanchor\":\"center\",\"xref\":\"paper\",\"y\":1.0,\"yanchor\":\"bottom\",\"yref\":\"paper\"},{\"font\":{},\"showarrow\":false,\"text\":\"coupon=Restaurant(\\u003c20)\",\"x\":0.908,\"xanchor\":\"center\",\"xref\":\"paper\",\"y\":1.0,\"yanchor\":\"bottom\",\"yref\":\"paper\"}],\"legend\":{\"title\":{\"text\":\"Outcome\"},\"tracegroupgap\":0},\"title\":{\"text\":\"Conditional Probability of Outcome by Weather and Coupon\"},\"barmode\":\"group\"},                        {\"responsive\": true}                    ).then(function(){\n",
              "                            \n",
              "var gd = document.getElementById('1bdc9c92-250f-40b4-a61c-419c75c43bc7');\n",
              "var x = new MutationObserver(function (mutations, observer) {{\n",
              "        var display = window.getComputedStyle(gd).display;\n",
              "        if (!display || display === 'none') {{\n",
              "            console.log([gd, 'removed!']);\n",
              "            Plotly.purge(gd);\n",
              "            observer.disconnect();\n",
              "        }}\n",
              "}});\n",
              "\n",
              "// Listen for the removal of the full notebook cells\n",
              "var notebookContainer = gd.closest('#notebook-container');\n",
              "if (notebookContainer) {{\n",
              "    x.observe(notebookContainer, {childList: true});\n",
              "}}\n",
              "\n",
              "// Listen for the clearing of the current output cell\n",
              "var outputEl = gd.closest('.output');\n",
              "if (outputEl) {{\n",
              "    x.observe(outputEl, {childList: true});\n",
              "}}\n",
              "\n",
              "                        })                };                            </script>        </div>\n",
              "</body>\n",
              "</html>"
            ]
          },
          "metadata": {}
        }
      ]
    },
    {
      "cell_type": "markdown",
      "source": [
        "### Probability of acceptance for given coupon and weather\n",
        "Coupon `Carryout and Take Away, Restaurant(<20)` has more acceptance in sunny weather describes a multi-layered conditional probability.\n"
      ],
      "metadata": {
        "id": "sVaQiVkuGqea"
      }
    }
  ]
}